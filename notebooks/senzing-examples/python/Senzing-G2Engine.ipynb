{
 "cells": [
  {
   "cell_type": "markdown",
   "metadata": {},
   "source": [
    "# G2Engine"
   ]
  },
  {
   "cell_type": "code",
   "execution_count": null,
   "metadata": {},
   "outputs": [],
   "source": [
    "import os\n",
    "import sys\n",
    "import json"
   ]
  },
  {
   "cell_type": "markdown",
   "metadata": {},
   "source": [
    "## System path\n",
    "\n",
    "Update system path."
   ]
  },
  {
   "cell_type": "code",
   "execution_count": null,
   "metadata": {},
   "outputs": [],
   "source": [
    "sys.path.append('/opt/senzing/g2/python')"
   ]
  },
  {
   "cell_type": "markdown",
   "metadata": {},
   "source": [
    "# G2Engine\n",
    "The G2Engine API..."
   ]
  },
  {
   "cell_type": "code",
   "execution_count": null,
   "metadata": {},
   "outputs": [],
   "source": [
    "from G2Engine import G2Engine"
   ]
  },
  {
   "cell_type": "markdown",
   "metadata": {},
   "source": [
    "## Initialize variables\n",
    "\n",
    "Create variables used for G2Engine."
   ]
  },
  {
   "cell_type": "code",
   "execution_count": null,
   "metadata": {},
   "outputs": [],
   "source": [
    "module_name = 'pyG2EngineForAddRecord'\n",
    "senzing_directory = os.environ.get(\"SENZING_DIR\", \"/opt/senzing\")\n",
    "senzing_python_directory = \"{0}/g2/python\".format(senzing_directory)\n",
    "g2module_ini_pathname = \"{0}/G2Module.ini\".format(senzing_python_directory)\n",
    "verbose_logging = True\n",
    "from G2Config import G2Config\n",
    "from G2ConfigMgr import G2ConfigMgr"
   ]
  },
  {
   "cell_type": "markdown",
   "metadata": {},
   "source": [
    "## Initialization\n",
    "\n",
    "To start using Senzing G2Engine, create and initialize an instance.\n",
    "This should be done once per process.\n",
    "The `init()` method accepts the following parameters:\n",
    "\n",
    "- **module_name:** A short name given to this instance of the G2 engine (i.e. your G2Module object)\n",
    "- **g2module_ini_pathname:** A fully qualified path to the G2 engine INI file (often /opt/senzing/g2/python/G2Module.ini)\n",
    "- **verbose_logging:** A boolean which enables diagnostic logging - this will print a massive amount of information to stdout (default = False)\n",
    "- **config_id:** (optional) The identifier value for the engine configuration can be returned here.\n",
    "\n",
    "Calling this function will return \"0\" upon success."
   ]
  },
  {
   "cell_type": "code",
   "execution_count": null,
   "metadata": {
    "scrolled": true
   },
   "outputs": [],
   "source": [
    "iniParams = \"{\\\"PIPELINE\\\": {\\\"SUPPORTPATH\\\": \\\"/opt/senzing/g2/data\\\"},\\\"SQL\\\": {\\\"CONNECTION\\\": \\\"sqlite3://na:na@/opt/senzing/g2/sqldb/G2C.db\\\",\\\"RESOURCEPATH\\\": \\\"/opt/senzing/g2/python/g2config.json\\\"}}\"\n",
    "g2ConfigMgr=G2ConfigMgr()\n",
    "g2ConfigMgr.initV2(module_name, iniParams, verbose_logging)\n",
    "g2config=G2Config()\n",
    "config_bytearray=bytearray(\"\", 'utf-8')\n",
    "g2config.initV2(module_name, iniParams, verbose_logging)\n",
    "config=g2config.create()\n",
    "g2config.save(config, config_bytearray)\n",
    "configJsonToUse = config_bytearray.decode()\n",
    "config_comment = \"Configuration added from G2SetupConfig.\"\n",
    "new_config_id = bytearray()\n",
    "return_code = 0\n",
    "return_code = g2ConfigMgr.addConfig(configJsonToUse, config_comment, new_config_id)\n",
    "g2ConfigMgr.setDefaultConfigID(new_config_id)\n",
    "g2_engine = G2Engine()\n",
    "g2_engine.initV2(module_name, iniParams, verbose_logging)"
   ]
  },
  {
   "cell_type": "markdown",
   "metadata": {},
   "source": [
    "## Prime Engine\n",
    "\n",
    "The `primeEngine()` method may optionally be called to pre-initialize some of the heavier weight internal resources of the G2 engine."
   ]
  },
  {
   "cell_type": "code",
   "execution_count": null,
   "metadata": {},
   "outputs": [],
   "source": [
    "response = g2_engine.primeEngine()"
   ]
  },
  {
   "cell_type": "code",
   "execution_count": null,
   "metadata": {
    "scrolled": true
   },
   "outputs": [],
   "source": [
    "configID = bytearray(\"\", 'utf-8')\n",
    "ret = g2_engine.getActiveConfigID(configID)\n",
    "\n",
    "print(\"Active configID: \" + str(configID.decode()))"
   ]
  },
  {
   "cell_type": "markdown",
   "metadata": {},
   "source": [
    "## addRecord()\n",
    "\n",
    "Once the Senzing engine is initialized, use addRecord() to load a record into the Senzing repository -- addRecord() can be called as many times as desired and from multiple threads at the same time. The addRecord() function returns \"0\" upon success, and accepts four parameters as input:\n",
    "\n",
    "- **datasource_code:** The name of the data source the record is associated with. This value is configurable to the system\n",
    "- **record_id:** The record ID, used to identify distinct records\n",
    "- **data_string:** A JSON document with the attribute data for the record\n",
    "- **load_id:** The observation load ID for the record; value can be null and will default to data_source\n"
   ]
  },
  {
   "cell_type": "code",
   "execution_count": null,
   "metadata": {},
   "outputs": [],
   "source": [
    "datasource_code = \"TEST\"\n",
    "record_id = \"1\"\n",
    "load_id = None\n",
    "data = {\n",
    "\t\"NAMES\": [{\n",
    "\t\t\"NAME_TYPE\": \"PRIMARY\",\n",
    "\t\t\"NAME_LAST\": \"Smith\",\n",
    "\t\t\"NAME_FIRST\": \"John\",\n",
    "\t\t\"NAME_MIDDLE\": \"M\"\n",
    "\t}],\n",
    "\t\"PASSPORT_NUMBER\": \"PP11111\",\n",
    "\t\"PASSPORT_COUNTRY\": \"US\",\n",
    "\t\"DRIVERS_LICENSE_NUMBER\": \"DL11111\",\n",
    "\t\"SSN_NUMBER\": \"111-11-1111\"\n",
    "}\n",
    "data_string = json.dumps(data)\n",
    "\n",
    "result = g2_engine.addRecord(datasource_code, record_id, data_string, load_id)\n",
    "print(result)\n",
    "\n",
    "responseBuffer = bytearray(\"\", 'utf-8')\n",
    "flags = G2Engine.G2_EXPORT_DEFAULT_FLAGS\n",
    "ret = g2_engine.addRecordWithInfo(datasource_code, record_id, data_string, responseBuffer, load_id, flags)\n",
    "print(\"Modified Entities: \"+str(responseBuffer.decode()))"
   ]
  },
  {
   "cell_type": "markdown",
   "metadata": {},
   "source": [
    "# Retrieve a Record\n",
    "Use getRecordV2() to retrieve a single record from the data repository; the record is assigned in JSON form to a user-designated buffer, and the function itself returns \"0\" upon success. Once the Senzing engine is initialized, getRecordV2() can be called as many times as desired and from multiple threads at the same time. The getRecordV2() function accepts the following parameters as input:\n",
    "\n",
    "- **datasource_code:** The name of the data source the record is associated with. This value is configurable to the system\n",
    "- **record_id:** The record ID, used to identify the record for retrieval\n",
    "- **flags:** Control flags for specifying what data about the record to retrieve\n",
    "- **response_string:** A memory buffer for returning the response document; if an error occurred, an error response is stored here\n",
    "- **bufSize(C only):** The max number of bytes that can be stored in response. The response buffer MUST be able to hold at least this many bytes\n",
    "- **resizeFunc (C only):** A function pointer that can be used to resize the memory buffer specified in the response argument. This function will be called to allocate more memory if the response buffer is not large enough. This argument may be NULL. If so, the function will return an error if the result is larger than the buffer"
   ]
  },
  {
   "cell_type": "code",
   "execution_count": null,
   "metadata": {
    "scrolled": true
   },
   "outputs": [],
   "source": [
    "response_string = bytearray(\"\",'utf-8')\n",
    "flags = G2Engine.G2_EXPORT_DEFAULT_FLAGS\n",
    "result = g2_engine.getRecordV2(datasource_code, record_id, flags, response_string)\n",
    "\n",
    "response_dictionary = json.loads(response_string)\n",
    "response = json.dumps(response_dictionary, sort_keys=True, indent=4)\n",
    "print(\"Result: {0}\\n{1}\".format(result, response))"
   ]
  },
  {
   "cell_type": "markdown",
   "metadata": {},
   "source": [
    "The function `getRecordV2()` is an improved version of `getRecord()` that also allows you to use control flags. The `getRecord()` function has been deprecated."
   ]
  },
  {
   "cell_type": "markdown",
   "metadata": {},
   "source": [
    "## Entity Search\n",
    "##### By Record\n",
    "\n",
    "Entity searching is a key component for interactive use of Entity Resolution intelligence. The core Senzing engine provides real-time search capabilities that are easily accessed via the Senzing API. Senzing offers methods for entity searching, all of which can be called as many times as desired and from multiple threads at the same time (and all of which return \"0\" upon success) .\n",
    "\n",
    "Use `getEntityByRecordIDV2()` to retrieve entity data based on the ID of a resolved identity. This function accepts the following parameters as input:\n",
    "\n",
    "- **record_id:** The numeric ID of a resolved entity\n",
    "- **flags:** Control flags for specifying what data about the entity to retrieve\n",
    "- **response_string:** A memory buffer for returning the response document; if an error occurred, an error response is stored here\n",
    "- **bufSize (C only):** The max number of bytes that can be stored in response. The response buffer MUST be able to hold at least this many bytes\n",
    "- **resizeFunc (C only):** A function pointer that can be used to resize the memory buffer specified in the response argument. This function will be called to allocate more memory if the response buffer is not large enough. This argument may be NULL. If so, the function will return an error if the result is larger than the buffer"
   ]
  },
  {
   "cell_type": "code",
   "execution_count": null,
   "metadata": {},
   "outputs": [],
   "source": [
    "response_string = bytearray()\n",
    "flags = G2Engine.G2_EXPORT_DEFAULT_FLAGS\n",
    "result = g2_engine.getEntityByRecordIDV2(datasource_code, record_id, flags, response_string)\n",
    "\n",
    "response_dictionary = json.loads(response_string)\n",
    "response = json.dumps(response_dictionary, sort_keys=True, indent=4)\n",
    "print(\"Result: {0}\\n{1}\".format(result, response))"
   ]
  },
  {
   "cell_type": "markdown",
   "metadata": {},
   "source": [
    "# Entity Search\n",
    "##### By Entity\n",
    "\n",
    "Entity searching is a key component for interactive use of Entity Resolution intelligence. The core Senzing engine provides real-time search capabilities that are easily accessed via the Senzing API. Senzing offers methods for entity searching, all of which can be called as many times as desired and from multiple threads at the same time (and all of which return \"0\" upon success) .\n",
    "\n",
    "Use `getEntityByEntityIDV2()` to retrieve entity data based on the ID of a resolved identity. This function accepts the following parameters as input:\n",
    "\n",
    "- **entity_id:** The numeric ID of a resolved entity\n",
    "- **flags:** Control flags for specifying what data about the entity to retrieve\n",
    "- **response_string:** A memory buffer for returning the response document; if an error occurred, an error response is stored here\n",
    "- **bufSize (C only):** The max number of bytes that can be stored in response. The response buffer MUST be able to hold at least this many bytes\n",
    "- **resizeFunc (C only):** A function pointer that can be used to resize the memory buffer specified in the response argument. This function will be called to allocate more memory if the response buffer is not large enough. This argument may be NULL. If so, the function will return an error if the result is larger than the buffer"
   ]
  },
  {
   "cell_type": "code",
   "execution_count": null,
   "metadata": {
    "scrolled": true
   },
   "outputs": [],
   "source": [
    "#Because Entity Ids can change, this assumes you've ran getEntityByRecordID() and so you can pull the Entity Id from its results\n",
    "entity_id = response_dictionary[\"RESOLVED_ENTITY\"][\"ENTITY_ID\"]\n",
    "response_string = bytearray()\n",
    "flags = G2Engine.G2_EXPORT_DEFAULT_FLAGS\n",
    "result = g2_engine.getEntityByEntityIDV2(entity_id, flags, response_string)\n",
    "\n",
    "response_dictionary = json.loads(response_string)\n",
    "response = json.dumps(response_dictionary, sort_keys=True, indent=4)\n",
    "print(\"Result: {0}\\n{1}\".format(result, response))"
   ]
  },
  {
   "cell_type": "markdown",
   "metadata": {},
   "source": [
    "The functions `getEntityByEntityIDV2()` and `getEntityByRecordIDV2()` are improved versions of `getEntityByEntityID()` and `getEntityByRecordID()` that also allow you to use control flags. The `getEntityByEntityID()` and `getEntityByRecordID()` functions have been deprecated."
   ]
  },
  {
   "cell_type": "markdown",
   "metadata": {},
   "source": [
    "## Search By Attributes\n",
    "\n",
    "Entity searching is a key component for interactive use of Entity Resolution intelligence. The core Senzing engine provides real-time search capabilities that are easily accessed via the Senzing API. Senzing offers a method for entity searching by attributes, which can be called as many times as desired and from multiple threads at the same time (and all of which return \"0\" upon success) .\n",
    "\n",
    "Use `searchByAttributes()` to retrieve entity data based on a user-specified set of entity attributes. This function accepts the following parameters as input:\n",
    "\n",
    "- **data_string:** A JSON document with the attribute data to search for\n",
    "- **response:** A memory buffer for returning the response document; if an error occurred, an error response is stored here\n",
    "- **bufSize (C only):** The max number of bytes that can be stored in response. The response buffer MUST be able to hold at least this many bytes\n",
    "- **resizeFunc (C only):** A function pointer that can be used to resize the memory buffer specified in the response argument. This function will be called to allocate more memory if the response buffer is not large enough. This argument may be NULL. If so, the function will return an error if the result is larger than the buffer"
   ]
  },
  {
   "cell_type": "code",
   "execution_count": null,
   "metadata": {
    "scrolled": true
   },
   "outputs": [],
   "source": [
    "response_string = bytearray()\n",
    "result = g2_engine.searchByAttributes(data_string, response_string)\n",
    "\n",
    "response_dictionary = json.loads(response_string)\n",
    "response = json.dumps(response_dictionary, sort_keys=True, indent=4)\n",
    "print(\"Result: {0}\\n{1}\".format(result, response))"
   ]
  },
  {
   "cell_type": "markdown",
   "metadata": {},
   "source": [
    "## Search By Attributes V2\n",
    "\n",
    "This function is similar but preferable to the searchByAttributes() function. This function has improved functionality and a better standardized output structure.\n",
    "\n",
    "Use `searchByAttributesV2()` to retrieve entity data based on a user-specified set of entity attributes. This function accepts the following parameters as input:\n",
    "\n",
    "- **data_string:** A JSON document with the attribute data to search for\n",
    "- **flags:** Operational flags\n",
    "- **response:** A memory buffer for returning the response document; if an error occurred, an error response is stored here\n",
    "- **bufSize (C only):** The max number of bytes that can be stored in response. The response buffer MUST be able to hold at least this many bytes\n",
    "- **resizeFunc (C only):** A function pointer that can be used to resize the memory buffer specified in the response argument. This function will be called to allocate more memory if the response buffer is not large enough. This argument may be NULL. If so, the function will return an error if the result is larger than the buffer"
   ]
  },
  {
   "cell_type": "code",
   "execution_count": null,
   "metadata": {
    "scrolled": true
   },
   "outputs": [],
   "source": [
    "dataSourceCode = 'TEST'\n",
    "recordID = 'entity_record_id'\n",
    "response = bytearray()\n",
    "flags = G2Engine.G2_EXPORT_DEFAULT_FLAGS\n",
    "ret = g2_engine.searchByAttributesV2(data_string,flags,response)\n",
    "\n",
    "response_dictionary = json.loads(response)\n",
    "response = json.dumps(response_dictionary, sort_keys=True, indent=4)\n",
    "print(\"Result: {0}\\n{1}\".format(result, response))"
   ]
  },
  {
   "cell_type": "markdown",
   "metadata": {},
   "source": [
    "# Replace the record\n",
    "Use the `replaceRecord()` function to update or replace a record in the data repository (if record doesn't exist, a new record is added to the data repository. Like the above functions, `replaceRecord()` returns \"0\" upon success, and it can be called as many times as desired and from multiple threads at the same time. The `replaceRecord()` function accepts four parameters as input:\n",
    "\n",
    "- **dataSourceCode:** The name of the data source the record is associated with. This value is configurable to the system\n",
    "- **recordID:** The record ID, used to identify distinct records\n",
    "- **jsonData:** A JSON document with the attribute data for the record\n",
    "- **loadID:** The observation load ID for the record; value can be null and will default to dataSourceCode"
   ]
  },
  {
   "cell_type": "code",
   "execution_count": null,
   "metadata": {},
   "outputs": [],
   "source": [
    "datasource_code = \"TEST\"\n",
    "record_id = \"1\"\n",
    "load_id = None\n",
    "data = {\n",
    "\t\"NAMES\": [{\n",
    "\t\t\"NAME_TYPE\": \"PRIMARY\",\n",
    "\t\t\"NAME_LAST\": \"Miller\",\n",
    "\t\t\"NAME_FIRST\": \"John\",\n",
    "\t\t\"NAME_MIDDLE\": \"M\"\n",
    "\t}],\n",
    "\t\"PASSPORT_NUMBER\": \"PP11111\",\n",
    "\t\"PASSPORT_COUNTRY\": \"US\",\n",
    "\t\"DRIVERS_LICENSE_NUMBER\": \"DL11111\",\n",
    "\t\"SSN_NUMBER\": \"111-11-1111\"\n",
    "}\n",
    "data_string = json.dumps(data)\n",
    "ret = g2_engine.replaceRecord(datasource_code,record_id,data_string,load_id)\n",
    "print(result)"
   ]
  },
  {
   "cell_type": "markdown",
   "metadata": {},
   "source": [
    "## Export JSON Entity Report\n",
    "\n",
    "There are three steps to exporting resolved entity data from the G2Engine object in JSON format. First, use the `exportJSONEntityReport()` method to generate a long integer, referred to here as an 'exportHandle'. The `exportJSONEntityReport()` method accepts one parameter as input:\n",
    "\n",
    "- **flags**: An integer specifying which entity details should be included in the export. See the \"Entity Export Flags\" section for further details.\n",
    "\n",
    "Second, use the fetchNext() method to read the exportHandle and export a row of JSON output containing the entity data for a single entity. Note that successive calls of fetchNext() will export successive rows of entity data. The fetchNext() method accepts the following parameters as input:\n",
    "\n",
    "- **exportHandle:** A long integer from which resolved entity data may be read and exported\n",
    "- **response:** A memory buffer for returning the response document; if an error occurred, an error response is stored here."
   ]
  },
  {
   "cell_type": "code",
   "execution_count": null,
   "metadata": {
    "scrolled": true
   },
   "outputs": [],
   "source": [
    "flags = G2Engine.G2_EXPORT_DEFAULT_FLAGS\n",
    "exportHandle = g2_engine.exportJSONEntityReport(flags)\n",
    "while True:\n",
    "  response_string = bytearray([])\n",
    "  g2_engine.fetchNext(exportHandle,response_string)\n",
    "  if not response_string:\n",
    "    break\n",
    "  response_dictionary = json.loads(response_string)\n",
    "  response = json.dumps(response_dictionary, sort_keys=True, indent=4)\n",
    "  print(\"Result: {0}\\n{1}\".format(result, response))"
   ]
  },
  {
   "cell_type": "markdown",
   "metadata": {},
   "source": [
    "## Export CSV Entity Report\n",
    "\n",
    "There are three steps to exporting resolved entity data from the G2Engine object in CSV format. First, use the `exportCSVEntityReportV2()` method to generate a long integer, referred to here as an 'exportHandle'.\n",
    "\n",
    "The `exportCSVEntityReportV2()` method accepts these parameter as input:\n",
    "\n",
    "- **csvColumnList:** A comma-separated list of column names for the CSV export. (These are listed a little further down.)\n",
    "- **flags:** An integer specifying which entity details should be included in the export. See the \"Entity Export Flags\" section for further details.\n",
    "\n",
    "Second, use the `fetchNext()` method to read the exportHandle and export a row of CSV output containing the entity data for a single entity. Note that the first call of `fetchNext()` will yield a header row, and that successive calls of `fetchNext()` will export successive rows of entity data. The `fetchNext()` method accepts the following parameters as input:\n",
    "\n",
    "- **exportHandle:** A long integer from which resolved entity data may be read and exported\n",
    "- **response (C only):** A memory buffer for returning the response document; if an error occurred, an error response is stored here\n",
    "- **bufSize (C only):** The max number of bytes that can be stored in response. The response buffer MUST be able to hold at least this many bytes"
   ]
  },
  {
   "cell_type": "code",
   "execution_count": null,
   "metadata": {},
   "outputs": [],
   "source": [
    "flags = G2Engine.G2_EXPORT_DEFAULT_FLAGS\n",
    "exportHandle = g2_engine.exportCSVEntityReport(flags)\n",
    "entity_id = response_dictionary[\"RESOLVED_ENTITY\"][\"ENTITY_ID\"]\n",
    "while True:\n",
    "  response_string = bytearray([])\n",
    "  g2_engine.fetchNext(exportHandle,response_string)\n",
    "  if not response_string:\n",
    "    break\n",
    "  print(\"Result: {0}\\n{1}\".format(result, response))"
   ]
  },
  {
   "cell_type": "markdown",
   "metadata": {},
   "source": [
    "## Finding Paths\n",
    "The `FindPathByEntityID()` and `FindPathByRecordID()` functions can be used to find single relationship paths between two entities. Paths are found using known relationships with other entities.\n",
    "\n",
    "Entities can be searched for by either Entity ID or by Record ID, depending on which function is chosen.\n",
    "\n",
    "These functions have the following parameters:\n",
    "\n",
    "- **entityID1:** The entity ID for the starting entity of the search path\n",
    "- **entityID2:** The entity ID for the ending entity of the search path\n",
    "- **dataSourceCode1:** The data source for the starting entity of the search path\n",
    "- **recordID1:** The record ID for the starting entity of the search path\n",
    "- **dataSourceCode2:** The data source for the ending entity of the search path\n",
    "- **recordID2:** The record ID for the ending entity of the search path\n",
    "- **maxDegree:** The number of relationship degrees to search"
   ]
  },
  {
   "cell_type": "markdown",
   "metadata": {},
   "source": [
    "First you will need to create some records so that you have some that you can compare. Can you see what is the same between this record and the previous one?"
   ]
  },
  {
   "cell_type": "code",
   "execution_count": null,
   "metadata": {},
   "outputs": [],
   "source": [
    "data = {\"NAMES\": [{\"NAME_TYPE\": \"PRIMARY\",\"NAME_LAST\": \"Miller\",\"NAME_FIRST\": \"Max\", \"NAME_MIDDLE\": \"W\"}],\"SSN_NUMBER\": \"111-11-1111\"}\n",
    "data_string = json.dumps(data)\n",
    "ret = g2_engine.replaceRecord(\"TEST\",\"2\",data_string,None)\n",
    "print(result)\n",
    "data = {\"NAMES\": [{\"NAME_TYPE\": \"PRIMARY\",\"NAME_LAST\": \"Miller\",\"NAME_FIRST\": \"Mildred\"}],\"SSN_NUMBER\": \"111-11-1111\" }\n",
    "data_string = json.dumps(data)\n",
    "ret = g2_engine.replaceRecord(\"TEST\",\"3\",data_string,None)\n",
    "print(result)\n",
    "\n",
    "response_string=bytearray()\n",
    "result = g2_engine.getEntityByRecordID(\"TEST\", \"2\", response_string)\n",
    "response_dictionary = json.loads(response_string)\n",
    "entityID1 = response_dictionary[\"RESOLVED_ENTITY\"][\"ENTITY_ID\"]\n",
    "\n",
    "response_string=bytearray()\n",
    "result = g2_engine.getEntityByRecordID(\"TEST\", \"3\", response_string)\n",
    "response_dictionary = json.loads(response_string)\n",
    "entityID2 = response_dictionary[\"RESOLVED_ENTITY\"][\"ENTITY_ID\"]"
   ]
  },
  {
   "cell_type": "markdown",
   "metadata": {},
   "source": [
    "## `FindPathByEntityID()`"
   ]
  },
  {
   "cell_type": "code",
   "execution_count": null,
   "metadata": {},
   "outputs": [],
   "source": [
    "  #define search variables\n",
    "\n",
    "maxDegree = 3\n",
    "\n",
    "    #find the path by entity ID\n",
    "response = bytearray([])\n",
    "g2_engine.findPathByEntityID(entityID1,entityID2,maxDegree,response);\n",
    "\n",
    "    #print the results\n",
    "response_dictionary = json.loads(response)\n",
    "response = json.dumps(response_dictionary, sort_keys=True, indent=4)\n",
    "print(\"Result: {0}\\n{1}\".format(result, response))"
   ]
  },
  {
   "cell_type": "markdown",
   "metadata": {},
   "source": [
    "# FindPathByEntityIDV2()\n",
    "The function `FindPathByEntityIDV2()` is an improved version of `FindPathByEntityID()` that also allow you to use control flags."
   ]
  },
  {
   "cell_type": "code",
   "execution_count": null,
   "metadata": {},
   "outputs": [],
   "source": [
    "  #define search variables\n",
    "\n",
    "maxDegree = 3\n",
    "\n",
    "    #find the path by entity ID\n",
    "response = bytearray([])\n",
    "flags = G2Engine.G2_EXPORT_DEFAULT_FLAGS\n",
    "g2_engine.findPathByEntityIDV2(entityID1,entityID2,maxDegree,flags,response);\n",
    "\n",
    "    #print the results\n",
    "response_dictionary = json.loads(response)\n",
    "response = json.dumps(response_dictionary, sort_keys=True, indent=4)\n",
    "print(\"Result: {0}\\n{1}\".format(result, response))"
   ]
  },
  {
   "cell_type": "markdown",
   "metadata": {},
   "source": [
    "## `FindPathByRecordID()`"
   ]
  },
  {
   "cell_type": "code",
   "execution_count": null,
   "metadata": {},
   "outputs": [],
   "source": [
    "    #define search variables\n",
    "dataSourceCode1 = \"TEST\"\n",
    "recordID1 = \"2\"\n",
    "dataSourceCode2 = \"TEST\"\n",
    "recordID2 = \"3\"\n",
    "maxDegree = 3\n",
    "\n",
    "    #find the path by record ID\n",
    "response=bytearray([])\n",
    "g2_engine.findPathByRecordID(dataSourceCode1,recordID1,dataSourceCode2,recordID2,maxDegree,response);\n",
    "\n",
    "    #print the results\n",
    "response_dictionary = json.loads(response)\n",
    "response = json.dumps(response_dictionary, sort_keys=True, indent=4)\n",
    "print(\"Result: {0}\\n{1}\".format(result, response))"
   ]
  },
  {
   "cell_type": "markdown",
   "metadata": {},
   "source": [
    "# FindPathByRecordIDV2()\n",
    "The function `FindPathByRecordIDV2()` is an improved version of `FindPathByRecordID()` that also allow you to use control flags."
   ]
  },
  {
   "cell_type": "code",
   "execution_count": null,
   "metadata": {},
   "outputs": [],
   "source": [
    "    #define search variables\n",
    "dataSourceCode1 = \"TEST\"\n",
    "recordID1 = \"2\"\n",
    "dataSourceCode2 = \"TEST\"\n",
    "recordID2 = \"3\"\n",
    "maxDegree = 3\n",
    "\n",
    "    #find the path by record ID\n",
    "response=bytearray([])\n",
    "flags = G2Engine.G2_EXPORT_DEFAULT_FLAGS\n",
    "g2_engine.findPathByRecordIDV2(dataSourceCode1,recordID1,dataSourceCode2,recordID2,maxDegree,flags,response);\n",
    "\n",
    "    #print the results\n",
    "response_dictionary = json.loads(response)\n",
    "response = json.dumps(response_dictionary, sort_keys=True, indent=4)\n",
    "print(\"Result: {0}\\n{1}\".format(result, response))"
   ]
  },
  {
   "cell_type": "markdown",
   "metadata": {},
   "source": [
    "## Finding Paths with Exclusions\n",
    "The `FindPathExcludingByEntityID()` and `FindPathExcludingByRecordID()` functions can be used to find single relationship paths between two entities. Paths are found using known relationships with other entities. In addition, it will find paths that exclude certain entities from being on the path.\n",
    "\n",
    "Entities can be searched for by either Entity ID or by Record ID, depending on which function is chosen. Additionally, entities to be excluded can also be specified by either Entity ID or by Record ID.\n",
    "\n",
    "When excluding entities, the user may choose to either (a) strictly exclude the entities, or (b) prefer to exclude the entities, but still include them if no other path is found. By default, entities will be strictly excluded. A \"preferred exclude\" may be done by specifying the G2_FIND_PATH_PREFER_EXCLUDE control flag.\n",
    "\n",
    "These functions have the following parameters:\n",
    "\n",
    "- **entityID1:** The entity ID for the starting entity of the search path\n",
    "- **entityID2:** The entity ID for the ending entity of the search path\n",
    "- **dataSourceCode1:** The data source for the starting entity of the search path\n",
    "- **recordID1:** The record ID for the starting entity of the search path\n",
    "- **dataSourceCode2:** The data source for the ending entity of the search path\n",
    "- **recordID2:** The record ID for the ending entity of the search path\n",
    "- **maxDegree:** The number of relationship degrees to search\n",
    "- **excludedEntities:** Entities that should be avoided on the path (JSON document)\n",
    "- **flags:** Operational flags"
   ]
  },
  {
   "cell_type": "markdown",
   "metadata": {},
   "source": [
    "## `FindPathExcludingByEntityID()`"
   ]
  },
  {
   "cell_type": "code",
   "execution_count": null,
   "metadata": {
    "scrolled": true
   },
   "outputs": [],
   "source": [
    " #define search variables\n",
    "\n",
    "maxDegree = 4\n",
    "excludedEntities = {\"ENTITIES\":[{\"ENTITY_ID\":entity_id}]}\n",
    "flags = G2Engine.G2_EXPORT_DEFAULT_FLAGS\n",
    "excluded_string = json.dumps(excludedEntities)\n",
    "    #find the path by entity ID\n",
    "response=bytearray([])\n",
    "g2_engine.findPathExcludingByEntityID(entityID1,entityID2,maxDegree,excluded_string,flags,response);\n",
    "\n",
    "    #print the results\n",
    "response_dictionary = json.loads(response)\n",
    "response = json.dumps(response_dictionary, sort_keys=True, indent=4)\n",
    "print(\"Result: {0}\\n{1}\".format(result, response))"
   ]
  },
  {
   "cell_type": "markdown",
   "metadata": {},
   "source": [
    "## `FindPathExcludingByRecordID()`"
   ]
  },
  {
   "cell_type": "code",
   "execution_count": null,
   "metadata": {},
   "outputs": [],
   "source": [
    "    #define search variables\n",
    "dataSourceCode1 = \"TEST\"\n",
    "recordID1 = \"2\"\n",
    "dataSourceCode2 = \"TEST\"\n",
    "recordID2 = \"3\"\n",
    "excludedRecords = \"{\\\"RECORDS\\\":[{\\\"RECORD_ID\\\":\\\"1\\\",\\\"DATA_SOURCE\\\":\\\"TEST\\\"}]}\"\n",
    "\n",
    "    #find the path by record ID\n",
    "response=bytearray([])\n",
    "g2_engine.findPathExcludingByRecordID(dataSourceCode1,recordID1,dataSourceCode2,\n",
    "                                      recordID2,maxDegree,excludedRecords,flags,response);\n",
    "\n",
    "    #print the results\n",
    "response_dictionary = json.loads(response)\n",
    "response = json.dumps(response_dictionary, sort_keys=True, indent=4)\n",
    "print(\"Result: {0}\\n{1}\".format(result, response))"
   ]
  },
  {
   "cell_type": "markdown",
   "metadata": {},
   "source": [
    "## Finding Paths with Required Sources\n",
    "The `FindPathIncludingSourceByEntityID()` and `FindPathIncludingSourceByRecordID()` functions can be used to find single relationship paths between two entities. In addition, one of the enties along the path must include a specified data source.\n",
    "\n",
    "Entities can be searched for by either Entity ID or by Record ID, depending on which function is chosen. The required data source or sources are specified by a json document list.\n",
    "\n",
    "Specific entities may also be excluded, using the same methodology as the `FindPathExcludingByEntityID()` and `FindPathExcludingByRecordID()` functions use.\n",
    "\n",
    "These functions have the following parameters:\n",
    "\n",
    "- **entityID1:** The entity ID for the starting entity of the search path\n",
    "- **entityID2:** The entity ID for the ending entity of the search path\n",
    "- **dataSourceCode1:** The data source for the starting entity of the search path\n",
    "- **recordID1:** The record ID for the starting entity of the search path\n",
    "- **dataSourceCode2:** The data source for the ending entity of the search path\n",
    "- **recordID2:** The record ID for the ending entity of the search path\n",
    "- **maxDegree:** The number of relationship degrees to search\n",
    "- **excludedEntities:** Entities that should be avoided on the path (JSON document)\n",
    "- **requiredDsrcs:** Entities that should be avoided on the path (JSON document)\n",
    "- **flags:** Operational flags"
   ]
  },
  {
   "cell_type": "markdown",
   "metadata": {},
   "source": [
    "## `FindPathIncludingSourceByEntityID()`"
   ]
  },
  {
   "cell_type": "code",
   "execution_count": null,
   "metadata": {},
   "outputs": [],
   "source": [
    "#define search variables\n",
    "maxDegree = 4\n",
    "excludedEntities = {\"ENTITIES\":[{\"ENTITY_ID\":entity_id}]}\n",
    "requiredDsrcs = \"{\\\"DATA_SOURCES\\\":[\\\"TEST\\\"]}\"\n",
    "flags = G2Engine.G2_EXPORT_DEFAULT_FLAGS\n",
    "excluded_string = json.dumps(excludedEntities)\n",
    "\n",
    "    #find the path by entity ID\n",
    "response=bytearray([])\n",
    "g2_engine.findPathIncludingSourceByEntityID(entityID1,entityID2,maxDegree,\n",
    "                                                        excluded_string,requiredDsrcs,flags,response);\n",
    "\n",
    "    #print the results\n",
    "response_dictionary = json.loads(response)\n",
    "response = json.dumps(response_dictionary, sort_keys=True, indent=4)\n",
    "print(\"Result: {0}\\n{1}\".format(result, response))"
   ]
  },
  {
   "cell_type": "markdown",
   "metadata": {},
   "source": [
    "## `FindPathIncludingSourceByRecordID()`"
   ]
  },
  {
   "cell_type": "code",
   "execution_count": null,
   "metadata": {},
   "outputs": [],
   "source": [
    "    #define search variables\n",
    "dataSourceCode1 = \"TEST\"\n",
    "recordID1 = \"2\"\n",
    "dataSourceCode2 = \"TEST\"\n",
    "recordID2 = \"3\"\n",
    "excludedRecords = \"{\\\"RECORDS\\\":[{\\\"RECORD_ID\\\":\\\"1\\\",\\\"DATA_SOURCE\\\":\\\"TEST\\\"}]}\"\n",
    "\n",
    "    #find the path by record ID\n",
    "response=bytearray([])\n",
    "g2_engine.findPathIncludingSourceByRecordID(dataSourceCode1,recordID1,dataSourceCode2,recordID2,\n",
    "                                            maxDegree,excludedRecords,requiredDsrcs,flags,response);\n",
    "\n",
    "    #print the results\n",
    "response_dictionary = json.loads(response)\n",
    "response = json.dumps(response_dictionary, sort_keys=True, indent=4)\n",
    "print(\"Result: {0}\\n{1}\".format(result, response))"
   ]
  },
  {
   "cell_type": "markdown",
   "metadata": {},
   "source": [
    "# Finding Networks\n",
    "\n",
    "The `FindNetworkByEntityID()` and `FindNetworkByRecordID()` functions can be used to find all entities surrounding a requested set of entities. This includes the requested entities, paths between them, and relations to other nearby entities.\n",
    "\n",
    "Entities can be searched for by either Entity ID or by Record ID, depending on which function is chosen.\n",
    "\n",
    "These functions have the following parameters:\n",
    "\n",
    "- **entityList:** A list of entities, specified by Entity ID (JSON document)\n",
    "- **recordList:** A list of entities, specified by Record ID (JSON document)\n",
    "- **maxDegree:** The maximum number of degrees in paths between search entities\n",
    "- **buildOutDegree:** The number of degrees of relationships to show around each search entity\n",
    "- **maxEntities:** The maximum number of entities to return in the discovered network\n",
    "They also have various arguments used to return response documents\n",
    "\n",
    "The functions return a JSON document that identifies the path between the each set of search entities (if the path exists), and the information on the entities in question (search entities, path entities, and build-out entities."
   ]
  },
  {
   "cell_type": "code",
   "execution_count": null,
   "metadata": {},
   "outputs": [],
   "source": [
    " #define search variables\n",
    "entityList = {\"ENTITIES\":[{\"ENTITY_ID\":entity_id},{\"ENTITY_ID\":entityID1},{\"ENTITY_ID\":entityID2}]}\n",
    "entity_string = json.dumps(entityList)\n",
    "maxDegree = 2\n",
    "buildOutDegree = 1\n",
    "maxEntities = 12\n",
    "response = bytearray()\n",
    "\n",
    "    #find the network by entity ID\n",
    "g2_engine.findNetworkByEntityID(entity_string,maxDegree,buildOutDegree,maxEntities,response);\n",
    "\n",
    "    #print the results\n",
    "response_dictionary = json.loads(response)\n",
    "response = json.dumps(response_dictionary, sort_keys=True, indent=4)\n",
    "print(response)"
   ]
  },
  {
   "cell_type": "markdown",
   "metadata": {},
   "source": [
    "# findNetworkByRecordID()"
   ]
  },
  {
   "cell_type": "code",
   "execution_count": null,
   "metadata": {},
   "outputs": [],
   "source": [
    "#define search variables\n",
    "recordList = \"{\\\"RECORDS\\\":[{\\\"RECORD_ID\\\":\\\"1\\\",\\\"DATA_SOURCE\\\":\\\"TEST\\\"},{\\\"RECORD_ID\\\":\\\"2\\\",\\\"DATA_SOURCE\\\":\\\"TEST\\\"},{\\\"RECORD_ID\\\":\\\"3\\\",\\\"DATA_SOURCE\\\":\\\"TEST\\\"}]}\"\n",
    "\n",
    "    #find the network by record ID\n",
    "response=bytearray()\n",
    "g2_engine.findNetworkByRecordID(recordList,maxDegree,buildOutDegree,maxEntities,response);\n",
    "\n",
    "    #print the results\n",
    "response_dictionary = json.loads(response)\n",
    "response = json.dumps(response_dictionary, sort_keys=True, indent=4)\n",
    "print(response)"
   ]
  },
  {
   "cell_type": "markdown",
   "metadata": {},
   "source": [
    "# findNetworkByEntityIDV2()\n",
    "The function `FindNetworkByEntityIDV2()` is an improved version of `FindNetworkByEntityID()` that also allow you to use control flags."
   ]
  },
  {
   "cell_type": "code",
   "execution_count": null,
   "metadata": {},
   "outputs": [],
   "source": [
    " #define search variables\n",
    "entityList = {\"ENTITIES\":[{\"ENTITY_ID\":entity_id},{\"ENTITY_ID\":entityID1},{\"ENTITY_ID\":entityID2}]}\n",
    "entity_string = json.dumps(entityList)\n",
    "maxDegree = 2\n",
    "buildOutDegree = 1\n",
    "maxEntities = 12\n",
    "response = bytearray()\n",
    "flags = G2Engine.G2_EXPORT_DEFAULT_FLAGS\n",
    "\n",
    "    #find the network by entity ID\n",
    "g2_engine.findNetworkByEntityIDV2(entity_string,maxDegree,buildOutDegree,maxEntities,flags,response);\n",
    "\n",
    "    #print the results\n",
    "response_dictionary = json.loads(response)\n",
    "response = json.dumps(response_dictionary, sort_keys=True, indent=4)\n",
    "print(response)"
   ]
  },
  {
   "cell_type": "markdown",
   "metadata": {},
   "source": [
    "# findNetworkByRecordIDV2()\n",
    "The function `FindNetworkByRecordIDV2()` is an improved version of `FindNetworkByRecordID()` that also allow you to use control flags."
   ]
  },
  {
   "cell_type": "code",
   "execution_count": null,
   "metadata": {},
   "outputs": [],
   "source": [
    "#define search variables\n",
    "recordList = \"{\\\"RECORDS\\\":[{\\\"RECORD_ID\\\":\\\"1\\\",\\\"DATA_SOURCE\\\":\\\"TEST\\\"},{\\\"RECORD_ID\\\":\\\"2\\\",\\\"DATA_SOURCE\\\":\\\"TEST\\\"},{\\\"RECORD_ID\\\":\\\"3\\\",\\\"DATA_SOURCE\\\":\\\"TEST\\\"}]}\"\n",
    "\n",
    "    #find the network by record ID\n",
    "response=bytearray()\n",
    "g2_engine.findNetworkByRecordID(recordList,maxDegree,buildOutDegree,maxEntities,response);\n",
    "\n",
    "    #print the results\n",
    "response_dictionary = json.loads(response)\n",
    "response = json.dumps(response_dictionary, sort_keys=True, indent=4)\n",
    "print(response)"
   ]
  },
  {
   "cell_type": "markdown",
   "metadata": {},
   "source": [
    "# Why records belong to an entity\n",
    "\n",
    "The `WhyEntityByEntityID()` and `WhyEntityByRecordID()` functions can be used to determine why records belong to their resolved entities. These functions will compare the record data within an entity against the rest of the entity data, and show why they are connected. This is calculated based on the features that record data represents.\n",
    "\n",
    "Records can be chosen by either Record ID or by Entity ID, depending on which function is chosen. If a single record ID is used, then comparison results for that single record will be generated, as part of its entity. If an Entity ID is used, then comparison results will be generated for every record within that entity.\n",
    "\n",
    "These functions have the following parameters:\n",
    "\n",
    "- **entityID:** The entity ID for the entity to be analyzed\n",
    "- **dataSourceCode:** The data source for the record to be analyzed\n",
    "- **recordID:** The record ID for the record to be analyzed\n",
    "- **flags:** Control flags for outputting entities\n",
    "They also have various arguments used to return response documents.\n",
    "\n",
    "The functions return a JSON document that gives the results of the record analysis. The document contains a section called \"WHY_RESULTS\", which shows how specific records relate to the rest of the entity. It has a \"WHY_KEY\", which is similar to a match key, in defining the relevant connected data. It shows candidate keys for features that initially cause the records to be analyzed for a relationship, plus a series of feature scores that show how similar the feature data was.\n",
    "\n",
    "The response document also contains a separate ENTITIES section, with the full information about the resolved entity. (Note: When working with this entity data, Senzing recommends using the flags G2_ENTITY_SHOW_FEATURES_EXPRESSED and G2_ENTITY_SHOW_FEATURES_STATS. This will provide detailed feature data that is not included by default, but is useful for understanding the WHY_RESULTS data.)\n",
    "\n",
    "The functions `WhyEntityByEntityIDV2()` and `WhyEntityByRecordV2()` are enhanced versions of `WhyEntityByEntityID()` and `WhyEntityByRecordID()` that also allow you to use control flags. The `WhyEntityByEntityID()` and `WhyEntityByRecordID()` functions work in the same way, but use the default flag value G2_WHY_ENTITY_DEFAULT_FLAGS."
   ]
  },
  {
   "cell_type": "code",
   "execution_count": null,
   "metadata": {
    "scrolled": true
   },
   "outputs": [],
   "source": [
    "#define input variables\n",
    "dataSourceCode = \"TEST\"\n",
    "recordID = \"1\"\n",
    "response=bytearray()\n",
    "#find the why-information\n",
    "ret = g2_engine.whyEntityByRecordID(dataSourceCode,recordID,response);\n",
    "\n",
    "#print the results\n",
    "response_dictionary = json.loads(response)\n",
    "response = json.dumps(response_dictionary, sort_keys=True, indent=4)\n",
    "print(response)\n",
    "\n",
    "entityID = entity_id\n",
    "response=bytearray()\n",
    "#find the why-information\n",
    "ret = g2_engine.whyEntityByEntityID(entityID, response);\n",
    "\n",
    "#print the results\n",
    "response_dictionary = json.loads(response)\n",
    "response = json.dumps(response_dictionary, sort_keys=True, indent=4)\n",
    "print(response)"
   ]
  },
  {
   "cell_type": "markdown",
   "metadata": {},
   "source": [
    "## Redo Processing\n",
    "Redo records are automatically created by Senzing when certain conditions occur where it believes more processing may be needed.  Some examples:\n",
    "* A value becomes generic and previous decisions may need to be revisited\n",
    "* Clean up after some record deletes\n",
    "* Detected related entities were being changed at the same time\n",
    "* A table inconsistency exists, potentially after a non-graceful shutdown\n",
    "First we will need to have a total of 6 data sources so let's add 4 more"
   ]
  },
  {
   "cell_type": "code",
   "execution_count": null,
   "metadata": {},
   "outputs": [],
   "source": [
    "data = {\"NAMES\": [{\"NAME_TYPE\": \"PRIMARY\",\"NAME_LAST\": \"Owens\",\"NAME_FIRST\": \"Lily\"}],\"SSN_NUMBER\": \"111-11-1111\"}\n",
    "data_string = json.dumps(data)\n",
    "ret = g2_engine.replaceRecord(\"TEST\",\"4\",data_string,None)\n",
    "print(result)\n",
    "data = {\"NAMES\": [{\"NAME_TYPE\": \"PRIMARY\",\"NAME_LAST\": \"Bauler\",\"NAME_FIRST\": \"August\", \"NAME_MIDDLE\": \"E\"}],\"SSN_NUMBER\": \"111-11-1111\"}\n",
    "data_string = json.dumps(data)\n",
    "ret = g2_engine.replaceRecord(\"TEST\",\"5\",data_string,None)\n",
    "print(result)\n",
    "data = {\"NAMES\": [{\"NAME_TYPE\": \"PRIMARY\",\"NAME_LAST\": \"Barcy\",\"NAME_FIRST\": \"Brian\", \"NAME_MIDDLE\": \"H\"}],\"SSN_NUMBER\": \"111-11-1111\"}\n",
    "data_string = json.dumps(data)\n",
    "ret = g2_engine.replaceRecord(\"TEST\",\"6\",data_string,None)\n",
    "print(result)\n",
    "data = {\"NAMES\": [{\"NAME_TYPE\": \"PRIMARY\",\"NAME_LAST\": \"Miller\",\"NAME_FIRST\": \"Jack\", \"NAME_MIDDLE\": \"H\"}],\"SSN_NUMBER\": \"111-11-1111\"}\n",
    "data_string = json.dumps(data)\n",
    "ret = g2_engine.replaceRecord(\"TEST\",\"7\",data_string,None)\n",
    "print(result)\n",
    "\n",
    "response_string=bytearray()\n",
    "result = g2_engine.getEntityByRecordID(\"TEST\", \"4\", response_string)\n",
    "response_dictionary = json.loads(response_string)\n",
    "entityID4 = response_dictionary[\"RESOLVED_ENTITY\"][\"ENTITY_ID\"]\n",
    "\n",
    "response_string=bytearray()\n",
    "result = g2_engine.getEntityByRecordID(\"TEST\", \"5\", response_string)\n",
    "response_dictionary = json.loads(response_string)\n",
    "entityID5 = response_dictionary[\"RESOLVED_ENTITY\"][\"ENTITY_ID\"]\n",
    "\n",
    "response_string=bytearray()\n",
    "result = g2_engine.getEntityByRecordID(\"TEST\", \"6\", response_string)\n",
    "response_dictionary = json.loads(response_string)\n",
    "entityID6 = response_dictionary[\"RESOLVED_ENTITY\"][\"ENTITY_ID\"]\n",
    "\n",
    "response_string=bytearray()\n",
    "result = g2_engine.getEntityByRecordID(\"TEST\", \"7\", response_string)\n",
    "response_dictionary = json.loads(response_string)\n",
    "entityID7 = response_dictionary[\"RESOLVED_ENTITY\"][\"ENTITY_ID\"]"
   ]
  },
  {
   "cell_type": "markdown",
   "metadata": {},
   "source": [
    "## Counting the number of redos\n",
    "This returns the number of redos within the processed records that are awaiting processing."
   ]
  },
  {
   "cell_type": "code",
   "execution_count": null,
   "metadata": {},
   "outputs": [],
   "source": [
    "response = g2_engine.countRedoRecords()\n",
    "print(response)"
   ]
  },
  {
   "cell_type": "markdown",
   "metadata": {},
   "source": [
    "## Geting a redo record\n",
    "Gets a redo record so that it can be processed"
   ]
  },
  {
   "cell_type": "code",
   "execution_count": null,
   "metadata": {},
   "outputs": [],
   "source": [
    "response_string=bytearray()\n",
    "response = g2_engine.getRedoRecord(response_string)\n",
    "print(response)\n",
    "if (response == 0 and response_string):\n",
    "  g2_engine.process(response_string.decode())"
   ]
  },
  {
   "cell_type": "markdown",
   "metadata": {},
   "source": [
    "## Processing redo records\n",
    "This processes the next redo record and returns it (If `processRedoRecord()` \"response\" returns 0 and \"response_string\" is blank then there are no more redo records to process and if you do `count.RedoRecords()` again it will return 0)\n",
    "Has potential to create more redo records in certian situations"
   ]
  },
  {
   "cell_type": "code",
   "execution_count": null,
   "metadata": {},
   "outputs": [],
   "source": [
    "response_string=bytearray()\n",
    "response = g2_engine.processRedoRecord(response_string)\n",
    "print(response)\n",
    "print(response_string.decode())"
   ]
  },
  {
   "cell_type": "markdown",
   "metadata": {},
   "source": [
    "## Deleting Records\n",
    "use `deleteRecord()` to remove a record from the data repository (returns \"0\" upon success) ; `deleteRecord()` can be called as many times as desired and from multiple threads at the same time. The `deleteRecord()` function accepts three parameters as input:\n",
    "\n",
    "- **dataSourceCode:** The name of the data source the record is associated with. This value is configurable to the system\n",
    "- **recordID:** The record ID, used to identify distinct records\n",
    "- **loadID:** The observation load ID for the record; value can be null and will default to dataSourceCode"
   ]
  },
  {
   "cell_type": "code",
   "execution_count": null,
   "metadata": {},
   "outputs": [],
   "source": [
    "datasource_code = 'TEST'\n",
    "record_ID = '1'\n",
    "load_ID = None\n",
    "ret = g2_engine.deleteRecord(datasource_code, record_ID, load_ID)\n",
    "print(str(ret))"
   ]
  },
  {
   "cell_type": "markdown",
   "metadata": {},
   "source": [
    "## deleteRecordWithInfo()\n",
    "`deleteRecordWithInfo()` behaves the same as `deleteRecord()` but also returns a json document containing the IDs of the affected entities. It accepts the following parameters:"
   ]
  },
  {
   "cell_type": "code",
   "execution_count": null,
   "metadata": {
    "scrolled": false
   },
   "outputs": [],
   "source": [
    "datasource_code = 'TEST'\n",
    "record_ID = '2'\n",
    "load_ID = None\n",
    "\n",
    "responseBuffer = bytearray(\"\", 'utf-8')\n",
    "ret2 = g2_engine.deleteRecordWithInfo(datasource_code, record_id, responseBuffer, load_id, flags)\n",
    "print(\"Modified Entities: \"+str(responseBuffer.decode()))"
   ]
  },
  {
   "cell_type": "markdown",
   "metadata": {},
   "source": [
    "Attempt to get the record again. It should error and give an output similar to \"Unknown record\"."
   ]
  },
  {
   "cell_type": "code",
   "execution_count": null,
   "metadata": {
    "scrolled": true
   },
   "outputs": [],
   "source": [
    "response_string = bytearray(\"\",'utf-8')\n",
    "flags = G2Engine.G2_EXPORT_DEFAULT_FLAGS\n",
    "result = g2_engine.getRecordV2(datasource_code, record_id, flags, response_string)\n",
    "\n",
    "response_dictionary = json.loads(response_string)\n",
    "response = json.dumps(response_dictionary, sort_keys=True, indent=4)\n",
    "print(\"Result: {0}\\n{1}\".format(result, response))"
   ]
  },
  {
   "cell_type": "markdown",
   "metadata": {},
   "source": [
    "## Purge Repository\n",
    "To purge the G2 repository, use the aptly named `purgeRepository()` method. This will remove every record in your current repository."
   ]
  },
  {
   "cell_type": "code",
   "execution_count": null,
   "metadata": {},
   "outputs": [],
   "source": [
    "g2_engine.purgeRepository()"
   ]
  },
  {
   "cell_type": "code",
   "execution_count": null,
   "metadata": {},
   "outputs": [],
   "source": []
  }
 ],
 "metadata": {
  "kernelspec": {
   "display_name": "Python 3",
   "language": "python",
   "name": "python3"
  },
  "language_info": {
   "codemirror_mode": {
    "name": "ipython",
    "version": 3
   },
   "file_extension": ".py",
   "mimetype": "text/x-python",
   "name": "python",
   "nbconvert_exporter": "python",
   "pygments_lexer": "ipython3",
   "version": "3.7.4"
  }
 },
 "nbformat": 4,
 "nbformat_minor": 2
}
