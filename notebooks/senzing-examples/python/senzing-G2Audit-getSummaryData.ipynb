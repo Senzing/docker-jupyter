{
 "cells": [
  {
   "cell_type": "markdown",
   "metadata": {},
   "source": [
    "# G2Audit Guide - Summary Data\n",
    "\n",
    "The `getSummaryData()` and `getSummaryDataDirect()` methods obtain general summary data about your current audit session.\n",
    "\n",
    "More information:\n",
    "\n",
    "1. [GitHub repository](https://github.com/Senzing/docker-jupyter)"
   ]
  },
  {
   "cell_type": "markdown",
   "metadata": {},
   "source": [
    "# Table of Contents\n",
    "\n",
    "1. [Prepare environment](#Prepare-environment)\n",
    "    1. [Helper class for JSON Rendering](#Helper-class-for-JSON-Rendering)\n",
    "    1. [System path](#System-path)\n",
    "    1. [Initialize variables](#Initialize-variables)\n",
    "1. [Initialization](#Initialization)\n",
    "    1. [openSession()](#openSession())\n",
    "    1. [getSummaryData()](#getSummaryData())\n",
    "    1. [closeSession()](#closeSession())\n",
    "    1. [getSummaryDataDirect()](#getSummaryDataDirect())"
   ]
  },
  {
   "cell_type": "markdown",
   "metadata": {},
   "source": [
    "# Prepare environment"
   ]
  },
  {
   "cell_type": "code",
   "execution_count": null,
   "metadata": {},
   "outputs": [],
   "source": [
    "import os\n",
    "import sys\n",
    "import json\n",
    "\n",
    "# For RenderJSON\n",
    "\n",
    "import uuid\n",
    "from IPython.display import display_javascript, display_html, display"
   ]
  },
  {
   "cell_type": "markdown",
   "metadata": {},
   "source": [
    "## Helper class for JSON Rendering"
   ]
  },
  {
   "cell_type": "code",
   "execution_count": null,
   "metadata": {},
   "outputs": [],
   "source": [
    "class RenderJSON(object):\n",
    "    def __init__(self, json_data):\n",
    "        if isinstance(json_data, dict):\n",
    "            self.json_str = json.dumps(json_data)\n",
    "        elif isinstance(json_data, bytearray):\n",
    "            self.json_str = json_data.decode()\n",
    "        else:\n",
    "            self.json_str = json_data\n",
    "        self.uuid = str(uuid.uuid4())\n",
    "\n",
    "    def _ipython_display_(self):\n",
    "        display_html('<div id=\"{}\" style=\"height:100%; width:100%; background-color: LightCyan\"></div>'.format(self.uuid), raw=True)\n",
    "        display_javascript(\"\"\"\n",
    "        require([\"https://rawgit.com/caldwell/renderjson/master/renderjson.js\"], function() {\n",
    "        document.getElementById('%s').appendChild(renderjson(%s))\n",
    "        });\n",
    "        \"\"\" % (self.uuid, self.json_str), raw=True)"
   ]
  },
  {
   "cell_type": "markdown",
   "metadata": {},
   "source": [
    "## System path\n",
    "\n",
    "Update system path."
   ]
  },
  {
   "cell_type": "code",
   "execution_count": null,
   "metadata": {},
   "outputs": [],
   "source": [
    "python_path = \"{0}/python\".format(\n",
    "    os.environ.get(\"SENZING_G2_DIR\", \"/opt/senzing/g2\"))\n",
    "sys.path.append(python_path)"
   ]
  },
  {
   "cell_type": "markdown",
   "metadata": {},
   "source": [
    "## G2Audit\n",
    "\n",
    "The G2Audit API allows you to pull data reporting data back on how one data source is related to another.\n",
    "Once you are done loading one or more data sources,\n",
    "use this API to query information that can be useful for reporting, browsing, or auditing results."
   ]
  },
  {
   "cell_type": "code",
   "execution_count": null,
   "metadata": {},
   "outputs": [],
   "source": [
    "from G2Audit import G2Audit"
   ]
  },
  {
   "cell_type": "markdown",
   "metadata": {},
   "source": [
    "## Initialize variables\n",
    "\n",
    "Create variables to be used as `getSummaryData()` parameters."
   ]
  },
  {
   "cell_type": "code",
   "execution_count": null,
   "metadata": {},
   "outputs": [],
   "source": [
    "%run senzing-init-config.ipynb"
   ]
  },
  {
   "cell_type": "code",
   "execution_count": null,
   "metadata": {},
   "outputs": [],
   "source": [
    "%store -r senzing_config_json"
   ]
  },
  {
   "cell_type": "code",
   "execution_count": null,
   "metadata": {},
   "outputs": [],
   "source": [
    "RenderJSON(senzing_config_json)"
   ]
  },
  {
   "cell_type": "markdown",
   "metadata": {},
   "source": [
    "## Initialization\n",
    "\n",
    "To start using Senzing G2Audit, create and initialize an instance.\n",
    "This should be done once per process.\n",
    "The `initV2()` method accepts the following parameters:\n",
    "\n",
    "- **module_name:** A short name given to this instance of the G2Audit object.\n",
    "- **config_json:** A JSON string containing configuration parameters.\n",
    "- **verbose_logging:** A boolean which enables diagnostic logging.\n",
    "\n",
    "Calling this function will return \"0\" upon success."
   ]
  },
  {
   "cell_type": "code",
   "execution_count": null,
   "metadata": {},
   "outputs": [],
   "source": [
    "g2_audit = G2Audit()\n",
    "try:\n",
    "    g2_audit.initV2(module_name, senzing_config_json, verbose_logging)\n",
    "    \n",
    "except G2Exception.G2ModuleGenericException as err:\n",
    "    print(g2_audit.getLastException())"
   ]
  },
  {
   "cell_type": "markdown",
   "metadata": {},
   "source": [
    "## openSession()\n",
    "\n",
    "Create a new session."
   ]
  },
  {
   "cell_type": "code",
   "execution_count": null,
   "metadata": {},
   "outputs": [],
   "source": [
    "g2_audit_session = g2_audit.openSession()"
   ]
  },
  {
   "cell_type": "markdown",
   "metadata": {},
   "source": [
    "## getSummaryData()\n",
    "\n",
    "Call G2Audit's `getSummaryData()` method and pretty-print results.\n",
    "\n",
    "The `getSummaryData()` method accepts the following parameters:\n",
    "\n",
    "- **g2_audit_session:** A long integer representing a previously-created G2Audit object.\n",
    "- **response_list:** A memory buffer for returning the response document; if an error occurred, an error response is stored here."
   ]
  },
  {
   "cell_type": "code",
   "execution_count": null,
   "metadata": {},
   "outputs": [],
   "source": [
    "response_bytearray = bytearray()\n",
    "try:\n",
    "    g2_audit.getSummaryData(g2_audit_session, response_bytearray)\n",
    "\n",
    "except G2Exception.G2ModuleGenericException as err:\n",
    "    print(g2_audit.getLastException())\n",
    "RenderJSON(response_bytearray)"
   ]
  },
  {
   "cell_type": "markdown",
   "metadata": {},
   "source": [
    "## closeSession()"
   ]
  },
  {
   "cell_type": "code",
   "execution_count": null,
   "metadata": {},
   "outputs": [],
   "source": [
    "g2_audit.closeSession(g2_audit_session)"
   ]
  },
  {
   "cell_type": "markdown",
   "metadata": {},
   "source": [
    "## getSummaryDataDirect()\n",
    "\n",
    "Call G2Audit's `getSummaryDataDirect()` method and pretty-print results.\n",
    "\n",
    "The `getSummaryDataDirect()` method accepts the following parameters:\n",
    "\n",
    "- **response_list:** A memory buffer for returning the response document; if an error occurred, an error response is stored here."
   ]
  },
  {
   "cell_type": "code",
   "execution_count": null,
   "metadata": {},
   "outputs": [],
   "source": [
    "response_bytearray = bytearray()\n",
    "try:\n",
    "    g2_audit.getSummaryDataDirect(response_bytearray)\n",
    "\n",
    "except G2Exception.G2ModuleGenericException as err:\n",
    "    print(g2_audit.getLastException())\n",
    "RenderJSON(response_bytearray)"
   ]
  }
 ],
 "metadata": {
  "kernelspec": {
   "display_name": "Python 3",
   "language": "python",
   "name": "python3"
  },
  "language_info": {
   "codemirror_mode": {
    "name": "ipython",
    "version": 3
   },
   "file_extension": ".py",
   "mimetype": "text/x-python",
   "name": "python",
   "nbconvert_exporter": "python",
   "pygments_lexer": "ipython3",
   "version": "3.6.8"
  }
 },
 "nbformat": 4,
 "nbformat_minor": 2
}
