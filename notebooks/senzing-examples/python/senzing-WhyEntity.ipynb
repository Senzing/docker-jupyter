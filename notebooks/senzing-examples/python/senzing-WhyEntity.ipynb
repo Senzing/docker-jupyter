{
 "cells": [
  {
   "cell_type": "code",
   "execution_count": null,
   "metadata": {},
   "outputs": [],
   "source": [
    "#! /usr/bin/env python3\n",
    "\n",
    "#--python imports\n",
    "import sys\n",
    "sys.path.append('/opt/senzing/g2/python')\n",
    "from G2Engine import G2Engine\n",
    "from G2IniParams import G2IniParams\n",
    "import G2Paths\n",
    "import G2Exception\n",
    "import json\n",
    "import argparse\n",
    "import os\n",
    "import operator\n",
    "module_name = 'pyG2EngineWhy'\n",
    "senzing_directory = os.environ.get(\"SENZING_DIR\", \"/opt/senzing\")\n",
    "senzing_python_directory = \"{0}/g2/python\".format(senzing_directory)\n",
    "g2module_ini_pathname = \"{0}/G2Module.ini\".format(senzing_python_directory)\n",
    "verbose_logging = True\n",
    "from G2Config import G2Config\n",
    "from G2ConfigMgr import G2ConfigMgr"
   ]
  },
  {
   "cell_type": "code",
   "execution_count": null,
   "metadata": {},
   "outputs": [],
   "source": [
    "#helper functions\n",
    "def getScoreBucketLevelForScoreBucket(bucketString):\n",
    "    if bucketString == 'SAME':\n",
    "        return 0\n",
    "    if bucketString == 'CLOSE':\n",
    "        return 1\n",
    "    if bucketString == 'LIKELY':\n",
    "        return 2\n",
    "    if bucketString == 'PLAUSIBLE':\n",
    "        return 3\n",
    "    if bucketString == 'UNLIKELY':\n",
    "        return 4\n",
    "    if bucketString == 'NO_CHANCE':\n",
    "        return 5\n",
    "    return 6\n"
   ]
  },
  {
   "cell_type": "code",
   "execution_count": null,
   "metadata": {},
   "outputs": [],
   "source": [
    "# Initialize the engine\n",
    "iniParams = \"{\\\"PIPELINE\\\": {\\\"SUPPORTPATH\\\": \\\"/opt/senzing/g2/data\\\"},\\\"SQL\\\": {\\\"CONNECTION\\\": \\\"sqlite3://na:na@/opt/senzing/g2/sqldb/G2C.db\\\",\\\"RESOURCEPATH\\\": \\\"/opt/senzing/g2/python/g2config.json\\\"}}\"\n",
    "g2ConfigMgr=G2ConfigMgr()\n",
    "g2ConfigMgr.initV2(module_name, iniParams, verbose_logging)\n",
    "g2config=G2Config()\n",
    "config_bytearray=bytearray(\"\", 'utf-8')\n",
    "g2config.initV2(module_name, iniParams, verbose_logging)\n",
    "config=g2config.create()\n",
    "g2config.save(config, config_bytearray)\n",
    "configJsonToUse = config_bytearray.decode()\n",
    "config_comment = \"Configuration added from G2SetupConfig.\"\n",
    "new_config_id = bytearray()\n",
    "return_code = g2ConfigMgr.addConfig(configJsonToUse, config_comment, new_config_id)\n",
    "g2ConfigMgr.setDefaultConfigID(new_config_id)\n",
    "g2_engine = G2Engine()\n",
    "g2_engine.initV2(module_name, iniParams, verbose_logging)\n",
    "g2_engine.purgeRepository()"
   ]
  },
  {
   "cell_type": "code",
   "execution_count": null,
   "metadata": {},
   "outputs": [],
   "source": [
    "datasource_code = \"TEST\"\n",
    "record_id = \"1\"\n",
    "load_id = None\n",
    "data = {\"NAMES\": [{\"NAME_TYPE\": \"PRIMARY\",\"NAME_LAST\": \"Bob\",\"NAME_FIRST\": \"Max\"}],\"PHONE_NUMBER\": \"123-456-7899\"}\n",
    "data_string = json.dumps(data)\n",
    "result = g2_engine.addRecord(datasource_code, record_id, data_string, load_id)\n",
    "print(result)\n",
    "datasource_code = \"TEST\"\n",
    "record_id = \"2\"\n",
    "load_id = None\n",
    "data = {\"NAMES\": [{\"NAME_TYPE\": \"PRIMARY\",\"NAME_LAST\": \"Robart\",\"NAME_FIRST\": \"Max\", \"MIDDLE_NAME\": \"S\"}],\"ADDR_FULL\": \"456 Funny ST\"}\n",
    "data_string = json.dumps(data)\n",
    "result = g2_engine.addRecord(datasource_code, record_id, data_string, load_id)\n",
    "print(result)\n",
    "datasource_code = \"TEST\"\n",
    "record_id = \"3\"\n",
    "load_id = None\n",
    "data = {\"NAMES\": [{\"NAME_TYPE\": \"PRIMARY\",\"NAME_LAST\": \"Robert\",\"NAME_FIRST\": \"Max\", \"MIDDLE_NAME\":\"Stewart\"}],\"PHONE_NUMBER\": \"123-456-7899\", \"ADDR_FULL\": \"456 Funny st\"}\n",
    "data_string = json.dumps(data)\n",
    "result = g2_engine.addRecord(datasource_code, record_id, data_string, load_id)\n",
    "print(result)"
   ]
  },
  {
   "cell_type": "code",
   "execution_count": null,
   "metadata": {},
   "outputs": [],
   "source": [
    "# run the why function\n",
    "record_id=\"2\"\n",
    "response = bytearray()\n",
    "ret_code = g2_engine.whyEntityByRecordID(datasource_code,record_id,response)\n",
    "whyResultData = json.loads(response.decode())"
   ]
  },
  {
   "cell_type": "code",
   "execution_count": null,
   "metadata": {},
   "outputs": [],
   "source": [
    "# get the main document data sections\n",
    "whyResultSection = None\n",
    "for i in range(len(whyResultData['WHY_RESULTS'])):\n",
    "    for j in range(len(whyResultData['WHY_RESULTS'][i]['FOCUS_RECORDS'])):\n",
    "        if whyResultData['WHY_RESULTS'][i]['FOCUS_RECORDS'][j]['DATA_SOURCE'] == datasource_code and whyResultData['WHY_RESULTS'][i]['FOCUS_RECORDS'][j]['RECORD_ID'] == record_id:\n",
    "            whyResultSection = whyResultData['WHY_RESULTS'][i]\n",
    "entityID = whyResultSection['ENTITY_ID']"
   ]
  },
  {
   "cell_type": "code",
   "execution_count": null,
   "metadata": {},
   "outputs": [],
   "source": [
    "# get the basic why results\n",
    "whyKey = whyResultSection['MATCH_INFO']['WHY_KEY']\n",
    "whyERRuleCode = whyResultSection['MATCH_INFO']['WHY_ERRULE_CODE']"
   ]
  },
  {
   "cell_type": "code",
   "execution_count": null,
   "metadata": {},
   "outputs": [],
   "source": [
    "# get the matching candidate keys for the record\n",
    "recordCandidateKeyFeaturesByType = {}\n",
    "for featureName in whyResultSection['MATCH_INFO']['CANDIDATE_KEYS']:\n",
    "    for i in range(len(whyResultSection['MATCH_INFO']['CANDIDATE_KEYS'][featureName])):\n",
    "        featureDesc = whyResultSection['MATCH_INFO']['CANDIDATE_KEYS'][featureName][i]['FEAT_DESC']\n",
    "        if featureName not in recordCandidateKeyFeaturesByType:\n",
    "            recordCandidateKeyFeaturesByType[featureName] = []\n",
    "        recordCandidateKeyFeaturesByType[featureName].append(featureDesc)"
   ]
  },
  {
   "cell_type": "code",
   "execution_count": null,
   "metadata": {},
   "outputs": [],
   "source": [
    "# determine the best matches for each feature type\n",
    "bestFeatureMatchByType = {}\n",
    "bestBehaviorLevelByType = {}\n",
    "for featureName in whyResultSection['MATCH_INFO']['FEATURE_SCORES']:\n",
    "    for i in range(len(whyResultSection['MATCH_INFO']['FEATURE_SCORES'][featureName])):\n",
    "        bucketString = whyResultSection['MATCH_INFO']['FEATURE_SCORES'][featureName][i]['SCORE_BUCKET']\n",
    "        scoreBucketLevelForFeatureScore = getScoreBucketLevelForScoreBucket(bucketString)\n",
    "        shouldIncludeComparison = False\n",
    "        if featureName in bestBehaviorLevelByType:\n",
    "            if scoreBucketLevelForFeatureScore < bestBehaviorLevelByType[featureName]:\n",
    "               shouldIncludeComparison = True\n",
    "        else:\n",
    "            shouldIncludeComparison = True\n",
    "        if shouldIncludeComparison == True:\n",
    "            bestFeatureMatchByTypeEntry = {}\n",
    "            bestFeatureMatchByTypeEntry['SCORE_BUCKET'] = bucketString\n",
    "            bestFeatureMatchByTypeEntry['FEAT'] = whyResultSection['MATCH_INFO']['FEATURE_SCORES'][featureName][i]['INBOUND_FEAT']\n",
    "            bestFeatureMatchByType[featureName] = bestFeatureMatchByTypeEntry\n",
    "            bestBehaviorLevelByType[featureName] = scoreBucketLevelForFeatureScore"
   ]
  },
  {
   "cell_type": "code",
   "execution_count": null,
   "metadata": {},
   "outputs": [],
   "source": [
    "# print the general why-results\n",
    "print('')\n",
    "print('Displaying record results:')\n",
    "print('')\n",
    "print('Data source: \\''+datasource_code+'\\'')\n",
    "print('Record ID: \\''+record_id+'\\'')\n",
    "print('Entity ID: '+(str(entityID)))\n",
    "print('Why key: \\''+whyKey+'\\'')\n",
    "print('Why ER rule code: \\''+whyERRuleCode+'\\'')\n",
    "print('')"
   ]
  },
  {
   "cell_type": "code",
   "execution_count": null,
   "metadata": {},
   "outputs": [],
   "source": [
    "# print the matching criteria\n",
    "print('Compared Features:')\n",
    "for featureName in sorted(bestFeatureMatchByType.keys()):\n",
    "    featureDesc = bestFeatureMatchByType[featureName]['FEAT']\n",
    "    scoreBucket = bestFeatureMatchByType[featureName]['SCORE_BUCKET']\n",
    "    print('    '+featureName+': \\'' + featureDesc + '\\' ('+scoreBucket+')')\n",
    "print('')"
   ]
  },
  {
   "cell_type": "code",
   "execution_count": null,
   "metadata": {},
   "outputs": [],
   "source": [
    "# print the candidate keys\n",
    "print('Matching record candidate keys:')\n",
    "for featureName in sorted(recordCandidateKeyFeaturesByType.keys()):\n",
    "    print('    '+featureName+':')\n",
    "    featList = []\n",
    "    for i in range(len(recordCandidateKeyFeaturesByType[featureName])):\n",
    "        featList.append(recordCandidateKeyFeaturesByType[featureName][i])\n",
    "    featList.sort()\n",
    "    for i in range(len(featList)):\n",
    "        print('        \\'' + featList[i]+'\\'')\n",
    "print('')\n",
    "\n",
    "# shut down the engine\n",
    "g2_engine.destroy()"
   ]
  },
  {
   "cell_type": "code",
   "execution_count": null,
   "metadata": {},
   "outputs": [],
   "source": []
  }
 ],
 "metadata": {
  "kernelspec": {
   "display_name": "Python 3",
   "language": "python",
   "name": "python3"
  },
  "language_info": {
   "codemirror_mode": {
    "name": "ipython",
    "version": 3
   },
   "file_extension": ".py",
   "mimetype": "text/x-python",
   "name": "python",
   "nbconvert_exporter": "python",
   "pygments_lexer": "ipython3",
   "version": "3.7.4"
  }
 },
 "nbformat": 4,
 "nbformat_minor": 2
}
