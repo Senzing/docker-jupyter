{
 "cells": [
  {
   "cell_type": "markdown",
   "metadata": {},
   "source": [
    "# G2Config Guide - Add DataSource\n",
    "\n",
    "The `addDataSource()` method adds a datasource to the list of accepted datasources.\n",
    "\n",
    "More information:\n",
    "\n",
    "1. [GitHub repository](https://github.com/Senzing/docker-jupyter)\n",
    "1. [Senzing documentation](http://docs.senzing.com/?python#g2config)\n",
    "1. [G2Config Reference](senzing-G2Config-reference.ipynb)"
   ]
  },
  {
   "cell_type": "code",
   "execution_count": null,
   "metadata": {},
   "outputs": [],
   "source": [
    "import os\n",
    "import sys\n",
    "import json\n",
    "\n",
    "# For RenderJSON\n",
    "\n",
    "import uuid\n",
    "from IPython.display import display_javascript, display_html, display"
   ]
  },
  {
   "cell_type": "code",
   "execution_count": null,
   "metadata": {},
   "outputs": [],
   "source": [
    "class RenderJSON(object):\n",
    "    def __init__(self, json_data):\n",
    "        if isinstance(json_data, dict):\n",
    "            self.json_str = json.dumps(json_data)\n",
    "        elif isinstance(json_data, bytearray):\n",
    "            self.json_str = json_data.decode()\n",
    "        else:\n",
    "            self.json_str = json_data\n",
    "        self.uuid = str(uuid.uuid4())\n",
    "\n",
    "    def _ipython_display_(self):\n",
    "        display_html('<div id=\"{}\" style=\"height:100%; width:100%; background-color: LightCyan\"></div>'.format(self.uuid), raw=True)\n",
    "        display_javascript(\"\"\"\n",
    "        require([\"https://rawgit.com/caldwell/renderjson/master/renderjson.js\"], function() {\n",
    "        document.getElementById('%s').appendChild(renderjson(%s))\n",
    "        });\n",
    "        \"\"\" % (self.uuid, self.json_str), raw=True)"
   ]
  },
  {
   "cell_type": "markdown",
   "metadata": {},
   "source": [
    "## Initialize variables\n",
    "\n",
    "Create variables used in `addDataSource()`."
   ]
  },
  {
   "cell_type": "code",
   "execution_count": null,
   "metadata": {},
   "outputs": [],
   "source": [
    "%run senzing-init-config.ipynb"
   ]
  },
  {
   "cell_type": "code",
   "execution_count": null,
   "metadata": {},
   "outputs": [],
   "source": [
    "%store -r senzing_config_json"
   ]
  },
  {
   "cell_type": "code",
   "execution_count": null,
   "metadata": {},
   "outputs": [],
   "source": [
    "RenderJSON(senzing_config_json)"
   ]
  },
  {
   "cell_type": "code",
   "execution_count": null,
   "metadata": {},
   "outputs": [],
   "source": [
    "python_path = \"{0}/python\".format(\n",
    "    os.environ.get(\"SENZING_G2_DIR\", \"/opt/senzing/g2\"))\n",
    "sys.path.append(python_path)"
   ]
  },
  {
   "cell_type": "markdown",
   "metadata": {},
   "source": [
    "## G2Config\n",
    "\n",
    "The G2Config API..."
   ]
  },
  {
   "cell_type": "code",
   "execution_count": null,
   "metadata": {},
   "outputs": [],
   "source": [
    "from G2Config import G2Config"
   ]
  },
  {
   "cell_type": "markdown",
   "metadata": {},
   "source": [
    "## Initialize G2Config\n",
    "\n",
    "Details at [G2Config Initialization](senzing-G2Config-reference.ipynb#G2Config-Initialization)."
   ]
  },
  {
   "cell_type": "code",
   "execution_count": null,
   "metadata": {},
   "outputs": [],
   "source": [
    "g2_config = G2Config()\n",
    "return_code = g2_config.initV2(module_name, senzing_config_json, verbose_logging)\n",
    "\n",
    "RenderJSON(\"Return Code: {0}\".format(return_code))"
   ]
  },
  {
   "cell_type": "markdown",
   "metadata": {},
   "source": [
    "## Create configuration handle\n",
    "\n",
    "Details at [G2Config.create](senzing-G2Config-reference.ipynb#create)."
   ]
  },
  {
   "cell_type": "code",
   "execution_count": null,
   "metadata": {},
   "outputs": [],
   "source": [
    "config_handle = g2_config.create()"
   ]
  },
  {
   "cell_type": "markdown",
   "metadata": {},
   "source": [
    "## List DataSources\n",
    "\n",
    "Call G2Config's `listDataSources()` method and pretty-printsresults.\n",
    "\n",
    "Details at [G2Config.listDataSources](senzing-G2Config-reference.ipynb#listDataSources).\n"
   ]
  },
  {
   "cell_type": "code",
   "execution_count": null,
   "metadata": {},
   "outputs": [],
   "source": [
    "response_bytearray = bytearray()\n",
    "\n",
    "return_code = g2_config.listDataSourcesV2(config_handle, response_bytearray)\n",
    "\n",
    "RenderJSON(response_bytearray)"
   ]
  },
  {
   "cell_type": "markdown",
   "metadata": {},
   "source": [
    "## Add DataSource\n",
    "\n",
    "Call G2Config's `addDataSource()` method and pretty-prints results.\n",
    "\n",
    "Details at [G2Config.addDataSource](senzing-G2Config-reference.ipynb#addDataSource)."
   ]
  },
  {
   "cell_type": "code",
   "execution_count": null,
   "metadata": {
    "scrolled": true
   },
   "outputs": [],
   "source": [
    "datasource_json = \"{\\\"DSRC_CODE\\\": \\\"CUSTOMER\\\"}\" \n",
    "\n",
    "response_bytearray = bytearray()\n",
    "\n",
    "return_code = g2_config.addDataSourceV2(config_handle, datasource_json, response_bytearray)\n",
    "\n",
    "RenderJSON(\"Return Code: {0}\".format(return_code))"
   ]
  },
  {
   "cell_type": "markdown",
   "metadata": {},
   "source": [
    "## List DataSources again\n",
    "\n",
    "Call G2Config's `listDataSources()` method and pretty-prints results.\n",
    "Notice that the list now contains the newly added datasource_code of \"CUSTOMER\".\n",
    "\n",
    "Details at [G2Config.listDataSources](senzing-G2Config-reference.ipynb#listDataSources)."
   ]
  },
  {
   "cell_type": "code",
   "execution_count": null,
   "metadata": {},
   "outputs": [],
   "source": [
    "response_bytearray = bytearray()\n",
    "\n",
    "return_code = g2_config.listDataSourcesV2(config_handle, response_bytearray)\n",
    "\n",
    "RenderJSON(response_bytearray.decode())"
   ]
  },
  {
   "cell_type": "markdown",
   "metadata": {},
   "source": [
    "# List Entity Classes\n",
    "Calls G2Config's `listEntityClassesV2()` method and pretty-prints results."
   ]
  },
  {
   "cell_type": "code",
   "execution_count": null,
   "metadata": {},
   "outputs": [],
   "source": [
    "response_bytearray = bytearray()\n",
    "\n",
    "return_code = g2_config.listEntityClassesV2(config_handle, response_bytearray)\n",
    "\n",
    "RenderJSON(response_bytearray.decode())"
   ]
  },
  {
   "cell_type": "markdown",
   "metadata": {},
   "source": [
    "# List Entity Types\n",
    "Calls G2Config's `listEntityTypesV2()` method and pretty-prints results."
   ]
  },
  {
   "cell_type": "code",
   "execution_count": null,
   "metadata": {},
   "outputs": [],
   "source": [
    "response_bytearray = bytearray()\n",
    "\n",
    "return_code = g2_config.listEntityTypesV2(config_handle, response_bytearray)\n",
    "\n",
    "RenderJSON(response_bytearray.decode())"
   ]
  },
  {
   "cell_type": "markdown",
   "metadata": {},
   "source": [
    "# Add Entity Class"
   ]
  },
  {
   "cell_type": "code",
   "execution_count": null,
   "metadata": {},
   "outputs": [],
   "source": [
    "entityclass_json = \"{\\\"ECLASS_CODE\\\": \\\"COMPANY\\\"}\" \n",
    "response_bytearray = bytearray()\n",
    "\n",
    "return_code = g2_config.addEntityClassV2(config_handle, entityclass_json, response_bytearray)\n",
    "\n",
    "RenderJSON(response_bytearray.decode())"
   ]
  },
  {
   "cell_type": "markdown",
   "metadata": {},
   "source": [
    "# List Entity Classes again"
   ]
  },
  {
   "cell_type": "code",
   "execution_count": null,
   "metadata": {},
   "outputs": [],
   "source": [
    "response_bytearray = bytearray()\n",
    "\n",
    "return_code = g2_config.listEntityClassesV2(config_handle, response_bytearray)\n",
    "\n",
    "RenderJSON(response_bytearray.decode())"
   ]
  },
  {
   "cell_type": "markdown",
   "metadata": {},
   "source": [
    "# Add Entity type"
   ]
  },
  {
   "cell_type": "code",
   "execution_count": null,
   "metadata": {},
   "outputs": [],
   "source": [
    "entitytype_json = \"{\\\"ETYPE_CODE\\\": \\\"PROFESSIONAL\\\", \\\"ECLASS_CODE\\\": \\\"ACTOR\\\"}\" \n",
    "response_bytearray = bytearray()\n",
    "\n",
    "return_code = g2_config.addEntityTypeV2(config_handle, entitytype_json, response_bytearray)\n",
    "\n",
    "RenderJSON(response_bytearray.decode())"
   ]
  },
  {
   "cell_type": "markdown",
   "metadata": {},
   "source": [
    "# List Entity Types again"
   ]
  },
  {
   "cell_type": "code",
   "execution_count": null,
   "metadata": {},
   "outputs": [],
   "source": [
    "response_bytearray = bytearray()\n",
    "\n",
    "return_code = g2_config.listEntityTypesV2(config_handle, response_bytearray)\n",
    "\n",
    "RenderJSON(response_bytearray.decode())"
   ]
  },
  {
   "cell_type": "markdown",
   "metadata": {},
   "source": [
    "# Delete Entity Classes"
   ]
  },
  {
   "cell_type": "code",
   "execution_count": null,
   "metadata": {},
   "outputs": [],
   "source": [
    "entityclass_json = \"{\\\"ECLASS_CODE\\\": \\\"COMPANY\\\"}\" \n",
    "\n",
    "return_code = g2_config.deleteEntityClassV2(config_handle, entityclass_json)\n",
    "\n",
    "RenderJSON(return_code)"
   ]
  },
  {
   "cell_type": "markdown",
   "metadata": {},
   "source": [
    "# Delete Entity Types"
   ]
  },
  {
   "cell_type": "code",
   "execution_count": null,
   "metadata": {},
   "outputs": [],
   "source": [
    "entitytype_json = \"{\\\"ETYPE_CODE\\\": \\\"PROFESSIONAL\\\", \\\"ECLASS_CODE\\\": \\\"ACTOR\\\"}\" \n",
    "\n",
    "return_code = g2_config.deleteEntityTypeV2(config_handle, entitytype_json)\n",
    "\n",
    "RenderJSON(return_code)"
   ]
  },
  {
   "cell_type": "markdown",
   "metadata": {},
   "source": [
    "# List Feature Elements"
   ]
  },
  {
   "cell_type": "code",
   "execution_count": null,
   "metadata": {
    "scrolled": true
   },
   "outputs": [],
   "source": [
    "response_bytearray = bytearray()\n",
    "\n",
    "g2_config.listFeatureElementsV2(config_handle, response_bytearray)\n",
    "\n",
    "RenderJSON(response_bytearray.decode())"
   ]
  },
  {
   "cell_type": "markdown",
   "metadata": {},
   "source": [
    "# Get Feature Element"
   ]
  },
  {
   "cell_type": "code",
   "execution_count": null,
   "metadata": {},
   "outputs": [],
   "source": [
    "response_bytearray = bytearray()\n",
    "featureElm_json=\"{\\\"FELEM_CODE\\\":\\\"GIVEN_NAME\\\"}\"\n",
    "\n",
    "return_code = g2_config.getFeatureElementV2(config_handle, featureElm_json, response_bytearray)\n",
    "\n",
    "RenderJSON(response_bytearray.decode())"
   ]
  },
  {
   "cell_type": "markdown",
   "metadata": {},
   "source": [
    "# Add Feature Element"
   ]
  },
  {
   "cell_type": "code",
   "execution_count": null,
   "metadata": {},
   "outputs": [],
   "source": [
    "response_bytearray = bytearray()\n",
    "featureElm_json = \"{\\\"FELEM_CODE\\\":\\\"myNewFelem\\\",\\\"FELEM_ID\\\":789,\\\"TOKENIZE\\\":1,\\\"DATA_TYPE\\\":\\\"string\\\"}\"\n",
    "\n",
    "return_code = g2_config.addFeatureElementV2(config_handle, featureElm_json, response_bytearray)\n",
    "\n",
    "RenderJSON(response_bytearray.decode())"
   ]
  },
  {
   "cell_type": "markdown",
   "metadata": {},
   "source": [
    "# Delete Feature Element"
   ]
  },
  {
   "cell_type": "code",
   "execution_count": null,
   "metadata": {},
   "outputs": [],
   "source": [
    "featureElm_json = \"{\\\"FELEM_CODE\\\":\\\"myNewFelem\\\"}\"\n",
    "return_code = g2_config.deleteFeatureElementV2(config_handle, featureElm_json)\n",
    "\n",
    "RenderJSON(return_code)"
   ]
  },
  {
   "cell_type": "markdown",
   "metadata": {},
   "source": [
    "# List Feature Classes"
   ]
  },
  {
   "cell_type": "code",
   "execution_count": null,
   "metadata": {},
   "outputs": [],
   "source": [
    "response_bytearray = bytearray()\n",
    "\n",
    "return_code = g2_config.listFeatureClassesV2(config_handle, response_bytearray)\n",
    "\n",
    "RenderJSON(response_bytearray.decode())"
   ]
  },
  {
   "cell_type": "markdown",
   "metadata": {},
   "source": [
    "# List Features"
   ]
  },
  {
   "cell_type": "code",
   "execution_count": null,
   "metadata": {
    "scrolled": true
   },
   "outputs": [],
   "source": [
    "response_bytearray = bytearray()\n",
    "\n",
    "return_code = g2_config.listFeaturesV2(config_handle, response_bytearray)\n",
    "\n",
    "RenderJSON(response_bytearray.decode())"
   ]
  },
  {
   "cell_type": "markdown",
   "metadata": {},
   "source": [
    "# Get Feature"
   ]
  },
  {
   "cell_type": "code",
   "execution_count": null,
   "metadata": {},
   "outputs": [],
   "source": [
    "response_bytearray = bytearray()\n",
    "feature_json =  \"{\\\"FTYPE_CODE\\\":\\\"name\\\"}\"\n",
    "return_code = g2_config.getFeatureV2(config_handle, feature_json, response_bytearray)\n",
    "\n",
    "RenderJSON(response_bytearray.decode())"
   ]
  },
  {
   "cell_type": "markdown",
   "metadata": {},
   "source": [
    "# Add Feature"
   ]
  },
  {
   "cell_type": "code",
   "execution_count": null,
   "metadata": {},
   "outputs": [],
   "source": [
    "response_bytearray = bytearray()\n",
    "feature_json = \"{\\\"FTYPE_CODE\\\":\\\"myNewFtype\\\",\\\"FTYPE_ID\\\":789,\\\"FCLASS_CODE\\\":\\\"ELECTED_ID\\\",\\\"FTYPE_FREQ\\\":\\\"FF\\\", \\\"FEATURE_ELEMENTS\\\":[{\\\"FELEM_CODE\\\":\\\"expression\\\"}]}\"\n",
    "\n",
    "return_code = g2_config.addFeatureV2(config_handle, feature_json, response_bytearray)\n",
    "\n",
    "RenderJSON(response_bytearray.decode())"
   ]
  },
  {
   "cell_type": "markdown",
   "metadata": {},
   "source": [
    "# Delete Feature"
   ]
  },
  {
   "cell_type": "code",
   "execution_count": null,
   "metadata": {},
   "outputs": [],
   "source": [
    "feature_json = \"{\\\"FTYPE_CODE\\\":\\\"NAME\\\"}\"\n",
    "return_code = g2_config.deleteFeatureV2(config_handle, feature_json)\n",
    "\n",
    "RenderJSON(return_code)"
   ]
  },
  {
   "cell_type": "markdown",
   "metadata": {},
   "source": [
    "# Add Element To Feature"
   ]
  },
  {
   "cell_type": "code",
   "execution_count": null,
   "metadata": {},
   "outputs": [],
   "source": [
    "elmnt_json =  \"{\\\"FTYPE_CODE\\\":\\\"myNewFtype\\\", \\\"FELEM_CODE\\\":\\\"expression\\\",\\\"EXEC_ORDER\\\":4}\"\n",
    "return_code = g2_config.addElementToFeatureV2(config_handle, elmnt_json)\n",
    "\n",
    "RenderJSON(return_code)"
   ]
  },
  {
   "cell_type": "markdown",
   "metadata": {},
   "source": [
    "# Delete Element From Feature"
   ]
  },
  {
   "cell_type": "code",
   "execution_count": null,
   "metadata": {},
   "outputs": [],
   "source": [
    "elmnt_json = \"{\\\"FTYPE_CODE\\\":\\\"myNewFtype\\\", \\\"FELEM_CODE\\\":\\\"expression\\\"}\"\n",
    "    \n",
    "return_code = g2_config.deleteElementFromFeatureV2(config_handle, elmnt_json)\n",
    "\n",
    "RenderJSON(return_code)"
   ]
  },
  {
   "cell_type": "markdown",
   "metadata": {},
   "source": [
    "# List Feature Standardization Functions"
   ]
  },
  {
   "cell_type": "code",
   "execution_count": null,
   "metadata": {},
   "outputs": [],
   "source": [
    "response_bytearray = bytearray()\n",
    "\n",
    "return_code = g2_config.listFeatureStandardizationFunctionsV2(config_handle, response_bytearray)\n",
    "\n",
    "RenderJSON(response_bytearray.decode())"
   ]
  },
  {
   "cell_type": "markdown",
   "metadata": {},
   "source": [
    "# List Features Standardization Function Calls"
   ]
  },
  {
   "cell_type": "code",
   "execution_count": null,
   "metadata": {},
   "outputs": [],
   "source": [
    "response_bytearray = bytearray()\n",
    "\n",
    "return_code = g2_config.listFeatureStandardizationFunctionCallsV2(config_handle, response_bytearray)\n",
    "\n",
    "RenderJSON(response_bytearray.decode())"
   ]
  },
  {
   "cell_type": "markdown",
   "metadata": {},
   "source": [
    "# Get Feature Standardization Function Call"
   ]
  },
  {
   "cell_type": "code",
   "execution_count": null,
   "metadata": {},
   "outputs": [],
   "source": [
    "response_bytearray = bytearray()\n",
    "featureStandard_json = \"{\\\"SFCALL_ID\\\":4}\"\n",
    "return_code = g2_config.getFeatureStandardizationFunctionCallV2(config_handle, featureStandard_json, response_bytearray)\n",
    "\n",
    "RenderJSON(response_bytearray.decode())"
   ]
  },
  {
   "cell_type": "markdown",
   "metadata": {},
   "source": [
    "# Add Feature Standardization Function Call"
   ]
  },
  {
   "cell_type": "code",
   "execution_count": null,
   "metadata": {},
   "outputs": [],
   "source": [
    "response_bytearray = bytearray()\n",
    "featureStandard_json = \"{\\\"FTYPE_CODE\\\":\\\"veh_vin\\\",\\\"SFCALL_ID\\\":789,\\\"SFUNC_CODE\\\":\\\"PARSE_ID\\\",\\\"EXEC_ORDER\\\":15}\"\n",
    "return_code = g2_config.addFeatureStandardizationFunctionCallV2(config_handle, featureStandard_json, response_bytearray)\n",
    "\n",
    "RenderJSON(response_bytearray.decode())"
   ]
  },
  {
   "cell_type": "markdown",
   "metadata": {},
   "source": [
    "# Delete Feature Standardization Function Call"
   ]
  },
  {
   "cell_type": "code",
   "execution_count": null,
   "metadata": {},
   "outputs": [],
   "source": [
    "#Get the json from the previous function\n",
    "featureStandard_json = \"{\\\"SFCALL_ID\\\":789}\"\n",
    "return_code = g2_config.deleteFeatureStandardizationFunctionCallV2(config_handle, featureStandard_json)\n",
    "\n",
    "RenderJSON(return_code)"
   ]
  },
  {
   "cell_type": "markdown",
   "metadata": {},
   "source": [
    "# List Feature Expression Functions"
   ]
  },
  {
   "cell_type": "code",
   "execution_count": null,
   "metadata": {},
   "outputs": [],
   "source": [
    "response_bytearray = bytearray()\n",
    "return_code = g2_config.listFeatureExpressionFunctionsV2(config_handle, response_bytearray)\n",
    "\n",
    "RenderJSON(response_bytearray.decode())"
   ]
  },
  {
   "cell_type": "markdown",
   "metadata": {},
   "source": [
    "# List Feature Expression Function Calls"
   ]
  },
  {
   "cell_type": "code",
   "execution_count": null,
   "metadata": {},
   "outputs": [],
   "source": [
    "response_bytearray = bytearray()\n",
    "\n",
    "return_code = g2_config.listFeatureExpressionFunctionCallsV2(config_handle, response_bytearray)\n",
    "\n",
    "RenderJSON(response_bytearray.decode())"
   ]
  },
  {
   "cell_type": "markdown",
   "metadata": {},
   "source": [
    "# Get Feature Expression Function Call"
   ]
  },
  {
   "cell_type": "code",
   "execution_count": null,
   "metadata": {},
   "outputs": [],
   "source": [
    "response_bytearray = bytearray()\n",
    "featureExpress_json = \"{\\\"EFCALL_ID\\\":1}\"\n",
    "return_code = g2_config.getFeatureExpressionFunctionCallV2(config_handle, featureExpress_json, response_bytearray)\n",
    "\n",
    "RenderJSON(response_bytearray.decode())"
   ]
  },
  {
   "cell_type": "markdown",
   "metadata": {},
   "source": [
    "# Add Feature Expression Function Call"
   ]
  },
  {
   "cell_type": "code",
   "execution_count": null,
   "metadata": {},
   "outputs": [],
   "source": [
    "response_bytearray = bytearray()\n",
    "featureExpress_json = \"{\\\"FTYPE_CODE\\\":\\\"veh_vin\\\",\\\"EFCALL_ID\\\":789,\\\"EFUNC_CODE\\\":\\\"EXPRESS_ID\\\",\\\"EXEC_ORDER\\\":15, \\\"BOM_ELEMENTS\\\":[{\\\"FTYPE_CODE\\\":\\\"veh_vin\\\",\\\"FELEM_CODE\\\":\\\"id_num\\\",\\\"REQUIRED\\\":\\\"Yes\\\"}]}\"\n",
    "return_code = g2_config.addFeatureExpressionFunctionCallV2(config_handle, featureExpress_json, response_bytearray)\n",
    "\n",
    "RenderJSON(response_bytearray.decode())"
   ]
  },
  {
   "cell_type": "markdown",
   "metadata": {},
   "source": [
    "# Add Feature Expression Function Call Element"
   ]
  },
  {
   "cell_type": "code",
   "execution_count": null,
   "metadata": {},
   "outputs": [],
   "source": [
    "featureExpressElm_json = \"{\\\"EFCALL_ID\\\":789, \\\"FTYPE_CODE\\\":\\\"address\\\",\\\"FELEM_CODE\\\":\\\"addr5\\\",\\\"REQUIRED\\\":\\\"Yes\\\"}\"\n",
    "return_code = g2_config.addFeatureExpressionFunctionCallElementV2(config_handle, featureExpressElm_json)\n",
    "\n",
    "RenderJSON(return_code)"
   ]
  },
  {
   "cell_type": "markdown",
   "metadata": {},
   "source": [
    "# Delete Feature Expression Function Call Element"
   ]
  },
  {
   "cell_type": "code",
   "execution_count": null,
   "metadata": {},
   "outputs": [],
   "source": [
    "featureExpressElm_json = \"{\\\"EFCALL_ID\\\":789, \\\"FTYPE_CODE\\\":\\\"ADDRESS\\\",\\\"FELEM_CODE\\\":\\\"ADDR5\\\"}\"\n",
    "return_code = g2_config.deleteFeatureExpressionFunctionCallElementV2(config_handle, featureExpressElm_json)\n",
    "\n",
    "RenderJSON(return_code)"
   ]
  },
  {
   "cell_type": "markdown",
   "metadata": {},
   "source": [
    "# Delete Feature Expression Function Call"
   ]
  },
  {
   "cell_type": "code",
   "execution_count": null,
   "metadata": {},
   "outputs": [],
   "source": [
    "#Get the json from the previous function\n",
    "featureExpress_json = \"{\\\"EFCALL_ID\\\":789}\"\n",
    "return_code = g2_config.deleteFeatureExpressionFunctionCallV2(config_handle, featureExpress_json)\n",
    "\n",
    "RenderJSON(return_code)"
   ]
  },
  {
   "cell_type": "markdown",
   "metadata": {},
   "source": [
    "# List Feature Comparison Functions"
   ]
  },
  {
   "cell_type": "code",
   "execution_count": null,
   "metadata": {},
   "outputs": [],
   "source": [
    "response_bytearray = bytearray()\n",
    "\n",
    "return_code = g2_config.listFeatureComparisonFunctionsV2(config_handle, response_bytearray)\n",
    "\n",
    "RenderJSON(response_bytearray.decode())"
   ]
  },
  {
   "cell_type": "markdown",
   "metadata": {},
   "source": [
    "# List Feature Comparison FUnction Calls"
   ]
  },
  {
   "cell_type": "code",
   "execution_count": null,
   "metadata": {
    "scrolled": true
   },
   "outputs": [],
   "source": [
    "response_bytearray = bytearray()\n",
    "\n",
    "return_code = g2_config.listFeatureComparisonFunctionCallsV2(config_handle, response_bytearray)\n",
    "\n",
    "RenderJSON(response_bytearray.decode())"
   ]
  },
  {
   "cell_type": "markdown",
   "metadata": {},
   "source": [
    "# Get Feature Comparison Function Call"
   ]
  },
  {
   "cell_type": "code",
   "execution_count": null,
   "metadata": {},
   "outputs": [],
   "source": [
    "response_bytearray = bytearray()\n",
    "featureCompFunc_json = \"{\\\"CFCALL_ID\\\":2}\"\n",
    "return_code = g2_config.getFeatureComparisonFunctionCallV2(config_handle, featureCompFunc_json, response_bytearray)\n",
    "\n",
    "RenderJSON(response_bytearray.decode())"
   ]
  },
  {
   "cell_type": "markdown",
   "metadata": {},
   "source": [
    "# Add Feature Comparison Function Call"
   ]
  },
  {
   "cell_type": "code",
   "execution_count": null,
   "metadata": {},
   "outputs": [],
   "source": [
    "response_bytearray = bytearray()\n",
    "featureCompFunc_json = \"{\\\"FTYPE_CODE\\\":\\\"name_key\\\",\\\"CFCALL_ID\\\":789,\\\"CFUNC_CODE\\\":\\\"ID_COMP\\\",\\\"EXEC_ORDER\\\":15, \\\"BOM_ELEMENTS\\\":[{\\\"FELEM_CODE\\\":\\\"expression\\\"}]}\"\n",
    "return_code = g2_config.addFeatureComparisonFunctionCallV2(config_handle, featureCompFunc_json, response_bytearray)\n",
    "\n",
    "RenderJSON(response_bytearray.decode())"
   ]
  },
  {
   "cell_type": "markdown",
   "metadata": {},
   "source": [
    "# Delete Feature Comparison Function Call"
   ]
  },
  {
   "cell_type": "code",
   "execution_count": null,
   "metadata": {},
   "outputs": [],
   "source": [
    "#Get input_json from previous function\n",
    "featureComp_json = \"{\\\"CFCALL_ID\\\":789}\"\n",
    "return_code = g2_config.deleteFeatureComparisonFunctionCallV2(config_handle, featureComp_json)\n",
    "\n",
    "RenderJSON(return_code)"
   ]
  },
  {
   "cell_type": "markdown",
   "metadata": {},
   "source": [
    "# Add Feature Comparsion Function Call Element"
   ]
  },
  {
   "cell_type": "code",
   "execution_count": null,
   "metadata": {},
   "outputs": [],
   "source": [
    "featureCompElm_json =  \"{\\\"CFCALL_ID\\\":5, \\\"FELEM_CODE\\\":\\\"addr6\\\"}\"\n",
    "return_code = g2_config.addFeatureComparisonFunctionCallElementV2(config_handle, featureCompElm_json)\n",
    "\n",
    "RenderJSON(return_code)"
   ]
  },
  {
   "cell_type": "markdown",
   "metadata": {},
   "source": [
    "# Delete Feature Comparsion Function Call Element"
   ]
  },
  {
   "cell_type": "code",
   "execution_count": null,
   "metadata": {},
   "outputs": [],
   "source": [
    "featureCompElm_json =  \"{\\\"CFCALL_ID\\\":5, \\\"FELEM_CODE\\\":\\\"ADDR4\\\"}\"\n",
    "return_code = g2_config.deleteFeatureComparisonFunctionCallElementV2(config_handle, featureCompElm_json)\n",
    "\n",
    "RenderJSON(return_code)"
   ]
  },
  {
   "cell_type": "markdown",
   "metadata": {},
   "source": [
    "# List Feature Distinct Functions"
   ]
  },
  {
   "cell_type": "code",
   "execution_count": null,
   "metadata": {},
   "outputs": [],
   "source": [
    "response_bytearray = bytearray()\n",
    "\n",
    "return_code = g2_config.listFeatureDistinctFunctionsV2(config_handle, response_bytearray)\n",
    "\n",
    "RenderJSON(response_bytearray.decode())"
   ]
  },
  {
   "cell_type": "markdown",
   "metadata": {},
   "source": [
    "# List Feature Distinct Function Calls"
   ]
  },
  {
   "cell_type": "code",
   "execution_count": null,
   "metadata": {
    "scrolled": true
   },
   "outputs": [],
   "source": [
    "response_bytearray = bytearray()\n",
    "\n",
    "return_code = g2_config.listFeatureDistinctFunctionCallsV2(config_handle, response_bytearray)\n",
    "\n",
    "RenderJSON(response_bytearray.decode())"
   ]
  },
  {
   "cell_type": "markdown",
   "metadata": {},
   "source": [
    "# Get Feature Distinct Function Call"
   ]
  },
  {
   "cell_type": "code",
   "execution_count": null,
   "metadata": {},
   "outputs": [],
   "source": [
    "response_bytearray = bytearray()\n",
    "featureFunc_json =  \"{\\\"DFCALL_ID\\\":2}\"\n",
    "return_code = g2_config.getFeatureDistinctFunctionCallV2(config_handle, featureFunc_json, response_bytearray)\n",
    "\n",
    "RenderJSON(response_bytearray.decode())"
   ]
  },
  {
   "cell_type": "markdown",
   "metadata": {},
   "source": [
    "# Add Feature Distinct Function Call"
   ]
  },
  {
   "cell_type": "code",
   "execution_count": null,
   "metadata": {},
   "outputs": [],
   "source": [
    "response_bytearray = bytearray()\n",
    "featureFunc_json = \"{\\\"FTYPE_CODE\\\":\\\"name_key\\\",\\\"DFCALL_ID\\\":789,\\\"DFUNC_CODE\\\":\\\"FELEM_STRICT_SUBSET\\\",\\\"EXEC_ORDER\\\":15, \\\"BOM_ELEMENTS\\\":[{\\\"FELEM_CODE\\\":\\\"expression\\\"}]}\"\n",
    "return_code = g2_config.addFeatureDistinctFunctionCallV2(config_handle, featureFunc_json, response_bytearray)\n",
    "\n",
    "RenderJSON(response_bytearray.decode())"
   ]
  },
  {
   "cell_type": "markdown",
   "metadata": {},
   "source": [
    "# Delete Feature Distinct Function Call "
   ]
  },
  {
   "cell_type": "code",
   "execution_count": null,
   "metadata": {},
   "outputs": [],
   "source": [
    "featureFunc_json = \"{\\\"DFCALL_ID\\\":1002}\"\n",
    "return_code = g2_config.deleteFeatureDistinctFunctionCallV2(config_handle, featureFunc_json)\n",
    "\n",
    "RenderJSON(return_code)"
   ]
  },
  {
   "cell_type": "markdown",
   "metadata": {},
   "source": [
    "# Add Feature Distinct Function Call Element"
   ]
  },
  {
   "cell_type": "code",
   "execution_count": null,
   "metadata": {},
   "outputs": [],
   "source": [
    "featureElmt_json = \"{\\\"DFCALL_ID\\\":5, \\\"FELEM_CODE\\\":\\\"addr6\\\"}\"\n",
    "return_code = g2_config.addFeatureDistinctFunctionCallElementV2(config_handle, featureElmt_json)\n",
    "\n",
    "RenderJSON(return_code)"
   ]
  },
  {
   "cell_type": "markdown",
   "metadata": {},
   "source": [
    "# Delete Feature Distinct Function Call Element"
   ]
  },
  {
   "cell_type": "code",
   "execution_count": null,
   "metadata": {},
   "outputs": [],
   "source": [
    "featureElmt_json = \"{\\\"DFCALL_ID\\\":5, \\\"FELEM_CODE\\\":\\\"ADDR4\\\"}\"\n",
    "return_code = g2_config.deleteFeatureDistinctFunctionCallElementV2(config_handle, featureElmt_json)\n",
    "\n",
    "RenderJSON(return_code)"
   ]
  },
  {
   "cell_type": "markdown",
   "metadata": {},
   "source": [
    "# List Attribute Classes"
   ]
  },
  {
   "cell_type": "code",
   "execution_count": null,
   "metadata": {},
   "outputs": [],
   "source": [
    "response_bytearray = bytearray()\n",
    "\n",
    "return_code = g2_config.listAttributeClassesV2(config_handle, response_bytearray)\n",
    "\n",
    "RenderJSON(response_bytearray.decode())"
   ]
  },
  {
   "cell_type": "markdown",
   "metadata": {},
   "source": [
    "# List Attributes"
   ]
  },
  {
   "cell_type": "code",
   "execution_count": null,
   "metadata": {
    "scrolled": true
   },
   "outputs": [],
   "source": [
    "response_bytearray = bytearray()\n",
    "\n",
    "return_code = g2_config.listAttributesV2(config_handle, response_bytearray)\n",
    "\n",
    "RenderJSON(response_bytearray.decode())"
   ]
  },
  {
   "cell_type": "markdown",
   "metadata": {},
   "source": [
    "# Get Attribute"
   ]
  },
  {
   "cell_type": "code",
   "execution_count": null,
   "metadata": {},
   "outputs": [],
   "source": [
    "response_bytearray = bytearray()\n",
    "input_json = \"{\\\"ATTR_CODE\\\":\\\"DATA_SOURCE\\\"}\"\n",
    "return_code = g2_config.getAttributeV2(config_handle, input_json, response_bytearray)\n",
    "\n",
    "RenderJSON(response_bytearray.decode())"
   ]
  },
  {
   "cell_type": "markdown",
   "metadata": {},
   "source": [
    "# Add Attribute"
   ]
  },
  {
   "cell_type": "code",
   "execution_count": null,
   "metadata": {},
   "outputs": [],
   "source": [
    "response_bytearray = bytearray()\n",
    "attr_json = \"{\\\"ATTR_CODE\\\":\\\"myNewAttr\\\",\\\"ATTR_ID\\\":789,\\\"ATTR_CLASS\\\":\\\"attribute\\\",\\\"FTYPE_CODE\\\":\\\"name_key\\\",\\\"FELEM_CODE\\\":\\\"latitude\\\",\\\"FELEM_REQ\\\":\\\"myReqValue\\\",\\\"DEFAULT_VALUE\\\":\\\"myDefault\\\",\\\"ADVANCED\\\":\\\"Y\\\",\\\"INTERNAL\\\":1}\"\n",
    "return_code = g2_config.addAttributeV2(config_handle, attr_json, response_bytearray)\n",
    "\n",
    "RenderJSON(response_bytearray.decode())"
   ]
  },
  {
   "cell_type": "markdown",
   "metadata": {},
   "source": [
    "# Delete Attribute"
   ]
  },
  {
   "cell_type": "code",
   "execution_count": null,
   "metadata": {},
   "outputs": [],
   "source": [
    "input_json = \"{\\\"ATTR_CODE\\\":\\\"NAME_FIRST\\\"}\"\n",
    "return_code = g2_config.deleteAttributeV2(config_handle, input_json)\n",
    "\n",
    "RenderJSON(return_code)"
   ]
  }
 ],
 "metadata": {
  "kernelspec": {
   "display_name": "Python 3",
   "language": "python",
   "name": "python3"
  },
  "language_info": {
   "codemirror_mode": {
    "name": "ipython",
    "version": 3
   },
   "file_extension": ".py",
   "mimetype": "text/x-python",
   "name": "python",
   "nbconvert_exporter": "python",
   "pygments_lexer": "ipython3",
   "version": "3.6.8"
  }
 },
 "nbformat": 4,
 "nbformat_minor": 2
}
