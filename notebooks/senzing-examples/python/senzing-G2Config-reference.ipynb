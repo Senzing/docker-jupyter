{
 "cells": [
  {
   "cell_type": "markdown",
   "metadata": {},
   "source": [
    "# G2Config Guide - Add DataSource\n",
    "\n",
    "The `addDataSource()` method adds a datasource to the list of accepted datasources.\n",
    "\n",
    "More information:\n",
    "\n",
    "1. [GitHub repository](https://github.com/Senzing/docker-jupyter)\n",
    "1. [Senzing documentation](http://docs.senzing.com/?python#g2config)\n",
    "1. [G2Config Reference](senzing-G2Config-reference.ipynb)"
   ]
  },
  {
   "cell_type": "code",
   "execution_count": 1,
   "metadata": {},
   "outputs": [],
   "source": [
    "import os\n",
    "import sys\n",
    "import json\n",
    "\n",
    "# For RenderJSON\n",
    "\n",
    "import uuid\n",
    "from IPython.display import display_javascript, display_html, display"
   ]
  },
  {
   "cell_type": "code",
   "execution_count": 2,
   "metadata": {},
   "outputs": [],
   "source": [
    "class RenderJSON(object):\n",
    "    def __init__(self, json_data):\n",
    "        if isinstance(json_data, dict):\n",
    "            self.json_str = json.dumps(json_data)\n",
    "        elif isinstance(json_data, bytearray):\n",
    "            self.json_str = json_data.decode()\n",
    "        else:\n",
    "            self.json_str = json_data\n",
    "        self.uuid = str(uuid.uuid4())\n",
    "\n",
    "    def _ipython_display_(self):\n",
    "        display_html('<div id=\"{}\" style=\"height:100%; width:100%; background-color: LightCyan\"></div>'.format(self.uuid), raw=True)\n",
    "        display_javascript(\"\"\"\n",
    "        require([\"https://rawgit.com/caldwell/renderjson/master/renderjson.js\"], function() {\n",
    "        document.getElementById('%s').appendChild(renderjson(%s))\n",
    "        });\n",
    "        \"\"\" % (self.uuid, self.json_str), raw=True)"
   ]
  },
  {
   "cell_type": "markdown",
   "metadata": {},
   "source": [
    "## Initialize variables\n",
    "\n",
    "Create variables used in `addDataSource()`."
   ]
  },
  {
   "cell_type": "code",
   "execution_count": 3,
   "metadata": {},
   "outputs": [
    {
     "name": "stdout",
     "output_type": "stream",
     "text": [
      "Default config already set\n",
      "Stored 'senzing_config_dictionary' (str)\n"
     ]
    }
   ],
   "source": [
    "%run senzing-Init.ipynb"
   ]
  },
  {
   "cell_type": "code",
   "execution_count": 4,
   "metadata": {},
   "outputs": [],
   "source": [
    "%store -r senzing_config_dictionary"
   ]
  },
  {
   "cell_type": "code",
   "execution_count": 5,
   "metadata": {},
   "outputs": [
    {
     "data": {
      "text/html": [
       "<div id=\"7cb9c72a-23e0-4fa2-ac2b-833f8f3e4212\" style=\"height:100%; width:100%; background-color: LightCyan\"></div>"
      ]
     },
     "metadata": {},
     "output_type": "display_data"
    },
    {
     "data": {
      "application/javascript": [
       "\n",
       "        require([\"https://rawgit.com/caldwell/renderjson/master/renderjson.js\"], function() {\n",
       "        document.getElementById('7cb9c72a-23e0-4fa2-ac2b-833f8f3e4212').appendChild(renderjson({\"PIPELINE\": {\"CONFIGPATH\" : \"/etc/opt/senzing\", \"SUPPORTPATH\": \"/opt/senzing/data/1.0.0\", \"RESOURCEPATH\": \"/opt/senzing/g2/resources\"}, \"SQL\": {\"CONNECTION\": \"sqlite3://na:na@/opt/senzing/g2/sqldb/G2C.db\"}}))\n",
       "        });\n",
       "        "
      ]
     },
     "metadata": {},
     "output_type": "display_data"
    }
   ],
   "source": [
    "RenderJSON(senzing_config_dictionary)"
   ]
  },
  {
   "cell_type": "code",
   "execution_count": 6,
   "metadata": {},
   "outputs": [],
   "source": [
    "python_path = \"{0}/python\".format(\n",
    "    os.environ.get(\"SENZING_G2_DIR\", \"/opt/senzing/g2\"))\n",
    "sys.path.append(python_path)"
   ]
  },
  {
   "cell_type": "markdown",
   "metadata": {},
   "source": [
    "## G2Config\n",
    "\n",
    "The G2Config API..."
   ]
  },
  {
   "cell_type": "code",
   "execution_count": 7,
   "metadata": {},
   "outputs": [],
   "source": [
    "from G2Config import G2Config"
   ]
  },
  {
   "cell_type": "markdown",
   "metadata": {},
   "source": [
    "## Initialize G2Config\n",
    "\n",
    "Details at [G2Config Initialization](senzing-G2Config-reference.ipynb#G2Config-Initialization)."
   ]
  },
  {
   "cell_type": "code",
   "execution_count": 8,
   "metadata": {},
   "outputs": [
    {
     "data": {
      "text/html": [
       "<div id=\"f2bd1f65-605e-459f-8537-8dbcde24458c\" style=\"height:100%; width:100%; background-color: LightCyan\"></div>"
      ]
     },
     "metadata": {},
     "output_type": "display_data"
    },
    {
     "data": {
      "application/javascript": [
       "\n",
       "        require([\"https://rawgit.com/caldwell/renderjson/master/renderjson.js\"], function() {\n",
       "        document.getElementById('f2bd1f65-605e-459f-8537-8dbcde24458c').appendChild(renderjson(Return Code: 0))\n",
       "        });\n",
       "        "
      ]
     },
     "metadata": {},
     "output_type": "display_data"
    }
   ],
   "source": [
    "g2_config = G2Config()\n",
    "return_code = g2_config.initV2(module_name, senzing_config_dictionary, verbose_logging)\n",
    "\n",
    "RenderJSON(\"Return Code: {0}\".format(return_code))"
   ]
  },
  {
   "cell_type": "markdown",
   "metadata": {},
   "source": [
    "## Create configuration handle\n",
    "\n",
    "Details at [G2Config.create](senzing-G2Config-reference.ipynb#create)."
   ]
  },
  {
   "cell_type": "code",
   "execution_count": 9,
   "metadata": {},
   "outputs": [],
   "source": [
    "config_handle = g2_config.create()"
   ]
  },
  {
   "cell_type": "markdown",
   "metadata": {},
   "source": [
    "## List DataSources\n",
    "\n",
    "Call G2Config's `listDataSources()` method and pretty-printsresults.\n",
    "\n",
    "Details at [G2Config.listDataSources](senzing-G2Config-reference.ipynb#listDataSources).\n"
   ]
  },
  {
   "cell_type": "code",
   "execution_count": 10,
   "metadata": {},
   "outputs": [
    {
     "data": {
      "text/html": [
       "<div id=\"8f0909a1-3870-442a-a12a-4d44866334af\" style=\"height:100%; width:100%; background-color: LightCyan\"></div>"
      ]
     },
     "metadata": {},
     "output_type": "display_data"
    },
    {
     "data": {
      "application/javascript": [
       "\n",
       "        require([\"https://rawgit.com/caldwell/renderjson/master/renderjson.js\"], function() {\n",
       "        document.getElementById('8f0909a1-3870-442a-a12a-4d44866334af').appendChild(renderjson({\"DATA_SOURCES\":[{\"DSRC_ID\":1,\"DSRC_CODE\":\"TEST\"},{\"DSRC_ID\":2,\"DSRC_CODE\":\"SEARCH\"}]}))\n",
       "        });\n",
       "        "
      ]
     },
     "metadata": {},
     "output_type": "display_data"
    }
   ],
   "source": [
    "response_bytearray = bytearray()\n",
    "\n",
    "return_code = g2_config.listDataSourcesV2(config_handle, response_bytearray)\n",
    "\n",
    "RenderJSON(response_bytearray)"
   ]
  },
  {
   "cell_type": "markdown",
   "metadata": {},
   "source": [
    "## Add DataSource\n",
    "\n",
    "Call G2Config's `addDataSource()` method and pretty-prints results.\n",
    "\n",
    "Details at [G2Config.addDataSource](senzing-G2Config-reference.ipynb#addDataSource)."
   ]
  },
  {
   "cell_type": "code",
   "execution_count": 11,
   "metadata": {
    "scrolled": true
   },
   "outputs": [
    {
     "data": {
      "text/html": [
       "<div id=\"300e7601-09b4-423a-8ea5-99fcd463af87\" style=\"height:100%; width:100%; background-color: LightCyan\"></div>"
      ]
     },
     "metadata": {},
     "output_type": "display_data"
    },
    {
     "data": {
      "application/javascript": [
       "\n",
       "        require([\"https://rawgit.com/caldwell/renderjson/master/renderjson.js\"], function() {\n",
       "        document.getElementById('300e7601-09b4-423a-8ea5-99fcd463af87').appendChild(renderjson(Return Code: 0))\n",
       "        });\n",
       "        "
      ]
     },
     "metadata": {},
     "output_type": "display_data"
    }
   ],
   "source": [
    "datasource_json = \"{\\\"DSRC_CODE\\\": \\\"CUSTOMER\\\"}\" \n",
    "\n",
    "response_bytearray = bytearray()\n",
    "\n",
    "return_code = g2_config.addDataSourceV2(config_handle, datasource_json, response_bytearray)\n",
    "\n",
    "RenderJSON(\"Return Code: {0}\".format(return_code))"
   ]
  },
  {
   "cell_type": "markdown",
   "metadata": {},
   "source": [
    "## List DataSources again\n",
    "\n",
    "Call G2Config's `listDataSources()` method and pretty-prints results.\n",
    "Notice that the list now contains the newly added datasource_code of \"CUSTOMER\".\n",
    "\n",
    "Details at [G2Config.listDataSources](senzing-G2Config-reference.ipynb#listDataSources)."
   ]
  },
  {
   "cell_type": "code",
   "execution_count": 12,
   "metadata": {},
   "outputs": [
    {
     "data": {
      "text/html": [
       "<div id=\"49a628c1-ab00-4e2e-b56f-9cdc631e765c\" style=\"height:100%; width:100%; background-color: LightCyan\"></div>"
      ]
     },
     "metadata": {},
     "output_type": "display_data"
    },
    {
     "data": {
      "application/javascript": [
       "\n",
       "        require([\"https://rawgit.com/caldwell/renderjson/master/renderjson.js\"], function() {\n",
       "        document.getElementById('49a628c1-ab00-4e2e-b56f-9cdc631e765c').appendChild(renderjson({\"DATA_SOURCES\":[{\"DSRC_ID\":1,\"DSRC_CODE\":\"TEST\"},{\"DSRC_ID\":2,\"DSRC_CODE\":\"SEARCH\"},{\"DSRC_ID\":1001,\"DSRC_CODE\":\"CUSTOMER\"}]}))\n",
       "        });\n",
       "        "
      ]
     },
     "metadata": {},
     "output_type": "display_data"
    }
   ],
   "source": [
    "response_bytearray = bytearray()\n",
    "\n",
    "return_code = g2_config.listDataSourcesV2(config_handle, response_bytearray)\n",
    "\n",
    "RenderJSON(response_bytearray.decode())"
   ]
  },
  {
   "cell_type": "markdown",
   "metadata": {},
   "source": [
    "# List Entity Classes\n",
    "Calls G2Config's `listEntityClassesV2()` method and pretty-prints results."
   ]
  },
  {
   "cell_type": "code",
   "execution_count": 13,
   "metadata": {},
   "outputs": [
    {
     "data": {
      "text/html": [
       "<div id=\"b7f2e216-14b4-4be6-936b-8a16b08e8015\" style=\"height:100%; width:100%; background-color: LightCyan\"></div>"
      ]
     },
     "metadata": {},
     "output_type": "display_data"
    },
    {
     "data": {
      "application/javascript": [
       "\n",
       "        require([\"https://rawgit.com/caldwell/renderjson/master/renderjson.js\"], function() {\n",
       "        document.getElementById('b7f2e216-14b4-4be6-936b-8a16b08e8015').appendChild(renderjson({\"ENTITY_CLASSES\":[{\"ECLASS_ID\":1,\"ECLASS_CODE\":\"ACTOR\",\"RESOLVE\":\"Yes\"},{\"ECLASS_ID\":2,\"ECLASS_CODE\":\"OBJECT\",\"RESOLVE\":\"Yes\"},{\"ECLASS_ID\":3,\"ECLASS_CODE\":\"LOCATION\",\"RESOLVE\":\"Yes\"},{\"ECLASS_ID\":4,\"ECLASS_CODE\":\"EVENT\",\"RESOLVE\":\"No\"},{\"ECLASS_ID\":5,\"ECLASS_CODE\":\"TRAN\",\"RESOLVE\":\"No\"}]}))\n",
       "        });\n",
       "        "
      ]
     },
     "metadata": {},
     "output_type": "display_data"
    }
   ],
   "source": [
    "response_bytearray = bytearray()\n",
    "\n",
    "return_code = g2_config.listEntityClassesV2(config_handle, response_bytearray)\n",
    "\n",
    "RenderJSON(response_bytearray.decode())"
   ]
  },
  {
   "cell_type": "markdown",
   "metadata": {},
   "source": [
    "# List Entity Types\n",
    "Calls G2Config's `listEntityTypesV2()` method and pretty-prints results."
   ]
  },
  {
   "cell_type": "code",
   "execution_count": 14,
   "metadata": {},
   "outputs": [
    {
     "data": {
      "text/html": [
       "<div id=\"a00953c0-42a5-4394-80ef-b95fe5311aa1\" style=\"height:100%; width:100%; background-color: LightCyan\"></div>"
      ]
     },
     "metadata": {},
     "output_type": "display_data"
    },
    {
     "data": {
      "application/javascript": [
       "\n",
       "        require([\"https://rawgit.com/caldwell/renderjson/master/renderjson.js\"], function() {\n",
       "        document.getElementById('a00953c0-42a5-4394-80ef-b95fe5311aa1').appendChild(renderjson({\"ENTITY_TYPES\":[{\"ETYPE_ID\":1,\"ETYPE_CODE\":\"TEST\",\"ECLASS_CODE\":\"ACTOR\"},{\"ETYPE_ID\":3,\"ETYPE_CODE\":\"GENERIC\",\"ECLASS_CODE\":\"ACTOR\"}]}))\n",
       "        });\n",
       "        "
      ]
     },
     "metadata": {},
     "output_type": "display_data"
    }
   ],
   "source": [
    "response_bytearray = bytearray()\n",
    "\n",
    "return_code = g2_config.listEntityTypesV2(config_handle, response_bytearray)\n",
    "\n",
    "RenderJSON(response_bytearray.decode())"
   ]
  },
  {
   "cell_type": "markdown",
   "metadata": {},
   "source": [
    "# Add Entity Class"
   ]
  },
  {
   "cell_type": "code",
   "execution_count": 15,
   "metadata": {},
   "outputs": [
    {
     "data": {
      "text/html": [
       "<div id=\"0cb5a1d9-8d91-4926-90cf-ce7b5b6d1698\" style=\"height:100%; width:100%; background-color: LightCyan\"></div>"
      ]
     },
     "metadata": {},
     "output_type": "display_data"
    },
    {
     "data": {
      "application/javascript": [
       "\n",
       "        require([\"https://rawgit.com/caldwell/renderjson/master/renderjson.js\"], function() {\n",
       "        document.getElementById('0cb5a1d9-8d91-4926-90cf-ce7b5b6d1698').appendChild(renderjson({\"ECLASS_ID\":1001}))\n",
       "        });\n",
       "        "
      ]
     },
     "metadata": {},
     "output_type": "display_data"
    }
   ],
   "source": [
    "entityclass_json = \"{\\\"ECLASS_CODE\\\": \\\"COMPANY\\\"}\" \n",
    "response_bytearray = bytearray()\n",
    "\n",
    "return_code = g2_config.addEntityClassV2(config_handle, entityclass_json, response_bytearray)\n",
    "\n",
    "RenderJSON(response_bytearray.decode())"
   ]
  },
  {
   "cell_type": "markdown",
   "metadata": {},
   "source": [
    "# List Entity Classes again"
   ]
  },
  {
   "cell_type": "code",
   "execution_count": 16,
   "metadata": {},
   "outputs": [
    {
     "data": {
      "text/html": [
       "<div id=\"55bd1853-57c5-4b78-a85e-da01ccb28fb8\" style=\"height:100%; width:100%; background-color: LightCyan\"></div>"
      ]
     },
     "metadata": {},
     "output_type": "display_data"
    },
    {
     "data": {
      "application/javascript": [
       "\n",
       "        require([\"https://rawgit.com/caldwell/renderjson/master/renderjson.js\"], function() {\n",
       "        document.getElementById('55bd1853-57c5-4b78-a85e-da01ccb28fb8').appendChild(renderjson({\"ENTITY_CLASSES\":[{\"ECLASS_ID\":1,\"ECLASS_CODE\":\"ACTOR\",\"RESOLVE\":\"Yes\"},{\"ECLASS_ID\":2,\"ECLASS_CODE\":\"OBJECT\",\"RESOLVE\":\"Yes\"},{\"ECLASS_ID\":3,\"ECLASS_CODE\":\"LOCATION\",\"RESOLVE\":\"Yes\"},{\"ECLASS_ID\":4,\"ECLASS_CODE\":\"EVENT\",\"RESOLVE\":\"No\"},{\"ECLASS_ID\":5,\"ECLASS_CODE\":\"TRAN\",\"RESOLVE\":\"No\"},{\"ECLASS_ID\":1001,\"ECLASS_CODE\":\"COMPANY\",\"RESOLVE\":\"Yes\"}]}))\n",
       "        });\n",
       "        "
      ]
     },
     "metadata": {},
     "output_type": "display_data"
    }
   ],
   "source": [
    "response_bytearray = bytearray()\n",
    "\n",
    "return_code = g2_config.listEntityClassesV2(config_handle, response_bytearray)\n",
    "\n",
    "RenderJSON(response_bytearray.decode())"
   ]
  },
  {
   "cell_type": "markdown",
   "metadata": {},
   "source": [
    "# Add Entity type"
   ]
  },
  {
   "cell_type": "code",
   "execution_count": 17,
   "metadata": {},
   "outputs": [
    {
     "data": {
      "text/html": [
       "<div id=\"32bf1e43-d8de-4f20-907b-16af70cef6b5\" style=\"height:100%; width:100%; background-color: LightCyan\"></div>"
      ]
     },
     "metadata": {},
     "output_type": "display_data"
    },
    {
     "data": {
      "application/javascript": [
       "\n",
       "        require([\"https://rawgit.com/caldwell/renderjson/master/renderjson.js\"], function() {\n",
       "        document.getElementById('32bf1e43-d8de-4f20-907b-16af70cef6b5').appendChild(renderjson({\"ETYPE_ID\":1001}))\n",
       "        });\n",
       "        "
      ]
     },
     "metadata": {},
     "output_type": "display_data"
    }
   ],
   "source": [
    "entitytype_json = \"{\\\"ETYPE_CODE\\\": \\\"PROFESSIONAL\\\", \\\"ECLASS_CODE\\\": \\\"ACTOR\\\"}\" \n",
    "response_bytearray = bytearray()\n",
    "\n",
    "return_code = g2_config.addEntityTypeV2(config_handle, entitytype_json, response_bytearray)\n",
    "\n",
    "RenderJSON(response_bytearray.decode())"
   ]
  },
  {
   "cell_type": "markdown",
   "metadata": {},
   "source": [
    "# List Entity Types again"
   ]
  },
  {
   "cell_type": "code",
   "execution_count": 18,
   "metadata": {},
   "outputs": [
    {
     "data": {
      "text/html": [
       "<div id=\"f976960b-c1c0-429b-8d08-658b83119904\" style=\"height:100%; width:100%; background-color: LightCyan\"></div>"
      ]
     },
     "metadata": {},
     "output_type": "display_data"
    },
    {
     "data": {
      "application/javascript": [
       "\n",
       "        require([\"https://rawgit.com/caldwell/renderjson/master/renderjson.js\"], function() {\n",
       "        document.getElementById('f976960b-c1c0-429b-8d08-658b83119904').appendChild(renderjson({\"ENTITY_TYPES\":[{\"ETYPE_ID\":1,\"ETYPE_CODE\":\"TEST\",\"ECLASS_CODE\":\"ACTOR\"},{\"ETYPE_ID\":3,\"ETYPE_CODE\":\"GENERIC\",\"ECLASS_CODE\":\"ACTOR\"},{\"ETYPE_ID\":1001,\"ETYPE_CODE\":\"PROFESSIONAL\",\"ECLASS_CODE\":\"ACTOR\"}]}))\n",
       "        });\n",
       "        "
      ]
     },
     "metadata": {},
     "output_type": "display_data"
    }
   ],
   "source": [
    "response_bytearray = bytearray()\n",
    "\n",
    "return_code = g2_config.listEntityTypesV2(config_handle, response_bytearray)\n",
    "\n",
    "RenderJSON(response_bytearray.decode())"
   ]
  },
  {
   "cell_type": "markdown",
   "metadata": {},
   "source": [
    "# Delete Entity Classes"
   ]
  },
  {
   "cell_type": "code",
   "execution_count": 19,
   "metadata": {},
   "outputs": [
    {
     "data": {
      "text/html": [
       "<div id=\"70bd0175-117f-4192-90a4-b2ec75a106ae\" style=\"height:100%; width:100%; background-color: LightCyan\"></div>"
      ]
     },
     "metadata": {},
     "output_type": "display_data"
    },
    {
     "data": {
      "application/javascript": [
       "\n",
       "        require([\"https://rawgit.com/caldwell/renderjson/master/renderjson.js\"], function() {\n",
       "        document.getElementById('70bd0175-117f-4192-90a4-b2ec75a106ae').appendChild(renderjson(0))\n",
       "        });\n",
       "        "
      ]
     },
     "metadata": {},
     "output_type": "display_data"
    }
   ],
   "source": [
    "entityclass_json = \"{\\\"ECLASS_CODE\\\": \\\"COMPANY\\\"}\" \n",
    "\n",
    "return_code = g2_config.deleteEntityClassV2(config_handle, entityclass_json)\n",
    "\n",
    "RenderJSON(return_code)"
   ]
  },
  {
   "cell_type": "markdown",
   "metadata": {},
   "source": [
    "# Delete Entity Types"
   ]
  },
  {
   "cell_type": "code",
   "execution_count": 20,
   "metadata": {},
   "outputs": [
    {
     "data": {
      "text/html": [
       "<div id=\"1dd2db38-e8b9-46cc-9f0d-a0d36321e365\" style=\"height:100%; width:100%; background-color: LightCyan\"></div>"
      ]
     },
     "metadata": {},
     "output_type": "display_data"
    },
    {
     "data": {
      "application/javascript": [
       "\n",
       "        require([\"https://rawgit.com/caldwell/renderjson/master/renderjson.js\"], function() {\n",
       "        document.getElementById('1dd2db38-e8b9-46cc-9f0d-a0d36321e365').appendChild(renderjson(0))\n",
       "        });\n",
       "        "
      ]
     },
     "metadata": {},
     "output_type": "display_data"
    }
   ],
   "source": [
    "entitytype_json = \"{\\\"ETYPE_CODE\\\": \\\"PROFESSIONAL\\\", \\\"ECLASS_CODE\\\": \\\"ACTOR\\\"}\" \n",
    "\n",
    "return_code = g2_config.deleteEntityTypeV2(config_handle, entitytype_json)\n",
    "\n",
    "RenderJSON(return_code)"
   ]
  },
  {
   "cell_type": "markdown",
   "metadata": {},
   "source": [
    "# List Feature Elements"
   ]
  },
  {
   "cell_type": "code",
   "execution_count": 21,
   "metadata": {
    "scrolled": true
   },
   "outputs": [
    {
     "data": {
      "text/html": [
       "<div id=\"dc1d85a0-1b4c-46b8-80c9-238911c2235f\" style=\"height:100%; width:100%; background-color: LightCyan\"></div>"
      ]
     },
     "metadata": {},
     "output_type": "display_data"
    },
    {
     "data": {
      "application/javascript": [
       "\n",
       "        require([\"https://rawgit.com/caldwell/renderjson/master/renderjson.js\"], function() {\n",
       "        document.getElementById('dc1d85a0-1b4c-46b8-80c9-238911c2235f').appendChild(renderjson({\"FEATURE_ELEMENTS\":[{\"FELEM_ID\":2,\"FELEM_CODE\":\"FULL_NAME\"},{\"FELEM_ID\":3,\"FELEM_CODE\":\"ORG_NAME\"},{\"FELEM_ID\":4,\"FELEM_CODE\":\"SUR_NAME\"},{\"FELEM_ID\":5,\"FELEM_CODE\":\"GIVEN_NAME\"},{\"FELEM_ID\":6,\"FELEM_CODE\":\"MIDDLE_NAME\"},{\"FELEM_ID\":7,\"FELEM_CODE\":\"NAME_PREFIX\"},{\"FELEM_ID\":8,\"FELEM_CODE\":\"NAME_SUFFIX\"},{\"FELEM_ID\":9,\"FELEM_CODE\":\"NAME_GEN\"},{\"FELEM_ID\":10,\"FELEM_CODE\":\"CULTURE\"},{\"FELEM_ID\":11,\"FELEM_CODE\":\"SCRIPT\"},{\"FELEM_ID\":12,\"FELEM_CODE\":\"CATEGORY\"},{\"FELEM_ID\":13,\"FELEM_CODE\":\"GENDER\"},{\"FELEM_ID\":14,\"FELEM_CODE\":\"MAKE\"},{\"FELEM_ID\":15,\"FELEM_CODE\":\"MODEL\"},{\"FELEM_ID\":16,\"FELEM_CODE\":\"COLOR\"},{\"FELEM_ID\":17,\"FELEM_CODE\":\"YEAR\"},{\"FELEM_ID\":18,\"FELEM_CODE\":\"TYPE\"},{\"FELEM_ID\":19,\"FELEM_CODE\":\"OS\"},{\"FELEM_ID\":22,\"FELEM_CODE\":\"ADDR1\"},{\"FELEM_ID\":23,\"FELEM_CODE\":\"ADDR2\"},{\"FELEM_ID\":24,\"FELEM_CODE\":\"ADDR3\"},{\"FELEM_ID\":25,\"FELEM_CODE\":\"CITY\"},{\"FELEM_ID\":26,\"FELEM_CODE\":\"STATE\"},{\"FELEM_ID\":27,\"FELEM_CODE\":\"POSTAL_CODE\"},{\"FELEM_ID\":28,\"FELEM_CODE\":\"COUNTRY\"},{\"FELEM_ID\":29,\"FELEM_CODE\":\"STR_NUM\"},{\"FELEM_ID\":30,\"FELEM_CODE\":\"STR_NAME\"},{\"FELEM_ID\":31,\"FELEM_CODE\":\"UNIT_TYPE\"},{\"FELEM_ID\":32,\"FELEM_CODE\":\"UNIT_NUM\"},{\"FELEM_ID\":33,\"FELEM_CODE\":\"PHONE_NUM\"},{\"FELEM_ID\":34,\"FELEM_CODE\":\"PHONE_EXT\"},{\"FELEM_ID\":35,\"FELEM_CODE\":\"ADDR\"},{\"FELEM_ID\":36,\"FELEM_CODE\":\"EXPRESSION\"},{\"FELEM_ID\":37,\"FELEM_CODE\":\"ID_NUM\"},{\"FELEM_ID\":38,\"FELEM_CODE\":\"ID_TYPE\"},{\"FELEM_ID\":39,\"FELEM_CODE\":\"ID_LAST4\"},{\"FELEM_ID\":40,\"FELEM_CODE\":\"ACCT_NUM\"},{\"FELEM_ID\":41,\"FELEM_CODE\":\"DSRC_CODE\"},{\"FELEM_ID\":42,\"FELEM_CODE\":\"ACCT_TYPE\"},{\"FELEM_ID\":43,\"FELEM_CODE\":\"DATE\"},{\"FELEM_ID\":44,\"FELEM_CODE\":\"YESNO_FLAG\"},{\"FELEM_ID\":45,\"FELEM_CODE\":\"CALL_SIGN\"},{\"FELEM_ID\":46,\"FELEM_CODE\":\"CODE\"},{\"FELEM_ID\":47,\"FELEM_CODE\":\"PORT\"},{\"FELEM_ID\":48,\"FELEM_CODE\":\"LENGTH\"},{\"FELEM_ID\":49,\"FELEM_CODE\":\"BEAM\"},{\"FELEM_ID\":50,\"FELEM_CODE\":\"TONNAGE\"},{\"FELEM_ID\":51,\"FELEM_CODE\":\"LATITUDE\"},{\"FELEM_ID\":52,\"FELEM_CODE\":\"LONGITUDE\"},{\"FELEM_ID\":53,\"FELEM_CODE\":\"TIME\"},{\"FELEM_ID\":54,\"FELEM_CODE\":\"REL_KEY\"},{\"FELEM_ID\":55,\"FELEM_CODE\":\"REL_TYPE\"},{\"FELEM_ID\":56,\"FELEM_CODE\":\"LOGIN_ID\"},{\"FELEM_ID\":57,\"FELEM_CODE\":\"LOGIN_DOMAIN\"},{\"FELEM_ID\":58,\"FELEM_CODE\":\"ACCT_DOMAIN\"},{\"FELEM_ID\":59,\"FELEM_CODE\":\"AMOUNT\"},{\"FELEM_ID\":60,\"FELEM_CODE\":\"PHONE_LAST_10\"},{\"FELEM_ID\":61,\"FELEM_CODE\":\"PHONE_LAST_5\"},{\"FELEM_ID\":62,\"FELEM_CODE\":\"DATE_YEAR\"},{\"FELEM_ID\":63,\"FELEM_CODE\":\"DATE_MONTH\"},{\"FELEM_ID\":64,\"FELEM_CODE\":\"DATE_DAY\"},{\"FELEM_ID\":65,\"FELEM_CODE\":\"STR_NAME_METAPHONE\"},{\"FELEM_ID\":66,\"FELEM_CODE\":\"CITY_METAPHONE\"},{\"FELEM_ID\":69,\"FELEM_CODE\":\"ID_NUM_STD\"},{\"FELEM_ID\":71,\"FELEM_CODE\":\"DATE_HASH\"},{\"FELEM_ID\":72,\"FELEM_CODE\":\"STR_NAME_STD\"},{\"FELEM_ID\":73,\"FELEM_CODE\":\"CITY_STD\"},{\"FELEM_ID\":74,\"FELEM_CODE\":\"POSTAL_5\"},{\"FELEM_ID\":75,\"FELEM_CODE\":\"GEO_PRECISION\"},{\"FELEM_ID\":76,\"FELEM_CODE\":\"TIME_PRECISION\"},{\"FELEM_ID\":77,\"FELEM_CODE\":\"ALL_NM\"},{\"FELEM_ID\":78,\"FELEM_CODE\":\"ALL_META\"},{\"FELEM_ID\":79,\"FELEM_CODE\":\"NM_PAIR\"},{\"FELEM_ID\":81,\"FELEM_CODE\":\"ORIG_GN\"},{\"FELEM_ID\":83,\"FELEM_CODE\":\"META_GN\"},{\"FELEM_ID\":84,\"FELEM_CODE\":\"ORIG_SN\"},{\"FELEM_ID\":86,\"FELEM_CODE\":\"META_SN\"},{\"FELEM_ID\":87,\"FELEM_CODE\":\"ORIG_ON\"},{\"FELEM_ID\":89,\"FELEM_CODE\":\"META_ON\"},{\"FELEM_ID\":91,\"FELEM_CODE\":\"STD_PRE\"},{\"FELEM_ID\":92,\"FELEM_CODE\":\"STD_SUF\"},{\"FELEM_ID\":93,\"FELEM_CODE\":\"STD_GEN\"},{\"FELEM_ID\":94,\"FELEM_CODE\":\"ORIG_FN\"},{\"FELEM_ID\":96,\"FELEM_CODE\":\"META_FN\"},{\"FELEM_ID\":97,\"FELEM_CODE\":\"ISSUE_DATE\"},{\"FELEM_ID\":98,\"FELEM_CODE\":\"EXPIRE_DATE\"},{\"FELEM_ID\":99,\"FELEM_CODE\":\"VALUE\"},{\"FELEM_ID\":100,\"FELEM_CODE\":\"ADDR_FULL\"},{\"FELEM_ID\":101,\"FELEM_CODE\":\"ADDR4\"},{\"FELEM_ID\":102,\"FELEM_CODE\":\"ADDR5\"},{\"FELEM_ID\":103,\"FELEM_CODE\":\"ADDR6\"},{\"FELEM_ID\":104,\"FELEM_CODE\":\"LATLONG\"},{\"FELEM_ID\":105,\"FELEM_CODE\":\"STB6\"},{\"FELEM_ID\":106,\"FELEM_CODE\":\"STB7\"},{\"FELEM_ID\":107,\"FELEM_CODE\":\"STB8\"},{\"FELEM_ID\":108,\"FELEM_CODE\":\"LIBPOSTAL_PARSE\"},{\"FELEM_ID\":109,\"FELEM_CODE\":\"PHONE_AREA_CODE\"},{\"FELEM_ID\":110,\"FELEM_CODE\":\"AMBIGUOUS_FTYPE_ID\"},{\"FELEM_ID\":111,\"FELEM_CODE\":\"AMBIGUOUS_TIER\"},{\"FELEM_ID\":112,\"FELEM_CODE\":\"MMYY_HASH\"},{\"FELEM_ID\":113,\"FELEM_CODE\":\"MMDD_HASH\"},{\"FELEM_ID\":114,\"FELEM_CODE\":\"AMBIGUOUS_SUPRESSED_LIBFEAT\"},{\"FELEM_ID\":115,\"FELEM_CODE\":\"AMBIGUOUS_TYPE\"},{\"FELEM_ID\":116,\"FELEM_CODE\":\"PLACE\"},{\"FELEM_ID\":117,\"FELEM_CODE\":\"COUNTRY_CODE\"},{\"FELEM_ID\":118,\"FELEM_CODE\":\"TOKENIZED_NM\"},{\"FELEM_ID\":119,\"FELEM_CODE\":\"USER_NAME\"},{\"FELEM_ID\":120,\"FELEM_CODE\":\"DOMAIN_NAME\"},{\"FELEM_ID\":121,\"FELEM_CODE\":\"ADDR_STD\"}]}))\n",
       "        });\n",
       "        "
      ]
     },
     "metadata": {},
     "output_type": "display_data"
    }
   ],
   "source": [
    "response_bytearray = bytearray()\n",
    "\n",
    "g2_config.listFeatureElementsV2(config_handle, response_bytearray)\n",
    "\n",
    "RenderJSON(response_bytearray.decode())"
   ]
  },
  {
   "cell_type": "markdown",
   "metadata": {},
   "source": [
    "# Get Feature Element"
   ]
  },
  {
   "cell_type": "code",
   "execution_count": 22,
   "metadata": {},
   "outputs": [
    {
     "data": {
      "text/html": [
       "<div id=\"7b7b4e4f-a5e1-4d81-b138-1dc5c1ad38ef\" style=\"height:100%; width:100%; background-color: LightCyan\"></div>"
      ]
     },
     "metadata": {},
     "output_type": "display_data"
    },
    {
     "data": {
      "application/javascript": [
       "\n",
       "        require([\"https://rawgit.com/caldwell/renderjson/master/renderjson.js\"], function() {\n",
       "        document.getElementById('7b7b4e4f-a5e1-4d81-b138-1dc5c1ad38ef').appendChild(renderjson({\"FELEM_ID\":5,\"FELEM_CODE\":\"GIVEN_NAME\",\"TOKENIZE\":\"No\",\"DATA_TYPE\":\"string\"}))\n",
       "        });\n",
       "        "
      ]
     },
     "metadata": {},
     "output_type": "display_data"
    }
   ],
   "source": [
    "response_bytearray = bytearray()\n",
    "featureElm_json=\"{\\\"FELEM_CODE\\\":\\\"GIVEN_NAME\\\"}\"\n",
    "\n",
    "return_code = g2_config.getFeatureElementV2(config_handle, featureElm_json, response_bytearray)\n",
    "\n",
    "RenderJSON(response_bytearray.decode())"
   ]
  },
  {
   "cell_type": "markdown",
   "metadata": {},
   "source": [
    "# Add Feature Element"
   ]
  },
  {
   "cell_type": "code",
   "execution_count": 23,
   "metadata": {},
   "outputs": [
    {
     "data": {
      "text/html": [
       "<div id=\"afbc6135-3636-481b-9f23-bc58c6617eae\" style=\"height:100%; width:100%; background-color: LightCyan\"></div>"
      ]
     },
     "metadata": {},
     "output_type": "display_data"
    },
    {
     "data": {
      "application/javascript": [
       "\n",
       "        require([\"https://rawgit.com/caldwell/renderjson/master/renderjson.js\"], function() {\n",
       "        document.getElementById('afbc6135-3636-481b-9f23-bc58c6617eae').appendChild(renderjson({\"FELEM_ID\":789}))\n",
       "        });\n",
       "        "
      ]
     },
     "metadata": {},
     "output_type": "display_data"
    }
   ],
   "source": [
    "response_bytearray = bytearray()\n",
    "featureElm_json = \"{\\\"FELEM_CODE\\\":\\\"myNewFelem\\\",\\\"FELEM_ID\\\":789,\\\"TOKENIZE\\\":1,\\\"DATA_TYPE\\\":\\\"string\\\"}\"\n",
    "\n",
    "return_code = g2_config.addFeatureElementV2(config_handle, featureElm_json, response_bytearray)\n",
    "\n",
    "RenderJSON(response_bytearray.decode())"
   ]
  },
  {
   "cell_type": "markdown",
   "metadata": {},
   "source": [
    "# Delete Feature Element"
   ]
  },
  {
   "cell_type": "code",
   "execution_count": 24,
   "metadata": {},
   "outputs": [
    {
     "data": {
      "text/html": [
       "<div id=\"52bb8c66-4dfd-4ce1-812e-da3b62279646\" style=\"height:100%; width:100%; background-color: LightCyan\"></div>"
      ]
     },
     "metadata": {},
     "output_type": "display_data"
    },
    {
     "data": {
      "application/javascript": [
       "\n",
       "        require([\"https://rawgit.com/caldwell/renderjson/master/renderjson.js\"], function() {\n",
       "        document.getElementById('52bb8c66-4dfd-4ce1-812e-da3b62279646').appendChild(renderjson(0))\n",
       "        });\n",
       "        "
      ]
     },
     "metadata": {},
     "output_type": "display_data"
    }
   ],
   "source": [
    "featureElm_json = \"{\\\"FELEM_CODE\\\":\\\"myNewFelem\\\"}\"\n",
    "return_code = g2_config.deleteFeatureElementV2(config_handle, featureElm_json)\n",
    "\n",
    "RenderJSON(return_code)"
   ]
  },
  {
   "cell_type": "markdown",
   "metadata": {},
   "source": [
    "# List Feature Classes"
   ]
  },
  {
   "cell_type": "code",
   "execution_count": 25,
   "metadata": {},
   "outputs": [
    {
     "data": {
      "text/html": [
       "<div id=\"21283d40-0265-480e-bf59-7b85da6cbcc5\" style=\"height:100%; width:100%; background-color: LightCyan\"></div>"
      ]
     },
     "metadata": {},
     "output_type": "display_data"
    },
    {
     "data": {
      "application/javascript": [
       "\n",
       "        require([\"https://rawgit.com/caldwell/renderjson/master/renderjson.js\"], function() {\n",
       "        document.getElementById('21283d40-0265-480e-bf59-7b85da6cbcc5').appendChild(renderjson({\"FEATURE_CLASSES\":[{\"FCLASS_ID\":1,\"FCLASS_CODE\":\"NAME\"},{\"FCLASS_ID\":2,\"FCLASS_CODE\":\"BIO_DATE\"},{\"FCLASS_ID\":3,\"FCLASS_CODE\":\"BIO_FEATURE\"},{\"FCLASS_ID\":4,\"FCLASS_CODE\":\"POSTAL_ADDRESS\"},{\"FCLASS_ID\":5,\"FCLASS_CODE\":\"PHONE\"},{\"FCLASS_ID\":6,\"FCLASS_CODE\":\"ELECTED_ID\"},{\"FCLASS_ID\":7,\"FCLASS_CODE\":\"ISSUED_ID\"},{\"FCLASS_ID\":8,\"FCLASS_CODE\":\"PARTIAL_ID\"},{\"FCLASS_ID\":9,\"FCLASS_CODE\":\"OTHER\"},{\"FCLASS_ID\":10,\"FCLASS_CODE\":\"INTERNAL_USE\"},{\"FCLASS_ID\":11,\"FCLASS_CODE\":\"SPACE_TIME\"},{\"FCLASS_ID\":12,\"FCLASS_CODE\":\"RELATIONSHIP\"}]}))\n",
       "        });\n",
       "        "
      ]
     },
     "metadata": {},
     "output_type": "display_data"
    }
   ],
   "source": [
    "response_bytearray = bytearray()\n",
    "\n",
    "return_code = g2_config.listFeatureClassesV2(config_handle, response_bytearray)\n",
    "\n",
    "RenderJSON(response_bytearray.decode())"
   ]
  },
  {
   "cell_type": "markdown",
   "metadata": {},
   "source": [
    "# List Features"
   ]
  },
  {
   "cell_type": "code",
   "execution_count": 26,
   "metadata": {
    "scrolled": true
   },
   "outputs": [
    {
     "data": {
      "text/html": [
       "<div id=\"3599aec6-5a1d-412d-a86a-05d380f05067\" style=\"height:100%; width:100%; background-color: LightCyan\"></div>"
      ]
     },
     "metadata": {},
     "output_type": "display_data"
    },
    {
     "data": {
      "application/javascript": [
       "\n",
       "        require([\"https://rawgit.com/caldwell/renderjson/master/renderjson.js\"], function() {\n",
       "        document.getElementById('3599aec6-5a1d-412d-a86a-05d380f05067').appendChild(renderjson({\"FEATURE_TYPES\":[{\"FTYPE_ID\":1,\"FTYPE_CODE\":\"NAME\"},{\"FTYPE_ID\":2,\"FTYPE_CODE\":\"DOB\"},{\"FTYPE_ID\":3,\"FTYPE_CODE\":\"DOD\"},{\"FTYPE_ID\":4,\"FTYPE_CODE\":\"GENDER\"},{\"FTYPE_ID\":5,\"FTYPE_CODE\":\"ADDRESS\"},{\"FTYPE_ID\":6,\"FTYPE_CODE\":\"PHONE\"},{\"FTYPE_ID\":7,\"FTYPE_CODE\":\"SSN\"},{\"FTYPE_ID\":8,\"FTYPE_CODE\":\"SSN_LAST4\"},{\"FTYPE_ID\":9,\"FTYPE_CODE\":\"DRLIC\"},{\"FTYPE_ID\":10,\"FTYPE_CODE\":\"PASSPORT\"},{\"FTYPE_ID\":11,\"FTYPE_CODE\":\"TAX_ID\"},{\"FTYPE_ID\":12,\"FTYPE_CODE\":\"NATIONAL_ID\"},{\"FTYPE_ID\":13,\"FTYPE_CODE\":\"LOGIN_ID\"},{\"FTYPE_ID\":14,\"FTYPE_CODE\":\"EMAIL\"},{\"FTYPE_ID\":15,\"FTYPE_CODE\":\"WEBSITE\"},{\"FTYPE_ID\":16,\"FTYPE_CODE\":\"ACCT_NUM\"},{\"FTYPE_ID\":17,\"FTYPE_CODE\":\"GROUPER_KEY\"},{\"FTYPE_ID\":18,\"FTYPE_CODE\":\"NAME_KEY\"},{\"FTYPE_ID\":19,\"FTYPE_CODE\":\"ADDR_KEY\"},{\"FTYPE_ID\":20,\"FTYPE_CODE\":\"ID_KEY\"},{\"FTYPE_ID\":21,\"FTYPE_CODE\":\"PHONE_KEY\"},{\"FTYPE_ID\":22,\"FTYPE_CODE\":\"SEARCH_KEY\"},{\"FTYPE_ID\":23,\"FTYPE_CODE\":\"REL_LINK\"},{\"FTYPE_ID\":24,\"FTYPE_CODE\":\"GEO_LOC\"},{\"FTYPE_ID\":26,\"FTYPE_CODE\":\"STB_KEY\"},{\"FTYPE_ID\":27,\"FTYPE_CODE\":\"INTERESTING_ENTITY\"},{\"FTYPE_ID\":28,\"FTYPE_CODE\":\"CONFUSED_ENTITY\"},{\"FTYPE_ID\":29,\"FTYPE_CODE\":\"ACCT_TYPE\"},{\"FTYPE_ID\":30,\"FTYPE_CODE\":\"STATUS\"},{\"FTYPE_ID\":31,\"FTYPE_CODE\":\"STATUS_DATE\"},{\"FTYPE_ID\":32,\"FTYPE_CODE\":\"CREATE_DATE\"},{\"FTYPE_ID\":33,\"FTYPE_CODE\":\"LAST_ACT_DATE\"},{\"FTYPE_ID\":34,\"FTYPE_CODE\":\"CURRENT_BAL\"},{\"FTYPE_ID\":35,\"FTYPE_CODE\":\"CREDIT_LIMIT\"},{\"FTYPE_ID\":36,\"FTYPE_CODE\":\"VEH_VIN\"},{\"FTYPE_ID\":37,\"FTYPE_CODE\":\"VEH_LIC_PLATE\"},{\"FTYPE_ID\":38,\"FTYPE_CODE\":\"VEH_MAKE\"},{\"FTYPE_ID\":39,\"FTYPE_CODE\":\"VEH_MODEL\"},{\"FTYPE_ID\":40,\"FTYPE_CODE\":\"VEH_COLOR\"},{\"FTYPE_ID\":41,\"FTYPE_CODE\":\"VEH_YEAR\"},{\"FTYPE_ID\":42,\"FTYPE_CODE\":\"IMO_NUM\"},{\"FTYPE_ID\":43,\"FTYPE_CODE\":\"MMSI_NUM\"},{\"FTYPE_ID\":44,\"FTYPE_CODE\":\"CALL_SIGN\"},{\"FTYPE_ID\":45,\"FTYPE_CODE\":\"FLAG_CODE\"},{\"FTYPE_ID\":46,\"FTYPE_CODE\":\"REG_PORT\"},{\"FTYPE_ID\":47,\"FTYPE_CODE\":\"VESSEL_TYPE\"},{\"FTYPE_ID\":48,\"FTYPE_CODE\":\"VESSEL_LENGTH\"},{\"FTYPE_ID\":49,\"FTYPE_CODE\":\"VESSEL_BEAM\"},{\"FTYPE_ID\":50,\"FTYPE_CODE\":\"GROSS_TONNAGE\"},{\"FTYPE_ID\":51,\"FTYPE_CODE\":\"NET_TONNAGE\"},{\"FTYPE_ID\":52,\"FTYPE_CODE\":\"OTHER_ID\"},{\"FTYPE_ID\":53,\"FTYPE_CODE\":\"TRUSTED_ID\"},{\"FTYPE_ID\":54,\"FTYPE_CODE\":\"CITIZENSHIP\"},{\"FTYPE_ID\":55,\"FTYPE_CODE\":\"NATIONALITY\"},{\"FTYPE_ID\":56,\"FTYPE_CODE\":\"PHYSICAL_ATTRIBUTE\"},{\"FTYPE_ID\":57,\"FTYPE_CODE\":\"GROUP_ASSOCIATION\"},{\"FTYPE_ID\":58,\"FTYPE_CODE\":\"AMBIGUOUS_ENTITY\"},{\"FTYPE_ID\":59,\"FTYPE_CODE\":\"EMPLOYER\"},{\"FTYPE_ID\":60,\"FTYPE_CODE\":\"LINKEDIN\"},{\"FTYPE_ID\":61,\"FTYPE_CODE\":\"FACEBOOK\"},{\"FTYPE_ID\":62,\"FTYPE_CODE\":\"TWITTER\"},{\"FTYPE_ID\":63,\"FTYPE_CODE\":\"SKYPE\"},{\"FTYPE_ID\":64,\"FTYPE_CODE\":\"ZOOMROOM\"},{\"FTYPE_ID\":65,\"FTYPE_CODE\":\"INSTAGRAM\"},{\"FTYPE_ID\":66,\"FTYPE_CODE\":\"WHATSAPP\"},{\"FTYPE_ID\":67,\"FTYPE_CODE\":\"SIGNAL\"},{\"FTYPE_ID\":68,\"FTYPE_CODE\":\"TELEGRAM\"},{\"FTYPE_ID\":69,\"FTYPE_CODE\":\"TANGO\"},{\"FTYPE_ID\":70,\"FTYPE_CODE\":\"VIBER\"},{\"FTYPE_ID\":71,\"FTYPE_CODE\":\"WECHAT\"},{\"FTYPE_ID\":72,\"FTYPE_CODE\":\"RECORD_TYPE\"},{\"FTYPE_ID\":74,\"FTYPE_CODE\":\"PLACE_OF_BIRTH\"},{\"FTYPE_ID\":75,\"FTYPE_CODE\":\"REGISTRATION_DATE\"},{\"FTYPE_ID\":76,\"FTYPE_CODE\":\"REGISTRATION_COUNTRY\"},{\"FTYPE_ID\":77,\"FTYPE_CODE\":\"GROUP_ASSN_ID\"},{\"FTYPE_ID\":78,\"FTYPE_CODE\":\"DUNS_NUMBER\"},{\"FTYPE_ID\":79,\"FTYPE_CODE\":\"NPI_NUMBER\"},{\"FTYPE_ID\":80,\"FTYPE_CODE\":\"LEI_NUMBER\"},{\"FTYPE_ID\":81,\"FTYPE_CODE\":\"CK_NAME_DOB_COUNTRY\"},{\"FTYPE_ID\":82,\"FTYPE_CODE\":\"CK_NAME_DOB\"},{\"FTYPE_ID\":83,\"FTYPE_CODE\":\"CK_NAME_COUNTRY\"},{\"FTYPE_ID\":84,\"FTYPE_CODE\":\"CK_NAME_GROUPNAME\"},{\"FTYPE_ID\":85,\"FTYPE_CODE\":\"CK_NAME_GROUPID\"},{\"FTYPE_ID\":86,\"FTYPE_CODE\":\"COUNTRY_OF_ASSOCIATION\"},{\"FTYPE_ID\":87,\"FTYPE_CODE\":\"MOBILE_AD_ID\"}]}))\n",
       "        });\n",
       "        "
      ]
     },
     "metadata": {},
     "output_type": "display_data"
    }
   ],
   "source": [
    "response_bytearray = bytearray()\n",
    "\n",
    "return_code = g2_config.listFeaturesV2(config_handle, response_bytearray)\n",
    "\n",
    "RenderJSON(response_bytearray.decode())"
   ]
  },
  {
   "cell_type": "markdown",
   "metadata": {},
   "source": [
    "# Get Feature"
   ]
  },
  {
   "cell_type": "code",
   "execution_count": 27,
   "metadata": {},
   "outputs": [
    {
     "data": {
      "text/html": [
       "<div id=\"03c022c3-230e-4f94-9aeb-c677c4fbaaa6\" style=\"height:100%; width:100%; background-color: LightCyan\"></div>"
      ]
     },
     "metadata": {},
     "output_type": "display_data"
    },
    {
     "data": {
      "application/javascript": [
       "\n",
       "        require([\"https://rawgit.com/caldwell/renderjson/master/renderjson.js\"], function() {\n",
       "        document.getElementById('03c022c3-230e-4f94-9aeb-c677c4fbaaa6').appendChild(renderjson({\"FTYPE_ID\":1,\"FTYPE_CODE\":\"NAME\",\"FCLASS_CODE\":\"NAME\",\"BEHAVIOR\":\"NAME\",\"USED_FOR_CAND\":\"No\",\"RTYPE_CODE\":\"\",\"ANONYMIZE\":\"No\",\"VERSION\":2,\"FEATURE_ELEMENTS\":[{\"FELEM_CODE\":\"FULL_NAME\"},{\"FELEM_CODE\":\"ORG_NAME\"},{\"FELEM_CODE\":\"SUR_NAME\"},{\"FELEM_CODE\":\"GIVEN_NAME\"},{\"FELEM_CODE\":\"MIDDLE_NAME\"},{\"FELEM_CODE\":\"NAME_PREFIX\"},{\"FELEM_CODE\":\"NAME_SUFFIX\"},{\"FELEM_CODE\":\"NAME_GEN\"},{\"FELEM_CODE\":\"CULTURE\"},{\"FELEM_CODE\":\"SCRIPT\"},{\"FELEM_CODE\":\"CATEGORY\"},{\"FELEM_CODE\":\"ALL_NM\"},{\"FELEM_CODE\":\"ALL_META\"},{\"FELEM_CODE\":\"NM_PAIR\"},{\"FELEM_CODE\":\"ORIG_GN\"},{\"FELEM_CODE\":\"META_GN\"},{\"FELEM_CODE\":\"ORIG_SN\"},{\"FELEM_CODE\":\"META_SN\"},{\"FELEM_CODE\":\"ORIG_ON\"},{\"FELEM_CODE\":\"META_ON\"},{\"FELEM_CODE\":\"STD_PRE\"},{\"FELEM_CODE\":\"STD_SUF\"},{\"FELEM_CODE\":\"STD_GEN\"},{\"FELEM_CODE\":\"ORIG_FN\"},{\"FELEM_CODE\":\"META_FN\"},{\"FELEM_CODE\":\"TOKENIZED_NM\"}],\"STANDARDIZE_FUNCS\":[{\"SFCALL_ID\":1,\"SFUNC_CODE\":\"PARSE_NAME\",\"FTYPE_CODE\":\"NAME\",\"FELEM_CODE\":\"\",\"EXEC_ORDER\":1},{\"SFCALL_ID\":20,\"SFUNC_CODE\":\"TOKENIZE_NAME\",\"FTYPE_CODE\":\"NAME\",\"FELEM_CODE\":\"\",\"EXEC_ORDER\":50}],\"EXPRESSION_FUNCS\":[{\"EFCALL_ID\":7,\"EFUNC_CODE\":\"NAME_HASHER\",\"FTYPE_CODE\":\"NAME\",\"FELEM_CODE\":\"\",\"EXEC_ORDER\":2}],\"COMPARISON_FUNCS\":[{\"CFCALL_ID\":1,\"CFUNC_CODE\":\"GNR_COMP\"}],\"DISTINCT_FUNCS\":[{\"DFCALL_ID\":1,\"DFUNC_CODE\":\"PARTIAL_NAMES\"}]}))\n",
       "        });\n",
       "        "
      ]
     },
     "metadata": {},
     "output_type": "display_data"
    }
   ],
   "source": [
    "response_bytearray = bytearray()\n",
    "feature_json =  \"{\\\"FTYPE_CODE\\\":\\\"name\\\"}\"\n",
    "return_code = g2_config.getFeatureV2(config_handle, feature_json, response_bytearray)\n",
    "\n",
    "RenderJSON(response_bytearray.decode())"
   ]
  },
  {
   "cell_type": "markdown",
   "metadata": {},
   "source": [
    "# Add Feature"
   ]
  },
  {
   "cell_type": "code",
   "execution_count": 28,
   "metadata": {},
   "outputs": [
    {
     "data": {
      "text/html": [
       "<div id=\"34d84391-2a82-4b60-9024-47213eecf84c\" style=\"height:100%; width:100%; background-color: LightCyan\"></div>"
      ]
     },
     "metadata": {},
     "output_type": "display_data"
    },
    {
     "data": {
      "application/javascript": [
       "\n",
       "        require([\"https://rawgit.com/caldwell/renderjson/master/renderjson.js\"], function() {\n",
       "        document.getElementById('34d84391-2a82-4b60-9024-47213eecf84c').appendChild(renderjson({\"FTYPE_ID\":789}))\n",
       "        });\n",
       "        "
      ]
     },
     "metadata": {},
     "output_type": "display_data"
    }
   ],
   "source": [
    "response_bytearray = bytearray()\n",
    "feature_json = \"{\\\"FTYPE_CODE\\\":\\\"myNewFtype\\\",\\\"FTYPE_ID\\\":789,\\\"FCLASS_CODE\\\":\\\"ELECTED_ID\\\",\\\"FTYPE_FREQ\\\":\\\"FF\\\", \\\"FEATURE_ELEMENTS\\\":[{\\\"FELEM_CODE\\\":\\\"expression\\\"}]}\"\n",
    "\n",
    "return_code = g2_config.addFeatureV2(config_handle, feature_json, response_bytearray)\n",
    "\n",
    "RenderJSON(response_bytearray.decode())"
   ]
  },
  {
   "cell_type": "markdown",
   "metadata": {},
   "source": [
    "# Delete Feature"
   ]
  },
  {
   "cell_type": "code",
   "execution_count": 29,
   "metadata": {},
   "outputs": [
    {
     "data": {
      "text/html": [
       "<div id=\"a51ba88f-f7e0-42be-8215-cfbb550d8963\" style=\"height:100%; width:100%; background-color: LightCyan\"></div>"
      ]
     },
     "metadata": {},
     "output_type": "display_data"
    },
    {
     "data": {
      "application/javascript": [
       "\n",
       "        require([\"https://rawgit.com/caldwell/renderjson/master/renderjson.js\"], function() {\n",
       "        document.getElementById('a51ba88f-f7e0-42be-8215-cfbb550d8963').appendChild(renderjson(0))\n",
       "        });\n",
       "        "
      ]
     },
     "metadata": {},
     "output_type": "display_data"
    }
   ],
   "source": [
    "feature_json = \"{\\\"FTYPE_CODE\\\":\\\"NAME\\\"}\"\n",
    "return_code = g2_config.deleteFeatureV2(config_handle, feature_json)\n",
    "\n",
    "RenderJSON(return_code)"
   ]
  },
  {
   "cell_type": "markdown",
   "metadata": {},
   "source": [
    "# Add Element To Feature"
   ]
  },
  {
   "cell_type": "code",
   "execution_count": 30,
   "metadata": {},
   "outputs": [
    {
     "data": {
      "text/html": [
       "<div id=\"d40225c5-dbd9-45e6-a124-4cda2e2d097e\" style=\"height:100%; width:100%; background-color: LightCyan\"></div>"
      ]
     },
     "metadata": {},
     "output_type": "display_data"
    },
    {
     "data": {
      "application/javascript": [
       "\n",
       "        require([\"https://rawgit.com/caldwell/renderjson/master/renderjson.js\"], function() {\n",
       "        document.getElementById('d40225c5-dbd9-45e6-a124-4cda2e2d097e').appendChild(renderjson(0))\n",
       "        });\n",
       "        "
      ]
     },
     "metadata": {},
     "output_type": "display_data"
    }
   ],
   "source": [
    "elmnt_json =  \"{\\\"FTYPE_CODE\\\":\\\"myNewFtype\\\", \\\"FELEM_CODE\\\":\\\"expression\\\",\\\"EXEC_ORDER\\\":4}\"\n",
    "return_code = g2_config.addElementToFeatureV2(config_handle, elmnt_json)\n",
    "\n",
    "RenderJSON(return_code)"
   ]
  },
  {
   "cell_type": "markdown",
   "metadata": {},
   "source": [
    "# Delete Element From Feature"
   ]
  },
  {
   "cell_type": "code",
   "execution_count": 31,
   "metadata": {},
   "outputs": [
    {
     "data": {
      "text/html": [
       "<div id=\"d7facaf7-4b9d-4d46-892d-3d7a3df23a6b\" style=\"height:100%; width:100%; background-color: LightCyan\"></div>"
      ]
     },
     "metadata": {},
     "output_type": "display_data"
    },
    {
     "data": {
      "application/javascript": [
       "\n",
       "        require([\"https://rawgit.com/caldwell/renderjson/master/renderjson.js\"], function() {\n",
       "        document.getElementById('d7facaf7-4b9d-4d46-892d-3d7a3df23a6b').appendChild(renderjson(0))\n",
       "        });\n",
       "        "
      ]
     },
     "metadata": {},
     "output_type": "display_data"
    }
   ],
   "source": [
    "elmnt_json = \"{\\\"FTYPE_CODE\\\":\\\"myNewFtype\\\", \\\"FELEM_CODE\\\":\\\"expression\\\"}\"\n",
    "    \n",
    "return_code = g2_config.deleteElementFromFeatureV2(config_handle, elmnt_json)\n",
    "\n",
    "RenderJSON(return_code)"
   ]
  },
  {
   "cell_type": "markdown",
   "metadata": {},
   "source": [
    "# List Feature Standardization Functions"
   ]
  },
  {
   "cell_type": "code",
   "execution_count": 32,
   "metadata": {},
   "outputs": [
    {
     "data": {
      "text/html": [
       "<div id=\"23249a0f-92d0-433c-897a-231b433f756a\" style=\"height:100%; width:100%; background-color: LightCyan\"></div>"
      ]
     },
     "metadata": {},
     "output_type": "display_data"
    },
    {
     "data": {
      "application/javascript": [
       "\n",
       "        require([\"https://rawgit.com/caldwell/renderjson/master/renderjson.js\"], function() {\n",
       "        document.getElementById('23249a0f-92d0-433c-897a-231b433f756a').appendChild(renderjson({\"FEATURE_STANDARDIZATION_FUNCTIONS\":[{\"SFUNC_ID\":1,\"SFUNC_CODE\":\"PARSE_NAME\"},{\"SFUNC_ID\":2,\"SFUNC_CODE\":\"PARSE_DOB\"},{\"SFUNC_ID\":4,\"SFUNC_CODE\":\"FORMAT_SSN\"},{\"SFUNC_ID\":6,\"SFUNC_CODE\":\"PARSE_ID\"},{\"SFUNC_ID\":7,\"SFUNC_CODE\":\"PARSE_ADDR\"},{\"SFUNC_ID\":8,\"SFUNC_CODE\":\"PARSE_PHONE\"},{\"SFUNC_ID\":9,\"SFUNC_CODE\":\"STANDARDIZE_STB\"},{\"SFUNC_ID\":10,\"SFUNC_CODE\":\"STANDARDIZE_GEOLOC\"},{\"SFUNC_ID\":11,\"SFUNC_CODE\":\"STANDARDIZE_COUNTRY\"},{\"SFUNC_ID\":12,\"SFUNC_CODE\":\"TOKENIZE_NAME\"},{\"SFUNC_ID\":13,\"SFUNC_CODE\":\"PARSE_EMAIL\"}]}))\n",
       "        });\n",
       "        "
      ]
     },
     "metadata": {},
     "output_type": "display_data"
    }
   ],
   "source": [
    "response_bytearray = bytearray()\n",
    "\n",
    "return_code = g2_config.listFeatureStandardizationFunctionsV2(config_handle, response_bytearray)\n",
    "\n",
    "RenderJSON(response_bytearray.decode())"
   ]
  },
  {
   "cell_type": "markdown",
   "metadata": {},
   "source": [
    "# List Features Standardization Function Calls"
   ]
  },
  {
   "cell_type": "code",
   "execution_count": 33,
   "metadata": {},
   "outputs": [
    {
     "data": {
      "text/html": [
       "<div id=\"5f581977-3794-4b93-b5d1-7baa449a470d\" style=\"height:100%; width:100%; background-color: LightCyan\"></div>"
      ]
     },
     "metadata": {},
     "output_type": "display_data"
    },
    {
     "data": {
      "application/javascript": [
       "\n",
       "        require([\"https://rawgit.com/caldwell/renderjson/master/renderjson.js\"], function() {\n",
       "        document.getElementById('5f581977-3794-4b93-b5d1-7baa449a470d').appendChild(renderjson({\"FEATURE_STANDARDIZATION_FUNCTION_CALLS\":[{\"SFCALL_ID\":2,\"SFUNC_CODE\":\"PARSE_DOB\",\"FTYPE_CODE\":\"DOB\",\"FELEM_CODE\":\"\"},{\"SFCALL_ID\":3,\"SFUNC_CODE\":\"PARSE_ADDR\",\"FTYPE_CODE\":\"ADDRESS\",\"FELEM_CODE\":\"\"},{\"SFCALL_ID\":4,\"SFUNC_CODE\":\"PARSE_PHONE\",\"FTYPE_CODE\":\"PHONE\",\"FELEM_CODE\":\"\"},{\"SFCALL_ID\":5,\"SFUNC_CODE\":\"FORMAT_SSN\",\"FTYPE_CODE\":\"SSN\",\"FELEM_CODE\":\"\"},{\"SFCALL_ID\":6,\"SFUNC_CODE\":\"PARSE_ID\",\"FTYPE_CODE\":\"DRLIC\",\"FELEM_CODE\":\"\"},{\"SFCALL_ID\":7,\"SFUNC_CODE\":\"PARSE_ID\",\"FTYPE_CODE\":\"PASSPORT\",\"FELEM_CODE\":\"\"},{\"SFCALL_ID\":8,\"SFUNC_CODE\":\"PARSE_ID\",\"FTYPE_CODE\":\"NATIONAL_ID\",\"FELEM_CODE\":\"\"},{\"SFCALL_ID\":9,\"SFUNC_CODE\":\"STANDARDIZE_GEOLOC\",\"FTYPE_CODE\":\"GEO_LOC\",\"FELEM_CODE\":\"\"},{\"SFCALL_ID\":10,\"SFUNC_CODE\":\"PARSE_ID\",\"FTYPE_CODE\":\"VEH_LIC_PLATE\",\"FELEM_CODE\":\"\"},{\"SFCALL_ID\":11,\"SFUNC_CODE\":\"PARSE_ID\",\"FTYPE_CODE\":\"TAX_ID\",\"FELEM_CODE\":\"\"},{\"SFCALL_ID\":12,\"SFUNC_CODE\":\"PARSE_ID\",\"FTYPE_CODE\":\"OTHER_ID\",\"FELEM_CODE\":\"\"},{\"SFCALL_ID\":13,\"SFUNC_CODE\":\"PARSE_DOB\",\"FTYPE_CODE\":\"DOD\",\"FELEM_CODE\":\"\"},{\"SFCALL_ID\":14,\"SFUNC_CODE\":\"PARSE_DOB\",\"FTYPE_CODE\":\"REGISTRATION_DATE\",\"FELEM_CODE\":\"\"},{\"SFCALL_ID\":15,\"SFUNC_CODE\":\"PARSE_ID\",\"FTYPE_CODE\":\"DUNS_NUMBER\",\"FELEM_CODE\":\"\"},{\"SFCALL_ID\":16,\"SFUNC_CODE\":\"PARSE_ID\",\"FTYPE_CODE\":\"NPI_NUMBER\",\"FELEM_CODE\":\"\"},{\"SFCALL_ID\":17,\"SFUNC_CODE\":\"PARSE_ID\",\"FTYPE_CODE\":\"LEI_NUMBER\",\"FELEM_CODE\":\"\"},{\"SFCALL_ID\":18,\"SFUNC_CODE\":\"PARSE_ID\",\"FTYPE_CODE\":\"MOBILE_AD_ID\",\"FELEM_CODE\":\"\"},{\"SFCALL_ID\":19,\"SFUNC_CODE\":\"STANDARDIZE_COUNTRY\",\"FTYPE_CODE\":\"\",\"FELEM_CODE\":\"COUNTRY\"},{\"SFCALL_ID\":21,\"SFUNC_CODE\":\"PARSE_EMAIL\",\"FTYPE_CODE\":\"EMAIL\",\"FELEM_CODE\":\"\"}]}))\n",
       "        });\n",
       "        "
      ]
     },
     "metadata": {},
     "output_type": "display_data"
    }
   ],
   "source": [
    "response_bytearray = bytearray()\n",
    "\n",
    "return_code = g2_config.listFeatureStandardizationFunctionCallsV2(config_handle, response_bytearray)\n",
    "\n",
    "RenderJSON(response_bytearray.decode())"
   ]
  },
  {
   "cell_type": "markdown",
   "metadata": {},
   "source": [
    "# Get Feature Standardization Function Call"
   ]
  },
  {
   "cell_type": "code",
   "execution_count": 34,
   "metadata": {},
   "outputs": [
    {
     "data": {
      "text/html": [
       "<div id=\"e7197d1f-f120-471e-8e02-fca1a0dc3ace\" style=\"height:100%; width:100%; background-color: LightCyan\"></div>"
      ]
     },
     "metadata": {},
     "output_type": "display_data"
    },
    {
     "data": {
      "application/javascript": [
       "\n",
       "        require([\"https://rawgit.com/caldwell/renderjson/master/renderjson.js\"], function() {\n",
       "        document.getElementById('e7197d1f-f120-471e-8e02-fca1a0dc3ace').appendChild(renderjson({\"SFCALL_ID\":4,\"SFUNC_CODE\":\"PARSE_PHONE\",\"FTYPE_CODE\":\"PHONE\",\"FELEM_CODE\":\"\",\"EXEC_ORDER\":1}))\n",
       "        });\n",
       "        "
      ]
     },
     "metadata": {},
     "output_type": "display_data"
    }
   ],
   "source": [
    "response_bytearray = bytearray()\n",
    "featureStandard_json = \"{\\\"SFCALL_ID\\\":4}\"\n",
    "return_code = g2_config.getFeatureStandardizationFunctionCallV2(config_handle, featureStandard_json, response_bytearray)\n",
    "\n",
    "RenderJSON(response_bytearray.decode())"
   ]
  },
  {
   "cell_type": "markdown",
   "metadata": {},
   "source": [
    "# Add Feature Standardization Function Call"
   ]
  },
  {
   "cell_type": "code",
   "execution_count": 35,
   "metadata": {},
   "outputs": [
    {
     "data": {
      "text/html": [
       "<div id=\"94d9fd84-e14b-481f-9855-2882739a0939\" style=\"height:100%; width:100%; background-color: LightCyan\"></div>"
      ]
     },
     "metadata": {},
     "output_type": "display_data"
    },
    {
     "data": {
      "application/javascript": [
       "\n",
       "        require([\"https://rawgit.com/caldwell/renderjson/master/renderjson.js\"], function() {\n",
       "        document.getElementById('94d9fd84-e14b-481f-9855-2882739a0939').appendChild(renderjson({\"SFCALL_ID\":789}))\n",
       "        });\n",
       "        "
      ]
     },
     "metadata": {},
     "output_type": "display_data"
    }
   ],
   "source": [
    "response_bytearray = bytearray()\n",
    "featureStandard_json = \"{\\\"FTYPE_CODE\\\":\\\"veh_vin\\\",\\\"SFCALL_ID\\\":789,\\\"SFUNC_CODE\\\":\\\"PARSE_ID\\\",\\\"EXEC_ORDER\\\":15}\"\n",
    "return_code = g2_config.addFeatureStandardizationFunctionCallV2(config_handle, featureStandard_json, response_bytearray)\n",
    "\n",
    "RenderJSON(response_bytearray.decode())"
   ]
  },
  {
   "cell_type": "markdown",
   "metadata": {},
   "source": [
    "# Delete Feature Standardization Function Call"
   ]
  },
  {
   "cell_type": "code",
   "execution_count": 36,
   "metadata": {},
   "outputs": [
    {
     "data": {
      "text/html": [
       "<div id=\"22268c14-a3e2-4725-8266-0c9773a93d6a\" style=\"height:100%; width:100%; background-color: LightCyan\"></div>"
      ]
     },
     "metadata": {},
     "output_type": "display_data"
    },
    {
     "data": {
      "application/javascript": [
       "\n",
       "        require([\"https://rawgit.com/caldwell/renderjson/master/renderjson.js\"], function() {\n",
       "        document.getElementById('22268c14-a3e2-4725-8266-0c9773a93d6a').appendChild(renderjson(0))\n",
       "        });\n",
       "        "
      ]
     },
     "metadata": {},
     "output_type": "display_data"
    }
   ],
   "source": [
    "#Get the json from the previous function\n",
    "featureStandard_json = \"{\\\"SFCALL_ID\\\":789}\"\n",
    "return_code = g2_config.deleteFeatureStandardizationFunctionCallV2(config_handle, featureStandard_json)\n",
    "\n",
    "RenderJSON(return_code)"
   ]
  },
  {
   "cell_type": "markdown",
   "metadata": {},
   "source": [
    "# List Feature Expression Functions"
   ]
  },
  {
   "cell_type": "code",
   "execution_count": 37,
   "metadata": {},
   "outputs": [
    {
     "data": {
      "text/html": [
       "<div id=\"4c80950f-2875-4930-b0d1-9731c8c036a8\" style=\"height:100%; width:100%; background-color: LightCyan\"></div>"
      ]
     },
     "metadata": {},
     "output_type": "display_data"
    },
    {
     "data": {
      "application/javascript": [
       "\n",
       "        require([\"https://rawgit.com/caldwell/renderjson/master/renderjson.js\"], function() {\n",
       "        document.getElementById('4c80950f-2875-4930-b0d1-9731c8c036a8').appendChild(renderjson({\"FEATURE_EXPRESSION_FUNCTIONS\":[{\"EFUNC_ID\":1,\"EFUNC_CODE\":\"EXPRESS_BOM\"},{\"EFUNC_ID\":2,\"EFUNC_CODE\":\"NAME_HASHER\"},{\"EFUNC_ID\":3,\"EFUNC_CODE\":\"ADDR_HASHER\"},{\"EFUNC_ID\":4,\"EFUNC_CODE\":\"PHONE_HASHER\"},{\"EFUNC_ID\":5,\"EFUNC_CODE\":\"EXPRESS_ID\"},{\"EFUNC_ID\":6,\"EFUNC_CODE\":\"STB_HASHER\"},{\"EFUNC_ID\":7,\"EFUNC_CODE\":\"FEAT_BUILDER\"}]}))\n",
       "        });\n",
       "        "
      ]
     },
     "metadata": {},
     "output_type": "display_data"
    }
   ],
   "source": [
    "response_bytearray = bytearray()\n",
    "return_code = g2_config.listFeatureExpressionFunctionsV2(config_handle, response_bytearray)\n",
    "\n",
    "RenderJSON(response_bytearray.decode())"
   ]
  },
  {
   "cell_type": "markdown",
   "metadata": {},
   "source": [
    "# List Feature Expression Function Calls"
   ]
  },
  {
   "cell_type": "code",
   "execution_count": 38,
   "metadata": {},
   "outputs": [
    {
     "data": {
      "text/html": [
       "<div id=\"a094502c-ac51-4cb5-b68d-eb7af4d9bc78\" style=\"height:100%; width:100%; background-color: LightCyan\"></div>"
      ]
     },
     "metadata": {},
     "output_type": "display_data"
    },
    {
     "data": {
      "application/javascript": [
       "\n",
       "        require([\"https://rawgit.com/caldwell/renderjson/master/renderjson.js\"], function() {\n",
       "        document.getElementById('a094502c-ac51-4cb5-b68d-eb7af4d9bc78').appendChild(renderjson({\"FEATURE_EXPRESSION_FUNCTION_CALLS\":[{\"EFCALL_ID\":1,\"EFUNC_CODE\":\"PHONE_HASHER\",\"FTYPE_CODE\":\"PHONE\",\"FELEM_CODE\":\"\"},{\"EFCALL_ID\":2,\"EFUNC_CODE\":\"EXPRESS_ID\",\"FTYPE_CODE\":\"DRLIC\",\"FELEM_CODE\":\"\"},{\"EFCALL_ID\":3,\"EFUNC_CODE\":\"EXPRESS_ID\",\"FTYPE_CODE\":\"PASSPORT\",\"FELEM_CODE\":\"\"},{\"EFCALL_ID\":4,\"EFUNC_CODE\":\"EXPRESS_ID\",\"FTYPE_CODE\":\"NATIONAL_ID\",\"FELEM_CODE\":\"\"},{\"EFCALL_ID\":5,\"EFUNC_CODE\":\"EXPRESS_BOM\",\"FTYPE_CODE\":\"LOGIN_ID\",\"FELEM_CODE\":\"\"},{\"EFCALL_ID\":8,\"EFUNC_CODE\":\"EXPRESS_ID\",\"FTYPE_CODE\":\"VEH_LIC_PLATE\",\"FELEM_CODE\":\"\"},{\"EFCALL_ID\":9,\"EFUNC_CODE\":\"ADDR_HASHER\",\"FTYPE_CODE\":\"ADDRESS\",\"FELEM_CODE\":\"\"},{\"EFCALL_ID\":10,\"EFUNC_CODE\":\"EXPRESS_BOM\",\"FTYPE_CODE\":\"SSN_LAST4\",\"FELEM_CODE\":\"\"},{\"EFCALL_ID\":11,\"EFUNC_CODE\":\"EXPRESS_ID\",\"FTYPE_CODE\":\"TAX_ID\",\"FELEM_CODE\":\"\"},{\"EFCALL_ID\":12,\"EFUNC_CODE\":\"EXPRESS_ID\",\"FTYPE_CODE\":\"OTHER_ID\",\"FELEM_CODE\":\"\"},{\"EFCALL_ID\":13,\"EFUNC_CODE\":\"STB_HASHER\",\"FTYPE_CODE\":\"GEO_LOC\",\"FELEM_CODE\":\"\"},{\"EFCALL_ID\":14,\"EFUNC_CODE\":\"EXPRESS_ID\",\"FTYPE_CODE\":\"ACCT_NUM\",\"FELEM_CODE\":\"\"},{\"EFCALL_ID\":15,\"EFUNC_CODE\":\"EXPRESS_ID\",\"FTYPE_CODE\":\"TRUSTED_ID\",\"FELEM_CODE\":\"\"},{\"EFCALL_ID\":16,\"EFUNC_CODE\":\"EXPRESS_ID\",\"FTYPE_CODE\":\"SSN\",\"FELEM_CODE\":\"\"},{\"EFCALL_ID\":17,\"EFUNC_CODE\":\"EXPRESS_BOM\",\"FTYPE_CODE\":\"LINKEDIN\",\"FELEM_CODE\":\"\"},{\"EFCALL_ID\":18,\"EFUNC_CODE\":\"EXPRESS_BOM\",\"FTYPE_CODE\":\"FACEBOOK\",\"FELEM_CODE\":\"\"},{\"EFCALL_ID\":19,\"EFUNC_CODE\":\"EXPRESS_BOM\",\"FTYPE_CODE\":\"TWITTER\",\"FELEM_CODE\":\"\"},{\"EFCALL_ID\":20,\"EFUNC_CODE\":\"EXPRESS_BOM\",\"FTYPE_CODE\":\"SKYPE\",\"FELEM_CODE\":\"\"},{\"EFCALL_ID\":21,\"EFUNC_CODE\":\"EXPRESS_BOM\",\"FTYPE_CODE\":\"ZOOMROOM\",\"FELEM_CODE\":\"\"},{\"EFCALL_ID\":22,\"EFUNC_CODE\":\"EXPRESS_BOM\",\"FTYPE_CODE\":\"INSTAGRAM\",\"FELEM_CODE\":\"\"},{\"EFCALL_ID\":23,\"EFUNC_CODE\":\"EXPRESS_BOM\",\"FTYPE_CODE\":\"WHATSAPP\",\"FELEM_CODE\":\"\"},{\"EFCALL_ID\":24,\"EFUNC_CODE\":\"EXPRESS_BOM\",\"FTYPE_CODE\":\"SIGNAL\",\"FELEM_CODE\":\"\"},{\"EFCALL_ID\":25,\"EFUNC_CODE\":\"EXPRESS_BOM\",\"FTYPE_CODE\":\"TELEGRAM\",\"FELEM_CODE\":\"\"},{\"EFCALL_ID\":26,\"EFUNC_CODE\":\"EXPRESS_BOM\",\"FTYPE_CODE\":\"TANGO\",\"FELEM_CODE\":\"\"},{\"EFCALL_ID\":27,\"EFUNC_CODE\":\"EXPRESS_BOM\",\"FTYPE_CODE\":\"VIBER\",\"FELEM_CODE\":\"\"},{\"EFCALL_ID\":28,\"EFUNC_CODE\":\"EXPRESS_BOM\",\"FTYPE_CODE\":\"WECHAT\",\"FELEM_CODE\":\"\"},{\"EFCALL_ID\":29,\"EFUNC_CODE\":\"EXPRESS_ID\",\"FTYPE_CODE\":\"DUNS_NUMBER\",\"FELEM_CODE\":\"\"},{\"EFCALL_ID\":30,\"EFUNC_CODE\":\"EXPRESS_ID\",\"FTYPE_CODE\":\"NPI_NUMBER\",\"FELEM_CODE\":\"\"},{\"EFCALL_ID\":31,\"EFUNC_CODE\":\"EXPRESS_ID\",\"FTYPE_CODE\":\"LEI_NUMBER\",\"FELEM_CODE\":\"\"},{\"EFCALL_ID\":32,\"EFUNC_CODE\":\"EXPRESS_ID\",\"FTYPE_CODE\":\"MOBILE_AD_ID\",\"FELEM_CODE\":\"\"},{\"EFCALL_ID\":33,\"EFUNC_CODE\":\"FEAT_BUILDER\",\"FTYPE_CODE\":\"\",\"FELEM_CODE\":\"COUNTRY_CODE\"}]}))\n",
       "        });\n",
       "        "
      ]
     },
     "metadata": {},
     "output_type": "display_data"
    }
   ],
   "source": [
    "response_bytearray = bytearray()\n",
    "\n",
    "return_code = g2_config.listFeatureExpressionFunctionCallsV2(config_handle, response_bytearray)\n",
    "\n",
    "RenderJSON(response_bytearray.decode())"
   ]
  },
  {
   "cell_type": "markdown",
   "metadata": {},
   "source": [
    "# Get Feature Expression Function Call"
   ]
  },
  {
   "cell_type": "code",
   "execution_count": 39,
   "metadata": {},
   "outputs": [
    {
     "data": {
      "text/html": [
       "<div id=\"e328b64c-2909-42a5-b73e-66dd5ea0a6c8\" style=\"height:100%; width:100%; background-color: LightCyan\"></div>"
      ]
     },
     "metadata": {},
     "output_type": "display_data"
    },
    {
     "data": {
      "application/javascript": [
       "\n",
       "        require([\"https://rawgit.com/caldwell/renderjson/master/renderjson.js\"], function() {\n",
       "        document.getElementById('e328b64c-2909-42a5-b73e-66dd5ea0a6c8').appendChild(renderjson({\"EFCALL_ID\":1,\"EFUNC_CODE\":\"PHONE_HASHER\",\"FTYPE_CODE\":\"PHONE\",\"FELEM_CODE\":\"\",\"EXEC_ORDER\":1,\"EFEAT_FTYPE_CODE\":\"\",\"IS_VIRTUAL\":\"No\",\"BOM_ELEMENTS\":[{\"EXEC_ORDER\":1,\"FTYPE_CODE\":\"PHONE\",\"FELEM_CODE\":\"PHONE_LAST_10\",\"FTYPE_LINK\":\"\",\"FELEM_REQ\":\"Yes\"}]}))\n",
       "        });\n",
       "        "
      ]
     },
     "metadata": {},
     "output_type": "display_data"
    }
   ],
   "source": [
    "response_bytearray = bytearray()\n",
    "featureExpress_json = \"{\\\"EFCALL_ID\\\":1}\"\n",
    "return_code = g2_config.getFeatureExpressionFunctionCallV2(config_handle, featureExpress_json, response_bytearray)\n",
    "\n",
    "RenderJSON(response_bytearray.decode())"
   ]
  },
  {
   "cell_type": "markdown",
   "metadata": {},
   "source": [
    "# Add Feature Expression Function Call"
   ]
  },
  {
   "cell_type": "code",
   "execution_count": 40,
   "metadata": {},
   "outputs": [
    {
     "data": {
      "text/html": [
       "<div id=\"86e70e88-8bd3-443c-bd20-c80e44cea8ec\" style=\"height:100%; width:100%; background-color: LightCyan\"></div>"
      ]
     },
     "metadata": {},
     "output_type": "display_data"
    },
    {
     "data": {
      "application/javascript": [
       "\n",
       "        require([\"https://rawgit.com/caldwell/renderjson/master/renderjson.js\"], function() {\n",
       "        document.getElementById('86e70e88-8bd3-443c-bd20-c80e44cea8ec').appendChild(renderjson({\"EFCALL_ID\":789}))\n",
       "        });\n",
       "        "
      ]
     },
     "metadata": {},
     "output_type": "display_data"
    }
   ],
   "source": [
    "response_bytearray = bytearray()\n",
    "featureExpress_json = \"{\\\"FTYPE_CODE\\\":\\\"veh_vin\\\",\\\"EFCALL_ID\\\":789,\\\"EFUNC_CODE\\\":\\\"EXPRESS_ID\\\",\\\"EXEC_ORDER\\\":15, \\\"BOM_ELEMENTS\\\":[{\\\"FTYPE_CODE\\\":\\\"veh_vin\\\",\\\"FELEM_CODE\\\":\\\"id_num\\\",\\\"REQUIRED\\\":\\\"Yes\\\"}]}\"\n",
    "return_code = g2_config.addFeatureExpressionFunctionCallV2(config_handle, featureExpress_json, response_bytearray)\n",
    "\n",
    "RenderJSON(response_bytearray.decode())"
   ]
  },
  {
   "cell_type": "markdown",
   "metadata": {},
   "source": [
    "# Add Feature Expression Function Call Element"
   ]
  },
  {
   "cell_type": "code",
   "execution_count": 41,
   "metadata": {},
   "outputs": [
    {
     "data": {
      "text/html": [
       "<div id=\"eeca93cd-5874-48fa-8c9a-844d4a2e1e21\" style=\"height:100%; width:100%; background-color: LightCyan\"></div>"
      ]
     },
     "metadata": {},
     "output_type": "display_data"
    },
    {
     "data": {
      "application/javascript": [
       "\n",
       "        require([\"https://rawgit.com/caldwell/renderjson/master/renderjson.js\"], function() {\n",
       "        document.getElementById('eeca93cd-5874-48fa-8c9a-844d4a2e1e21').appendChild(renderjson(0))\n",
       "        });\n",
       "        "
      ]
     },
     "metadata": {},
     "output_type": "display_data"
    }
   ],
   "source": [
    "featureExpressElm_json = \"{\\\"EFCALL_ID\\\":789, \\\"FTYPE_CODE\\\":\\\"address\\\",\\\"FELEM_CODE\\\":\\\"addr5\\\",\\\"REQUIRED\\\":\\\"Yes\\\"}\"\n",
    "return_code = g2_config.addFeatureExpressionFunctionCallElementV2(config_handle, featureExpressElm_json)\n",
    "\n",
    "RenderJSON(return_code)"
   ]
  },
  {
   "cell_type": "markdown",
   "metadata": {},
   "source": [
    "# Delete Feature Expression Function Call Element"
   ]
  },
  {
   "cell_type": "code",
   "execution_count": 42,
   "metadata": {},
   "outputs": [
    {
     "data": {
      "text/html": [
       "<div id=\"d2d9d479-cfd4-44f9-a3b1-1ceba22ae7b4\" style=\"height:100%; width:100%; background-color: LightCyan\"></div>"
      ]
     },
     "metadata": {},
     "output_type": "display_data"
    },
    {
     "data": {
      "application/javascript": [
       "\n",
       "        require([\"https://rawgit.com/caldwell/renderjson/master/renderjson.js\"], function() {\n",
       "        document.getElementById('d2d9d479-cfd4-44f9-a3b1-1ceba22ae7b4').appendChild(renderjson(0))\n",
       "        });\n",
       "        "
      ]
     },
     "metadata": {},
     "output_type": "display_data"
    }
   ],
   "source": [
    "featureExpressElm_json = \"{\\\"EFCALL_ID\\\":789, \\\"FTYPE_CODE\\\":\\\"ADDRESS\\\",\\\"FELEM_CODE\\\":\\\"ADDR5\\\"}\"\n",
    "return_code = g2_config.deleteFeatureExpressionFunctionCallElementV2(config_handle, featureExpressElm_json)\n",
    "\n",
    "RenderJSON(return_code)"
   ]
  },
  {
   "cell_type": "markdown",
   "metadata": {},
   "source": [
    "# Delete Feature Expression Function Call"
   ]
  },
  {
   "cell_type": "code",
   "execution_count": 43,
   "metadata": {},
   "outputs": [
    {
     "data": {
      "text/html": [
       "<div id=\"710d0e9d-b189-4d31-b531-5681b2432ecc\" style=\"height:100%; width:100%; background-color: LightCyan\"></div>"
      ]
     },
     "metadata": {},
     "output_type": "display_data"
    },
    {
     "data": {
      "application/javascript": [
       "\n",
       "        require([\"https://rawgit.com/caldwell/renderjson/master/renderjson.js\"], function() {\n",
       "        document.getElementById('710d0e9d-b189-4d31-b531-5681b2432ecc').appendChild(renderjson(0))\n",
       "        });\n",
       "        "
      ]
     },
     "metadata": {},
     "output_type": "display_data"
    }
   ],
   "source": [
    "#Get the json from the previous function\n",
    "featureExpress_json = \"{\\\"EFCALL_ID\\\":789}\"\n",
    "return_code = g2_config.deleteFeatureExpressionFunctionCallV2(config_handle, featureExpress_json)\n",
    "\n",
    "RenderJSON(return_code)"
   ]
  },
  {
   "cell_type": "markdown",
   "metadata": {},
   "source": [
    "# List Feature Comparison Functions"
   ]
  },
  {
   "cell_type": "code",
   "execution_count": 44,
   "metadata": {},
   "outputs": [
    {
     "data": {
      "text/html": [
       "<div id=\"928ec28b-6d54-489e-a681-586ffdd620b9\" style=\"height:100%; width:100%; background-color: LightCyan\"></div>"
      ]
     },
     "metadata": {},
     "output_type": "display_data"
    },
    {
     "data": {
      "application/javascript": [
       "\n",
       "        require([\"https://rawgit.com/caldwell/renderjson/master/renderjson.js\"], function() {\n",
       "        document.getElementById('928ec28b-6d54-489e-a681-586ffdd620b9').appendChild(renderjson({\"FEATURE_COMPARISON_FUNCTIONS\":[{\"CFUNC_ID\":1,\"CFUNC_CODE\":\"STR_COMP\"},{\"CFUNC_ID\":2,\"CFUNC_CODE\":\"GNR_COMP\"},{\"CFUNC_ID\":3,\"CFUNC_CODE\":\"EXACT_COMP\"},{\"CFUNC_ID\":4,\"CFUNC_CODE\":\"ADDR_COMP\"},{\"CFUNC_ID\":5,\"CFUNC_CODE\":\"DOB_COMP\"},{\"CFUNC_ID\":7,\"CFUNC_CODE\":\"PHONE_COMP\"},{\"CFUNC_ID\":8,\"CFUNC_CODE\":\"SSN_COMP\"},{\"CFUNC_ID\":9,\"CFUNC_CODE\":\"ID_COMP\"},{\"CFUNC_ID\":10,\"CFUNC_CODE\":\"GEOLOC_COMP\"},{\"CFUNC_ID\":11,\"CFUNC_CODE\":\"EXACT_DOMAIN_COMP\"},{\"CFUNC_ID\":12,\"CFUNC_CODE\":\"GROUP_ASSOCIATION_COMP\"},{\"CFUNC_ID\":13,\"CFUNC_CODE\":\"EMAIL_COMP\"}]}))\n",
       "        });\n",
       "        "
      ]
     },
     "metadata": {},
     "output_type": "display_data"
    }
   ],
   "source": [
    "response_bytearray = bytearray()\n",
    "\n",
    "return_code = g2_config.listFeatureComparisonFunctionsV2(config_handle, response_bytearray)\n",
    "\n",
    "RenderJSON(response_bytearray.decode())"
   ]
  },
  {
   "cell_type": "markdown",
   "metadata": {},
   "source": [
    "# List Feature Comparison FUnction Calls"
   ]
  },
  {
   "cell_type": "code",
   "execution_count": 45,
   "metadata": {
    "scrolled": true
   },
   "outputs": [
    {
     "data": {
      "text/html": [
       "<div id=\"060eaf3f-7504-4b90-9b06-4e703fcb9a72\" style=\"height:100%; width:100%; background-color: LightCyan\"></div>"
      ]
     },
     "metadata": {},
     "output_type": "display_data"
    },
    {
     "data": {
      "application/javascript": [
       "\n",
       "        require([\"https://rawgit.com/caldwell/renderjson/master/renderjson.js\"], function() {\n",
       "        document.getElementById('060eaf3f-7504-4b90-9b06-4e703fcb9a72').appendChild(renderjson({\"FEATURE_COMPARISON_FUNCTION_CALLS\":[{\"CFCALL_ID\":2,\"CFUNC_CODE\":\"DOB_COMP\",\"FTYPE_CODE\":\"DOB\"},{\"CFCALL_ID\":3,\"CFUNC_CODE\":\"DOB_COMP\",\"FTYPE_CODE\":\"DOD\"},{\"CFCALL_ID\":4,\"CFUNC_CODE\":\"EXACT_DOMAIN_COMP\",\"FTYPE_CODE\":\"GENDER\"},{\"CFCALL_ID\":5,\"CFUNC_CODE\":\"ADDR_COMP\",\"FTYPE_CODE\":\"ADDRESS\"},{\"CFCALL_ID\":6,\"CFUNC_CODE\":\"PHONE_COMP\",\"FTYPE_CODE\":\"PHONE\"},{\"CFCALL_ID\":7,\"CFUNC_CODE\":\"SSN_COMP\",\"FTYPE_CODE\":\"SSN\"},{\"CFCALL_ID\":8,\"CFUNC_CODE\":\"EXACT_COMP\",\"FTYPE_CODE\":\"SSN_LAST4\"},{\"CFCALL_ID\":9,\"CFUNC_CODE\":\"ID_COMP\",\"FTYPE_CODE\":\"DRLIC\"},{\"CFCALL_ID\":10,\"CFUNC_CODE\":\"ID_COMP\",\"FTYPE_CODE\":\"PASSPORT\"},{\"CFCALL_ID\":12,\"CFUNC_CODE\":\"ID_COMP\",\"FTYPE_CODE\":\"NATIONAL_ID\"},{\"CFCALL_ID\":13,\"CFUNC_CODE\":\"EXACT_COMP\",\"FTYPE_CODE\":\"LOGIN_ID\"},{\"CFCALL_ID\":14,\"CFUNC_CODE\":\"EMAIL_COMP\",\"FTYPE_CODE\":\"EMAIL\"},{\"CFCALL_ID\":15,\"CFUNC_CODE\":\"EXACT_COMP\",\"FTYPE_CODE\":\"WEBSITE\"},{\"CFCALL_ID\":16,\"CFUNC_CODE\":\"EXACT_COMP\",\"FTYPE_CODE\":\"ACCT_NUM\"},{\"CFCALL_ID\":18,\"CFUNC_CODE\":\"EXACT_COMP\",\"FTYPE_CODE\":\"VEH_VIN\"},{\"CFCALL_ID\":19,\"CFUNC_CODE\":\"ID_COMP\",\"FTYPE_CODE\":\"VEH_LIC_PLATE\"},{\"CFCALL_ID\":20,\"CFUNC_CODE\":\"STR_COMP\",\"FTYPE_CODE\":\"VEH_MAKE\"},{\"CFCALL_ID\":21,\"CFUNC_CODE\":\"STR_COMP\",\"FTYPE_CODE\":\"VEH_MODEL\"},{\"CFCALL_ID\":22,\"CFUNC_CODE\":\"STR_COMP\",\"FTYPE_CODE\":\"VEH_COLOR\"},{\"CFCALL_ID\":23,\"CFUNC_CODE\":\"EXACT_COMP\",\"FTYPE_CODE\":\"VEH_YEAR\"},{\"CFCALL_ID\":24,\"CFUNC_CODE\":\"EXACT_COMP\",\"FTYPE_CODE\":\"IMO_NUM\"},{\"CFCALL_ID\":25,\"CFUNC_CODE\":\"EXACT_COMP\",\"FTYPE_CODE\":\"MMSI_NUM\"},{\"CFCALL_ID\":26,\"CFUNC_CODE\":\"EXACT_COMP\",\"FTYPE_CODE\":\"CALL_SIGN\"},{\"CFCALL_ID\":27,\"CFUNC_CODE\":\"STR_COMP\",\"FTYPE_CODE\":\"FLAG_CODE\"},{\"CFCALL_ID\":28,\"CFUNC_CODE\":\"STR_COMP\",\"FTYPE_CODE\":\"REG_PORT\"},{\"CFCALL_ID\":29,\"CFUNC_CODE\":\"STR_COMP\",\"FTYPE_CODE\":\"VESSEL_TYPE\"},{\"CFCALL_ID\":30,\"CFUNC_CODE\":\"EXACT_COMP\",\"FTYPE_CODE\":\"VESSEL_LENGTH\"},{\"CFCALL_ID\":31,\"CFUNC_CODE\":\"EXACT_COMP\",\"FTYPE_CODE\":\"VESSEL_BEAM\"},{\"CFCALL_ID\":32,\"CFUNC_CODE\":\"EXACT_COMP\",\"FTYPE_CODE\":\"GROSS_TONNAGE\"},{\"CFCALL_ID\":33,\"CFUNC_CODE\":\"EXACT_COMP\",\"FTYPE_CODE\":\"NET_TONNAGE\"},{\"CFCALL_ID\":34,\"CFUNC_CODE\":\"EXACT_COMP\",\"FTYPE_CODE\":\"TAX_ID\"},{\"CFCALL_ID\":35,\"CFUNC_CODE\":\"ID_COMP\",\"FTYPE_CODE\":\"OTHER_ID\"},{\"CFCALL_ID\":36,\"CFUNC_CODE\":\"EXACT_COMP\",\"FTYPE_CODE\":\"TRUSTED_ID\"},{\"CFCALL_ID\":37,\"CFUNC_CODE\":\"STR_COMP\",\"FTYPE_CODE\":\"CITIZENSHIP\"},{\"CFCALL_ID\":38,\"CFUNC_CODE\":\"STR_COMP\",\"FTYPE_CODE\":\"NATIONALITY\"},{\"CFCALL_ID\":39,\"CFUNC_CODE\":\"EXACT_COMP\",\"FTYPE_CODE\":\"PHYSICAL_ATTRIBUTE\"},{\"CFCALL_ID\":40,\"CFUNC_CODE\":\"GEOLOC_COMP\",\"FTYPE_CODE\":\"GEO_LOC\"},{\"CFCALL_ID\":41,\"CFUNC_CODE\":\"GROUP_ASSOCIATION_COMP\",\"FTYPE_CODE\":\"GROUP_ASSOCIATION\"},{\"CFCALL_ID\":42,\"CFUNC_CODE\":\"GROUP_ASSOCIATION_COMP\",\"FTYPE_CODE\":\"EMPLOYER\"},{\"CFCALL_ID\":43,\"CFUNC_CODE\":\"EXACT_COMP\",\"FTYPE_CODE\":\"LINKEDIN\"},{\"CFCALL_ID\":44,\"CFUNC_CODE\":\"EXACT_COMP\",\"FTYPE_CODE\":\"FACEBOOK\"},{\"CFCALL_ID\":45,\"CFUNC_CODE\":\"EXACT_COMP\",\"FTYPE_CODE\":\"TWITTER\"},{\"CFCALL_ID\":46,\"CFUNC_CODE\":\"EXACT_COMP\",\"FTYPE_CODE\":\"SKYPE\"},{\"CFCALL_ID\":47,\"CFUNC_CODE\":\"EXACT_COMP\",\"FTYPE_CODE\":\"ZOOMROOM\"},{\"CFCALL_ID\":48,\"CFUNC_CODE\":\"EXACT_COMP\",\"FTYPE_CODE\":\"INSTAGRAM\"},{\"CFCALL_ID\":49,\"CFUNC_CODE\":\"EXACT_COMP\",\"FTYPE_CODE\":\"WHATSAPP\"},{\"CFCALL_ID\":50,\"CFUNC_CODE\":\"EXACT_COMP\",\"FTYPE_CODE\":\"SIGNAL\"},{\"CFCALL_ID\":51,\"CFUNC_CODE\":\"EXACT_COMP\",\"FTYPE_CODE\":\"TELEGRAM\"},{\"CFCALL_ID\":52,\"CFUNC_CODE\":\"EXACT_COMP\",\"FTYPE_CODE\":\"TANGO\"},{\"CFCALL_ID\":53,\"CFUNC_CODE\":\"EXACT_COMP\",\"FTYPE_CODE\":\"VIBER\"},{\"CFCALL_ID\":54,\"CFUNC_CODE\":\"EXACT_COMP\",\"FTYPE_CODE\":\"WECHAT\"},{\"CFCALL_ID\":55,\"CFUNC_CODE\":\"EXACT_COMP\",\"FTYPE_CODE\":\"RECORD_TYPE\"},{\"CFCALL_ID\":57,\"CFUNC_CODE\":\"STR_COMP\",\"FTYPE_CODE\":\"PLACE_OF_BIRTH\"},{\"CFCALL_ID\":58,\"CFUNC_CODE\":\"DOB_COMP\",\"FTYPE_CODE\":\"REGISTRATION_DATE\"},{\"CFCALL_ID\":59,\"CFUNC_CODE\":\"STR_COMP\",\"FTYPE_CODE\":\"REGISTRATION_COUNTRY\"},{\"CFCALL_ID\":60,\"CFUNC_CODE\":\"EXACT_COMP\",\"FTYPE_CODE\":\"GROUP_ASSN_ID\"},{\"CFCALL_ID\":61,\"CFUNC_CODE\":\"EXACT_COMP\",\"FTYPE_CODE\":\"DUNS_NUMBER\"},{\"CFCALL_ID\":62,\"CFUNC_CODE\":\"EXACT_COMP\",\"FTYPE_CODE\":\"NPI_NUMBER\"},{\"CFCALL_ID\":63,\"CFUNC_CODE\":\"EXACT_COMP\",\"FTYPE_CODE\":\"LEI_NUMBER\"},{\"CFCALL_ID\":64,\"CFUNC_CODE\":\"STR_COMP\",\"FTYPE_CODE\":\"COUNTRY_OF_ASSOCIATION\"},{\"CFCALL_ID\":65,\"CFUNC_CODE\":\"EXACT_COMP\",\"FTYPE_CODE\":\"MOBILE_AD_ID\"}]}))\n",
       "        });\n",
       "        "
      ]
     },
     "metadata": {},
     "output_type": "display_data"
    }
   ],
   "source": [
    "response_bytearray = bytearray()\n",
    "\n",
    "return_code = g2_config.listFeatureComparisonFunctionCallsV2(config_handle, response_bytearray)\n",
    "\n",
    "RenderJSON(response_bytearray.decode())"
   ]
  },
  {
   "cell_type": "markdown",
   "metadata": {},
   "source": [
    "# Get Feature Comparison Function Call"
   ]
  },
  {
   "cell_type": "code",
   "execution_count": 46,
   "metadata": {},
   "outputs": [
    {
     "data": {
      "text/html": [
       "<div id=\"b671cf49-3eae-483d-8bae-7759e0f5023f\" style=\"height:100%; width:100%; background-color: LightCyan\"></div>"
      ]
     },
     "metadata": {},
     "output_type": "display_data"
    },
    {
     "data": {
      "application/javascript": [
       "\n",
       "        require([\"https://rawgit.com/caldwell/renderjson/master/renderjson.js\"], function() {\n",
       "        document.getElementById('b671cf49-3eae-483d-8bae-7759e0f5023f').appendChild(renderjson({\"CFCALL_ID\":2,\"CFUNC_CODE\":\"DOB_COMP\",\"FTYPE_CODE\":\"DOB\",\"BOM_ELEMENTS\":[{\"EXEC_ORDER\":1,\"FELEM_CODE\":\"DATE\"},{\"EXEC_ORDER\":2,\"FELEM_CODE\":\"DATE_YEAR\"},{\"EXEC_ORDER\":3,\"FELEM_CODE\":\"DATE_MONTH\"},{\"EXEC_ORDER\":4,\"FELEM_CODE\":\"DATE_DAY\"}]}))\n",
       "        });\n",
       "        "
      ]
     },
     "metadata": {},
     "output_type": "display_data"
    }
   ],
   "source": [
    "response_bytearray = bytearray()\n",
    "featureCompFunc_json = \"{\\\"CFCALL_ID\\\":2}\"\n",
    "return_code = g2_config.getFeatureComparisonFunctionCallV2(config_handle, featureCompFunc_json, response_bytearray)\n",
    "\n",
    "RenderJSON(response_bytearray.decode())"
   ]
  },
  {
   "cell_type": "markdown",
   "metadata": {},
   "source": [
    "# Add Feature Comparison Function Call"
   ]
  },
  {
   "cell_type": "code",
   "execution_count": 47,
   "metadata": {},
   "outputs": [
    {
     "data": {
      "text/html": [
       "<div id=\"d237b9d9-78e4-4a30-a791-adf572058732\" style=\"height:100%; width:100%; background-color: LightCyan\"></div>"
      ]
     },
     "metadata": {},
     "output_type": "display_data"
    },
    {
     "data": {
      "application/javascript": [
       "\n",
       "        require([\"https://rawgit.com/caldwell/renderjson/master/renderjson.js\"], function() {\n",
       "        document.getElementById('d237b9d9-78e4-4a30-a791-adf572058732').appendChild(renderjson({\"CFCALL_ID\":789}))\n",
       "        });\n",
       "        "
      ]
     },
     "metadata": {},
     "output_type": "display_data"
    }
   ],
   "source": [
    "response_bytearray = bytearray()\n",
    "featureCompFunc_json = \"{\\\"FTYPE_CODE\\\":\\\"name_key\\\",\\\"CFCALL_ID\\\":789,\\\"CFUNC_CODE\\\":\\\"ID_COMP\\\",\\\"EXEC_ORDER\\\":15, \\\"BOM_ELEMENTS\\\":[{\\\"FELEM_CODE\\\":\\\"expression\\\"}]}\"\n",
    "return_code = g2_config.addFeatureComparisonFunctionCallV2(config_handle, featureCompFunc_json, response_bytearray)\n",
    "\n",
    "RenderJSON(response_bytearray.decode())"
   ]
  },
  {
   "cell_type": "markdown",
   "metadata": {},
   "source": [
    "# Delete Feature Comparison Function Call"
   ]
  },
  {
   "cell_type": "code",
   "execution_count": 48,
   "metadata": {},
   "outputs": [
    {
     "data": {
      "text/html": [
       "<div id=\"ce150bc0-015c-4229-9e3a-4bc8e33a1f7b\" style=\"height:100%; width:100%; background-color: LightCyan\"></div>"
      ]
     },
     "metadata": {},
     "output_type": "display_data"
    },
    {
     "data": {
      "application/javascript": [
       "\n",
       "        require([\"https://rawgit.com/caldwell/renderjson/master/renderjson.js\"], function() {\n",
       "        document.getElementById('ce150bc0-015c-4229-9e3a-4bc8e33a1f7b').appendChild(renderjson(0))\n",
       "        });\n",
       "        "
      ]
     },
     "metadata": {},
     "output_type": "display_data"
    }
   ],
   "source": [
    "#Get input_json from previous function\n",
    "featureComp_json = \"{\\\"CFCALL_ID\\\":789}\"\n",
    "return_code = g2_config.deleteFeatureComparisonFunctionCallV2(config_handle, featureComp_json)\n",
    "\n",
    "RenderJSON(return_code)"
   ]
  },
  {
   "cell_type": "markdown",
   "metadata": {},
   "source": [
    "# Add Feature Comparsion Function Call Element"
   ]
  },
  {
   "cell_type": "code",
   "execution_count": 49,
   "metadata": {},
   "outputs": [
    {
     "data": {
      "text/html": [
       "<div id=\"3dc691dc-4b8b-449f-ac5a-a6f78db2ef0c\" style=\"height:100%; width:100%; background-color: LightCyan\"></div>"
      ]
     },
     "metadata": {},
     "output_type": "display_data"
    },
    {
     "data": {
      "application/javascript": [
       "\n",
       "        require([\"https://rawgit.com/caldwell/renderjson/master/renderjson.js\"], function() {\n",
       "        document.getElementById('3dc691dc-4b8b-449f-ac5a-a6f78db2ef0c').appendChild(renderjson(0))\n",
       "        });\n",
       "        "
      ]
     },
     "metadata": {},
     "output_type": "display_data"
    }
   ],
   "source": [
    "featureCompElm_json =  \"{\\\"CFCALL_ID\\\":5, \\\"FELEM_CODE\\\":\\\"addr6\\\"}\"\n",
    "return_code = g2_config.addFeatureComparisonFunctionCallElementV2(config_handle, featureCompElm_json)\n",
    "\n",
    "RenderJSON(return_code)"
   ]
  },
  {
   "cell_type": "markdown",
   "metadata": {},
   "source": [
    "# Delete Feature Comparsion Function Call Element"
   ]
  },
  {
   "cell_type": "code",
   "execution_count": 50,
   "metadata": {},
   "outputs": [
    {
     "data": {
      "text/html": [
       "<div id=\"c99cb65f-8e74-4797-8f97-134f5e201189\" style=\"height:100%; width:100%; background-color: LightCyan\"></div>"
      ]
     },
     "metadata": {},
     "output_type": "display_data"
    },
    {
     "data": {
      "application/javascript": [
       "\n",
       "        require([\"https://rawgit.com/caldwell/renderjson/master/renderjson.js\"], function() {\n",
       "        document.getElementById('c99cb65f-8e74-4797-8f97-134f5e201189').appendChild(renderjson(0))\n",
       "        });\n",
       "        "
      ]
     },
     "metadata": {},
     "output_type": "display_data"
    }
   ],
   "source": [
    "featureCompElm_json =  \"{\\\"CFCALL_ID\\\":5, \\\"FELEM_CODE\\\":\\\"ADDR4\\\"}\"\n",
    "return_code = g2_config.deleteFeatureComparisonFunctionCallElementV2(config_handle, featureCompElm_json)\n",
    "\n",
    "RenderJSON(return_code)"
   ]
  },
  {
   "cell_type": "markdown",
   "metadata": {},
   "source": [
    "# List Feature Distinct Functions"
   ]
  },
  {
   "cell_type": "code",
   "execution_count": 51,
   "metadata": {},
   "outputs": [
    {
     "data": {
      "text/html": [
       "<div id=\"c0c8326a-1522-486c-8855-69a62e5ccd45\" style=\"height:100%; width:100%; background-color: LightCyan\"></div>"
      ]
     },
     "metadata": {},
     "output_type": "display_data"
    },
    {
     "data": {
      "application/javascript": [
       "\n",
       "        require([\"https://rawgit.com/caldwell/renderjson/master/renderjson.js\"], function() {\n",
       "        document.getElementById('c0c8326a-1522-486c-8855-69a62e5ccd45').appendChild(renderjson({\"FEATURE_DISTINCT_FUNCTIONS\":[{\"DFUNC_ID\":1,\"DFUNC_CODE\":\"FELEM_STRICT_SUBSET\"},{\"DFUNC_ID\":2,\"DFUNC_CODE\":\"TOKEN_STRICT_SUBSET\"},{\"DFUNC_ID\":3,\"DFUNC_CODE\":\"FELEM_NORM_STRICT_SUBSET\"},{\"DFUNC_ID\":4,\"DFUNC_CODE\":\"PARTIAL_DATES\"},{\"DFUNC_ID\":5,\"DFUNC_CODE\":\"PARTIAL_NAMES\"},{\"DFUNC_ID\":6,\"DFUNC_CODE\":\"PARTIAL_ADDRESSES\"}]}))\n",
       "        });\n",
       "        "
      ]
     },
     "metadata": {},
     "output_type": "display_data"
    }
   ],
   "source": [
    "response_bytearray = bytearray()\n",
    "\n",
    "return_code = g2_config.listFeatureDistinctFunctionsV2(config_handle, response_bytearray)\n",
    "\n",
    "RenderJSON(response_bytearray.decode())"
   ]
  },
  {
   "cell_type": "markdown",
   "metadata": {},
   "source": [
    "# List Feature Distinct Function Calls"
   ]
  },
  {
   "cell_type": "code",
   "execution_count": 52,
   "metadata": {
    "scrolled": true
   },
   "outputs": [
    {
     "data": {
      "text/html": [
       "<div id=\"c624e01f-4ea6-4caa-a4b9-3232f2e29a09\" style=\"height:100%; width:100%; background-color: LightCyan\"></div>"
      ]
     },
     "metadata": {},
     "output_type": "display_data"
    },
    {
     "data": {
      "application/javascript": [
       "\n",
       "        require([\"https://rawgit.com/caldwell/renderjson/master/renderjson.js\"], function() {\n",
       "        document.getElementById('c624e01f-4ea6-4caa-a4b9-3232f2e29a09').appendChild(renderjson({\"FEATURE_DISTINCT_FUNCTION_CALLS\":[{\"DFCALL_ID\":2,\"DFUNC_CODE\":\"PARTIAL_DATES\",\"FTYPE_CODE\":\"DOB\"},{\"DFCALL_ID\":3,\"DFUNC_CODE\":\"PARTIAL_DATES\",\"FTYPE_CODE\":\"DOD\"},{\"DFCALL_ID\":5,\"DFUNC_CODE\":\"PARTIAL_ADDRESSES\",\"FTYPE_CODE\":\"ADDRESS\"},{\"DFCALL_ID\":6,\"DFUNC_CODE\":\"FELEM_STRICT_SUBSET\",\"FTYPE_CODE\":\"PHONE\"},{\"DFCALL_ID\":9,\"DFUNC_CODE\":\"FELEM_NORM_STRICT_SUBSET\",\"FTYPE_CODE\":\"DRLIC\"},{\"DFCALL_ID\":10,\"DFUNC_CODE\":\"FELEM_NORM_STRICT_SUBSET\",\"FTYPE_CODE\":\"PASSPORT\"},{\"DFCALL_ID\":11,\"DFUNC_CODE\":\"FELEM_NORM_STRICT_SUBSET\",\"FTYPE_CODE\":\"TAX_ID\"},{\"DFCALL_ID\":12,\"DFUNC_CODE\":\"FELEM_NORM_STRICT_SUBSET\",\"FTYPE_CODE\":\"NATIONAL_ID\"},{\"DFCALL_ID\":13,\"DFUNC_CODE\":\"FELEM_STRICT_SUBSET\",\"FTYPE_CODE\":\"LOGIN_ID\"},{\"DFCALL_ID\":16,\"DFUNC_CODE\":\"FELEM_STRICT_SUBSET\",\"FTYPE_CODE\":\"ACCT_NUM\"},{\"DFCALL_ID\":24,\"DFUNC_CODE\":\"FELEM_STRICT_SUBSET\",\"FTYPE_CODE\":\"GEO_LOC\"},{\"DFCALL_ID\":36,\"DFUNC_CODE\":\"FELEM_STRICT_SUBSET\",\"FTYPE_CODE\":\"VEH_VIN\"},{\"DFCALL_ID\":37,\"DFUNC_CODE\":\"FELEM_STRICT_SUBSET\",\"FTYPE_CODE\":\"VEH_LIC_PLATE\"},{\"DFCALL_ID\":42,\"DFUNC_CODE\":\"FELEM_STRICT_SUBSET\",\"FTYPE_CODE\":\"IMO_NUM\"},{\"DFCALL_ID\":43,\"DFUNC_CODE\":\"FELEM_STRICT_SUBSET\",\"FTYPE_CODE\":\"MMSI_NUM\"},{\"DFCALL_ID\":52,\"DFUNC_CODE\":\"FELEM_NORM_STRICT_SUBSET\",\"FTYPE_CODE\":\"OTHER_ID\"},{\"DFCALL_ID\":53,\"DFUNC_CODE\":\"FELEM_NORM_STRICT_SUBSET\",\"FTYPE_CODE\":\"TRUSTED_ID\"},{\"DFCALL_ID\":56,\"DFUNC_CODE\":\"FELEM_STRICT_SUBSET\",\"FTYPE_CODE\":\"PHYSICAL_ATTRIBUTE\"},{\"DFCALL_ID\":57,\"DFUNC_CODE\":\"FELEM_STRICT_SUBSET\",\"FTYPE_CODE\":\"GROUP_ASSOCIATION\"}]}))\n",
       "        });\n",
       "        "
      ]
     },
     "metadata": {},
     "output_type": "display_data"
    }
   ],
   "source": [
    "response_bytearray = bytearray()\n",
    "\n",
    "return_code = g2_config.listFeatureDistinctFunctionCallsV2(config_handle, response_bytearray)\n",
    "\n",
    "RenderJSON(response_bytearray.decode())"
   ]
  },
  {
   "cell_type": "markdown",
   "metadata": {},
   "source": [
    "# Get Feature Distinct Function Call"
   ]
  },
  {
   "cell_type": "code",
   "execution_count": 53,
   "metadata": {},
   "outputs": [
    {
     "data": {
      "text/html": [
       "<div id=\"8c918e3a-1426-4717-a76f-bfec99e69411\" style=\"height:100%; width:100%; background-color: LightCyan\"></div>"
      ]
     },
     "metadata": {},
     "output_type": "display_data"
    },
    {
     "data": {
      "application/javascript": [
       "\n",
       "        require([\"https://rawgit.com/caldwell/renderjson/master/renderjson.js\"], function() {\n",
       "        document.getElementById('8c918e3a-1426-4717-a76f-bfec99e69411').appendChild(renderjson({\"DFCALL_ID\":2,\"DFUNC_CODE\":\"PARTIAL_DATES\",\"FTYPE_CODE\":\"DOB\",\"BOM_ELEMENTS\":[{\"EXEC_ORDER\":1,\"FELEM_CODE\":\"DATE\"},{\"EXEC_ORDER\":2,\"FELEM_CODE\":\"DATE_YEAR\"},{\"EXEC_ORDER\":3,\"FELEM_CODE\":\"DATE_MONTH\"},{\"EXEC_ORDER\":4,\"FELEM_CODE\":\"DATE_DAY\"}]}))\n",
       "        });\n",
       "        "
      ]
     },
     "metadata": {},
     "output_type": "display_data"
    }
   ],
   "source": [
    "response_bytearray = bytearray()\n",
    "featureFunc_json =  \"{\\\"DFCALL_ID\\\":2}\"\n",
    "return_code = g2_config.getFeatureDistinctFunctionCallV2(config_handle, featureFunc_json, response_bytearray)\n",
    "\n",
    "RenderJSON(response_bytearray.decode())"
   ]
  },
  {
   "cell_type": "markdown",
   "metadata": {},
   "source": [
    "# Add Feature Distinct Function Call"
   ]
  },
  {
   "cell_type": "code",
   "execution_count": 54,
   "metadata": {},
   "outputs": [
    {
     "data": {
      "text/html": [
       "<div id=\"9f8e022c-dfe3-4a36-9913-8c280acf8917\" style=\"height:100%; width:100%; background-color: LightCyan\"></div>"
      ]
     },
     "metadata": {},
     "output_type": "display_data"
    },
    {
     "data": {
      "application/javascript": [
       "\n",
       "        require([\"https://rawgit.com/caldwell/renderjson/master/renderjson.js\"], function() {\n",
       "        document.getElementById('9f8e022c-dfe3-4a36-9913-8c280acf8917').appendChild(renderjson({\"DFCALL_ID\":789}))\n",
       "        });\n",
       "        "
      ]
     },
     "metadata": {},
     "output_type": "display_data"
    }
   ],
   "source": [
    "response_bytearray = bytearray()\n",
    "featureFunc_json = \"{\\\"FTYPE_CODE\\\":\\\"name_key\\\",\\\"DFCALL_ID\\\":789,\\\"DFUNC_CODE\\\":\\\"FELEM_STRICT_SUBSET\\\",\\\"EXEC_ORDER\\\":15, \\\"BOM_ELEMENTS\\\":[{\\\"FELEM_CODE\\\":\\\"expression\\\"}]}\"\n",
    "return_code = g2_config.addFeatureDistinctFunctionCallV2(config_handle, featureFunc_json, response_bytearray)\n",
    "\n",
    "RenderJSON(response_bytearray.decode())"
   ]
  },
  {
   "cell_type": "markdown",
   "metadata": {},
   "source": [
    "# Delete Feature Distinct Function Call "
   ]
  },
  {
   "cell_type": "code",
   "execution_count": 55,
   "metadata": {},
   "outputs": [
    {
     "data": {
      "text/html": [
       "<div id=\"58e0afc9-5b68-4768-93ec-c3c4211cdd0e\" style=\"height:100%; width:100%; background-color: LightCyan\"></div>"
      ]
     },
     "metadata": {},
     "output_type": "display_data"
    },
    {
     "data": {
      "application/javascript": [
       "\n",
       "        require([\"https://rawgit.com/caldwell/renderjson/master/renderjson.js\"], function() {\n",
       "        document.getElementById('58e0afc9-5b68-4768-93ec-c3c4211cdd0e').appendChild(renderjson(0))\n",
       "        });\n",
       "        "
      ]
     },
     "metadata": {},
     "output_type": "display_data"
    }
   ],
   "source": [
    "featureFunc_json = \"{\\\"DFCALL_ID\\\":1002}\"\n",
    "return_code = g2_config.deleteFeatureDistinctFunctionCallV2(config_handle, featureFunc_json)\n",
    "\n",
    "RenderJSON(return_code)"
   ]
  },
  {
   "cell_type": "markdown",
   "metadata": {},
   "source": [
    "# Add Feature Distinct Function Call Element"
   ]
  },
  {
   "cell_type": "code",
   "execution_count": 56,
   "metadata": {},
   "outputs": [
    {
     "data": {
      "text/html": [
       "<div id=\"70bf65d3-6d2a-4b37-b18d-7888f6279bb5\" style=\"height:100%; width:100%; background-color: LightCyan\"></div>"
      ]
     },
     "metadata": {},
     "output_type": "display_data"
    },
    {
     "data": {
      "application/javascript": [
       "\n",
       "        require([\"https://rawgit.com/caldwell/renderjson/master/renderjson.js\"], function() {\n",
       "        document.getElementById('70bf65d3-6d2a-4b37-b18d-7888f6279bb5').appendChild(renderjson(0))\n",
       "        });\n",
       "        "
      ]
     },
     "metadata": {},
     "output_type": "display_data"
    }
   ],
   "source": [
    "featureElmt_json = \"{\\\"DFCALL_ID\\\":5, \\\"FELEM_CODE\\\":\\\"addr6\\\"}\"\n",
    "return_code = g2_config.addFeatureDistinctFunctionCallElementV2(config_handle, featureElmt_json)\n",
    "\n",
    "RenderJSON(return_code)"
   ]
  },
  {
   "cell_type": "markdown",
   "metadata": {},
   "source": [
    "# Delete Feature Distinct Function Call Element"
   ]
  },
  {
   "cell_type": "code",
   "execution_count": 57,
   "metadata": {},
   "outputs": [
    {
     "data": {
      "text/html": [
       "<div id=\"c53d3c16-5812-46d0-970c-802c405a0466\" style=\"height:100%; width:100%; background-color: LightCyan\"></div>"
      ]
     },
     "metadata": {},
     "output_type": "display_data"
    },
    {
     "data": {
      "application/javascript": [
       "\n",
       "        require([\"https://rawgit.com/caldwell/renderjson/master/renderjson.js\"], function() {\n",
       "        document.getElementById('c53d3c16-5812-46d0-970c-802c405a0466').appendChild(renderjson(0))\n",
       "        });\n",
       "        "
      ]
     },
     "metadata": {},
     "output_type": "display_data"
    }
   ],
   "source": [
    "featureElmt_json = \"{\\\"DFCALL_ID\\\":5, \\\"FELEM_CODE\\\":\\\"ADDR4\\\"}\"\n",
    "return_code = g2_config.deleteFeatureDistinctFunctionCallElementV2(config_handle, featureElmt_json)\n",
    "\n",
    "RenderJSON(return_code)"
   ]
  },
  {
   "cell_type": "markdown",
   "metadata": {},
   "source": [
    "# List Attribute Classes"
   ]
  },
  {
   "cell_type": "code",
   "execution_count": 58,
   "metadata": {},
   "outputs": [
    {
     "data": {
      "text/html": [
       "<div id=\"11a5aca2-0129-4943-a5ac-672c4ae48296\" style=\"height:100%; width:100%; background-color: LightCyan\"></div>"
      ]
     },
     "metadata": {},
     "output_type": "display_data"
    },
    {
     "data": {
      "application/javascript": [
       "\n",
       "        require([\"https://rawgit.com/caldwell/renderjson/master/renderjson.js\"], function() {\n",
       "        document.getElementById('11a5aca2-0129-4943-a5ac-672c4ae48296').appendChild(renderjson({\"ATTRIBUTE_CLASSES\":[{\"ATTR_CLASS\":\"ADDRESS\"},{\"ATTR_CLASS\":\"ATTRIBUTE\"},{\"ATTR_CLASS\":\"IDENTIFIER\"},{\"ATTR_CLASS\":\"NAME\"},{\"ATTR_CLASS\":\"OBSERVATION\"},{\"ATTR_CLASS\":\"OTHER\"},{\"ATTR_CLASS\":\"PHONE\"},{\"ATTR_CLASS\":\"RELATIONSHIP\"}]}))\n",
       "        });\n",
       "        "
      ]
     },
     "metadata": {},
     "output_type": "display_data"
    }
   ],
   "source": [
    "response_bytearray = bytearray()\n",
    "\n",
    "return_code = g2_config.listAttributeClassesV2(config_handle, response_bytearray)\n",
    "\n",
    "RenderJSON(response_bytearray.decode())"
   ]
  },
  {
   "cell_type": "markdown",
   "metadata": {},
   "source": [
    "# List Attributes"
   ]
  },
  {
   "cell_type": "code",
   "execution_count": 59,
   "metadata": {
    "scrolled": true
   },
   "outputs": [
    {
     "data": {
      "text/html": [
       "<div id=\"0154a334-db61-448e-948e-5f257c525597\" style=\"height:100%; width:100%; background-color: LightCyan\"></div>"
      ]
     },
     "metadata": {},
     "output_type": "display_data"
    },
    {
     "data": {
      "application/javascript": [
       "\n",
       "        require([\"https://rawgit.com/caldwell/renderjson/master/renderjson.js\"], function() {\n",
       "        document.getElementById('0154a334-db61-448e-948e-5f257c525597').appendChild(renderjson({\"ATTRIBUTES\":[{\"ATTR_ID\":1001,\"ATTR_CODE\":\"DATA_SOURCE\"},{\"ATTR_ID\":1002,\"ATTR_CODE\":\"ROUTE_CODE\"},{\"ATTR_ID\":1003,\"ATTR_CODE\":\"RECORD_ID\"},{\"ATTR_ID\":1004,\"ATTR_CODE\":\"ENTITY_TYPE\"},{\"ATTR_ID\":1005,\"ATTR_CODE\":\"ENTITY_KEY\"},{\"ATTR_ID\":1006,\"ATTR_CODE\":\"LOAD_ID\"},{\"ATTR_ID\":1007,\"ATTR_CODE\":\"DSRC_ACTION\"},{\"ATTR_ID\":1210,\"ATTR_CODE\":\"GENDER\"},{\"ATTR_ID\":1220,\"ATTR_CODE\":\"DOB_PREHASHED\"},{\"ATTR_ID\":1221,\"ATTR_CODE\":\"DATE_OF_BIRTH\"},{\"ATTR_ID\":1222,\"ATTR_CODE\":\"DOB_YEAR\"},{\"ATTR_ID\":1223,\"ATTR_CODE\":\"DOB_MONTH\"},{\"ATTR_ID\":1224,\"ATTR_CODE\":\"DOB_DAY\"},{\"ATTR_ID\":1225,\"ATTR_CODE\":\"DOB_HASH\"},{\"ATTR_ID\":1230,\"ATTR_CODE\":\"NATIONALITY_PREHASHED\"},{\"ATTR_ID\":1231,\"ATTR_CODE\":\"NATIONALITY\"},{\"ATTR_ID\":1240,\"ATTR_CODE\":\"CITIZENSHIP_PREHASHED\"},{\"ATTR_ID\":1241,\"ATTR_CODE\":\"CITIZENSHIP\"},{\"ATTR_ID\":1250,\"ATTR_CODE\":\"PHYSICAL_PREHASHED\"},{\"ATTR_ID\":1251,\"ATTR_CODE\":\"PHYSICAL_TYPE\"},{\"ATTR_ID\":1252,\"ATTR_CODE\":\"PHYSICAL_VALUE\"},{\"ATTR_ID\":1260,\"ATTR_CODE\":\"DOD_PREHASHED\"},{\"ATTR_ID\":1261,\"ATTR_CODE\":\"DATE_OF_DEATH\"},{\"ATTR_ID\":1262,\"ATTR_CODE\":\"DOD_YEAR\"},{\"ATTR_ID\":1263,\"ATTR_CODE\":\"DOD_MONTH\"},{\"ATTR_ID\":1264,\"ATTR_CODE\":\"DOD_DAY\"},{\"ATTR_ID\":1265,\"ATTR_CODE\":\"DOD_HASH\"},{\"ATTR_ID\":1310,\"ATTR_CODE\":\"ACCOUNT_PREHASHED\"},{\"ATTR_ID\":1311,\"ATTR_CODE\":\"ACCOUNT_NUMBER\"},{\"ATTR_ID\":1312,\"ATTR_CODE\":\"ACCOUNT_DOMAIN\"},{\"ATTR_ID\":1320,\"ATTR_CODE\":\"PASSPORT_PREHASHED\"},{\"ATTR_ID\":1321,\"ATTR_CODE\":\"PASSPORT_NUMBER\"},{\"ATTR_ID\":1322,\"ATTR_CODE\":\"PASSPORT_COUNTRY\"},{\"ATTR_ID\":1323,\"ATTR_CODE\":\"PASSPORT_ISSUE_DT\"},{\"ATTR_ID\":1324,\"ATTR_CODE\":\"PASSPORT_EXPIRE_DT\"},{\"ATTR_ID\":1325,\"ATTR_CODE\":\"PASSPORT_NUMSTD\"},{\"ATTR_ID\":1330,\"ATTR_CODE\":\"DRLIC_PREHASHED\"},{\"ATTR_ID\":1331,\"ATTR_CODE\":\"DRIVERS_LICENSE_NUMBER\"},{\"ATTR_ID\":1332,\"ATTR_CODE\":\"DRIVERS_LICENSE_STATE\"},{\"ATTR_ID\":1333,\"ATTR_CODE\":\"DRIVERS_LICENSE_ISSUE_DT\"},{\"ATTR_ID\":1334,\"ATTR_CODE\":\"DRIVERS_LICENSE_EXPIRE_DT\"},{\"ATTR_ID\":1335,\"ATTR_CODE\":\"DRLIC_NUMSTD\"},{\"ATTR_ID\":1340,\"ATTR_CODE\":\"SSN_PREHASHED\"},{\"ATTR_ID\":1341,\"ATTR_CODE\":\"SSN_NUMBER\"},{\"ATTR_ID\":1342,\"ATTR_CODE\":\"SSN_NUMSTD\"},{\"ATTR_ID\":1345,\"ATTR_CODE\":\"SSN_LAST4_PREHASHED\"},{\"ATTR_ID\":1346,\"ATTR_CODE\":\"SSN_LAST4\"},{\"ATTR_ID\":1350,\"ATTR_CODE\":\"NATIONAL_ID_PREHASHED\"},{\"ATTR_ID\":1351,\"ATTR_CODE\":\"NATIONAL_ID_NUMBER\"},{\"ATTR_ID\":1352,\"ATTR_CODE\":\"NATIONAL_ID_COUNTRY\"},{\"ATTR_ID\":1353,\"ATTR_CODE\":\"NATIONAL_ID_ISSUE_DT\"},{\"ATTR_ID\":1354,\"ATTR_CODE\":\"NATIONAL_ID_EXPIRE_DT\"},{\"ATTR_ID\":1355,\"ATTR_CODE\":\"NATIONAL_ID_NUM_STD\"},{\"ATTR_ID\":1360,\"ATTR_CODE\":\"TAX_ID_PREHASHED\"},{\"ATTR_ID\":1361,\"ATTR_CODE\":\"TAX_ID_NUMBER\"},{\"ATTR_ID\":1362,\"ATTR_CODE\":\"TAX_ID_COUNTRY\"},{\"ATTR_ID\":1363,\"ATTR_CODE\":\"TAX_ID_ISSUE_DT\"},{\"ATTR_ID\":1364,\"ATTR_CODE\":\"TAX_ID_EXPIRE_DT\"},{\"ATTR_ID\":1365,\"ATTR_CODE\":\"TAX_ID_NUM_STD\"},{\"ATTR_ID\":1370,\"ATTR_CODE\":\"OTHER_ID_PREHASHED\"},{\"ATTR_ID\":1371,\"ATTR_CODE\":\"OTHER_ID_TYPE\"},{\"ATTR_ID\":1372,\"ATTR_CODE\":\"OTHER_ID_NUMBER\"},{\"ATTR_ID\":1373,\"ATTR_CODE\":\"OTHER_ID_COUNTRY\"},{\"ATTR_ID\":1374,\"ATTR_CODE\":\"OTHER_ID_ISSUE_DT\"},{\"ATTR_ID\":1375,\"ATTR_CODE\":\"OTHER_ID_EXPIRE_DT\"},{\"ATTR_ID\":1376,\"ATTR_CODE\":\"OTHER_ID_NUM_STD\"},{\"ATTR_ID\":1380,\"ATTR_CODE\":\"TRUSTED_ID_PREHASHED\"},{\"ATTR_ID\":1381,\"ATTR_CODE\":\"TRUSTED_ID_TYPE\"},{\"ATTR_ID\":1382,\"ATTR_CODE\":\"TRUSTED_ID_NUMBER\"},{\"ATTR_ID\":1500,\"ATTR_CODE\":\"WEBSITE_PREHASHED\"},{\"ATTR_ID\":1501,\"ATTR_CODE\":\"WEBSITE_ADDRESS\"},{\"ATTR_ID\":1510,\"ATTR_CODE\":\"EMAIL_PREHASHED\"},{\"ATTR_ID\":1511,\"ATTR_CODE\":\"EMAIL_ADDRESS\"},{\"ATTR_ID\":1512,\"ATTR_CODE\":\"EMAIL_TYPE\"},{\"ATTR_ID\":1513,\"ATTR_CODE\":\"EMAIL_FROM_DATE\"},{\"ATTR_ID\":1514,\"ATTR_CODE\":\"EMAIL_THRU_DATE\"},{\"ATTR_ID\":1520,\"ATTR_CODE\":\"SOCIAL_PREHASHED\"},{\"ATTR_ID\":1521,\"ATTR_CODE\":\"SOCIAL_NETWORK\"},{\"ATTR_ID\":1522,\"ATTR_CODE\":\"SOCIAL_HANDLE\"},{\"ATTR_ID\":1523,\"ATTR_CODE\":\"SOCIAL_FROM_DATE\"},{\"ATTR_ID\":1524,\"ATTR_CODE\":\"SOCIAL_THRU_DATE\"},{\"ATTR_ID\":1600,\"ATTR_CODE\":\"ADDRESS_PREHASHED\"},{\"ATTR_ID\":1601,\"ATTR_CODE\":\"ADDR_FULL\"},{\"ATTR_ID\":1602,\"ATTR_CODE\":\"ADDR_LINE1\"},{\"ATTR_ID\":1603,\"ATTR_CODE\":\"ADDR_LINE2\"},{\"ATTR_ID\":1604,\"ATTR_CODE\":\"ADDR_LINE3\"},{\"ATTR_ID\":1605,\"ATTR_CODE\":\"ADDR_LINE4\"},{\"ATTR_ID\":1606,\"ATTR_CODE\":\"ADDR_LINE5\"},{\"ATTR_ID\":1607,\"ATTR_CODE\":\"ADDR_LINE6\"},{\"ATTR_ID\":1608,\"ATTR_CODE\":\"ADDR_CITY\"},{\"ATTR_ID\":1609,\"ATTR_CODE\":\"ADDR_STATE\"},{\"ATTR_ID\":1610,\"ATTR_CODE\":\"ADDR_POSTAL_CODE\"},{\"ATTR_ID\":1611,\"ATTR_CODE\":\"ADDR_COUNTRY\"},{\"ATTR_ID\":1612,\"ATTR_CODE\":\"ADDR_STR_NUM\"},{\"ATTR_ID\":1613,\"ATTR_CODE\":\"ADDR_STR_NAME\"},{\"ATTR_ID\":1614,\"ATTR_CODE\":\"ADDR_UNIT_TYPE\"},{\"ATTR_ID\":1615,\"ATTR_CODE\":\"ADDR_UNIT_NUM\"},{\"ATTR_ID\":1616,\"ATTR_CODE\":\"ADDR_STR_NAME_METAPHONE\"},{\"ATTR_ID\":1617,\"ATTR_CODE\":\"ADDR_CITY_METAPHONE\"},{\"ATTR_ID\":1618,\"ATTR_CODE\":\"ADDR_STR_NAME_STD\"},{\"ATTR_ID\":1619,\"ATTR_CODE\":\"ADDR_CITY_STD\"},{\"ATTR_ID\":1620,\"ATTR_CODE\":\"ADDR_POSTAL_5\"},{\"ATTR_ID\":1621,\"ATTR_CODE\":\"ADDR_SCRIPT\"},{\"ATTR_ID\":1622,\"ATTR_CODE\":\"ADDR_LIBPOSTAL_PARSE\"},{\"ATTR_ID\":1623,\"ATTR_CODE\":\"ADDR_TYPE\"},{\"ATTR_ID\":1624,\"ATTR_CODE\":\"ADDR_FROM_DATE\"},{\"ATTR_ID\":1625,\"ATTR_CODE\":\"ADDR_THRU_DATE\"},{\"ATTR_ID\":1700,\"ATTR_CODE\":\"PHONE_PREHASHED\"},{\"ATTR_ID\":1701,\"ATTR_CODE\":\"PHONE_AREACODE\"},{\"ATTR_ID\":1702,\"ATTR_CODE\":\"PHONE_NUMBER\"},{\"ATTR_ID\":1703,\"ATTR_CODE\":\"PHONE_EXT\"},{\"ATTR_ID\":1704,\"ATTR_CODE\":\"PHONE_LAST_10\"},{\"ATTR_ID\":1705,\"ATTR_CODE\":\"PHONE_LAST_5\"},{\"ATTR_ID\":1706,\"ATTR_CODE\":\"PHONE_TYPE\"},{\"ATTR_ID\":1707,\"ATTR_CODE\":\"PHONE_FROM_DATE\"},{\"ATTR_ID\":1708,\"ATTR_CODE\":\"PHONE_THRU_DATE\"},{\"ATTR_ID\":1801,\"ATTR_CODE\":\"RELATIONSHIP_TYPE\"},{\"ATTR_ID\":1802,\"ATTR_CODE\":\"RELATIONSHIP_ROLE\"},{\"ATTR_ID\":1803,\"ATTR_CODE\":\"RELATIONSHIP_KEY\"},{\"ATTR_ID\":1804,\"ATTR_CODE\":\"RELATED_FROM_DATE\"},{\"ATTR_ID\":1805,\"ATTR_CODE\":\"RELATED_THRU_DATE\"},{\"ATTR_ID\":1901,\"ATTR_CODE\":\"GEO_LATLONG\"},{\"ATTR_ID\":1902,\"ATTR_CODE\":\"GEO_LATITUDE\"},{\"ATTR_ID\":1903,\"ATTR_CODE\":\"GEO_LONGITUDE\"},{\"ATTR_ID\":1904,\"ATTR_CODE\":\"GEO_PRECISION\"},{\"ATTR_ID\":2000,\"ATTR_CODE\":\"GROUP_ASSOCIATION_PREHASHED\"},{\"ATTR_ID\":2001,\"ATTR_CODE\":\"GROUP_ASSOCIATION_TYPE\"},{\"ATTR_ID\":2002,\"ATTR_CODE\":\"GROUP_ASSOCIATION_ORG_NAME\"},{\"ATTR_ID\":2101,\"ATTR_CODE\":\"VEHICLE_LICENSE_PLATE_NUMBER\"},{\"ATTR_ID\":2102,\"ATTR_CODE\":\"VEHICLE_LICENSE_PLATE_STATE\"},{\"ATTR_ID\":2201,\"ATTR_CODE\":\"VEHICLE_VIN_NUMBER\"},{\"ATTR_ID\":2301,\"ATTR_CODE\":\"EMPLOYER_TYPE\"},{\"ATTR_ID\":2302,\"ATTR_CODE\":\"EMPLOYER\"},{\"ATTR_ID\":2303,\"ATTR_CODE\":\"LINKEDIN\"},{\"ATTR_ID\":2304,\"ATTR_CODE\":\"FACEBOOK\"},{\"ATTR_ID\":2305,\"ATTR_CODE\":\"TWITTER\"},{\"ATTR_ID\":2306,\"ATTR_CODE\":\"SKYPE\"},{\"ATTR_ID\":2307,\"ATTR_CODE\":\"ZOOMROOM\"},{\"ATTR_ID\":2308,\"ATTR_CODE\":\"INSTAGRAM\"},{\"ATTR_ID\":2309,\"ATTR_CODE\":\"WHATSAPP\"},{\"ATTR_ID\":2310,\"ATTR_CODE\":\"SIGNAL\"},{\"ATTR_ID\":2311,\"ATTR_CODE\":\"TELEGRAM\"},{\"ATTR_ID\":2312,\"ATTR_CODE\":\"TANGO\"},{\"ATTR_ID\":2313,\"ATTR_CODE\":\"VIBER\"},{\"ATTR_ID\":2314,\"ATTR_CODE\":\"WECHAT\"},{\"ATTR_ID\":2401,\"ATTR_CODE\":\"RECORD_TYPE\"},{\"ATTR_ID\":2421,\"ATTR_CODE\":\"PLACE_OF_BIRTH\"},{\"ATTR_ID\":2431,\"ATTR_CODE\":\"REGISTRATION_DATE\"},{\"ATTR_ID\":2432,\"ATTR_CODE\":\"REGISTRATION_COUNTRY\"},{\"ATTR_ID\":2441,\"ATTR_CODE\":\"GROUP_ASSN_ID_TYPE\"},{\"ATTR_ID\":2442,\"ATTR_CODE\":\"GROUP_ASSN_ID_NUMBER\"},{\"ATTR_ID\":2501,\"ATTR_CODE\":\"DUNS_NUMBER\"},{\"ATTR_ID\":2511,\"ATTR_CODE\":\"NPI_NUMBER\"},{\"ATTR_ID\":2521,\"ATTR_CODE\":\"LEI_NUMBER\"},{\"ATTR_ID\":2601,\"ATTR_CODE\":\"CK_NAME_DOB_COUNTRY\"},{\"ATTR_ID\":2602,\"ATTR_CODE\":\"CK_NAME_DOB\"},{\"ATTR_ID\":2603,\"ATTR_CODE\":\"CK_NAME_COUNTRY\"},{\"ATTR_ID\":2604,\"ATTR_CODE\":\"CK_NAME_GROUPNAME\"},{\"ATTR_ID\":2605,\"ATTR_CODE\":\"CK_NAME_GROUPID\"},{\"ATTR_ID\":2701,\"ATTR_CODE\":\"COUNTRY_OF_ASSOCIATION\"},{\"ATTR_ID\":2710,\"ATTR_CODE\":\"MOBILE_AD_ID\"}]}))\n",
       "        });\n",
       "        "
      ]
     },
     "metadata": {},
     "output_type": "display_data"
    }
   ],
   "source": [
    "response_bytearray = bytearray()\n",
    "\n",
    "return_code = g2_config.listAttributesV2(config_handle, response_bytearray)\n",
    "\n",
    "RenderJSON(response_bytearray.decode())"
   ]
  },
  {
   "cell_type": "markdown",
   "metadata": {},
   "source": [
    "# Get Attribute"
   ]
  },
  {
   "cell_type": "code",
   "execution_count": 60,
   "metadata": {},
   "outputs": [
    {
     "data": {
      "text/html": [
       "<div id=\"94a5f2f2-be28-4af9-93a5-a377d09675fa\" style=\"height:100%; width:100%; background-color: LightCyan\"></div>"
      ]
     },
     "metadata": {},
     "output_type": "display_data"
    },
    {
     "data": {
      "application/javascript": [
       "\n",
       "        require([\"https://rawgit.com/caldwell/renderjson/master/renderjson.js\"], function() {\n",
       "        document.getElementById('94a5f2f2-be28-4af9-93a5-a377d09675fa').appendChild(renderjson({\"ATTR_ID\":1001,\"ATTR_CODE\":\"DATA_SOURCE\",\"ATTR_CLASS\":\"OBSERVATION\",\"FTYPE_CODE\":\"\",\"FELEM_CODE\":\"\",\"FELEM_REQ\":\"Yes\",\"DEFAULT_VALUE\":\"\",\"ADVANCED\":\"Yes\",\"INTERNAL\":\"No\"}))\n",
       "        });\n",
       "        "
      ]
     },
     "metadata": {},
     "output_type": "display_data"
    }
   ],
   "source": [
    "response_bytearray = bytearray()\n",
    "input_json = \"{\\\"ATTR_CODE\\\":\\\"DATA_SOURCE\\\"}\"\n",
    "return_code = g2_config.getAttributeV2(config_handle, input_json, response_bytearray)\n",
    "\n",
    "RenderJSON(response_bytearray.decode())"
   ]
  },
  {
   "cell_type": "markdown",
   "metadata": {},
   "source": [
    "# Add Attribute"
   ]
  },
  {
   "cell_type": "code",
   "execution_count": 61,
   "metadata": {},
   "outputs": [
    {
     "data": {
      "text/html": [
       "<div id=\"414080e7-b0e6-46cc-8a53-5fbd2bfdd003\" style=\"height:100%; width:100%; background-color: LightCyan\"></div>"
      ]
     },
     "metadata": {},
     "output_type": "display_data"
    },
    {
     "data": {
      "application/javascript": [
       "\n",
       "        require([\"https://rawgit.com/caldwell/renderjson/master/renderjson.js\"], function() {\n",
       "        document.getElementById('414080e7-b0e6-46cc-8a53-5fbd2bfdd003').appendChild(renderjson({\"ATTR_ID\":789}))\n",
       "        });\n",
       "        "
      ]
     },
     "metadata": {},
     "output_type": "display_data"
    }
   ],
   "source": [
    "response_bytearray = bytearray()\n",
    "attr_json = \"{\\\"ATTR_CODE\\\":\\\"myNewAttr\\\",\\\"ATTR_ID\\\":789,\\\"ATTR_CLASS\\\":\\\"attribute\\\",\\\"FTYPE_CODE\\\":\\\"name_key\\\",\\\"FELEM_CODE\\\":\\\"latitude\\\",\\\"FELEM_REQ\\\":\\\"myReqValue\\\",\\\"DEFAULT_VALUE\\\":\\\"myDefault\\\",\\\"ADVANCED\\\":\\\"Y\\\",\\\"INTERNAL\\\":1}\"\n",
    "return_code = g2_config.addAttributeV2(config_handle, attr_json, response_bytearray)\n",
    "\n",
    "RenderJSON(response_bytearray.decode())"
   ]
  },
  {
   "cell_type": "markdown",
   "metadata": {},
   "source": [
    "# Delete Attribute"
   ]
  },
  {
   "cell_type": "code",
   "execution_count": 62,
   "metadata": {},
   "outputs": [
    {
     "data": {
      "text/html": [
       "<div id=\"2bb46103-6ecb-453c-bb1a-1bfde4c709b6\" style=\"height:100%; width:100%; background-color: LightCyan\"></div>"
      ]
     },
     "metadata": {},
     "output_type": "display_data"
    },
    {
     "data": {
      "application/javascript": [
       "\n",
       "        require([\"https://rawgit.com/caldwell/renderjson/master/renderjson.js\"], function() {\n",
       "        document.getElementById('2bb46103-6ecb-453c-bb1a-1bfde4c709b6').appendChild(renderjson(0))\n",
       "        });\n",
       "        "
      ]
     },
     "metadata": {},
     "output_type": "display_data"
    }
   ],
   "source": [
    "input_json = \"{\\\"ATTR_CODE\\\":\\\"NAME_FIRST\\\"}\"\n",
    "return_code = g2_config.deleteAttributeV2(config_handle, input_json)\n",
    "\n",
    "RenderJSON(return_code)"
   ]
  }
 ],
 "metadata": {
  "kernelspec": {
   "display_name": "Python 3",
   "language": "python",
   "name": "python3"
  },
  "language_info": {
   "codemirror_mode": {
    "name": "ipython",
    "version": 3
   },
   "file_extension": ".py",
   "mimetype": "text/x-python",
   "name": "python",
   "nbconvert_exporter": "python",
   "pygments_lexer": "ipython3",
   "version": "3.6.8"
  }
 },
 "nbformat": 4,
 "nbformat_minor": 2
}
