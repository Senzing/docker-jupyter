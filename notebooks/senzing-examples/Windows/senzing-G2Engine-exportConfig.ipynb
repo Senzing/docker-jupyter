{
 "cells": [
  {
   "cell_type": "markdown",
   "metadata": {},
   "source": [
    "# G2Engine Guide - Export configuration\n",
    "\n",
    "The `exportConfig()` method creates a JSON string with information about the Senzing engine's configuration."
   ]
  },
  {
   "cell_type": "markdown",
   "metadata": {},
   "source": [
    "## G2Engine\n",
    "\n",
    "The G2Engine API..."
   ]
  },
  {
   "cell_type": "code",
   "execution_count": null,
   "metadata": {},
   "outputs": [],
   "source": [
    "from G2Engine import G2Engine"
   ]
  },
  {
   "cell_type": "markdown",
   "metadata": {},
   "source": [
    "### G2Engine initialization"
   ]
  },
  {
   "cell_type": "code",
   "execution_count": null,
   "metadata": {},
   "outputs": [],
   "source": [
    "g2_engine = G2Engine()\n",
    "try:\n",
    "    g2_engine.initV2(module_name, senzing_config_json, verbose_logging)\n",
    "except G2Exception.G2ModuleGenericException as err:\n",
    "    print(g2_engine.getLastException())"
   ]
  },
  {
   "cell_type": "markdown",
   "metadata": {},
   "source": [
    "### exportConfig()\n",
    "\n",
    "Call G2 Module's `exportConfig()` method and print results."
   ]
  },
  {
   "cell_type": "code",
   "execution_count": null,
   "metadata": {},
   "outputs": [],
   "source": [
    "response_bytearray = bytearray()\n",
    "config_id = bytearray()\n",
    "try:\n",
    "    g2_engine.exportConfig(response_bytearray, config_id)\n",
    "    print(\"Configuration ID: {0}\".format(config_id.decode()))\n",
    "    print(response_bytearray.decode())\n",
    "except G2Exception.G2ModuleGenericException as err:\n",
    "    print(g2_engine.getLastException())"
   ]
  }
 ],
 "metadata": {
  "kernelspec": {
   "display_name": "Python 3",
   "language": "python",
   "name": "python3"
  },
  "language_info": {
   "codemirror_mode": {
    "name": "ipython",
    "version": 3
   },
   "file_extension": ".py",
   "mimetype": "text/x-python",
   "name": "python",
   "nbconvert_exporter": "python",
   "pygments_lexer": "ipython3",
   "version": "3.7.8"
  },
  "toc": {
   "base_numbering": 1,
   "nav_menu": {},
   "number_sections": true,
   "sideBar": true,
   "skip_h1_title": true,
   "title_cell": "Table of Contents",
   "title_sidebar": "Contents",
   "toc_cell": false,
   "toc_position": {},
   "toc_section_display": true,
   "toc_window_display": true
  }
 },
 "nbformat": 4,
 "nbformat_minor": 2
}
