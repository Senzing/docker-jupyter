{
 "cells": [
  {
   "cell_type": "markdown",
   "metadata": {},
   "source": [
    "# G2Engine Guide - Why Entities\n",
    "\n",
    "More information:\n",
    "\n",
    "1. [GitHub repository](https://github.com/Senzing/docker-jupyter)\n",
    "1. [Senzing documentation](http://docs.senzing.com/?python#g2config)\n",
    "1. [G2Engine Reference](senzing-G2Engine-reference.ipynb)"
   ]
  },
  {
   "cell_type": "markdown",
   "metadata": {},
   "source": [
    "## Table of contents\n",
    "\n",
    "1. [Prepare environment](#Prepare-environment)\n",
    "    1. [Initialize Senzing configuration](#Initialize-Senzing-configuration)\n",
    "    1. [Initialize python environment](#Initialize-python-environment)\n",
    "    1. [Helper class for JSON rendering](#Helper-class-for-JSON-rendering)\n",
    "    1. [Utility functions](#Utility-functions)\n",
    "    1. [System path](#System-path)\n",
    "    1. [Initialize variables](#Initialize-variables)\n",
    "1. [G2Engine](#G2Engine)\n",
    "    1. [G2Engine initialization](#G2Engine-initialization)\n",
    "    1. [Purge prior repository](#Purge-prior-repository)\n",
    "    1. [Insert records](#Insert-records)\n",
    "    1. [Ask Why](#Ask-Why)\n",
    "    1. [Start constructing final report](#Start-constructing-final-report)\n",
    "    1. [Get the main document data sections](#Get-the-main-document-data-sections)\n",
    "    1. [Get the basic why results](#Get-the-basic-why-results)\n",
    "    1. [Get the matching candidate keys for the record](#Get-the-matching-candidate-keys-for-the-record)\n",
    "    1. [Determine the best matches for each feature type](#Determine-the-best-matches-for-each-feature-type)\n",
    "    1. [Print the general Why results](#Print-the-general-Why-results)\n",
    "    1. [Print the matching criteria](#Print-the-matching-criteria)\n",
    "    1. [Print the candidate keys](#Print-the-candidate-keys)\n",
    "    1. [Shut down the engine](#Shut-down-the-engine)"
   ]
  },
  {
   "cell_type": "markdown",
   "metadata": {},
   "source": [
    "## Prepare environment "
   ]
  },
  {
   "cell_type": "code",
   "execution_count": 1,
   "metadata": {},
   "outputs": [],
   "source": [
    "import com.senzing.g2.engine.G2Engine;\n",
    "import com.senzing.g2.engine.G2JNI;\n",
    "import com.senzing.g2.engine.Result;"
   ]
  },
  {
   "cell_type": "markdown",
   "metadata": {},
   "source": [
    "### Initialize Senzing configuration\n",
    "\n",
    "Run [senzing-G2ConfigMgr-reference.ipynb](senzing-G2ConfigMgr-reference.ipynb)\n",
    "to install a Senzing Engine configuration in the database."
   ]
  },
  {
   "cell_type": "code",
   "execution_count": 2,
   "metadata": {},
   "outputs": [
    {
     "name": "stdout",
     "output_type": "stream",
     "text": [
      "{\"PIPELINE\": {\"CONFIGPATH\": \"/etc/opt/senzing\",\"SUPPORTPATH\": \"/opt/senzing/data\",\"RESOURCEPATH\": \"/opt/senzing/g2/resources\"},\"SQL\": {\"CONNECTION\": \"sqlite3://na:na@/var/opt/senzing/sqlite/G2C.db\"}}\n"
     ]
    }
   ],
   "source": [
    "// Get variables used in constructing Senzing Engine configuration.\n",
    "\n",
    "String configPath = System.getenv(\"SENZING_ETC_DIR\");\n",
    "if (configPath == null) {\n",
    "    configPath = \"/etc/opt/senzing\";\n",
    "}\n",
    "\n",
    "String supportPath = System.getenv(\"SENZING_DATA_VERSION_DIR\");\n",
    "if (supportPath == null) {\n",
    "    supportPath = \"/opt/senzing/data\";\n",
    "}\n",
    "\n",
    "String g2Path = System.getenv(\"SENZING_G2_DIR\");\n",
    "if (g2Path == null) {\n",
    "    g2Path = \"/opt/senzing/g2\";\n",
    "}\n",
    "\n",
    "String resourcePath = g2Path + \"/resources\";\n",
    "\n",
    "String sqlConnection = System.getenv(\"SENZING_SQL_CONNECTION\");\n",
    "if (sqlConnection == null) {\n",
    "    sqlConnection = \"sqlite3://na:na@/var/opt/senzing/sqlite/G2C.db\";\n",
    "}\n",
    "\n",
    "// Construct the JSON string used for Senzing Engine configuration.\n",
    "\n",
    "String senzingConfigJson = \"{\"\n",
    "   + \"\\\"PIPELINE\\\": {\"\n",
    "   +     \"\\\"CONFIGPATH\\\": \\\"\" + configPath + \"\\\",\"\n",
    "   +     \"\\\"SUPPORTPATH\\\": \\\"\" + supportPath + \"\\\",\"\n",
    "   +     \"\\\"RESOURCEPATH\\\": \\\"\" + resourcePath + \"\\\"\"\n",
    "   + \"},\"\n",
    "   + \"\\\"SQL\\\": {\"\n",
    "   +     \"\\\"CONNECTION\\\": \\\"\" + sqlConnection + \"\\\"\"\n",
    "   + \"}}\";\n",
    "   \n",
    "System.out.println(senzingConfigJson);"
   ]
  },
  {
   "cell_type": "code",
   "execution_count": 3,
   "metadata": {},
   "outputs": [
    {
     "name": "stdout",
     "output_type": "stream",
     "text": [
      "0"
     ]
    }
   ],
   "source": [
    "G2Engine g2engine = new G2JNI();\n",
    "\n",
    "String moduleName = \"ExampleG2Engine\";\n",
    "boolean verboseLogging = true;\n",
    "int returnCode = g2engine.initV2(moduleName, senzingConfigJson, verboseLogging);\n",
    "System.out.print(returnCode);"
   ]
  },
  {
   "cell_type": "code",
   "execution_count": 4,
   "metadata": {},
   "outputs": [
    {
     "name": "stdout",
     "output_type": "stream",
     "text": [
      "0"
     ]
    }
   ],
   "source": [
    "int returnCode = g2engine.purgeRepository();\n",
    "System.out.print(returnCode);"
   ]
  },
  {
   "cell_type": "markdown",
   "metadata": {},
   "source": [
    "### Insert records\n",
    "\n",
    "Details at [G2Engine.addRecord](senzing-G2Engine-reference.ipynb#addRecord)."
   ]
  },
  {
   "cell_type": "markdown",
   "metadata": {},
   "source": [
    "#### Insert record 1"
   ]
  },
  {
   "cell_type": "code",
   "execution_count": 7,
   "metadata": {},
   "outputs": [
    {
     "name": "stdout",
     "output_type": "stream",
     "text": [
      "0"
     ]
    }
   ],
   "source": [
    "String dataSourceCode = \"TEST\";\n",
    "String recordID = \"1\";\n",
    "String jsonData =  \"{\\\"NAME_TYPE\\\": \\\"PRIMARY\\\", \\\"NAME_FIRST\\\": \\\"Bob\\\", \\\"NAME_LAST\\\": \\\"Max\\\", \\\"PHONE_NUMBER\\\": \\\"123-456-7899\\\"}\";\n",
    "String loadID = null;\n",
    "\n",
    "int returnCode = g2engine.addRecord(dataSourceCode, recordID, jsonData, loadID);\n",
    "System.out.print(returnCode);"
   ]
  },
  {
   "cell_type": "markdown",
   "metadata": {},
   "source": [
    "#### Insert record 2"
   ]
  },
  {
   "cell_type": "code",
   "execution_count": 9,
   "metadata": {},
   "outputs": [
    {
     "name": "stdout",
     "output_type": "stream",
     "text": [
      "0"
     ]
    }
   ],
   "source": [
    "String dataSourceCode = \"TEST\";\n",
    "String recordID = \"2\";\n",
    "String jsonData =  \"{\\\"NAME_TYPE\\\": \\\"PRIMARY\\\", \\\"NAME_FIRST\\\": \\\"Bob\\\", \\\"NAME_LAST\\\": \\\"Max\\\", \\\"ADDR_FULL\\\": \\\"456 Funny ST\\\"}\";\n",
    "String loadID = null;\n",
    "\n",
    "int returnCode = g2engine.addRecord(dataSourceCode, recordID, jsonData, loadID);\n",
    "System.out.print(returnCode);"
   ]
  },
  {
   "cell_type": "markdown",
   "metadata": {},
   "source": [
    "#### Insert record 3"
   ]
  },
  {
   "cell_type": "code",
   "execution_count": 10,
   "metadata": {},
   "outputs": [
    {
     "name": "stdout",
     "output_type": "stream",
     "text": [
      "0"
     ]
    }
   ],
   "source": [
    "String dataSourceCode = \"TEST\";\n",
    "String recordID = \"2\";\n",
    "String jsonData =  \"{\\\"NAME_TYPE\\\": \\\"PRIMARY\\\", \\\"NAME_FIRST\\\": \\\"Bob\\\", \\\"NAME_LAST\\\": \\\"Max\\\", \\\"ADDR_FULL\\\": \\\"456 Funny ST\\\", \\\"PHONE_NUMBER\\\": \\\"123-456-7899\\\"}\";\n",
    "String loadID = null;\n",
    "\n",
    "int returnCode = g2engine.addRecord(dataSourceCode, recordID, jsonData, loadID);\n",
    "System.out.print(returnCode);"
   ]
  },
  {
   "cell_type": "markdown",
   "metadata": {},
   "source": [
    "### Ask Why\n",
    "\n",
    "Details at [G2Engine.whyEntityByRecordID](senzing-G2Engine-reference.ipynb#whyEntityByRecordID)."
   ]
  },
  {
   "cell_type": "code",
   "execution_count": 18,
   "metadata": {
    "scrolled": true
   },
   "outputs": [
    {
     "name": "stdout",
     "output_type": "stream",
     "text": [
      "{\"WHY_RESULTS\":[{\"INTERNAL_ID\":1003,\"ENTITY_ID\":1001,\"FOCUS_RECORDS\":[{\"DATA_SOURCE\":\"TEST\",\"RECORD_ID\":\"2\"}],\"MATCH_INFO\":{\"WHY_KEY\":\"+NAME+PHONE\",\"WHY_ERRULE_CODE\":\"CNAME_CFF\",\"CANDIDATE_KEYS\":{\"NAME_KEY\":[{\"FEAT_ID\":1003,\"FEAT_DESC\":\"MKS|RBRT|PHONE.PHONE_LAST_5=67899\"},{\"FEAT_ID\":1004,\"FEAT_DESC\":\"BB|MKS\"},{\"FEAT_ID\":1005,\"FEAT_DESC\":\"BB|MKS|PHONE.PHONE_LAST_5=67899\"},{\"FEAT_ID\":1006,\"FEAT_DESC\":\"MKS|RBRT\"}],\"PHONE\":[{\"FEAT_ID\":1002,\"FEAT_DESC\":\"123-456-7899\"}],\"PHONE_KEY\":[{\"FEAT_ID\":1007,\"FEAT_DESC\":\"1234567899\"}]},\"FEATURE_SCORES\":{\"NAME\":[{\"INBOUND_FEAT_ID\":1001,\"INBOUND_FEAT\":\"BOB MAX\",\"INBOUND_FEAT_USAGE_TYPE\":\"PRIMARY\",\"CANDIDATE_FEAT_ID\":1001,\"CANDIDATE_FEAT\":\"BOB MAX\",\"CANDIDATE_FEAT_USAGE_TYPE\":\"PRIMARY\",\"GNR_FN\":100,\"SCORE_BUCKET\":\"SAME\",\"SCORE_BEHAVIOR\":\"NAME\"}],\"PHONE\":[{\"INBOUND_FEAT_ID\":1002,\"INBOUND_FEAT\":\"123-456-7899\",\"INBOUND_FEAT_USAGE_TYPE\":\"\",\"CANDIDATE_FEAT_ID\":1002,\"CANDIDATE_FEAT\":\"123-456-7899\",\"CANDIDATE_FEAT_USAGE_TYPE\":\"\",\"FULL_SCORE\":100,\"SCORE_BUCKET\":\"SAME\",\"SCORE_BEHAVIOR\":\"FF\"}]}}}],\"ENTITIES\":[{\"RESOLVED_ENTITY\":{\"ENTITY_ID\":1001,\"LENS_CODE\":\"DEFAULT\",\"ENTITY_NAME\":\"BOB MAX\",\"FEATURES\":{\"ADDRESS\":[{\"FEAT_DESC\":\"456 FUNNY ST\",\"LIB_FEAT_ID\":1008,\"FEAT_DESC_VALUES\":[{\"FEAT_DESC\":\"456 FUNNY ST\",\"LIB_FEAT_ID\":1008,\"USED_FOR_CAND\":\"N\",\"USED_FOR_SCORING\":\"Y\",\"ENTITY_COUNT\":1,\"CANDIDATE_CAP_REACHED\":\"N\",\"SCORING_CAP_REACHED\":\"N\",\"SUPPRESSED\":\"N\"}]}],\"NAME\":[{\"FEAT_DESC\":\"BOB MAX\",\"LIB_FEAT_ID\":1001,\"UTYPE_CODE\":\"PRIMARY\",\"FEAT_DESC_VALUES\":[{\"FEAT_DESC\":\"BOB MAX\",\"LIB_FEAT_ID\":1001,\"USED_FOR_CAND\":\"N\",\"USED_FOR_SCORING\":\"Y\",\"ENTITY_COUNT\":1,\"CANDIDATE_CAP_REACHED\":\"N\",\"SCORING_CAP_REACHED\":\"N\",\"SUPPRESSED\":\"N\"}]}],\"NAME_KEY\":[{\"FEAT_DESC\":\"BB|MKS\",\"LIB_FEAT_ID\":1004,\"FEAT_DESC_VALUES\":[{\"FEAT_DESC\":\"BB|MKS\",\"LIB_FEAT_ID\":1004,\"USED_FOR_CAND\":\"Y\",\"USED_FOR_SCORING\":\"N\",\"ENTITY_COUNT\":1,\"CANDIDATE_CAP_REACHED\":\"N\",\"SCORING_CAP_REACHED\":\"N\",\"SUPPRESSED\":\"N\"}]},{\"FEAT_DESC\":\"BB|MKS|PHONE.PHONE_LAST_5=67899\",\"LIB_FEAT_ID\":1005,\"FEAT_DESC_VALUES\":[{\"FEAT_DESC\":\"BB|MKS|PHONE.PHONE_LAST_5=67899\",\"LIB_FEAT_ID\":1005,\"USED_FOR_CAND\":\"Y\",\"USED_FOR_SCORING\":\"N\",\"ENTITY_COUNT\":1,\"CANDIDATE_CAP_REACHED\":\"N\",\"SCORING_CAP_REACHED\":\"N\",\"SUPPRESSED\":\"N\"}]},{\"FEAT_DESC\":\"MKS|RBRT\",\"LIB_FEAT_ID\":1006,\"FEAT_DESC_VALUES\":[{\"FEAT_DESC\":\"MKS|RBRT\",\"LIB_FEAT_ID\":1006,\"USED_FOR_CAND\":\"Y\",\"USED_FOR_SCORING\":\"N\",\"ENTITY_COUNT\":1,\"CANDIDATE_CAP_REACHED\":\"N\",\"SCORING_CAP_REACHED\":\"N\",\"SUPPRESSED\":\"N\"}]},{\"FEAT_DESC\":\"MKS|RBRT|PHONE.PHONE_LAST_5=67899\",\"LIB_FEAT_ID\":1003,\"FEAT_DESC_VALUES\":[{\"FEAT_DESC\":\"MKS|RBRT|PHONE.PHONE_LAST_5=67899\",\"LIB_FEAT_ID\":1003,\"USED_FOR_CAND\":\"Y\",\"USED_FOR_SCORING\":\"N\",\"ENTITY_COUNT\":1,\"CANDIDATE_CAP_REACHED\":\"N\",\"SCORING_CAP_REACHED\":\"N\",\"SUPPRESSED\":\"N\"}]}],\"PHONE\":[{\"FEAT_DESC\":\"123-456-7899\",\"LIB_FEAT_ID\":1002,\"FEAT_DESC_VALUES\":[{\"FEAT_DESC\":\"123-456-7899\",\"LIB_FEAT_ID\":1002,\"USED_FOR_CAND\":\"Y\",\"USED_FOR_SCORING\":\"Y\",\"ENTITY_COUNT\":1,\"CANDIDATE_CAP_REACHED\":\"N\",\"SCORING_CAP_REACHED\":\"N\",\"SUPPRESSED\":\"N\"}]}],\"PHONE_KEY\":[{\"FEAT_DESC\":\"1234567899\",\"LIB_FEAT_ID\":1007,\"FEAT_DESC_VALUES\":[{\"FEAT_DESC\":\"1234567899\",\"LIB_FEAT_ID\":1007,\"USED_FOR_CAND\":\"Y\",\"USED_FOR_SCORING\":\"N\",\"ENTITY_COUNT\":1,\"CANDIDATE_CAP_REACHED\":\"N\",\"SCORING_CAP_REACHED\":\"N\",\"SUPPRESSED\":\"N\"}]}]},\"RECORD_SUMMARY\":[{\"DATA_SOURCE\":\"TEST\",\"RECORD_COUNT\":3,\"FIRST_SEEN_DT\":\"2020-03-16 18:01:40.730\",\"LAST_SEEN_DT\":\"2020-03-16 18:08:51.377\"}],\"LAST_SEEN_DT\":\"2020-03-16 18:08:51.377\",\"RECORDS\":[{\"JSON_DATA\":{\"NAME_TYPE\":\"PRIMARY\",\"NAME_FIRST\":\"Bob\",\"NAME_LAST\":\"Max\",\"PHONE_NUMBER\":\"123-456-7899\",\"DATA_SOURCE\":\"TEST\",\"ENTITY_TYPE\":\"TEST\",\"DSRC_ACTION\":\"A\",\"LENS_CODE\":\"DEFAULT\",\"RECORD_ID\":\"1\"},\"DATA_SOURCE\":\"TEST\",\"ENTITY_TYPE\":\"TEST\",\"ENTITY_KEY\":\"64CD7E36A772A6CA7DE27534B8FBFED9F1C6E48E\",\"ENTITY_NAME\":\"Bob Max\",\"RECORD_ID\":\"1\",\"MATCH_KEY\":\"\",\"MATCH_SCORE\":\"\",\"ERRULE_CODE\":\"\",\"REF_SCORE\":0,\"MATCH_LEVEL\":0,\"MATCH_LEVEL_CODE\":\"\",\"LAST_SEEN_DT\":\"2020-03-16 18:07:14.185\",\"NAME_DATA\":[\"PRIMARY: Max Bob\"],\"ATTRIBUTE_DATA\":[],\"IDENTIFIER_DATA\":[],\"ADDRESS_DATA\":[],\"PHONE_DATA\":[\"123-456-7899\"],\"RELATIONSHIP_DATA\":[],\"ENTITY_DATA\":[],\"OTHER_DATA\":[],\"INTERNAL_ID\":1001,\"FEATURES\":[{\"LIB_FEAT_ID\":1001,\"UTYPE_CODE\":\"PRIMARY\"},{\"LIB_FEAT_ID\":1002},{\"LIB_FEAT_ID\":1003},{\"LIB_FEAT_ID\":1004},{\"LIB_FEAT_ID\":1005},{\"LIB_FEAT_ID\":1006},{\"LIB_FEAT_ID\":1007}]},{\"JSON_DATA\":{\"NAME_TYPE\":\"PRIMARY\",\"NAME_FIRST\":\"Bob\",\"NAME_LAST\":\"Max\",\"PHONE_NUMBER\":\"123-456-7899\",\"DATA_SOURCE\":\"TEST\",\"ENTITY_TYPE\":\"TEST\",\"DSRC_ACTION\":\"A\",\"LENS_CODE\":\"DEFAULT\",\"RECORD_ID\":\"RECORD3\"},\"DATA_SOURCE\":\"TEST\",\"ENTITY_TYPE\":\"TEST\",\"ENTITY_KEY\":\"64CD7E36A772A6CA7DE27534B8FBFED9F1C6E48E\",\"ENTITY_NAME\":\"Bob Max\",\"RECORD_ID\":\"RECORD3\",\"MATCH_KEY\":\"EXACTLY_SAME\",\"MATCH_SCORE\":\"\",\"ERRULE_CODE\":\"\",\"REF_SCORE\":0,\"MATCH_LEVEL\":0,\"MATCH_LEVEL_CODE\":\"\",\"LAST_SEEN_DT\":\"2020-03-16 18:06:51.084\",\"NAME_DATA\":[\"PRIMARY: Max Bob\"],\"ATTRIBUTE_DATA\":[],\"IDENTIFIER_DATA\":[],\"ADDRESS_DATA\":[],\"PHONE_DATA\":[\"123-456-7899\"],\"RELATIONSHIP_DATA\":[],\"ENTITY_DATA\":[],\"OTHER_DATA\":[],\"INTERNAL_ID\":1001,\"FEATURES\":[{\"LIB_FEAT_ID\":1001,\"UTYPE_CODE\":\"PRIMARY\"},{\"LIB_FEAT_ID\":1002},{\"LIB_FEAT_ID\":1003},{\"LIB_FEAT_ID\":1004},{\"LIB_FEAT_ID\":1005},{\"LIB_FEAT_ID\":1006},{\"LIB_FEAT_ID\":1007}]},{\"JSON_DATA\":{\"NAME_TYPE\":\"PRIMARY\",\"NAME_FIRST\":\"Bob\",\"NAME_LAST\":\"Max\",\"ADDR_FULL\":\"456 Funny ST\",\"PHONE_NUMBER\":\"123-456-7899\",\"DATA_SOURCE\":\"TEST\",\"ENTITY_TYPE\":\"TEST\",\"DSRC_ACTION\":\"A\",\"LENS_CODE\":\"DEFAULT\",\"RECORD_ID\":\"2\"},\"DATA_SOURCE\":\"TEST\",\"ENTITY_TYPE\":\"TEST\",\"ENTITY_KEY\":\"A42B6B6A7EBB95AEE3EA3D36E567E1595AC31F23\",\"ENTITY_NAME\":\"Bob Max\",\"RECORD_ID\":\"2\",\"MATCH_KEY\":\"+NAME+PHONE\",\"MATCH_SCORE\":\"12\",\"ERRULE_CODE\":\"CNAME_CFF\",\"REF_SCORE\":6,\"MATCH_LEVEL\":1,\"MATCH_LEVEL_CODE\":\"RESOLVED\",\"LAST_SEEN_DT\":\"2020-03-16 18:08:51.377\",\"NAME_DATA\":[\"PRIMARY: Max Bob\"],\"ATTRIBUTE_DATA\":[],\"IDENTIFIER_DATA\":[],\"ADDRESS_DATA\":[\"456 Funny ST\"],\"PHONE_DATA\":[\"123-456-7899\"],\"RELATIONSHIP_DATA\":[],\"ENTITY_DATA\":[],\"OTHER_DATA\":[],\"INTERNAL_ID\":1003,\"FEATURES\":[{\"LIB_FEAT_ID\":1001,\"UTYPE_CODE\":\"PRIMARY\"},{\"LIB_FEAT_ID\":1002},{\"LIB_FEAT_ID\":1003},{\"LIB_FEAT_ID\":1004},{\"LIB_FEAT_ID\":1005},{\"LIB_FEAT_ID\":1006},{\"LIB_FEAT_ID\":1007},{\"LIB_FEAT_ID\":1008}]}]}}]}"
     ]
    }
   ],
   "source": [
    "String datasource_code = \"TEST\";\n",
    "String recordID = \"2\";\n",
    "StringBuffer response = new StringBuffer();\n",
    "int returncode = g2engine.whyEntityByRecordID(datasource_code,recordID, response);\n",
    "System.out.print(response);"
   ]
  },
  {
   "cell_type": "code",
   "execution_count": null,
   "metadata": {},
   "outputs": [],
   "source": []
  },
  {
   "cell_type": "code",
   "execution_count": null,
   "metadata": {},
   "outputs": [],
   "source": []
  },
  {
   "cell_type": "code",
   "execution_count": null,
   "metadata": {},
   "outputs": [],
   "source": []
  },
  {
   "cell_type": "code",
   "execution_count": null,
   "metadata": {},
   "outputs": [],
   "source": []
  },
  {
   "cell_type": "code",
   "execution_count": null,
   "metadata": {},
   "outputs": [],
   "source": []
  },
  {
   "cell_type": "code",
   "execution_count": null,
   "metadata": {},
   "outputs": [],
   "source": []
  },
  {
   "cell_type": "code",
   "execution_count": null,
   "metadata": {},
   "outputs": [],
   "source": []
  },
  {
   "cell_type": "code",
   "execution_count": null,
   "metadata": {},
   "outputs": [],
   "source": []
  },
  {
   "cell_type": "code",
   "execution_count": null,
   "metadata": {},
   "outputs": [],
   "source": []
  },
  {
   "cell_type": "code",
   "execution_count": null,
   "metadata": {},
   "outputs": [],
   "source": []
  },
  {
   "cell_type": "code",
   "execution_count": null,
   "metadata": {},
   "outputs": [],
   "source": []
  },
  {
   "cell_type": "code",
   "execution_count": null,
   "metadata": {},
   "outputs": [],
   "source": []
  },
  {
   "cell_type": "code",
   "execution_count": null,
   "metadata": {},
   "outputs": [],
   "source": []
  },
  {
   "cell_type": "code",
   "execution_count": null,
   "metadata": {},
   "outputs": [],
   "source": []
  },
  {
   "cell_type": "code",
   "execution_count": null,
   "metadata": {},
   "outputs": [],
   "source": []
  },
  {
   "cell_type": "code",
   "execution_count": null,
   "metadata": {},
   "outputs": [],
   "source": []
  }
 ],
 "metadata": {
  "kernelspec": {
   "display_name": "Java",
   "language": "java",
   "name": "java"
  },
  "language_info": {
   "codemirror_mode": "java",
   "file_extension": ".jshell",
   "mimetype": "text/x-java-source",
   "name": "Java",
   "pygments_lexer": "java",
   "version": "11.0.6+10-post-Ubuntu-1ubuntu118.04.1"
  }
 },
 "nbformat": 4,
 "nbformat_minor": 4
}
