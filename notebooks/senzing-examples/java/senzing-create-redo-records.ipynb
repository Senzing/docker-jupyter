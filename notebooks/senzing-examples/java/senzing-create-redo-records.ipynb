{
 "cells": [
  {
   "cell_type": "markdown",
   "metadata": {},
   "source": [
    "# Create redo records\n",
    "This Jupyter notebook shows how to create a Senzing \"redo record\". It assums a G2 database that is empty"
   ]
  },
  {
   "cell_type": "code",
   "execution_count": 1,
   "metadata": {},
   "outputs": [],
   "source": [
    "import com.senzing.g2.engine.G2Engine;\n",
    "import com.senzing.g2.engine.G2JNI;\n",
    "import com.senzing.g2.engine.G2ConfigMgr;\n",
    "import com.senzing.g2.engine.G2ConfigMgrJNI;\n",
    "import com.senzing.g2.engine.G2Config;\n",
    "import com.senzing.g2.engine.G2ConfigJNI;\n",
    "import com.senzing.g2.engine.Result;"
   ]
  },
  {
   "cell_type": "markdown",
   "metadata": {},
   "source": [
    "### Initialize Senzing configuration\n",
    "\n",
    "Using environment variables and default values, create `senzingConfigJson`.\n",
    "This value is used when instantiating Senzing objects."
   ]
  },
  {
   "cell_type": "code",
   "execution_count": 2,
   "metadata": {},
   "outputs": [
    {
     "name": "stdout",
     "output_type": "stream",
     "text": [
      "{\"PIPELINE\": {\"CONFIGPATH\": \"/etc/opt/senzing\",\"SUPPORTPATH\": \"/opt/senzing/data\",\"RESOURCEPATH\": \"/opt/senzing/g2/resources\"},\"SQL\": {\"CONNECTION\": \"sqlite3://na:na@/var/opt/senzing/sqlite/G2C.db\"}}\n"
     ]
    }
   ],
   "source": [
    "// Get variables used in constructing Senzing Engine configuration.\n",
    "\n",
    "String configPath = System.getenv(\"SENZING_ETC_DIR\");\n",
    "if (configPath == null) {\n",
    "    configPath = \"/etc/opt/senzing\";\n",
    "}\n",
    "\n",
    "String supportPath = System.getenv(\"SENZING_DATA_VERSION_DIR\");\n",
    "if (supportPath == null) {\n",
    "    supportPath = \"/opt/senzing/data\";\n",
    "}\n",
    "\n",
    "String g2Path = System.getenv(\"SENZING_G2_DIR\");\n",
    "if (g2Path == null) {\n",
    "    g2Path = \"/opt/senzing/g2\";\n",
    "}\n",
    "\n",
    "String resourcePath = g2Path + \"/resources\";\n",
    "\n",
    "String sqlConnection = System.getenv(\"SENZING_SQL_CONNECTION\");\n",
    "if (sqlConnection == null) {\n",
    "    sqlConnection = \"sqlite3://na:na@/var/opt/senzing/sqlite/G2C.db\";\n",
    "}\n",
    "\n",
    "// Construct the JSON string used for Senzing Engine configuration.\n",
    "\n",
    "String senzingConfigJson = \"{\"\n",
    "   + \"\\\"PIPELINE\\\": {\"\n",
    "   +     \"\\\"CONFIGPATH\\\": \\\"\" + configPath + \"\\\",\"\n",
    "   +     \"\\\"SUPPORTPATH\\\": \\\"\" + supportPath + \"\\\",\"\n",
    "   +     \"\\\"RESOURCEPATH\\\": \\\"\" + resourcePath + \"\\\"\"\n",
    "   + \"},\"\n",
    "   + \"\\\"SQL\\\": {\"\n",
    "   +     \"\\\"CONNECTION\\\": \\\"\" + sqlConnection + \"\\\"\"\n",
    "   + \"}}\";\n",
    "   \n",
    "System.out.println(senzingConfigJson);"
   ]
  },
  {
   "cell_type": "markdown",
   "metadata": {},
   "source": [
    "# Senzing initializaton\n",
    "Create an instance of G2Engine, Config, and ConfigMgr"
   ]
  },
  {
   "cell_type": "code",
   "execution_count": 3,
   "metadata": {},
   "outputs": [
    {
     "name": "stdout",
     "output_type": "stream",
     "text": [
      "0"
     ]
    }
   ],
   "source": [
    "G2Engine g2engine = new G2JNI();\n",
    "\n",
    "String moduleName = \"ExampleG2Engine\";\n",
    "boolean verboseLogging = true;\n",
    "int return_code = g2engine.initV2(moduleName, senzingConfigJson, verboseLogging);\n",
    "System.out.print(return_code);"
   ]
  },
  {
   "cell_type": "code",
   "execution_count": 7,
   "metadata": {},
   "outputs": [
    {
     "name": "stdout",
     "output_type": "stream",
     "text": [
      "0"
     ]
    }
   ],
   "source": [
    "String moduleName = \"ExampleG2Config\";\n",
    "boolean verboseLogging = true;\n",
    "\n",
    "G2Config g2config = new G2ConfigJNI();\n",
    "int return_code = g2config.initV2(moduleName, senzingConfigJson, verboseLogging);\n",
    "long config_handle = g2config.create();\n",
    "if(return_code!=0)\n",
    "    System.out.print(g2config.getLastException());\n",
    "else\n",
    "    System.out.print(return_code);"
   ]
  },
  {
   "cell_type": "code",
   "execution_count": 5,
   "metadata": {},
   "outputs": [
    {
     "name": "stdout",
     "output_type": "stream",
     "text": [
      "0"
     ]
    }
   ],
   "source": [
    "G2ConfigMgr g2ConfigMgr = new G2ConfigMgrJNI();\n",
    "\n",
    "String moduleName = \"ExampleG2ConfigMgr\";\n",
    "boolean verboseLogging = true;\n",
    "int returnCode = g2ConfigMgr.initV2(moduleName, senzingConfigJson, verboseLogging);\n",
    "g2ConfigMgr.getLastException();\n",
    "System.out.print(returnCode);"
   ]
  },
  {
   "cell_type": "markdown",
   "metadata": {},
   "source": [
    "# Create add data source function"
   ]
  },
  {
   "cell_type": "code",
   "execution_count": null,
   "metadata": {},
   "outputs": [],
   "source": [
    "public void addDataSource(dataSource_suff){\n",
    "    dataSource_pre = \"TEST_DATA_SOURCE_\";\n",
    "    dataSourceID = \n",
    "}"
   ]
  },
  {
   "cell_type": "code",
   "execution_count": null,
   "metadata": {},
   "outputs": [],
   "source": []
  },
  {
   "cell_type": "code",
   "execution_count": null,
   "metadata": {},
   "outputs": [],
   "source": []
  },
  {
   "cell_type": "code",
   "execution_count": null,
   "metadata": {},
   "outputs": [],
   "source": []
  },
  {
   "cell_type": "code",
   "execution_count": null,
   "metadata": {},
   "outputs": [],
   "source": []
  },
  {
   "cell_type": "code",
   "execution_count": null,
   "metadata": {},
   "outputs": [],
   "source": []
  },
  {
   "cell_type": "code",
   "execution_count": null,
   "metadata": {},
   "outputs": [],
   "source": []
  },
  {
   "cell_type": "code",
   "execution_count": null,
   "metadata": {},
   "outputs": [],
   "source": []
  },
  {
   "cell_type": "markdown",
   "metadata": {},
   "source": [
    "# Print data sources\n",
    "Print the list of currently defined data sources"
   ]
  },
  {
   "cell_type": "code",
   "execution_count": null,
   "metadata": {},
   "outputs": [],
   "source": [
    "StringBuffer datasources = new StringBuffer();\n",
    "\n",
    "int return_code = g2config.listDataSources(config_handle, datasources);"
   ]
  }
 ],
 "metadata": {
  "kernelspec": {
   "display_name": "Java",
   "language": "java",
   "name": "java"
  },
  "language_info": {
   "codemirror_mode": "java",
   "file_extension": ".jshell",
   "mimetype": "text/x-java-source",
   "name": "Java",
   "pygments_lexer": "java",
   "version": "11.0.6+10-post-Ubuntu-1ubuntu118.04.1"
  }
 },
 "nbformat": 4,
 "nbformat_minor": 4
}
