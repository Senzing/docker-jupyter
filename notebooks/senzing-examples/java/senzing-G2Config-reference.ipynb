{
 "cells": [
  {
   "cell_type": "markdown",
   "metadata": {},
   "source": [
    "# G2Config Reference\n",
    "\n",
    "More information:\n",
    "\n",
    "1. [GitHub repository](https://github.com/Senzing/docker-jupyter)\n",
    "1. [Senzing documentation](http://docs.senzing.com/?python#g2config)"
   ]
  },
  {
   "cell_type": "code",
   "execution_count": null,
   "metadata": {},
   "outputs": [],
   "source": [
    "import com.senzing.g2.engine.G2Config;\n",
    "import com.senzing.g2.engine.G2ConfigJNI;"
   ]
  },
  {
   "cell_type": "markdown",
   "metadata": {},
   "source": [
    "### Initialize Senzing configuration\n",
    "\n",
    "Using environment variables and default values, create `senzingConfigJson`.\n",
    "This value is used when instantiating Senzing objects."
   ]
  },
  {
   "cell_type": "code",
   "execution_count": null,
   "metadata": {},
   "outputs": [],
   "source": [
    "// Get variables used in constructing Senzing Engine configuration.\n",
    "\n",
    "String configPath = System.getenv(\"SENZING_ETC_DIR\");\n",
    "if (configPath == null) {\n",
    "    configPath = \"/etc/opt/senzing\";\n",
    "}\n",
    "\n",
    "String supportPath = System.getenv(\"SENZING_DATA_VERSION_DIR\");\n",
    "if (supportPath == null) {\n",
    "    supportPath = \"/opt/senzing/data\";\n",
    "}\n",
    "\n",
    "String g2Path = System.getenv(\"SENZING_G2_DIR\");\n",
    "if (g2Path == null) {\n",
    "    g2Path = \"/opt/senzing/g2\";\n",
    "}\n",
    "\n",
    "String resourcePath = g2Path + \"/resources\";\n",
    "\n",
    "String sqlConnection = System.getenv(\"SENZING_SQL_CONNECTION\");\n",
    "if (sqlConnection == null) {\n",
    "    sqlConnection = \"sqlite3://na:na@/var/opt/senzing/sqlite/G2C.db\";\n",
    "}\n",
    "\n",
    "// Construct the JSON string used for Senzing Engine configuration.\n",
    "\n",
    "String senzingConfigJson = \"{\"\n",
    "   + \"\\\"PIPELINE\\\": {\"\n",
    "   +     \"\\\"CONFIGPATH\\\": \\\"\" + configPath + \"\\\",\"\n",
    "   +     \"\\\"SUPPORTPATH\\\": \\\"\" + supportPath + \"\\\",\"\n",
    "   +     \"\\\"RESOURCEPATH\\\": \\\"\" + resourcePath + \"\\\"\"\n",
    "   + \"},\"\n",
    "   + \"\\\"SQL\\\": {\"\n",
    "   +     \"\\\"CONNECTION\\\": \\\"\" + sqlConnection + \"\\\"\"\n",
    "   + \"}}\";\n",
    "   \n",
    "System.out.println(senzingConfigJson);"
   ]
  },
  {
   "cell_type": "markdown",
   "metadata": {},
   "source": [
    "## G2Config\n",
    "\n",
    "The G2Config API is used to create a new JSON configuration from the default template\n",
    "or manipulate a JSON configuration that it is provided.\n",
    "The API read/writes a JSON string, but that string would typically be\n",
    "read/written from/to a g2config.json file that the G2 engine reads during the initV2(...) call."
   ]
  },
  {
   "cell_type": "markdown",
   "metadata": {},
   "source": [
    "### G2Config Initialization\n",
    "\n",
    "To start using G2Config, you must first create and initialize the G2Config object.\n",
    "This should be done once per process.\n",
    "\n",
    "Create a new instance of the Senzing G2Config object and assign it to a variable.\n",
    "Then, call the appropriate initialization method (such as initV2) to initialize the G2Config object.\n",
    "\n",
    "During the call, the initialization methods accept the following parameters:\n",
    "\n",
    "- **module_name:** A short name given to this instance of the G2 engine (i.e. your G2Module object)\n",
    "- **senzing_config_json:** A JSON document containing system parameters (see the section called \"Initialization Parameters\")\n",
    "- **verbose_logging:** A boolean which enables diagnostic logging - this will print a massive amount of information to stdout (default = False)\n",
    "\n",
    "Calling these functions will return \"0\" upon success - useful for error handling."
   ]
  },
  {
   "cell_type": "code",
   "execution_count": null,
   "metadata": {},
   "outputs": [],
   "source": [
    "String moduleName = \"ExampleG2Config\";\n",
    "boolean verboseLogging = true;\n",
    "\n",
    "G2Config g2config = new G2ConfigJNI();\n",
    "int return_code = g2config.initV2(moduleName, senzingConfigJson, verboseLogging);\n",
    "\n",
    "if(return_code!=0)\n",
    "    System.out.print(g2config.getLastException());\n",
    "else\n",
    "    System.out.print(return_code);"
   ]
  },
  {
   "cell_type": "code",
   "execution_count": null,
   "metadata": {},
   "outputs": [],
   "source": [
    "long config_handle = g2config.create()"
   ]
  },
  {
   "cell_type": "markdown",
   "metadata": {},
   "source": [
    "# List DataSources\n",
    "Call G2Config's `listDataSourcesV2()` method and print results."
   ]
  },
  {
   "cell_type": "code",
   "execution_count": null,
   "metadata": {},
   "outputs": [],
   "source": [
    "StringBuffer response = new StringBuffer();\n",
    "\n",
    "int return_code = g2config.listDataSourcesV2(config_handle, response);\n",
    "\n",
    "if(return_code!=0)\n",
    "    System.out.print(g2config.getLastException());\n",
    "else\n",
    "    System.out.print(response);"
   ]
  },
  {
   "cell_type": "markdown",
   "metadata": {},
   "source": [
    "# Add DataSource\n",
    "Call G2Config's `addDataSourceV2()` method and print results"
   ]
  },
  {
   "cell_type": "code",
   "execution_count": null,
   "metadata": {},
   "outputs": [],
   "source": [
    "String dataSource = \"{\\\"DSRC_CODE\\\": \\\"CUSTOMER\\\"}\";\n",
    "\n",
    "StringBuffer response = new StringBuffer();\n",
    "\n",
    "int return_code = g2config.addDataSourceV2(config_handle, dataSource, response);\n",
    "\n",
    "if(return_code!=0)\n",
    "    System.out.print(g2config.getLastException());\n",
    "else\n",
    "    System.out.print(response);"
   ]
  },
  {
   "cell_type": "markdown",
   "metadata": {},
   "source": [
    "## List DataSources again\n",
    "Call G2Config's `listDataSourcesV2()` method and print results. Notice that the list now contains the newly add dataSource of \"CUSTOMER\"."
   ]
  },
  {
   "cell_type": "code",
   "execution_count": null,
   "metadata": {},
   "outputs": [],
   "source": [
    "StringBuffer response = new StringBuffer();\n",
    "\n",
    "int return_code = g2config.listDataSourcesV2(config_handle, response);\n",
    "\n",
    "if(return_code!=0)\n",
    "    System.out.print(g2config.getLastException());\n",
    "else\n",
    "    System.out.print(response);"
   ]
  },
  {
   "cell_type": "markdown",
   "metadata": {},
   "source": [
    "# List Entity Classes\n",
    "Call G2Config's `listEntityClassesV2()` method and print results."
   ]
  },
  {
   "cell_type": "code",
   "execution_count": null,
   "metadata": {
    "scrolled": true
   },
   "outputs": [],
   "source": [
    "StringBuffer response = new StringBuffer();\n",
    "\n",
    "int return_code = g2config.listEntityTypesV2(config_handle, response);\n",
    "\n",
    "if(return_code!=0)\n",
    "    System.out.print(g2config.getLastException());\n",
    "else\n",
    "    System.out.print(response);"
   ]
  },
  {
   "cell_type": "markdown",
   "metadata": {},
   "source": [
    "# List Entity Types\n",
    "Call G2Config's `listEntityTypesV2()` method and print results."
   ]
  },
  {
   "cell_type": "code",
   "execution_count": null,
   "metadata": {},
   "outputs": [],
   "source": [
    "StringBuffer response = new StringBuffer();\n",
    "\n",
    "int return_code = g2config.listEntityTypesV2(config_handle, response);\n",
    "\n",
    "if(return_code!=0)\n",
    "    System.out.print(g2config.getLastException());\n",
    "else\n",
    "    System.out.print(response);"
   ]
  },
  {
   "cell_type": "markdown",
   "metadata": {},
   "source": [
    "# Add Entity Class\n",
    "Call G2Config's `addEntityClassV2()` method and print results"
   ]
  },
  {
   "cell_type": "code",
   "execution_count": null,
   "metadata": {},
   "outputs": [],
   "source": [
    "String entityClass = \"{\\\"ECLASS_CODE\\\": \\\"COMPANY\\\"}\";\n",
    "StringBuffer response = new StringBuffer();\n",
    "\n",
    "int return_code = g2config.addEntityClassV2(config_handle, entityClass, response);\n",
    "\n",
    "if(return_code!=0)\n",
    "    System.out.print(g2config.getLastException());\n",
    "else\n",
    "    System.out.print(response);"
   ]
  },
  {
   "cell_type": "markdown",
   "metadata": {},
   "source": [
    "## List Entity Classes again\n",
    "Call G2Config's `listEntityClassesV2()` method and print results. Notice that the list now contains the newly added entityClass \"COMPANY\"."
   ]
  },
  {
   "cell_type": "code",
   "execution_count": null,
   "metadata": {},
   "outputs": [],
   "source": [
    "StringBuffer response = new StringBuffer();\n",
    "\n",
    "int return_code = g2config.listEntityClassesV2(config_handle, response);\n",
    "\n",
    "if(return_code!=0)\n",
    "    System.out.print(g2config.getLastException());\n",
    "else\n",
    "    System.out.print(response);"
   ]
  },
  {
   "cell_type": "markdown",
   "metadata": {},
   "source": [
    "# Add Entity type\n",
    "Call G2Config's `addEntityTypeV2()` method and print results."
   ]
  },
  {
   "cell_type": "code",
   "execution_count": null,
   "metadata": {},
   "outputs": [],
   "source": [
    "String entityType = \"{\\\"ETYPE_CODE\\\": \\\"PROFESSIONAL\\\", \\\"ECLASS_CODE\\\": \\\"ACTOR\\\"}\";\n",
    "StringBuffer response = new StringBuffer();\n",
    "\n",
    "int return_code = g2config.addEntityTypeV2(config_handle, entityType, response);\n",
    "\n",
    "if(return_code!=0)\n",
    "    System.out.print(g2config.getLastException());\n",
    "else\n",
    "    System.out.print(response);"
   ]
  },
  {
   "cell_type": "markdown",
   "metadata": {},
   "source": [
    "## List Entity Types again\n",
    "Call G2Config's `listEntityTypesV2()` method and print results. Notice that the list now contains the newly added entityType \"PROFESSIONAL\"."
   ]
  },
  {
   "cell_type": "code",
   "execution_count": null,
   "metadata": {},
   "outputs": [],
   "source": [
    "StringBuffer response = new StringBuffer();\n",
    "\n",
    "int return_code = g2config.listEntityTypesV2(config_handle, response);\n",
    "\n",
    "if(return_code!=0)\n",
    "    System.out.print(g2config.getLastException());\n",
    "else\n",
    "    System.out.print(response);"
   ]
  },
  {
   "cell_type": "markdown",
   "metadata": {},
   "source": [
    "# Delete Entity Class\n",
    "Call G2Config's `deleteEntityClassV2()` method. Returns 0 on success"
   ]
  },
  {
   "cell_type": "code",
   "execution_count": null,
   "metadata": {
    "scrolled": true
   },
   "outputs": [],
   "source": [
    "String entityClass = \"{\\\"ECLASS_CODE\\\": \\\"COMPANY\\\"}\";\n",
    "\n",
    "int return_code = g2config.deleteEntityClassV2(config_handle, entityClass);\n",
    "\n",
    "if(return_code!=0)\n",
    "    System.out.print(g2config.getLastException());\n",
    "else\n",
    "    System.out.print(return_code);"
   ]
  },
  {
   "cell_type": "markdown",
   "metadata": {},
   "source": [
    "# Delete Entity Type\n",
    "Call G2Config's `deleteEntityTypeV2()` method. Returns 0 on success"
   ]
  },
  {
   "cell_type": "code",
   "execution_count": null,
   "metadata": {},
   "outputs": [],
   "source": [
    "String entityType = \"{\\\"ETYPE_CODE\\\": \\\"PROFESSIONAL\\\", \\\"ECLASS_CODE\\\": \\\"ACTOR\\\"}\";\n",
    "\n",
    "int return_code = g2config.deleteEntityTypeV2(config_handle, entityType);\n",
    "\n",
    "if(return_code!=0)\n",
    "    System.out.print(g2config.getLastException());\n",
    "else\n",
    "    System.out.print(return_code);"
   ]
  },
  {
   "cell_type": "markdown",
   "metadata": {},
   "source": [
    "# List Feature Elements\n",
    "Call G2Config's `listFeatureElementsV2()` method and print results."
   ]
  },
  {
   "cell_type": "code",
   "execution_count": null,
   "metadata": {
    "scrolled": true
   },
   "outputs": [],
   "source": [
    "StringBuffer response = new StringBuffer();\n",
    "\n",
    "int return_code = g2config.listFeatureElementsV2(config_handle, response);\n",
    "\n",
    "if(return_code!=0)\n",
    "    System.out.print(g2config.getLastException());\n",
    "else\n",
    "    System.out.print(response);"
   ]
  },
  {
   "cell_type": "markdown",
   "metadata": {},
   "source": [
    "# Get Feature Element\n",
    "Call G2Config's `getFeatureElementV2()` method and print results."
   ]
  },
  {
   "cell_type": "code",
   "execution_count": null,
   "metadata": {},
   "outputs": [],
   "source": [
    "String featureElm = \"{\\\"FELEM_CODE\\\": \\\"GIVEN_NAME\\\"}\";\n",
    "StringBuffer response = new StringBuffer();\n",
    "\n",
    "int return_code = g2config.getFeatureElementV2(config_handle, featureElm, response);\n",
    "\n",
    "if(return_code!=0)\n",
    "    System.out.print(g2config.getLastException());\n",
    "else\n",
    "    System.out.print(response);"
   ]
  },
  {
   "cell_type": "markdown",
   "metadata": {},
   "source": [
    "# Add Feature Element\n",
    "Call G2Config's `addFeatureElementV2()` method and print results."
   ]
  },
  {
   "cell_type": "code",
   "execution_count": null,
   "metadata": {},
   "outputs": [],
   "source": [
    "String featureElm = \"{\\\"FELEM_CODE\\\":\\\"myNewFelem\\\",\\\"FELEM_ID\\\":789,\\\"TOKENIZE\\\":1,\\\"DATA_TYPE\\\":\\\"string\\\"}\";\n",
    "StringBuffer response = new StringBuffer();\n",
    "\n",
    "int return_code = g2config.addFeatureElementV2(config_handle, featureElm, response);\n",
    "\n",
    "if(return_code!=0)\n",
    "    System.out.print(g2config.getLastException());\n",
    "else\n",
    "    System.out.print(response);"
   ]
  },
  {
   "cell_type": "markdown",
   "metadata": {},
   "source": [
    "# Delete Feature Element\n",
    "Call G2Config's `deleteFeatureElementV2()` method. Returns 0 on success"
   ]
  },
  {
   "cell_type": "code",
   "execution_count": null,
   "metadata": {},
   "outputs": [],
   "source": [
    "String featureElm = \"{\\\"FELEM_CODE\\\": \\\"myNewFelem\\\"}\";\n",
    "\n",
    "int return_code = g2config.deleteFeatureElementV2(config_handle, featureElm);\n",
    "\n",
    "if(return_code!=0)\n",
    "    System.out.print(g2config.getLastException());\n",
    "else\n",
    "    System.out.print(return_code);"
   ]
  },
  {
   "cell_type": "markdown",
   "metadata": {},
   "source": [
    "# List Feature Classes\n",
    "Call G2Config's `listFeatureClassesV2()` method and print results."
   ]
  },
  {
   "cell_type": "code",
   "execution_count": null,
   "metadata": {
    "scrolled": true
   },
   "outputs": [],
   "source": [
    "StringBuffer response = new StringBuffer();\n",
    "\n",
    "int return_code = g2config.listFeatureClassesV2(config_handle, response);\n",
    "\n",
    "if(return_code!=0)\n",
    "    System.out.print(g2config.getLastException());\n",
    "else\n",
    "    System.out.print(response);"
   ]
  },
  {
   "cell_type": "markdown",
   "metadata": {},
   "source": [
    "# List Features\n",
    "Call G2Config's `listFeaturesV2()` method and print results."
   ]
  },
  {
   "cell_type": "code",
   "execution_count": null,
   "metadata": {
    "scrolled": true
   },
   "outputs": [],
   "source": [
    "StringBuffer response = new StringBuffer();\n",
    "\n",
    "int return_code = g2config.listFeaturesV2(config_handle, response);\n",
    "\n",
    "if(return_code!=0)\n",
    "    System.out.print(g2config.getLastException());\n",
    "else\n",
    "    System.out.print(response);"
   ]
  },
  {
   "cell_type": "markdown",
   "metadata": {},
   "source": [
    "# Get Feature\n",
    "Call G2Config's `getFeatureV2()` method and print results."
   ]
  },
  {
   "cell_type": "code",
   "execution_count": null,
   "metadata": {},
   "outputs": [],
   "source": [
    "String feature = \"{\\\"FTYPE_CODE\\\":\\\"name\\\"}\";\n",
    "StringBuffer response = new StringBuffer();\n",
    "\n",
    "int return_code = g2config.getFeatureV2(config_handle, feature, response);\n",
    "\n",
    "if(return_code!=0)\n",
    "    System.out.print(g2config.getLastException());\n",
    "else\n",
    "    System.out.print(response);"
   ]
  },
  {
   "cell_type": "markdown",
   "metadata": {},
   "source": [
    "# Add Feature\n",
    "Call G2Config's `addFeatureV2()` method and print results."
   ]
  },
  {
   "cell_type": "code",
   "execution_count": null,
   "metadata": {},
   "outputs": [],
   "source": [
    "String feature = \"{\\\"FTYPE_CODE\\\":\\\"myNewFtype\\\",\\\"FTYPE_ID\\\":789,\\\"FCLASS_CODE\\\":\\\"ELECTED_ID\\\",\\\"FTYPE_FREQ\\\":\\\"FF\\\", \\\"FEATURE_ELEMENTS\\\":[{\\\"FELEM_CODE\\\":\\\"expression\\\"}]}\";\n",
    "StringBuffer response = new StringBuffer();\n",
    "\n",
    "int return_code = g2config.addFeatureV2(config_handle, feature, response);\n",
    "\n",
    "if(return_code!=0)\n",
    "    System.out.print(g2config.getLastException());\n",
    "else\n",
    "    System.out.print(response);"
   ]
  },
  {
   "cell_type": "markdown",
   "metadata": {},
   "source": [
    "# Delete Feature\n",
    "Call G2Config's `deleteFeatureV2()` method. Returns 0 on success."
   ]
  },
  {
   "cell_type": "code",
   "execution_count": null,
   "metadata": {},
   "outputs": [],
   "source": [
    "String feature = \"{\\\"FTYPE_CODE\\\":\\\"NAME\\\"}\";\n",
    "\n",
    "int return_code = g2config.deleteFeatureV2(config_handle, feature);\n",
    "\n",
    "if(return_code!=0)\n",
    "    System.out.print(g2config.getLastException());\n",
    "else\n",
    "    System.out.print(return_code);"
   ]
  },
  {
   "cell_type": "markdown",
   "metadata": {},
   "source": [
    "# Add Element To Feature\n",
    "Call G2Config's `addElementToFeatureV2()` method. Returns 0 on success"
   ]
  },
  {
   "cell_type": "code",
   "execution_count": null,
   "metadata": {},
   "outputs": [],
   "source": [
    "String elmnt = \"{\\\"FTYPE_CODE\\\":\\\"myNewFtype\\\", \\\"FELEM_CODE\\\":\\\"expression\\\",\\\"EXEC_ORDER\\\":4}\";\n",
    "\n",
    "int return_code = g2config.addElementToFeatureV2(config_handle, elmnt);\n",
    "\n",
    "if(return_code!=0)\n",
    "    System.out.print(g2config.getLastException());\n",
    "else\n",
    "    System.out.print(return_code);"
   ]
  },
  {
   "cell_type": "markdown",
   "metadata": {},
   "source": [
    "# Delete Element From Feature\n",
    "Call G2Config's `deleteElementFromFeatureV2()` method. Returns 0 on success"
   ]
  },
  {
   "cell_type": "code",
   "execution_count": null,
   "metadata": {},
   "outputs": [],
   "source": [
    "String elmnt = \"{\\\"FTYPE_CODE\\\":\\\"myNewFtype\\\", \\\"FELEM_CODE\\\":\\\"expression\\\"}\";\n",
    "\n",
    "int return_code = g2config.deleteElementFromFeatureV2(config_handle, elmnt);\n",
    "\n",
    "if(return_code!=0)\n",
    "    System.out.print(g2config.getLastException());\n",
    "else\n",
    "    System.out.print(return_code);"
   ]
  },
  {
   "cell_type": "markdown",
   "metadata": {},
   "source": [
    "# List Feature Standardization Functions\n",
    "Call G2Config's `listFeatureStandardizationFunctionsV2()` method and print results."
   ]
  },
  {
   "cell_type": "code",
   "execution_count": null,
   "metadata": {},
   "outputs": [],
   "source": [
    "StringBuffer response = new StringBuffer();\n",
    "\n",
    "int return_code = g2config.listFeatureStandardizationFunctionsV2(config_handle, response);\n",
    "\n",
    "if(return_code!=0)\n",
    "    System.out.print(g2config.getLastException());\n",
    "else\n",
    "    System.out.print(response);"
   ]
  },
  {
   "cell_type": "markdown",
   "metadata": {},
   "source": [
    "# List Features Standardization Function Calls\n",
    "Call G2Config's `listFeatureStandardizationFunctionCallsV2()` method and print results."
   ]
  },
  {
   "cell_type": "code",
   "execution_count": null,
   "metadata": {
    "scrolled": true
   },
   "outputs": [],
   "source": [
    "StringBuffer response = new StringBuffer();\n",
    "\n",
    "int return_code = g2config.listFeatureStandardizationFunctionCallsV2(config_handle, response);\n",
    "\n",
    "if(return_code!=0)\n",
    "    System.out.print(g2config.getLastException());\n",
    "else\n",
    "    System.out.print(response);"
   ]
  },
  {
   "cell_type": "markdown",
   "metadata": {},
   "source": [
    "# Get Feature Standardization Function Calls\n",
    "Call G2Config's `getFeatureStandardizationFunctionCallV2()` method and print results."
   ]
  },
  {
   "cell_type": "code",
   "execution_count": null,
   "metadata": {},
   "outputs": [],
   "source": [
    "String featureStandard = \"{\\\"SFCALL_ID\\\":4}\";\n",
    "StringBuffer response = new StringBuffer();\n",
    "\n",
    "int return_code = g2config.getFeatureStandardizationFunctionCallV2(config_handle, featureStandard, response);\n",
    "\n",
    "if(return_code!=0)\n",
    "    System.out.print(g2config.getLastException());\n",
    "else\n",
    "    System.out.print(response);"
   ]
  },
  {
   "cell_type": "markdown",
   "metadata": {},
   "source": [
    "# Add Feature Standardization Function Calls\n",
    "Call G2Config's `addFeatureStandardizationFunctionCallV2()` method and print results."
   ]
  },
  {
   "cell_type": "code",
   "execution_count": null,
   "metadata": {},
   "outputs": [],
   "source": [
    "String featureStandard = \"{\\\"FTYPE_CODE\\\":\\\"veh_vin\\\",\\\"SFCALL_ID\\\":789,\\\"SFUNC_CODE\\\":\\\"PARSE_ID\\\",\\\"EXEC_ORDER\\\":15}\";\n",
    "StringBuffer response = new StringBuffer();\n",
    "\n",
    "int return_code = g2config.addFeatureStandardizationFunctionCallV2(config_handle, featureStandard, response);\n",
    "\n",
    "if(return_code!=0)\n",
    "    System.out.print(g2config.getLastException());\n",
    "else\n",
    "    System.out.print(response);"
   ]
  },
  {
   "cell_type": "markdown",
   "metadata": {},
   "source": [
    "# Delete Feature Standardization Function Call\n",
    "Call G2Config's `deleteFeatureStandardizationFunctionCallV2()` method. Returns 0 on success"
   ]
  },
  {
   "cell_type": "code",
   "execution_count": null,
   "metadata": {},
   "outputs": [],
   "source": [
    "String featureStandard = \"{\\\"SFCALL_ID\\\":789}\";\n",
    "\n",
    "int return_code = g2config.deleteFeatureStandardizationFunctionCallV2(config_handle, featureStandard);\n",
    "\n",
    "if(return_code!=0)\n",
    "    System.out.print(g2config.getLastException());\n",
    "else\n",
    "    System.out.print(return_code);"
   ]
  },
  {
   "cell_type": "markdown",
   "metadata": {},
   "source": [
    "# List Feature Expression Functions\n",
    "Call G2Config's `listFeatureExpressionFunctionsV2()` method and print results."
   ]
  },
  {
   "cell_type": "code",
   "execution_count": null,
   "metadata": {},
   "outputs": [],
   "source": [
    "StringBuffer response = new StringBuffer();\n",
    "\n",
    "int return_code = g2config.listFeatureExpressionFunctionsV2(config_handle, response);\n",
    "\n",
    "if(return_code!=0)\n",
    "    System.out.print(g2config.getLastException());\n",
    "else\n",
    "    System.out.print(response);"
   ]
  },
  {
   "cell_type": "markdown",
   "metadata": {},
   "source": [
    "# List Feature Expression Function Calls\n",
    "Call G2Config's `listFeatureExpressionFunctionCallsV2()` method and print results."
   ]
  },
  {
   "cell_type": "code",
   "execution_count": null,
   "metadata": {
    "scrolled": true
   },
   "outputs": [],
   "source": [
    "StringBuffer response = new StringBuffer();\n",
    "\n",
    "int return_code = g2config.listFeatureExpressionFunctionCallsV2(config_handle, response);\n",
    "\n",
    "if(return_code!=0)\n",
    "    System.out.print(g2config.getLastException());\n",
    "else\n",
    "    System.out.print(response);"
   ]
  },
  {
   "cell_type": "markdown",
   "metadata": {},
   "source": [
    "# Get Feature Expression Function Calls\n",
    "Call G2Config's `getFeatureExpressionFunctionCallV2()` method and print results."
   ]
  },
  {
   "cell_type": "code",
   "execution_count": null,
   "metadata": {},
   "outputs": [],
   "source": [
    "String featureExpress = \"{\\\"EFCALL_ID\\\":1}\";\n",
    "StringBuffer response = new StringBuffer();\n",
    "\n",
    "int return_code = g2config.getFeatureExpressionFunctionCallV2(config_handle, featureExpress, response);\n",
    "\n",
    "if(return_code!=0)\n",
    "    System.out.print(g2config.getLastException());\n",
    "else\n",
    "    System.out.print(response);"
   ]
  },
  {
   "cell_type": "markdown",
   "metadata": {},
   "source": [
    "# Add Feature Expression Function Call\n",
    "Call G2Config's `addFeatureExpressionFunctionCallV2()` method and print results."
   ]
  },
  {
   "cell_type": "code",
   "execution_count": null,
   "metadata": {},
   "outputs": [],
   "source": [
    "String featureExpress = \"{\\\"FTYPE_CODE\\\":\\\"veh_vin\\\",\\\"EFCALL_ID\\\":789,\\\"EFUNC_CODE\\\":\\\"EXPRESS_ID\\\",\\\"EXEC_ORDER\\\":15, \\\"BOM_ELEMENTS\\\":[{\\\"FTYPE_CODE\\\":\\\"veh_vin\\\",\\\"FELEM_CODE\\\":\\\"id_num\\\",\\\"REQUIRED\\\":\\\"Yes\\\"}]}\";\n",
    "StringBuffer response = new StringBuffer();\n",
    "\n",
    "int return_code = g2config.addFeatureExpressionFunctionCallV2(config_handle, featureExpress, response);\n",
    "\n",
    "if(return_code!=0)\n",
    "    System.out.print(g2config.getLastException());\n",
    "else\n",
    "    System.out.print(response);"
   ]
  },
  {
   "cell_type": "markdown",
   "metadata": {},
   "source": [
    "# Add Feature Expression Function Call Element\n",
    "Call G2Config's `addFeatureExpressionFunctionCallElementV2()` method. Returns 0 on success."
   ]
  },
  {
   "cell_type": "code",
   "execution_count": null,
   "metadata": {},
   "outputs": [],
   "source": [
    "String featureExpressElm = \"{\\\"EFCALL_ID\\\":789, \\\"FTYPE_CODE\\\":\\\"address\\\",\\\"FELEM_CODE\\\":\\\"addr5\\\",\\\"REQUIRED\\\":\\\"Yes\\\"}\";\n",
    "\n",
    "int return_code = g2config.addFeatureExpressionFunctionCallElementV2(config_handle, featureExpressElm);\n",
    "\n",
    "if(return_code!=0)\n",
    "    System.out.print(g2config.getLastException());\n",
    "else\n",
    "    System.out.print(return_code);"
   ]
  },
  {
   "cell_type": "markdown",
   "metadata": {},
   "source": [
    "# Delete Feature Expression Function Call Element\n",
    "Call G2Config's `deleteFeatureExpressionFunctionCallElementV2()` method. Returns 0 on success."
   ]
  },
  {
   "cell_type": "code",
   "execution_count": null,
   "metadata": {},
   "outputs": [],
   "source": [
    "String featureExpressElm = \"{\\\"EFCALL_ID\\\":789, \\\"FTYPE_CODE\\\":\\\"ADDRESS\\\",\\\"FELEM_CODE\\\":\\\"ADDR5\\\"}\";\n",
    "\n",
    "int return_code = g2config.deleteFeatureExpressionFunctionCallElementV2(config_handle, featureExpressElm);\n",
    "\n",
    "if(return_code!=0)\n",
    "    System.out.print(g2config.getLastException());\n",
    "else\n",
    "    System.out.print(return_code);"
   ]
  },
  {
   "cell_type": "markdown",
   "metadata": {},
   "source": [
    "# Delete Feature Expression Function Call\n",
    "Call G2Config's `deleteFeatureExpressionFunctionCallV2()` method. Returns 0 on success"
   ]
  },
  {
   "cell_type": "code",
   "execution_count": null,
   "metadata": {},
   "outputs": [],
   "source": [
    "String featureExpressElm = \"{\\\"EFCALL_ID\\\":789}\";\n",
    "\n",
    "int return_code = g2config.deleteFeatureExpressionFunctionCallV2(config_handle, featureExpressElm);\n",
    "\n",
    "if(return_code!=0)\n",
    "    System.out.print(g2config.getLastException());\n",
    "else\n",
    "    System.out.print(return_code);"
   ]
  },
  {
   "cell_type": "markdown",
   "metadata": {},
   "source": [
    "# List Feature Comparison Functions\n",
    "Call G2Config's `listFeatureComparisonFunctionsV2()` method and print results."
   ]
  },
  {
   "cell_type": "code",
   "execution_count": null,
   "metadata": {},
   "outputs": [],
   "source": [
    "StringBuffer response = new StringBuffer();\n",
    "\n",
    "int return_code = g2config.listFeatureComparisonFunctionsV2(config_handle, response);\n",
    "\n",
    "if(return_code!=0)\n",
    "    System.out.print(g2config.getLastException());\n",
    "else\n",
    "    System.out.print(response);"
   ]
  },
  {
   "cell_type": "markdown",
   "metadata": {},
   "source": [
    "# List Feature Comparison Functio Calls\n",
    "Call G2Config's `listFeatureComparisonFunctionCallsV2()` method and print results."
   ]
  },
  {
   "cell_type": "code",
   "execution_count": null,
   "metadata": {
    "scrolled": true
   },
   "outputs": [],
   "source": [
    "StringBuffer response = new StringBuffer();\n",
    "\n",
    "int return_code = g2config.listFeatureComparisonFunctionCallsV2(config_handle, response);\n",
    "\n",
    "if(return_code!=0)\n",
    "    System.out.print(g2config.getLastException());\n",
    "else\n",
    "    System.out.print(response);"
   ]
  },
  {
   "cell_type": "markdown",
   "metadata": {},
   "source": [
    "# Get Feature Comparison Function Call\n",
    "Call G2Config's `getFeatureComparisonFunctionCallV2()` method and print results."
   ]
  },
  {
   "cell_type": "code",
   "execution_count": null,
   "metadata": {},
   "outputs": [],
   "source": [
    "String featureCompFunc = \"{\\\"CFCALL_ID\\\":2}\";\n",
    "StringBuffer response = new StringBuffer();\n",
    "\n",
    "int return_code = g2config.getFeatureComparisonFunctionCallV2(config_handle, featureCompFunc, response);\n",
    "\n",
    "if(return_code!=0)\n",
    "    System.out.print(g2config.getLastException());\n",
    "else\n",
    "    System.out.print(response);"
   ]
  },
  {
   "cell_type": "markdown",
   "metadata": {},
   "source": [
    "# Add Feature Comparison Function Call\n",
    "Call G2Config's `addFeatureComparisonFunctionCallV2()` method and print results."
   ]
  },
  {
   "cell_type": "code",
   "execution_count": null,
   "metadata": {},
   "outputs": [],
   "source": [
    "String featureCompFunc = \"{\\\"FTYPE_CODE\\\":\\\"name_key\\\",\\\"CFCALL_ID\\\":789,\\\"CFUNC_CODE\\\":\\\"ID_COMP\\\",\\\"EXEC_ORDER\\\":15, \\\"BOM_ELEMENTS\\\":[{\\\"FELEM_CODE\\\":\\\"expression\\\"}]}\";\n",
    "StringBuffer response = new StringBuffer();\n",
    "\n",
    "int return_code = g2config.addFeatureComparisonFunctionCallV2(config_handle, featureCompFunc, response);\n",
    "\n",
    "\n",
    "if(return_code!=0)\n",
    "    System.out.print(g2config.getLastException());\n",
    "else\n",
    "    System.out.print(response);"
   ]
  },
  {
   "cell_type": "markdown",
   "metadata": {},
   "source": [
    "# Delete Feature Comparison Function Call\n",
    "Call G2Config's `deleteFeatureComparisonFunctionCallV2()` method. Returns 0 on success."
   ]
  },
  {
   "cell_type": "code",
   "execution_count": null,
   "metadata": {},
   "outputs": [],
   "source": [
    "String featureComp = \"{\\\"CFCALL_ID\\\":789}\";\n",
    "\n",
    "int return_code = g2config.deleteFeatureComparisonFunctionCallV2(config_handle, featureComp);\n",
    "\n",
    "if(return_code!=0)\n",
    "    System.out.print(g2config.getLastException());\n",
    "else\n",
    "    System.out.print(return_code);"
   ]
  },
  {
   "cell_type": "markdown",
   "metadata": {},
   "source": [
    "# Add Feature Comparison Function Call Element\n",
    "Call G2Config's `addFeatureComparisonFunctionCallElementV2()` method. Returns 0 on success"
   ]
  },
  {
   "cell_type": "code",
   "execution_count": null,
   "metadata": {},
   "outputs": [],
   "source": [
    "String featureCompElm = \"{\\\"CFCALL_ID\\\":5, \\\"FELEM_CODE\\\":\\\"addr6\\\"}\";\n",
    "\n",
    "int return_code = g2config.addFeatureComparisonFunctionCallElementV2(config_handle, featureCompElm);\n",
    "\n",
    "if(return_code!=0)\n",
    "    System.out.print(g2config.getLastException());\n",
    "else\n",
    "    System.out.print(return_code);"
   ]
  },
  {
   "cell_type": "markdown",
   "metadata": {},
   "source": [
    "# Delete Feature Comparison Function Call Element\n",
    "Call G2Config's `deleteFeatureComparisonFunctionCallElementV2()` method. Returns 0 on success."
   ]
  },
  {
   "cell_type": "code",
   "execution_count": null,
   "metadata": {},
   "outputs": [],
   "source": [
    "String featureCompElm = \"{\\\"CFCALL_ID\\\":5, \\\"FELEM_CODE\\\":\\\"ADDR4\\\"}\";\n",
    "\n",
    "int return_code = g2config.deleteFeatureComparisonFunctionCallElementV2(config_handle, featureCompElm);\n",
    "\n",
    "if(return_code!=0)\n",
    "    System.out.print(g2config.getLastException());\n",
    "else\n",
    "    System.out.print(return_code);"
   ]
  },
  {
   "cell_type": "markdown",
   "metadata": {},
   "source": [
    "# List Feature Distinct Functions \n",
    "Call G2Config's `listFeatureDistinctFunctionCallsV2()` method and print results."
   ]
  },
  {
   "cell_type": "code",
   "execution_count": null,
   "metadata": {},
   "outputs": [],
   "source": [
    "StringBuffer response = new StringBuffer();\n",
    "\n",
    "int return_code = g2config.listFeatureDistinctFunctionsV2(config_handle, response);\n",
    "\n",
    "if(return_code!=0)\n",
    "    System.out.print(g2config.getLastException());\n",
    "else\n",
    "    System.out.print(response);"
   ]
  },
  {
   "cell_type": "markdown",
   "metadata": {},
   "source": [
    "# Get Feature Distinct Function Call\n",
    "Call G2Config's `getFeatureDistinctFunctionCallV2()` method and print results."
   ]
  },
  {
   "cell_type": "code",
   "execution_count": null,
   "metadata": {},
   "outputs": [],
   "source": [
    "String featureFunc = \"{\\\"DFCALL_ID\\\":2}\";\n",
    "StringBuffer response = new StringBuffer();\n",
    "\n",
    "int return_code = g2config.getFeatureDistinctFunctionCallV2(config_handle, featureFunc, response);\n",
    "\n",
    "if(return_code!=0)\n",
    "    System.out.print(g2config.getLastException());\n",
    "else\n",
    "    System.out.print(response);"
   ]
  },
  {
   "cell_type": "markdown",
   "metadata": {},
   "source": [
    "# Add Feature Distinct Function Call\n",
    "Call G2Config's `addFeatureDistinctFunctionCallV2()` method and print results."
   ]
  },
  {
   "cell_type": "code",
   "execution_count": null,
   "metadata": {},
   "outputs": [],
   "source": [
    "String featureFunc = \"{\\\"FTYPE_CODE\\\":\\\"name_key\\\",\\\"DFCALL_ID\\\":789,\\\"DFUNC_CODE\\\":\\\"FELEM_STRICT_SUBSET\\\",\\\"EXEC_ORDER\\\":15, \\\"BOM_ELEMENTS\\\":[{\\\"FELEM_CODE\\\":\\\"expression\\\"}]}\";\n",
    "StringBuffer response = new StringBuffer();\n",
    "\n",
    "int return_code = g2config.addFeatureDistinctFunctionCallV2(config_handle, featureFunc, response);\n",
    "\n",
    "if(return_code!=0)\n",
    "    System.out.print(g2config.getLastException());\n",
    "else\n",
    "    System.out.print(response);"
   ]
  },
  {
   "cell_type": "markdown",
   "metadata": {},
   "source": [
    "# Delete Feature Distinct Function Call\n",
    "Call G2Config's `deleteFeatureDistinctFunctionCallV2()` method. Returns 0 on success"
   ]
  },
  {
   "cell_type": "code",
   "execution_count": null,
   "metadata": {},
   "outputs": [],
   "source": [
    "String featureFunc = \"{\\\"DFCALL_ID\\\":1002}\";\n",
    "\n",
    "int return_code = g2config.deleteFeatureDistinctFunctionCallV2(config_handle, featureFunc);\n",
    "\n",
    "if(return_code!=0)\n",
    "    System.out.print(g2config.getLastException());\n",
    "else\n",
    "    System.out.print(return_code);"
   ]
  },
  {
   "cell_type": "markdown",
   "metadata": {},
   "source": [
    "# Add Feature Distinct Function Call Element\n",
    "Call G2Config's `addFeatureDistinctFunctionCallElementV2()` method. Returns 0 on success"
   ]
  },
  {
   "cell_type": "code",
   "execution_count": null,
   "metadata": {},
   "outputs": [],
   "source": [
    "String featureElmt = \"{\\\"DFCALL_ID\\\":5, \\\"FELEM_CODE\\\":\\\"addr6\\\"}\";\n",
    "\n",
    "int return_code = g2config.addFeatureDistinctFunctionCallElementV2(config_handle, featureElmt);\n",
    "\n",
    "if(return_code!=0)\n",
    "    System.out.print(g2config.getLastException());\n",
    "else\n",
    "    System.out.print(return_code);"
   ]
  },
  {
   "cell_type": "markdown",
   "metadata": {},
   "source": [
    "# Delete Feature Distinct Function Call Element\n",
    "Call G2Config's `deleteFeatureDistrinctFunctionCallElementV2()` method. Returns 0 on success"
   ]
  },
  {
   "cell_type": "code",
   "execution_count": null,
   "metadata": {},
   "outputs": [],
   "source": [
    "String featureElmt = \"{\\\"DFCALL_ID\\\":5, \\\"FELEM_CODE\\\":\\\"ADDR4\\\"}\";\n",
    "\n",
    "int return_code = g2config.deleteFeatureDistinctFunctionCallElementV2(config_handle, featureElmt);\n",
    "\n",
    "if(return_code!=0)\n",
    "    System.out.print(g2config.getLastException());\n",
    "else\n",
    "    System.out.print(return_code);"
   ]
  },
  {
   "cell_type": "markdown",
   "metadata": {},
   "source": [
    "# List Attribute Classes\n",
    "Call G2Config's `listAttributeClassesV2()` method and print results."
   ]
  },
  {
   "cell_type": "code",
   "execution_count": null,
   "metadata": {},
   "outputs": [],
   "source": [
    "StringBuffer response = new StringBuffer();\n",
    "\n",
    "int return_code = g2config.listAttributeClassesV2(config_handle, response);\n",
    "\n",
    "if(return_code!=0)\n",
    "    System.out.print(g2config.getLastException());\n",
    "else\n",
    "    System.out.print(response);"
   ]
  },
  {
   "cell_type": "markdown",
   "metadata": {},
   "source": [
    "# List Attributes\n",
    "Call G2Config's `listAttributesV2()` method and print results"
   ]
  },
  {
   "cell_type": "code",
   "execution_count": null,
   "metadata": {
    "scrolled": true
   },
   "outputs": [],
   "source": [
    "StringBuffer response = new StringBuffer();\n",
    "\n",
    "int return_code = g2config.listAttributesV2(config_handle, response);\n",
    "\n",
    "if(return_code!=0)\n",
    "    System.out.print(g2config.getLastException());\n",
    "else\n",
    "    System.out.print(response);"
   ]
  },
  {
   "cell_type": "markdown",
   "metadata": {},
   "source": [
    "# Get Attribute\n",
    "Call G2Config's `getAttributeV2()` method and print results."
   ]
  },
  {
   "cell_type": "code",
   "execution_count": null,
   "metadata": {},
   "outputs": [],
   "source": [
    "String attr = \"{\\\"ATTR_CODE\\\":\\\"DATA_SOURCE\\\"}\";\n",
    "StringBuffer response = new StringBuffer();\n",
    "\n",
    "int return_code = g2config.getAttributeV2(config_handle, attr, response);\n",
    "\n",
    "if(return_code!=0)\n",
    "    System.out.print(g2config.getLastException());\n",
    "else\n",
    "    System.out.print(response);"
   ]
  },
  {
   "cell_type": "markdown",
   "metadata": {},
   "source": [
    "# Add Attribute\n",
    "Call G2Config's `addAttributeV2()` method and print results."
   ]
  },
  {
   "cell_type": "code",
   "execution_count": null,
   "metadata": {},
   "outputs": [],
   "source": [
    "String attr = \"{\\\"ATTR_CODE\\\":\\\"myNewAttr\\\",\\\"ATTR_ID\\\":789,\\\"ATTR_CLASS\\\":\\\"attribute\\\",\\\"FTYPE_CODE\\\":\\\"name_key\\\",\\\"FELEM_CODE\\\":\\\"latitude\\\",\\\"FELEM_REQ\\\":\\\"myReqValue\\\",\\\"DEFAULT_VALUE\\\":\\\"myDefault\\\",\\\"ADVANCED\\\":\\\"Y\\\",\\\"INTERNAL\\\":1}\";\n",
    "StringBuffer response = new StringBuffer();\n",
    "\n",
    "int return_code = g2config.addAttributeV2(config_handle, attr, response);\n",
    "\n",
    "if(return_code!=0)\n",
    "    System.out.print(g2config.getLastException());\n",
    "else\n",
    "    System.out.print(response);"
   ]
  },
  {
   "cell_type": "markdown",
   "metadata": {},
   "source": [
    "# Delete Attribute\n",
    "Call G2Config's `deleteAttributeV2()` method. Returns 0 on success"
   ]
  },
  {
   "cell_type": "code",
   "execution_count": null,
   "metadata": {},
   "outputs": [],
   "source": [
    "String attr = \"{\\\"ATTR_CODE\\\":\\\"NAME_FIRST\\\"}\";\n",
    "\n",
    "int return_code = g2config.deleteAttributeV2(config_handle, attr);\n",
    "\n",
    "if(return_code!=0)\n",
    "    System.out.print(g2config.getLastException());\n",
    "else\n",
    "    System.out.print(response);"
   ]
  }
 ],
 "metadata": {
  "kernelspec": {
   "display_name": "Java",
   "language": "java",
   "name": "java"
  },
  "language_info": {
   "codemirror_mode": "java",
   "file_extension": ".jshell",
   "mimetype": "text/x-java-source",
   "name": "Java",
   "pygments_lexer": "java",
   "version": "11.0.6+10-post-Ubuntu-1ubuntu118.04.1"
  }
 },
 "nbformat": 4,
 "nbformat_minor": 4
}
