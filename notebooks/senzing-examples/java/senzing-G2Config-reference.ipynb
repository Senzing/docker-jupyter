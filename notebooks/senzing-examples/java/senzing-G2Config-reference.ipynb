{
 "cells": [
  {
   "cell_type": "markdown",
   "metadata": {},
   "source": [
    "# G2Config Reference\n",
    "\n",
    "More information:\n",
    "\n",
    "1. [GitHub repository](https://github.com/Senzing/docker-jupyter)\n",
    "1. [Senzing documentation](http://docs.senzing.com/?python#g2config)"
   ]
  },
  {
   "cell_type": "code",
   "execution_count": 1,
   "metadata": {},
   "outputs": [],
   "source": [
    "import com.senzing.g2.engine.G2Config;\n",
    "import com.senzing.g2.engine.G2ConfigJNI;"
   ]
  },
  {
   "cell_type": "markdown",
   "metadata": {},
   "source": [
    "### Initialize Senzing configuration\n",
    "\n",
    "Using environment variables and default values, create `senzingConfigJson`.\n",
    "This value is used when instantiating Senzing objects."
   ]
  },
  {
   "cell_type": "code",
   "execution_count": 2,
   "metadata": {},
   "outputs": [
    {
     "name": "stdout",
     "output_type": "stream",
     "text": [
      "{\"PIPELINE\": {\"CONFIGPATH\": \"/etc/opt/senzing\",\"SUPPORTPATH\": \"/opt/senzing/data\",\"RESOURCEPATH\": \"/opt/senzing/g2/resources\"},\"SQL\": {\"CONNECTION\": \"sqlite3://na:na@/var/opt/senzing/sqlite/G2C.db\"}}\n"
     ]
    }
   ],
   "source": [
    "// Get variables used in constructing Senzing Engine configuration.\n",
    "\n",
    "String configPath = System.getenv(\"SENZING_ETC_DIR\");\n",
    "if (configPath == null) {\n",
    "    configPath = \"/etc/opt/senzing\";\n",
    "}\n",
    "\n",
    "String supportPath = System.getenv(\"SENZING_DATA_VERSION_DIR\");\n",
    "if (supportPath == null) {\n",
    "    supportPath = \"/opt/senzing/data\";\n",
    "}\n",
    "\n",
    "String g2Path = System.getenv(\"SENZING_G2_DIR\");\n",
    "if (g2Path == null) {\n",
    "    g2Path = \"/opt/senzing/g2\";\n",
    "}\n",
    "\n",
    "String resourcePath = g2Path + \"/resources\";\n",
    "\n",
    "String sqlConnection = System.getenv(\"SENZING_SQL_CONNECTION\");\n",
    "if (sqlConnection == null) {\n",
    "    sqlConnection = \"sqlite3://na:na@/var/opt/senzing/sqlite/G2C.db\";\n",
    "}\n",
    "\n",
    "// Construct the JSON string used for Senzing Engine configuration.\n",
    "\n",
    "String senzingConfigJson = \"{\"\n",
    "   + \"\\\"PIPELINE\\\": {\"\n",
    "   +     \"\\\"CONFIGPATH\\\": \\\"\" + configPath + \"\\\",\"\n",
    "   +     \"\\\"SUPPORTPATH\\\": \\\"\" + supportPath + \"\\\",\"\n",
    "   +     \"\\\"RESOURCEPATH\\\": \\\"\" + resourcePath + \"\\\"\"\n",
    "   + \"},\"\n",
    "   + \"\\\"SQL\\\": {\"\n",
    "   +     \"\\\"CONNECTION\\\": \\\"\" + sqlConnection + \"\\\"\"\n",
    "   + \"}}\";\n",
    "   \n",
    "System.out.println(senzingConfigJson);"
   ]
  },
  {
   "cell_type": "markdown",
   "metadata": {},
   "source": [
    "## G2Config\n",
    "\n",
    "The G2Config API is used to create a new JSON configuration from the default template\n",
    "or manipulate a JSON configuration that it is provided.\n",
    "The API read/writes a JSON string, but that string would typically be\n",
    "read/written from/to a g2config.json file that the G2 engine reads during the initV2(...) call."
   ]
  },
  {
   "cell_type": "markdown",
   "metadata": {},
   "source": [
    "### G2Config Initialization\n",
    "\n",
    "To start using G2Config, you must first create and initialize the G2Config object.\n",
    "This should be done once per process.\n",
    "\n",
    "Create a new instance of the Senzing G2Config object and assign it to a variable.\n",
    "Then, call the appropriate initialization method (such as initV2) to initialize the G2Config object.\n",
    "\n",
    "During the call, the initialization methods accept the following parameters:\n",
    "\n",
    "- **module_name:** A short name given to this instance of the G2 engine (i.e. your G2Module object)\n",
    "- **senzing_config_json:** A JSON document containing system parameters (see the section called \"Initialization Parameters\")\n",
    "- **verbose_logging:** A boolean which enables diagnostic logging - this will print a massive amount of information to stdout (default = False)\n",
    "\n",
    "Calling these functions will return \"0\" upon success - useful for error handling."
   ]
  },
  {
   "cell_type": "code",
   "execution_count": 3,
   "metadata": {},
   "outputs": [
    {
     "name": "stdout",
     "output_type": "stream",
     "text": [
      "0"
     ]
    }
   ],
   "source": [
    "String moduleName = \"ExampleG2Engine\";\n",
    "boolean verboseLogging = true;\n",
    "\n",
    "G2Config g2config = new G2ConfigJNI();\n",
    "int return_code = g2config.initV2(moduleName, senzingConfigJson, verboseLogging);\n",
    "\n",
    "if(return_code!=0)\n",
    "    System.out.print(g2config.getLastException());\n",
    "else\n",
    "    System.out.print(return_code);"
   ]
  },
  {
   "cell_type": "code",
   "execution_count": 4,
   "metadata": {},
   "outputs": [],
   "source": [
    "long config_handle = g2config.create()"
   ]
  },
  {
   "cell_type": "markdown",
   "metadata": {},
   "source": [
    "# List DataSources\n",
    "Call G2Config's `listDataSourcesV2()` method and print results."
   ]
  },
  {
   "cell_type": "code",
   "execution_count": 5,
   "metadata": {},
   "outputs": [
    {
     "name": "stdout",
     "output_type": "stream",
     "text": [
      "{\"DATA_SOURCES\":[{\"DSRC_ID\":1,\"DSRC_CODE\":\"TEST\"},{\"DSRC_ID\":2,\"DSRC_CODE\":\"SEARCH\"}]}"
     ]
    }
   ],
   "source": [
    "StringBuffer response = new StringBuffer();\n",
    "\n",
    "int return_code = g2config.listDataSourcesV2(config_handle, response);\n",
    "\n",
    "if(return_code!=0)\n",
    "    System.out.print(g2config.getLastException());\n",
    "else\n",
    "    System.out.print(response);"
   ]
  },
  {
   "cell_type": "markdown",
   "metadata": {},
   "source": [
    "# Add DataSource\n",
    "Call G2Config's `addDataSourceV2()` method and print results"
   ]
  },
  {
   "cell_type": "code",
   "execution_count": 6,
   "metadata": {},
   "outputs": [
    {
     "name": "stdout",
     "output_type": "stream",
     "text": [
      "{\"DSRC_ID\":1001}"
     ]
    }
   ],
   "source": [
    "String dataSource = \"{\\\"DSRC_CODE\\\": \\\"CUSTOMER\\\"}\";\n",
    "\n",
    "StringBuffer response = new StringBuffer();\n",
    "\n",
    "int return_code = g2config.addDataSourceV2(config_handle, dataSource, response);\n",
    "\n",
    "if(return_code!=0)\n",
    "    System.out.print(g2config.getLastException());\n",
    "else\n",
    "    System.out.print(response);"
   ]
  },
  {
   "cell_type": "markdown",
   "metadata": {},
   "source": [
    "## List DataSources again\n",
    "Call G2Config's `listDataSourcesV2()` method and print results. Notice that the list now contains the newly add dataSource of \"CUSTOMER\"."
   ]
  },
  {
   "cell_type": "code",
   "execution_count": 7,
   "metadata": {},
   "outputs": [
    {
     "name": "stdout",
     "output_type": "stream",
     "text": [
      "{\"DATA_SOURCES\":[{\"DSRC_ID\":1,\"DSRC_CODE\":\"TEST\"},{\"DSRC_ID\":2,\"DSRC_CODE\":\"SEARCH\"},{\"DSRC_ID\":1001,\"DSRC_CODE\":\"CUSTOMER\"}]}"
     ]
    }
   ],
   "source": [
    "StringBuffer response = new StringBuffer();\n",
    "\n",
    "int return_code = g2config.listDataSourcesV2(config_handle, response);\n",
    "\n",
    "if(return_code!=0)\n",
    "    System.out.print(g2config.getLastException());\n",
    "else\n",
    "    System.out.print(response);"
   ]
  },
  {
   "cell_type": "markdown",
   "metadata": {},
   "source": [
    "# List Entity Classes\n",
    "Call G2Config's `listEntityClassesV2()` method and print results."
   ]
  },
  {
   "cell_type": "code",
   "execution_count": 8,
   "metadata": {
    "scrolled": true
   },
   "outputs": [
    {
     "name": "stdout",
     "output_type": "stream",
     "text": [
      "{\"ENTITY_TYPES\":[{\"ETYPE_ID\":1,\"ETYPE_CODE\":\"TEST\",\"ECLASS_CODE\":\"ACTOR\"},{\"ETYPE_ID\":3,\"ETYPE_CODE\":\"GENERIC\",\"ECLASS_CODE\":\"ACTOR\"}]}"
     ]
    }
   ],
   "source": [
    "StringBuffer response = new StringBuffer();\n",
    "\n",
    "int return_code = g2config.listEntityTypesV2(config_handle, response);\n",
    "\n",
    "if(return_code!=0)\n",
    "    System.out.print(g2config.getLastException());\n",
    "else\n",
    "    System.out.print(response);"
   ]
  },
  {
   "cell_type": "markdown",
   "metadata": {},
   "source": [
    "# List Entity Types\n",
    "Call G2Config's `listEntityTypesV2()` method and print results."
   ]
  },
  {
   "cell_type": "code",
   "execution_count": 9,
   "metadata": {},
   "outputs": [
    {
     "name": "stdout",
     "output_type": "stream",
     "text": [
      "{\"ENTITY_TYPES\":[{\"ETYPE_ID\":1,\"ETYPE_CODE\":\"TEST\",\"ECLASS_CODE\":\"ACTOR\"},{\"ETYPE_ID\":3,\"ETYPE_CODE\":\"GENERIC\",\"ECLASS_CODE\":\"ACTOR\"}]}"
     ]
    }
   ],
   "source": [
    "StringBuffer response = new StringBuffer();\n",
    "\n",
    "int return_code = g2config.listEntityTypesV2(config_handle, response);\n",
    "\n",
    "if(return_code!=0)\n",
    "    System.out.print(g2config.getLastException());\n",
    "else\n",
    "    System.out.print(response);"
   ]
  },
  {
   "cell_type": "markdown",
   "metadata": {},
   "source": [
    "# Add Entity Class\n",
    "Call G2Config's `addEntityClassV2()` method and print results"
   ]
  },
  {
   "cell_type": "code",
   "execution_count": 10,
   "metadata": {},
   "outputs": [
    {
     "name": "stdout",
     "output_type": "stream",
     "text": [
      "{\"ECLASS_ID\":1001}"
     ]
    }
   ],
   "source": [
    "String entityClass = \"{\\\"ECLASS_CODE\\\": \\\"COMPANY\\\"}\";\n",
    "StringBuffer response = new StringBuffer();\n",
    "\n",
    "int return_code = g2config.addEntityClassV2(config_handle, entityClass, response);\n",
    "\n",
    "if(return_code!=0)\n",
    "    System.out.print(g2config.getLastException());\n",
    "else\n",
    "    System.out.print(response);"
   ]
  },
  {
   "cell_type": "markdown",
   "metadata": {},
   "source": [
    "## List Entity Classes again\n",
    "Call G2Config's `listEntityClassesV2()` method and print results. Notice that the list now contains the newly added entityClass \"COMPANY\"."
   ]
  },
  {
   "cell_type": "code",
   "execution_count": 11,
   "metadata": {},
   "outputs": [
    {
     "name": "stdout",
     "output_type": "stream",
     "text": [
      "{\"ENTITY_CLASSES\":[{\"ECLASS_ID\":1,\"ECLASS_CODE\":\"ACTOR\",\"RESOLVE\":\"Yes\"},{\"ECLASS_ID\":2,\"ECLASS_CODE\":\"OBJECT\",\"RESOLVE\":\"Yes\"},{\"ECLASS_ID\":3,\"ECLASS_CODE\":\"LOCATION\",\"RESOLVE\":\"Yes\"},{\"ECLASS_ID\":4,\"ECLASS_CODE\":\"EVENT\",\"RESOLVE\":\"No\"},{\"ECLASS_ID\":5,\"ECLASS_CODE\":\"TRAN\",\"RESOLVE\":\"No\"},{\"ECLASS_ID\":1001,\"ECLASS_CODE\":\"COMPANY\",\"RESOLVE\":\"Yes\"}]}"
     ]
    }
   ],
   "source": [
    "StringBuffer response = new StringBuffer();\n",
    "\n",
    "int return_code = g2config.listEntityClassesV2(config_handle, response);\n",
    "\n",
    "if(return_code!=0)\n",
    "    System.out.print(g2config.getLastException());\n",
    "else\n",
    "    System.out.print(response);"
   ]
  },
  {
   "cell_type": "markdown",
   "metadata": {},
   "source": [
    "# Add Entity type\n",
    "Call G2Config's `addEntityTypeV2()` method and print results."
   ]
  },
  {
   "cell_type": "code",
   "execution_count": 12,
   "metadata": {},
   "outputs": [
    {
     "name": "stdout",
     "output_type": "stream",
     "text": [
      "{\"ETYPE_ID\":1001}"
     ]
    }
   ],
   "source": [
    "String entityType = \"{\\\"ETYPE_CODE\\\": \\\"PROFESSIONAL\\\", \\\"ECLASS_CODE\\\": \\\"ACTOR\\\"}\";\n",
    "StringBuffer response = new StringBuffer();\n",
    "\n",
    "int return_code = g2config.addEntityTypeV2(config_handle, entityType, response);\n",
    "\n",
    "if(return_code!=0)\n",
    "    System.out.print(g2config.getLastException());\n",
    "else\n",
    "    System.out.print(response);"
   ]
  },
  {
   "cell_type": "markdown",
   "metadata": {},
   "source": [
    "## List Entity Types again\n",
    "Call G2Config's `listEntityTypesV2()` method and print results. Notice that the list now contains the newly added entityType \"PROFESSIONAL\"."
   ]
  },
  {
   "cell_type": "code",
   "execution_count": 13,
   "metadata": {},
   "outputs": [
    {
     "name": "stdout",
     "output_type": "stream",
     "text": [
      "{\"ENTITY_TYPES\":[{\"ETYPE_ID\":1,\"ETYPE_CODE\":\"TEST\",\"ECLASS_CODE\":\"ACTOR\"},{\"ETYPE_ID\":3,\"ETYPE_CODE\":\"GENERIC\",\"ECLASS_CODE\":\"ACTOR\"},{\"ETYPE_ID\":1001,\"ETYPE_CODE\":\"PROFESSIONAL\",\"ECLASS_CODE\":\"ACTOR\"}]}"
     ]
    }
   ],
   "source": [
    "StringBuffer response = new StringBuffer();\n",
    "\n",
    "int return_code = g2config.listEntityTypesV2(config_handle, response);\n",
    "\n",
    "if(return_code!=0)\n",
    "    System.out.print(g2config.getLastException());\n",
    "else\n",
    "    System.out.print(response);"
   ]
  },
  {
   "cell_type": "markdown",
   "metadata": {},
   "source": [
    "# Delete Entity Class\n",
    "Call G2Config's `deleteEntityClassV2()` method. Returns 0 on success"
   ]
  },
  {
   "cell_type": "code",
   "execution_count": 14,
   "metadata": {
    "scrolled": true
   },
   "outputs": [
    {
     "name": "stdout",
     "output_type": "stream",
     "text": [
      "0"
     ]
    }
   ],
   "source": [
    "String entityClass = \"{\\\"ECLASS_CODE\\\": \\\"COMPANY\\\"}\";\n",
    "\n",
    "int return_code = g2config.deleteEntityClassV2(config_handle, entityClass);\n",
    "\n",
    "if(return_code!=0)\n",
    "    System.out.print(g2config.getLastException());\n",
    "else\n",
    "    System.out.print(return_code);"
   ]
  },
  {
   "cell_type": "markdown",
   "metadata": {},
   "source": [
    "# Delete Entity Type\n",
    "Call G2Config's `deleteEntityTypeV2()` method. Returns 0 on success"
   ]
  },
  {
   "cell_type": "code",
   "execution_count": 15,
   "metadata": {},
   "outputs": [
    {
     "name": "stdout",
     "output_type": "stream",
     "text": [
      "0"
     ]
    }
   ],
   "source": [
    "String entityType = \"{\\\"ETYPE_CODE\\\": \\\"PROFESSIONAL\\\", \\\"ECLASS_CODE\\\": \\\"ACTOR\\\"}\";\n",
    "\n",
    "int return_code = g2config.deleteEntityTypeV2(config_handle, entityType);\n",
    "\n",
    "if(return_code!=0)\n",
    "    System.out.print(g2config.getLastException());\n",
    "else\n",
    "    System.out.print(return_code);"
   ]
  },
  {
   "cell_type": "markdown",
   "metadata": {},
   "source": [
    "# List Feature Elements\n",
    "Call G2Config's `listFeatureElementsV2()` method and print results."
   ]
  },
  {
   "cell_type": "code",
   "execution_count": 16,
   "metadata": {
    "scrolled": true
   },
   "outputs": [
    {
     "name": "stdout",
     "output_type": "stream",
     "text": [
      "{\"FEATURE_ELEMENTS\":[{\"FELEM_ID\":2,\"FELEM_CODE\":\"FULL_NAME\"},{\"FELEM_ID\":3,\"FELEM_CODE\":\"ORG_NAME\"},{\"FELEM_ID\":4,\"FELEM_CODE\":\"SUR_NAME\"},{\"FELEM_ID\":5,\"FELEM_CODE\":\"GIVEN_NAME\"},{\"FELEM_ID\":6,\"FELEM_CODE\":\"MIDDLE_NAME\"},{\"FELEM_ID\":7,\"FELEM_CODE\":\"NAME_PREFIX\"},{\"FELEM_ID\":8,\"FELEM_CODE\":\"NAME_SUFFIX\"},{\"FELEM_ID\":9,\"FELEM_CODE\":\"NAME_GEN\"},{\"FELEM_ID\":10,\"FELEM_CODE\":\"CULTURE\"},{\"FELEM_ID\":11,\"FELEM_CODE\":\"SCRIPT\"},{\"FELEM_ID\":12,\"FELEM_CODE\":\"CATEGORY\"},{\"FELEM_ID\":13,\"FELEM_CODE\":\"GENDER\"},{\"FELEM_ID\":14,\"FELEM_CODE\":\"MAKE\"},{\"FELEM_ID\":15,\"FELEM_CODE\":\"MODEL\"},{\"FELEM_ID\":16,\"FELEM_CODE\":\"COLOR\"},{\"FELEM_ID\":17,\"FELEM_CODE\":\"YEAR\"},{\"FELEM_ID\":18,\"FELEM_CODE\":\"TYPE\"},{\"FELEM_ID\":19,\"FELEM_CODE\":\"OS\"},{\"FELEM_ID\":22,\"FELEM_CODE\":\"ADDR1\"},{\"FELEM_ID\":23,\"FELEM_CODE\":\"ADDR2\"},{\"FELEM_ID\":24,\"FELEM_CODE\":\"ADDR3\"},{\"FELEM_ID\":25,\"FELEM_CODE\":\"CITY\"},{\"FELEM_ID\":26,\"FELEM_CODE\":\"STATE\"},{\"FELEM_ID\":27,\"FELEM_CODE\":\"POSTAL_CODE\"},{\"FELEM_ID\":28,\"FELEM_CODE\":\"COUNTRY\"},{\"FELEM_ID\":29,\"FELEM_CODE\":\"STR_NUM\"},{\"FELEM_ID\":30,\"FELEM_CODE\":\"STR_NAME\"},{\"FELEM_ID\":31,\"FELEM_CODE\":\"UNIT_TYPE\"},{\"FELEM_ID\":32,\"FELEM_CODE\":\"UNIT_NUM\"},{\"FELEM_ID\":33,\"FELEM_CODE\":\"PHONE_NUM\"},{\"FELEM_ID\":34,\"FELEM_CODE\":\"PHONE_EXT\"},{\"FELEM_ID\":35,\"FELEM_CODE\":\"ADDR\"},{\"FELEM_ID\":36,\"FELEM_CODE\":\"EXPRESSION\"},{\"FELEM_ID\":37,\"FELEM_CODE\":\"ID_NUM\"},{\"FELEM_ID\":38,\"FELEM_CODE\":\"ID_TYPE\"},{\"FELEM_ID\":39,\"FELEM_CODE\":\"ID_LAST4\"},{\"FELEM_ID\":40,\"FELEM_CODE\":\"ACCT_NUM\"},{\"FELEM_ID\":41,\"FELEM_CODE\":\"DSRC_CODE\"},{\"FELEM_ID\":42,\"FELEM_CODE\":\"ACCT_TYPE\"},{\"FELEM_ID\":43,\"FELEM_CODE\":\"DATE\"},{\"FELEM_ID\":44,\"FELEM_CODE\":\"YESNO_FLAG\"},{\"FELEM_ID\":45,\"FELEM_CODE\":\"CALL_SIGN\"},{\"FELEM_ID\":46,\"FELEM_CODE\":\"CODE\"},{\"FELEM_ID\":47,\"FELEM_CODE\":\"PORT\"},{\"FELEM_ID\":48,\"FELEM_CODE\":\"LENGTH\"},{\"FELEM_ID\":49,\"FELEM_CODE\":\"BEAM\"},{\"FELEM_ID\":50,\"FELEM_CODE\":\"TONNAGE\"},{\"FELEM_ID\":51,\"FELEM_CODE\":\"LATITUDE\"},{\"FELEM_ID\":52,\"FELEM_CODE\":\"LONGITUDE\"},{\"FELEM_ID\":53,\"FELEM_CODE\":\"TIME\"},{\"FELEM_ID\":54,\"FELEM_CODE\":\"REL_KEY\"},{\"FELEM_ID\":55,\"FELEM_CODE\":\"REL_TYPE\"},{\"FELEM_ID\":56,\"FELEM_CODE\":\"LOGIN_ID\"},{\"FELEM_ID\":57,\"FELEM_CODE\":\"LOGIN_DOMAIN\"},{\"FELEM_ID\":58,\"FELEM_CODE\":\"ACCT_DOMAIN\"},{\"FELEM_ID\":59,\"FELEM_CODE\":\"AMOUNT\"},{\"FELEM_ID\":60,\"FELEM_CODE\":\"PHONE_LAST_10\"},{\"FELEM_ID\":61,\"FELEM_CODE\":\"PHONE_LAST_5\"},{\"FELEM_ID\":62,\"FELEM_CODE\":\"DATE_YEAR\"},{\"FELEM_ID\":63,\"FELEM_CODE\":\"DATE_MONTH\"},{\"FELEM_ID\":64,\"FELEM_CODE\":\"DATE_DAY\"},{\"FELEM_ID\":65,\"FELEM_CODE\":\"STR_NAME_METAPHONE\"},{\"FELEM_ID\":66,\"FELEM_CODE\":\"CITY_METAPHONE\"},{\"FELEM_ID\":69,\"FELEM_CODE\":\"ID_NUM_STD\"},{\"FELEM_ID\":71,\"FELEM_CODE\":\"DATE_HASH\"},{\"FELEM_ID\":72,\"FELEM_CODE\":\"STR_NAME_STD\"},{\"FELEM_ID\":73,\"FELEM_CODE\":\"CITY_STD\"},{\"FELEM_ID\":74,\"FELEM_CODE\":\"POSTAL_5\"},{\"FELEM_ID\":75,\"FELEM_CODE\":\"GEO_PRECISION\"},{\"FELEM_ID\":76,\"FELEM_CODE\":\"TIME_PRECISION\"},{\"FELEM_ID\":77,\"FELEM_CODE\":\"ALL_NM\"},{\"FELEM_ID\":78,\"FELEM_CODE\":\"ALL_META\"},{\"FELEM_ID\":79,\"FELEM_CODE\":\"NM_PAIR\"},{\"FELEM_ID\":81,\"FELEM_CODE\":\"ORIG_GN\"},{\"FELEM_ID\":83,\"FELEM_CODE\":\"META_GN\"},{\"FELEM_ID\":84,\"FELEM_CODE\":\"ORIG_SN\"},{\"FELEM_ID\":86,\"FELEM_CODE\":\"META_SN\"},{\"FELEM_ID\":87,\"FELEM_CODE\":\"ORIG_ON\"},{\"FELEM_ID\":89,\"FELEM_CODE\":\"META_ON\"},{\"FELEM_ID\":91,\"FELEM_CODE\":\"STD_PRE\"},{\"FELEM_ID\":92,\"FELEM_CODE\":\"STD_SUF\"},{\"FELEM_ID\":93,\"FELEM_CODE\":\"STD_GEN\"},{\"FELEM_ID\":94,\"FELEM_CODE\":\"ORIG_FN\"},{\"FELEM_ID\":96,\"FELEM_CODE\":\"META_FN\"},{\"FELEM_ID\":97,\"FELEM_CODE\":\"ISSUE_DATE\"},{\"FELEM_ID\":98,\"FELEM_CODE\":\"EXPIRE_DATE\"},{\"FELEM_ID\":99,\"FELEM_CODE\":\"VALUE\"},{\"FELEM_ID\":100,\"FELEM_CODE\":\"ADDR_FULL\"},{\"FELEM_ID\":101,\"FELEM_CODE\":\"ADDR4\"},{\"FELEM_ID\":102,\"FELEM_CODE\":\"ADDR5\"},{\"FELEM_ID\":103,\"FELEM_CODE\":\"ADDR6\"},{\"FELEM_ID\":104,\"FELEM_CODE\":\"LATLONG\"},{\"FELEM_ID\":105,\"FELEM_CODE\":\"STB6\"},{\"FELEM_ID\":106,\"FELEM_CODE\":\"STB7\"},{\"FELEM_ID\":107,\"FELEM_CODE\":\"STB8\"},{\"FELEM_ID\":108,\"FELEM_CODE\":\"LIBPOSTAL_PARSE\"},{\"FELEM_ID\":109,\"FELEM_CODE\":\"PHONE_AREA_CODE\"},{\"FELEM_ID\":110,\"FELEM_CODE\":\"AMBIGUOUS_FTYPE_ID\"},{\"FELEM_ID\":111,\"FELEM_CODE\":\"AMBIGUOUS_TIER\"},{\"FELEM_ID\":112,\"FELEM_CODE\":\"MMYY_HASH\"},{\"FELEM_ID\":113,\"FELEM_CODE\":\"MMDD_HASH\"},{\"FELEM_ID\":114,\"FELEM_CODE\":\"AMBIGUOUS_SUPRESSED_LIBFEAT\"},{\"FELEM_ID\":115,\"FELEM_CODE\":\"AMBIGUOUS_TYPE\"},{\"FELEM_ID\":116,\"FELEM_CODE\":\"PLACE\"},{\"FELEM_ID\":117,\"FELEM_CODE\":\"COUNTRY_CODE\"},{\"FELEM_ID\":118,\"FELEM_CODE\":\"TOKENIZED_NM\"},{\"FELEM_ID\":119,\"FELEM_CODE\":\"USER_NAME\"},{\"FELEM_ID\":120,\"FELEM_CODE\":\"DOMAIN_NAME\"},{\"FELEM_ID\":121,\"FELEM_CODE\":\"ADDR_STD\"}]}"
     ]
    }
   ],
   "source": [
    "StringBuffer response = new StringBuffer();\n",
    "\n",
    "int return_code = g2config.listFeatureElementsV2(config_handle, response);\n",
    "\n",
    "if(return_code!=0)\n",
    "    System.out.print(g2config.getLastException());\n",
    "else\n",
    "    System.out.print(response);"
   ]
  },
  {
   "cell_type": "markdown",
   "metadata": {},
   "source": [
    "# Get Feature Element\n",
    "Call G2Config's `getFeatureElementV2()` method and print results."
   ]
  },
  {
   "cell_type": "code",
   "execution_count": 17,
   "metadata": {},
   "outputs": [
    {
     "name": "stdout",
     "output_type": "stream",
     "text": [
      "{\"FELEM_ID\":5,\"FELEM_CODE\":\"GIVEN_NAME\",\"TOKENIZE\":\"No\",\"DATA_TYPE\":\"string\"}"
     ]
    }
   ],
   "source": [
    "String featureElm = \"{\\\"FELEM_CODE\\\": \\\"GIVEN_NAME\\\"}\";\n",
    "StringBuffer response = new StringBuffer();\n",
    "\n",
    "int return_code = g2config.getFeatureElementV2(config_handle, featureElm, response);\n",
    "\n",
    "if(return_code!=0)\n",
    "    System.out.print(g2config.getLastException());\n",
    "else\n",
    "    System.out.print(response);"
   ]
  },
  {
   "cell_type": "markdown",
   "metadata": {},
   "source": [
    "# Add Feature Element\n",
    "Call G2Config's `addFeatureElementV2()` method and print results."
   ]
  },
  {
   "cell_type": "code",
   "execution_count": 18,
   "metadata": {},
   "outputs": [
    {
     "name": "stdout",
     "output_type": "stream",
     "text": [
      "{\"FELEM_ID\":789}"
     ]
    }
   ],
   "source": [
    "String featureElm = \"{\\\"FELEM_CODE\\\":\\\"myNewFelem\\\",\\\"FELEM_ID\\\":789,\\\"TOKENIZE\\\":1,\\\"DATA_TYPE\\\":\\\"string\\\"}\";\n",
    "StringBuffer response = new StringBuffer();\n",
    "\n",
    "int return_code = g2config.addFeatureElementV2(config_handle, featureElm, response);\n",
    "\n",
    "if(return_code!=0)\n",
    "    System.out.print(g2config.getLastException());\n",
    "else\n",
    "    System.out.print(response);"
   ]
  },
  {
   "cell_type": "markdown",
   "metadata": {},
   "source": [
    "# Delete Feature Element\n",
    "Call G2Config's `deleteFeatureElementV2()` method. Returns 0 on success"
   ]
  },
  {
   "cell_type": "code",
   "execution_count": 19,
   "metadata": {},
   "outputs": [
    {
     "name": "stdout",
     "output_type": "stream",
     "text": [
      "0"
     ]
    }
   ],
   "source": [
    "String featureElm = \"{\\\"FELEM_CODE\\\": \\\"myNewFelem\\\"}\";\n",
    "\n",
    "int return_code = g2config.deleteFeatureElementV2(config_handle, featureElm);\n",
    "\n",
    "if(return_code!=0)\n",
    "    System.out.print(g2config.getLastException());\n",
    "else\n",
    "    System.out.print(return_code);"
   ]
  },
  {
   "cell_type": "markdown",
   "metadata": {},
   "source": [
    "# List Feature Classes\n",
    "Call G2Config's `listFeatureClassesV2()` method and print results."
   ]
  },
  {
   "cell_type": "code",
   "execution_count": 20,
   "metadata": {
    "scrolled": true
   },
   "outputs": [
    {
     "name": "stdout",
     "output_type": "stream",
     "text": [
      "{\"FEATURE_CLASSES\":[{\"FCLASS_ID\":1,\"FCLASS_CODE\":\"NAME\"},{\"FCLASS_ID\":2,\"FCLASS_CODE\":\"BIO_DATE\"},{\"FCLASS_ID\":3,\"FCLASS_CODE\":\"BIO_FEATURE\"},{\"FCLASS_ID\":4,\"FCLASS_CODE\":\"POSTAL_ADDRESS\"},{\"FCLASS_ID\":5,\"FCLASS_CODE\":\"PHONE\"},{\"FCLASS_ID\":6,\"FCLASS_CODE\":\"ELECTED_ID\"},{\"FCLASS_ID\":7,\"FCLASS_CODE\":\"ISSUED_ID\"},{\"FCLASS_ID\":8,\"FCLASS_CODE\":\"PARTIAL_ID\"},{\"FCLASS_ID\":9,\"FCLASS_CODE\":\"OTHER\"},{\"FCLASS_ID\":10,\"FCLASS_CODE\":\"INTERNAL_USE\"},{\"FCLASS_ID\":11,\"FCLASS_CODE\":\"SPACE_TIME\"},{\"FCLASS_ID\":12,\"FCLASS_CODE\":\"RELATIONSHIP\"}]}"
     ]
    }
   ],
   "source": [
    "StringBuffer response = new StringBuffer();\n",
    "\n",
    "int return_code = g2config.listFeatureClassesV2(config_handle, response);\n",
    "\n",
    "if(return_code!=0)\n",
    "    System.out.print(g2config.getLastException());\n",
    "else\n",
    "    System.out.print(response);"
   ]
  },
  {
   "cell_type": "markdown",
   "metadata": {},
   "source": [
    "# List Features\n",
    "Call G2Config's `listFeaturesV2()` method and print results."
   ]
  },
  {
   "cell_type": "code",
   "execution_count": 21,
   "metadata": {
    "scrolled": true
   },
   "outputs": [
    {
     "name": "stdout",
     "output_type": "stream",
     "text": [
      "{\"FEATURE_TYPES\":[{\"FTYPE_ID\":1,\"FTYPE_CODE\":\"NAME\"},{\"FTYPE_ID\":2,\"FTYPE_CODE\":\"DOB\"},{\"FTYPE_ID\":3,\"FTYPE_CODE\":\"DOD\"},{\"FTYPE_ID\":4,\"FTYPE_CODE\":\"GENDER\"},{\"FTYPE_ID\":5,\"FTYPE_CODE\":\"ADDRESS\"},{\"FTYPE_ID\":6,\"FTYPE_CODE\":\"PHONE\"},{\"FTYPE_ID\":7,\"FTYPE_CODE\":\"SSN\"},{\"FTYPE_ID\":8,\"FTYPE_CODE\":\"SSN_LAST4\"},{\"FTYPE_ID\":9,\"FTYPE_CODE\":\"DRLIC\"},{\"FTYPE_ID\":10,\"FTYPE_CODE\":\"PASSPORT\"},{\"FTYPE_ID\":11,\"FTYPE_CODE\":\"TAX_ID\"},{\"FTYPE_ID\":12,\"FTYPE_CODE\":\"NATIONAL_ID\"},{\"FTYPE_ID\":13,\"FTYPE_CODE\":\"LOGIN_ID\"},{\"FTYPE_ID\":14,\"FTYPE_CODE\":\"EMAIL\"},{\"FTYPE_ID\":15,\"FTYPE_CODE\":\"WEBSITE\"},{\"FTYPE_ID\":16,\"FTYPE_CODE\":\"ACCT_NUM\"},{\"FTYPE_ID\":17,\"FTYPE_CODE\":\"GROUPER_KEY\"},{\"FTYPE_ID\":18,\"FTYPE_CODE\":\"NAME_KEY\"},{\"FTYPE_ID\":19,\"FTYPE_CODE\":\"ADDR_KEY\"},{\"FTYPE_ID\":20,\"FTYPE_CODE\":\"ID_KEY\"},{\"FTYPE_ID\":21,\"FTYPE_CODE\":\"PHONE_KEY\"},{\"FTYPE_ID\":22,\"FTYPE_CODE\":\"SEARCH_KEY\"},{\"FTYPE_ID\":23,\"FTYPE_CODE\":\"REL_LINK\"},{\"FTYPE_ID\":24,\"FTYPE_CODE\":\"GEO_LOC\"},{\"FTYPE_ID\":26,\"FTYPE_CODE\":\"STB_KEY\"},{\"FTYPE_ID\":27,\"FTYPE_CODE\":\"INTERESTING_ENTITY\"},{\"FTYPE_ID\":28,\"FTYPE_CODE\":\"CONFUSED_ENTITY\"},{\"FTYPE_ID\":29,\"FTYPE_CODE\":\"ACCT_TYPE\"},{\"FTYPE_ID\":30,\"FTYPE_CODE\":\"STATUS\"},{\"FTYPE_ID\":31,\"FTYPE_CODE\":\"STATUS_DATE\"},{\"FTYPE_ID\":32,\"FTYPE_CODE\":\"CREATE_DATE\"},{\"FTYPE_ID\":33,\"FTYPE_CODE\":\"LAST_ACT_DATE\"},{\"FTYPE_ID\":34,\"FTYPE_CODE\":\"CURRENT_BAL\"},{\"FTYPE_ID\":35,\"FTYPE_CODE\":\"CREDIT_LIMIT\"},{\"FTYPE_ID\":36,\"FTYPE_CODE\":\"VEH_VIN\"},{\"FTYPE_ID\":37,\"FTYPE_CODE\":\"VEH_LIC_PLATE\"},{\"FTYPE_ID\":38,\"FTYPE_CODE\":\"VEH_MAKE\"},{\"FTYPE_ID\":39,\"FTYPE_CODE\":\"VEH_MODEL\"},{\"FTYPE_ID\":40,\"FTYPE_CODE\":\"VEH_COLOR\"},{\"FTYPE_ID\":41,\"FTYPE_CODE\":\"VEH_YEAR\"},{\"FTYPE_ID\":42,\"FTYPE_CODE\":\"IMO_NUM\"},{\"FTYPE_ID\":43,\"FTYPE_CODE\":\"MMSI_NUM\"},{\"FTYPE_ID\":44,\"FTYPE_CODE\":\"CALL_SIGN\"},{\"FTYPE_ID\":45,\"FTYPE_CODE\":\"FLAG_CODE\"},{\"FTYPE_ID\":46,\"FTYPE_CODE\":\"REG_PORT\"},{\"FTYPE_ID\":47,\"FTYPE_CODE\":\"VESSEL_TYPE\"},{\"FTYPE_ID\":48,\"FTYPE_CODE\":\"VESSEL_LENGTH\"},{\"FTYPE_ID\":49,\"FTYPE_CODE\":\"VESSEL_BEAM\"},{\"FTYPE_ID\":50,\"FTYPE_CODE\":\"GROSS_TONNAGE\"},{\"FTYPE_ID\":51,\"FTYPE_CODE\":\"NET_TONNAGE\"},{\"FTYPE_ID\":52,\"FTYPE_CODE\":\"OTHER_ID\"},{\"FTYPE_ID\":53,\"FTYPE_CODE\":\"TRUSTED_ID\"},{\"FTYPE_ID\":54,\"FTYPE_CODE\":\"CITIZENSHIP\"},{\"FTYPE_ID\":55,\"FTYPE_CODE\":\"NATIONALITY\"},{\"FTYPE_ID\":56,\"FTYPE_CODE\":\"PHYSICAL_ATTRIBUTE\"},{\"FTYPE_ID\":57,\"FTYPE_CODE\":\"GROUP_ASSOCIATION\"},{\"FTYPE_ID\":58,\"FTYPE_CODE\":\"AMBIGUOUS_ENTITY\"},{\"FTYPE_ID\":59,\"FTYPE_CODE\":\"EMPLOYER\"},{\"FTYPE_ID\":60,\"FTYPE_CODE\":\"LINKEDIN\"},{\"FTYPE_ID\":61,\"FTYPE_CODE\":\"FACEBOOK\"},{\"FTYPE_ID\":62,\"FTYPE_CODE\":\"TWITTER\"},{\"FTYPE_ID\":63,\"FTYPE_CODE\":\"SKYPE\"},{\"FTYPE_ID\":64,\"FTYPE_CODE\":\"ZOOMROOM\"},{\"FTYPE_ID\":65,\"FTYPE_CODE\":\"INSTAGRAM\"},{\"FTYPE_ID\":66,\"FTYPE_CODE\":\"WHATSAPP\"},{\"FTYPE_ID\":67,\"FTYPE_CODE\":\"SIGNAL\"},{\"FTYPE_ID\":68,\"FTYPE_CODE\":\"TELEGRAM\"},{\"FTYPE_ID\":69,\"FTYPE_CODE\":\"TANGO\"},{\"FTYPE_ID\":70,\"FTYPE_CODE\":\"VIBER\"},{\"FTYPE_ID\":71,\"FTYPE_CODE\":\"WECHAT\"},{\"FTYPE_ID\":72,\"FTYPE_CODE\":\"RECORD_TYPE\"},{\"FTYPE_ID\":74,\"FTYPE_CODE\":\"PLACE_OF_BIRTH\"},{\"FTYPE_ID\":75,\"FTYPE_CODE\":\"REGISTRATION_DATE\"},{\"FTYPE_ID\":76,\"FTYPE_CODE\":\"REGISTRATION_COUNTRY\"},{\"FTYPE_ID\":77,\"FTYPE_CODE\":\"GROUP_ASSN_ID\"},{\"FTYPE_ID\":78,\"FTYPE_CODE\":\"DUNS_NUMBER\"},{\"FTYPE_ID\":79,\"FTYPE_CODE\":\"NPI_NUMBER\"},{\"FTYPE_ID\":80,\"FTYPE_CODE\":\"LEI_NUMBER\"},{\"FTYPE_ID\":81,\"FTYPE_CODE\":\"CK_NAME_DOB_COUNTRY\"},{\"FTYPE_ID\":82,\"FTYPE_CODE\":\"CK_NAME_DOB\"},{\"FTYPE_ID\":83,\"FTYPE_CODE\":\"CK_NAME_COUNTRY\"},{\"FTYPE_ID\":84,\"FTYPE_CODE\":\"CK_NAME_GROUPNAME\"},{\"FTYPE_ID\":85,\"FTYPE_CODE\":\"CK_NAME_GROUPID\"},{\"FTYPE_ID\":86,\"FTYPE_CODE\":\"COUNTRY_OF_ASSOCIATION\"},{\"FTYPE_ID\":87,\"FTYPE_CODE\":\"MOBILE_AD_ID\"}]}"
     ]
    }
   ],
   "source": [
    "StringBuffer response = new StringBuffer();\n",
    "\n",
    "int return_code = g2config.listFeaturesV2(config_handle, response);\n",
    "\n",
    "if(return_code!=0)\n",
    "    System.out.print(g2config.getLastException());\n",
    "else\n",
    "    System.out.print(response);"
   ]
  },
  {
   "cell_type": "markdown",
   "metadata": {},
   "source": [
    "# Get Feature\n",
    "Call G2Config's `getFeatureV2()` method and print results."
   ]
  },
  {
   "cell_type": "code",
   "execution_count": 22,
   "metadata": {},
   "outputs": [
    {
     "name": "stdout",
     "output_type": "stream",
     "text": [
      "{\"FTYPE_ID\":1,\"FTYPE_CODE\":\"NAME\",\"FCLASS_CODE\":\"NAME\",\"BEHAVIOR\":\"NAME\",\"USED_FOR_CAND\":\"No\",\"RTYPE_CODE\":\"\",\"ANONYMIZE\":\"No\",\"VERSION\":2,\"FEATURE_ELEMENTS\":[{\"FELEM_CODE\":\"FULL_NAME\"},{\"FELEM_CODE\":\"ORG_NAME\"},{\"FELEM_CODE\":\"SUR_NAME\"},{\"FELEM_CODE\":\"GIVEN_NAME\"},{\"FELEM_CODE\":\"MIDDLE_NAME\"},{\"FELEM_CODE\":\"NAME_PREFIX\"},{\"FELEM_CODE\":\"NAME_SUFFIX\"},{\"FELEM_CODE\":\"NAME_GEN\"},{\"FELEM_CODE\":\"CULTURE\"},{\"FELEM_CODE\":\"SCRIPT\"},{\"FELEM_CODE\":\"CATEGORY\"},{\"FELEM_CODE\":\"ALL_NM\"},{\"FELEM_CODE\":\"ALL_META\"},{\"FELEM_CODE\":\"NM_PAIR\"},{\"FELEM_CODE\":\"ORIG_GN\"},{\"FELEM_CODE\":\"META_GN\"},{\"FELEM_CODE\":\"ORIG_SN\"},{\"FELEM_CODE\":\"META_SN\"},{\"FELEM_CODE\":\"ORIG_ON\"},{\"FELEM_CODE\":\"META_ON\"},{\"FELEM_CODE\":\"STD_PRE\"},{\"FELEM_CODE\":\"STD_SUF\"},{\"FELEM_CODE\":\"STD_GEN\"},{\"FELEM_CODE\":\"ORIG_FN\"},{\"FELEM_CODE\":\"META_FN\"},{\"FELEM_CODE\":\"TOKENIZED_NM\"}],\"ATTRIBUTES\":[{\"ATTR_CODE\":\"NAME_TYPE\"},{\"ATTR_CODE\":\"NAME_FULL\"},{\"ATTR_CODE\":\"NAME_ORG\"},{\"ATTR_CODE\":\"NAME_LAST\"},{\"ATTR_CODE\":\"NAME_FIRST\"},{\"ATTR_CODE\":\"NAME_MIDDLE\"},{\"ATTR_CODE\":\"NAME_PREFIX\"},{\"ATTR_CODE\":\"NAME_SUFFIX\"},{\"ATTR_CODE\":\"NAME_GEN\"}],\"STANDARDIZE_FUNCS\":[{\"SFCALL_ID\":1,\"SFUNC_CODE\":\"PARSE_NAME\",\"FTYPE_CODE\":\"NAME\",\"FELEM_CODE\":\"\",\"EXEC_ORDER\":1},{\"SFCALL_ID\":20,\"SFUNC_CODE\":\"TOKENIZE_NAME\",\"FTYPE_CODE\":\"NAME\",\"FELEM_CODE\":\"\",\"EXEC_ORDER\":50}],\"EXPRESSION_FUNCS\":[{\"EFCALL_ID\":7,\"EFUNC_CODE\":\"NAME_HASHER\",\"FTYPE_CODE\":\"NAME\",\"FELEM_CODE\":\"\",\"EXEC_ORDER\":2}],\"COMPARISON_FUNCS\":[{\"CFCALL_ID\":1,\"CFUNC_CODE\":\"GNR_COMP\"}],\"DISTINCT_FUNCS\":[{\"DFCALL_ID\":1,\"DFUNC_CODE\":\"PARTIAL_NAMES\"}]}"
     ]
    }
   ],
   "source": [
    "String feature = \"{\\\"FTYPE_CODE\\\":\\\"name\\\"}\";\n",
    "StringBuffer response = new StringBuffer();\n",
    "\n",
    "int return_code = g2config.getFeatureV2(config_handle, feature, response);\n",
    "\n",
    "if(return_code!=0)\n",
    "    System.out.print(g2config.getLastException());\n",
    "else\n",
    "    System.out.print(response);"
   ]
  },
  {
   "cell_type": "markdown",
   "metadata": {},
   "source": [
    "# Add Feature\n",
    "Call G2Config's `addFeatureV2()` method and print results."
   ]
  },
  {
   "cell_type": "code",
   "execution_count": 23,
   "metadata": {},
   "outputs": [
    {
     "name": "stdout",
     "output_type": "stream",
     "text": [
      "{\"FTYPE_ID\":789}"
     ]
    }
   ],
   "source": [
    "String feature = \"{\\\"FTYPE_CODE\\\":\\\"myNewFtype\\\",\\\"FTYPE_ID\\\":789,\\\"FCLASS_CODE\\\":\\\"ELECTED_ID\\\",\\\"FTYPE_FREQ\\\":\\\"FF\\\", \\\"FEATURE_ELEMENTS\\\":[{\\\"FELEM_CODE\\\":\\\"expression\\\"}]}\";\n",
    "StringBuffer response = new StringBuffer();\n",
    "\n",
    "int return_code = g2config.addFeatureV2(config_handle, feature, response);\n",
    "\n",
    "if(return_code!=0)\n",
    "    System.out.print(g2config.getLastException());\n",
    "else\n",
    "    System.out.print(response);"
   ]
  },
  {
   "cell_type": "markdown",
   "metadata": {},
   "source": [
    "# Delete Feature\n",
    "Call G2Config's `deleteFeatureV2()` method. Returns 0 on success."
   ]
  },
  {
   "cell_type": "code",
   "execution_count": 24,
   "metadata": {},
   "outputs": [
    {
     "name": "stdout",
     "output_type": "stream",
     "text": [
      "0"
     ]
    }
   ],
   "source": [
    "String feature = \"{\\\"FTYPE_CODE\\\":\\\"NAME\\\"}\";\n",
    "\n",
    "int return_code = g2config.deleteFeatureV2(config_handle, feature);\n",
    "\n",
    "if(return_code!=0)\n",
    "    System.out.print(g2config.getLastException());\n",
    "else\n",
    "    System.out.print(return_code);"
   ]
  },
  {
   "cell_type": "markdown",
   "metadata": {},
   "source": [
    "# Add Element To Feature\n",
    "Call G2Config's `addElementToFeatureV2()` method. Returns 0 on success"
   ]
  },
  {
   "cell_type": "code",
   "execution_count": 25,
   "metadata": {},
   "outputs": [
    {
     "name": "stdout",
     "output_type": "stream",
     "text": [
      "0"
     ]
    }
   ],
   "source": [
    "String elmnt = \"{\\\"FTYPE_CODE\\\":\\\"myNewFtype\\\", \\\"FELEM_CODE\\\":\\\"expression\\\",\\\"EXEC_ORDER\\\":4}\";\n",
    "\n",
    "int return_code = g2config.addElementToFeatureV2(config_handle, elmnt);\n",
    "\n",
    "if(return_code!=0)\n",
    "    System.out.print(g2config.getLastException());\n",
    "else\n",
    "    System.out.print(return_code);"
   ]
  },
  {
   "cell_type": "markdown",
   "metadata": {},
   "source": [
    "# Delete Element From Feature\n",
    "Call G2Config's `deleteElementFromFeatureV2()` method. Returns 0 on success"
   ]
  },
  {
   "cell_type": "code",
   "execution_count": 26,
   "metadata": {},
   "outputs": [
    {
     "name": "stdout",
     "output_type": "stream",
     "text": [
      "0"
     ]
    }
   ],
   "source": [
    "String elmnt = \"{\\\"FTYPE_CODE\\\":\\\"myNewFtype\\\", \\\"FELEM_CODE\\\":\\\"expression\\\"}\";\n",
    "\n",
    "int return_code = g2config.deleteElementFromFeatureV2(config_handle, elmnt);\n",
    "\n",
    "if(return_code!=0)\n",
    "    System.out.print(g2config.getLastException());\n",
    "else\n",
    "    System.out.print(return_code);"
   ]
  },
  {
   "cell_type": "markdown",
   "metadata": {},
   "source": [
    "# List Feature Standardization Functions\n",
    "Call G2Config's `listFeatureStandardizationFunctionsV2()` method and print results."
   ]
  },
  {
   "cell_type": "code",
   "execution_count": 27,
   "metadata": {},
   "outputs": [
    {
     "name": "stdout",
     "output_type": "stream",
     "text": [
      "{\"FEATURE_STANDARDIZATION_FUNCTIONS\":[{\"SFUNC_ID\":1,\"SFUNC_CODE\":\"PARSE_NAME\"},{\"SFUNC_ID\":2,\"SFUNC_CODE\":\"PARSE_DOB\"},{\"SFUNC_ID\":4,\"SFUNC_CODE\":\"FORMAT_SSN\"},{\"SFUNC_ID\":6,\"SFUNC_CODE\":\"PARSE_ID\"},{\"SFUNC_ID\":7,\"SFUNC_CODE\":\"PARSE_ADDR\"},{\"SFUNC_ID\":8,\"SFUNC_CODE\":\"PARSE_PHONE\"},{\"SFUNC_ID\":9,\"SFUNC_CODE\":\"STANDARDIZE_STB\"},{\"SFUNC_ID\":10,\"SFUNC_CODE\":\"STANDARDIZE_GEOLOC\"},{\"SFUNC_ID\":11,\"SFUNC_CODE\":\"STANDARDIZE_COUNTRY\"},{\"SFUNC_ID\":12,\"SFUNC_CODE\":\"TOKENIZE_NAME\"},{\"SFUNC_ID\":13,\"SFUNC_CODE\":\"PARSE_EMAIL\"}]}"
     ]
    }
   ],
   "source": [
    "StringBuffer response = new StringBuffer();\n",
    "\n",
    "int return_code = g2config.listFeatureStandardizationFunctionsV2(config_handle, response);\n",
    "\n",
    "if(return_code!=0)\n",
    "    System.out.print(g2config.getLastException());\n",
    "else\n",
    "    System.out.print(response);"
   ]
  },
  {
   "cell_type": "markdown",
   "metadata": {},
   "source": [
    "# List Features Standardization Function Calls\n",
    "Call G2Config's `listFeatureStandardizationFunctionCallsV2()` method and print results."
   ]
  },
  {
   "cell_type": "code",
   "execution_count": 28,
   "metadata": {
    "scrolled": true
   },
   "outputs": [
    {
     "name": "stdout",
     "output_type": "stream",
     "text": [
      "{\"FEATURE_STANDARDIZATION_FUNCTION_CALLS\":[{\"SFCALL_ID\":2,\"SFUNC_CODE\":\"PARSE_DOB\",\"FTYPE_CODE\":\"DOB\",\"FELEM_CODE\":\"\"},{\"SFCALL_ID\":3,\"SFUNC_CODE\":\"PARSE_ADDR\",\"FTYPE_CODE\":\"ADDRESS\",\"FELEM_CODE\":\"\"},{\"SFCALL_ID\":4,\"SFUNC_CODE\":\"PARSE_PHONE\",\"FTYPE_CODE\":\"PHONE\",\"FELEM_CODE\":\"\"},{\"SFCALL_ID\":5,\"SFUNC_CODE\":\"FORMAT_SSN\",\"FTYPE_CODE\":\"SSN\",\"FELEM_CODE\":\"\"},{\"SFCALL_ID\":6,\"SFUNC_CODE\":\"PARSE_ID\",\"FTYPE_CODE\":\"DRLIC\",\"FELEM_CODE\":\"\"},{\"SFCALL_ID\":7,\"SFUNC_CODE\":\"PARSE_ID\",\"FTYPE_CODE\":\"PASSPORT\",\"FELEM_CODE\":\"\"},{\"SFCALL_ID\":8,\"SFUNC_CODE\":\"PARSE_ID\",\"FTYPE_CODE\":\"NATIONAL_ID\",\"FELEM_CODE\":\"\"},{\"SFCALL_ID\":9,\"SFUNC_CODE\":\"STANDARDIZE_GEOLOC\",\"FTYPE_CODE\":\"GEO_LOC\",\"FELEM_CODE\":\"\"},{\"SFCALL_ID\":10,\"SFUNC_CODE\":\"PARSE_ID\",\"FTYPE_CODE\":\"VEH_LIC_PLATE\",\"FELEM_CODE\":\"\"},{\"SFCALL_ID\":11,\"SFUNC_CODE\":\"PARSE_ID\",\"FTYPE_CODE\":\"TAX_ID\",\"FELEM_CODE\":\"\"},{\"SFCALL_ID\":12,\"SFUNC_CODE\":\"PARSE_ID\",\"FTYPE_CODE\":\"OTHER_ID\",\"FELEM_CODE\":\"\"},{\"SFCALL_ID\":13,\"SFUNC_CODE\":\"PARSE_DOB\",\"FTYPE_CODE\":\"DOD\",\"FELEM_CODE\":\"\"},{\"SFCALL_ID\":14,\"SFUNC_CODE\":\"PARSE_DOB\",\"FTYPE_CODE\":\"REGISTRATION_DATE\",\"FELEM_CODE\":\"\"},{\"SFCALL_ID\":15,\"SFUNC_CODE\":\"PARSE_ID\",\"FTYPE_CODE\":\"DUNS_NUMBER\",\"FELEM_CODE\":\"\"},{\"SFCALL_ID\":16,\"SFUNC_CODE\":\"PARSE_ID\",\"FTYPE_CODE\":\"NPI_NUMBER\",\"FELEM_CODE\":\"\"},{\"SFCALL_ID\":17,\"SFUNC_CODE\":\"PARSE_ID\",\"FTYPE_CODE\":\"LEI_NUMBER\",\"FELEM_CODE\":\"\"},{\"SFCALL_ID\":18,\"SFUNC_CODE\":\"PARSE_ID\",\"FTYPE_CODE\":\"MOBILE_AD_ID\",\"FELEM_CODE\":\"\"},{\"SFCALL_ID\":19,\"SFUNC_CODE\":\"STANDARDIZE_COUNTRY\",\"FTYPE_CODE\":\"\",\"FELEM_CODE\":\"COUNTRY\"},{\"SFCALL_ID\":21,\"SFUNC_CODE\":\"PARSE_EMAIL\",\"FTYPE_CODE\":\"EMAIL\",\"FELEM_CODE\":\"\"}]}"
     ]
    }
   ],
   "source": [
    "StringBuffer response = new StringBuffer();\n",
    "\n",
    "int return_code = g2config.listFeatureStandardizationFunctionCallsV2(config_handle, response);\n",
    "\n",
    "if(return_code!=0)\n",
    "    System.out.print(g2config.getLastException());\n",
    "else\n",
    "    System.out.print(response);"
   ]
  },
  {
   "cell_type": "markdown",
   "metadata": {},
   "source": [
    "# Get Feature Standardization Function Calls\n",
    "Call G2Config's `getFeatureStandardizationFunctionCallV2()` method and print results."
   ]
  },
  {
   "cell_type": "code",
   "execution_count": 29,
   "metadata": {},
   "outputs": [
    {
     "ename": "CompilationException",
     "evalue": "",
     "output_type": "error",
     "traceback": [
      "\u001b[1m\u001b[30m|   \u001b[1m\u001b[30ma\u001b[0m\u001b[1m\u001b[30m\u001b[41m\u001b[0m\u001b[1m\u001b[30m\u001b[0m",
      "\u001b[1m\u001b[31m';' expected\u001b[0m",
      "",
      "\u001b[1m\u001b[30m|   \u001b[1m\u001b[30m\u001b[0m\u001b[1m\u001b[30m\u001b[41ma\u001b[0m\u001b[1m\u001b[30m\u001b[0m",
      "\u001b[1m\u001b[31mcannot find symbol\u001b[0m",
      "\u001b[1m\u001b[31m  symbol:   variable a\u001b[0m",
      "",
      "\u001b[1m\u001b[30m|   \u001b[1m\u001b[30m\u001b[0m\u001b[1m\u001b[30m\u001b[41mint return_code = g2config.getFeatureStandardizationFunctionCallV2(config_handle, featureStandard, response);\u001b[0m\u001b[1m\u001b[30m\u001b[0m",
      "\u001b[1m\u001b[31munreachable statement\u001b[0m",
      "",
      "\u001b[1m\u001b[30m|   \u001b[1m\u001b[30m\u001b[0m\u001b[1m\u001b[30m\u001b[41m\u001b[0m",
      "\u001b[1m\u001b[30m|   \u001b[1m\u001b[30m\u001b[41ma\u001b[0m",
      "\u001b[1m\u001b[30m|   \u001b[1m\u001b[30m\u001b[41mint return_code = g2config.getFeatureStandardizationFunctionCallV2(config_handle, featureStandard, response);\u001b[0m",
      "\u001b[1m\u001b[31mmissing return statement\u001b[0m",
      ""
     ]
    }
   ],
   "source": [
    "String featureStandard = \"{\\\"SFCALL_ID\\\":4}\";\n",
    "StringBuffer response = new StringBuffer();\n",
    "a\n",
    "int return_code = g2config.getFeatureStandardizationFunctionCallV2(config_handle, featureStandard, response);\n",
    "\n",
    "if(return_code!=0)\n",
    "    System.out.print(g2config.getLastException());\n",
    "else\n",
    "    System.out.print(response);"
   ]
  },
  {
   "cell_type": "markdown",
   "metadata": {},
   "source": [
    "# Add Feature Standardization Function Calls\n",
    "Call G2Config's `addFeatureStandardizationFunctionCallV2()` method and print results."
   ]
  },
  {
   "cell_type": "code",
   "execution_count": 30,
   "metadata": {},
   "outputs": [
    {
     "name": "stdout",
     "output_type": "stream",
     "text": [
      "{\"SFCALL_ID\":789}"
     ]
    }
   ],
   "source": [
    "String featureStandard = \"{\\\"FTYPE_CODE\\\":\\\"veh_vin\\\",\\\"SFCALL_ID\\\":789,\\\"SFUNC_CODE\\\":\\\"PARSE_ID\\\",\\\"EXEC_ORDER\\\":15}\";\n",
    "StringBuffer response = new StringBuffer();\n",
    "\n",
    "int return_code = g2config.addFeatureStandardizationFunctionCallV2(config_handle, featureStandard, response);\n",
    "\n",
    "if(return_code!=0)\n",
    "    System.out.print(g2config.getLastException());\n",
    "else\n",
    "    System.out.print(response);"
   ]
  },
  {
   "cell_type": "markdown",
   "metadata": {},
   "source": [
    "# Delete Feature Standardization Function Call\n",
    "Call G2Config's `deleteFeatureStandardizationFunctionCallV2()` method. Returns 0 on success"
   ]
  },
  {
   "cell_type": "code",
   "execution_count": 31,
   "metadata": {},
   "outputs": [
    {
     "name": "stdout",
     "output_type": "stream",
     "text": [
      "0"
     ]
    }
   ],
   "source": [
    "String featureStandard = \"{\\\"SFCALL_ID\\\":789}\";\n",
    "StringBuffer response = new StringBuffer();\n",
    "\n",
    "int return_code = g2config.deleteFeatureStandardizationFunctionCallV2(config_handle, featureStandard);\n",
    "\n",
    "if(return_code!=0)\n",
    "    System.out.print(g2config.getLastException());\n",
    "else\n",
    "    System.out.print(return_code);"
   ]
  },
  {
   "cell_type": "markdown",
   "metadata": {},
   "source": [
    "# List Feature Expression Functions\n",
    "Call G2Config's `listFeatureExpressionFunctionsV2()` method and print results."
   ]
  },
  {
   "cell_type": "code",
   "execution_count": 32,
   "metadata": {},
   "outputs": [
    {
     "name": "stdout",
     "output_type": "stream",
     "text": [
      "{\"FEATURE_EXPRESSION_FUNCTIONS\":[{\"EFUNC_ID\":1,\"EFUNC_CODE\":\"EXPRESS_BOM\"},{\"EFUNC_ID\":2,\"EFUNC_CODE\":\"NAME_HASHER\"},{\"EFUNC_ID\":3,\"EFUNC_CODE\":\"ADDR_HASHER\"},{\"EFUNC_ID\":4,\"EFUNC_CODE\":\"PHONE_HASHER\"},{\"EFUNC_ID\":5,\"EFUNC_CODE\":\"EXPRESS_ID\"},{\"EFUNC_ID\":6,\"EFUNC_CODE\":\"STB_HASHER\"},{\"EFUNC_ID\":7,\"EFUNC_CODE\":\"FEAT_BUILDER\"}]}"
     ]
    }
   ],
   "source": [
    "StringBuffer response = new StringBuffer();\n",
    "\n",
    "int return_code = g2config.listFeatureExpressionFunctionsV2(config_handle, response);\n",
    "\n",
    "if(return_code!=0)\n",
    "    System.out.print(g2config.getLastException());\n",
    "else\n",
    "    System.out.print(response);"
   ]
  },
  {
   "cell_type": "markdown",
   "metadata": {},
   "source": [
    "# List Feature Expression Function Calls\n",
    "Call G2Config's `listFeatureExpressionFunctionCallsV2()` method and print results."
   ]
  },
  {
   "cell_type": "code",
   "execution_count": 33,
   "metadata": {
    "scrolled": true
   },
   "outputs": [
    {
     "name": "stdout",
     "output_type": "stream",
     "text": [
      "{\"FEATURE_EXPRESSION_FUNCTION_CALLS\":[{\"EFCALL_ID\":1,\"EFUNC_CODE\":\"PHONE_HASHER\",\"FTYPE_CODE\":\"PHONE\",\"FELEM_CODE\":\"\"},{\"EFCALL_ID\":2,\"EFUNC_CODE\":\"EXPRESS_ID\",\"FTYPE_CODE\":\"DRLIC\",\"FELEM_CODE\":\"\"},{\"EFCALL_ID\":3,\"EFUNC_CODE\":\"EXPRESS_ID\",\"FTYPE_CODE\":\"PASSPORT\",\"FELEM_CODE\":\"\"},{\"EFCALL_ID\":4,\"EFUNC_CODE\":\"EXPRESS_ID\",\"FTYPE_CODE\":\"NATIONAL_ID\",\"FELEM_CODE\":\"\"},{\"EFCALL_ID\":5,\"EFUNC_CODE\":\"EXPRESS_BOM\",\"FTYPE_CODE\":\"LOGIN_ID\",\"FELEM_CODE\":\"\"},{\"EFCALL_ID\":8,\"EFUNC_CODE\":\"EXPRESS_ID\",\"FTYPE_CODE\":\"VEH_LIC_PLATE\",\"FELEM_CODE\":\"\"},{\"EFCALL_ID\":9,\"EFUNC_CODE\":\"ADDR_HASHER\",\"FTYPE_CODE\":\"ADDRESS\",\"FELEM_CODE\":\"\"},{\"EFCALL_ID\":10,\"EFUNC_CODE\":\"EXPRESS_BOM\",\"FTYPE_CODE\":\"SSN_LAST4\",\"FELEM_CODE\":\"\"},{\"EFCALL_ID\":11,\"EFUNC_CODE\":\"EXPRESS_ID\",\"FTYPE_CODE\":\"TAX_ID\",\"FELEM_CODE\":\"\"},{\"EFCALL_ID\":12,\"EFUNC_CODE\":\"EXPRESS_ID\",\"FTYPE_CODE\":\"OTHER_ID\",\"FELEM_CODE\":\"\"},{\"EFCALL_ID\":13,\"EFUNC_CODE\":\"STB_HASHER\",\"FTYPE_CODE\":\"GEO_LOC\",\"FELEM_CODE\":\"\"},{\"EFCALL_ID\":14,\"EFUNC_CODE\":\"EXPRESS_ID\",\"FTYPE_CODE\":\"ACCT_NUM\",\"FELEM_CODE\":\"\"},{\"EFCALL_ID\":15,\"EFUNC_CODE\":\"EXPRESS_ID\",\"FTYPE_CODE\":\"TRUSTED_ID\",\"FELEM_CODE\":\"\"},{\"EFCALL_ID\":16,\"EFUNC_CODE\":\"EXPRESS_ID\",\"FTYPE_CODE\":\"SSN\",\"FELEM_CODE\":\"\"},{\"EFCALL_ID\":17,\"EFUNC_CODE\":\"EXPRESS_BOM\",\"FTYPE_CODE\":\"LINKEDIN\",\"FELEM_CODE\":\"\"},{\"EFCALL_ID\":18,\"EFUNC_CODE\":\"EXPRESS_BOM\",\"FTYPE_CODE\":\"FACEBOOK\",\"FELEM_CODE\":\"\"},{\"EFCALL_ID\":19,\"EFUNC_CODE\":\"EXPRESS_BOM\",\"FTYPE_CODE\":\"TWITTER\",\"FELEM_CODE\":\"\"},{\"EFCALL_ID\":20,\"EFUNC_CODE\":\"EXPRESS_BOM\",\"FTYPE_CODE\":\"SKYPE\",\"FELEM_CODE\":\"\"},{\"EFCALL_ID\":21,\"EFUNC_CODE\":\"EXPRESS_BOM\",\"FTYPE_CODE\":\"ZOOMROOM\",\"FELEM_CODE\":\"\"},{\"EFCALL_ID\":22,\"EFUNC_CODE\":\"EXPRESS_BOM\",\"FTYPE_CODE\":\"INSTAGRAM\",\"FELEM_CODE\":\"\"},{\"EFCALL_ID\":23,\"EFUNC_CODE\":\"EXPRESS_BOM\",\"FTYPE_CODE\":\"WHATSAPP\",\"FELEM_CODE\":\"\"},{\"EFCALL_ID\":24,\"EFUNC_CODE\":\"EXPRESS_BOM\",\"FTYPE_CODE\":\"SIGNAL\",\"FELEM_CODE\":\"\"},{\"EFCALL_ID\":25,\"EFUNC_CODE\":\"EXPRESS_BOM\",\"FTYPE_CODE\":\"TELEGRAM\",\"FELEM_CODE\":\"\"},{\"EFCALL_ID\":26,\"EFUNC_CODE\":\"EXPRESS_BOM\",\"FTYPE_CODE\":\"TANGO\",\"FELEM_CODE\":\"\"},{\"EFCALL_ID\":27,\"EFUNC_CODE\":\"EXPRESS_BOM\",\"FTYPE_CODE\":\"VIBER\",\"FELEM_CODE\":\"\"},{\"EFCALL_ID\":28,\"EFUNC_CODE\":\"EXPRESS_BOM\",\"FTYPE_CODE\":\"WECHAT\",\"FELEM_CODE\":\"\"},{\"EFCALL_ID\":29,\"EFUNC_CODE\":\"EXPRESS_ID\",\"FTYPE_CODE\":\"DUNS_NUMBER\",\"FELEM_CODE\":\"\"},{\"EFCALL_ID\":30,\"EFUNC_CODE\":\"EXPRESS_ID\",\"FTYPE_CODE\":\"NPI_NUMBER\",\"FELEM_CODE\":\"\"},{\"EFCALL_ID\":31,\"EFUNC_CODE\":\"EXPRESS_ID\",\"FTYPE_CODE\":\"LEI_NUMBER\",\"FELEM_CODE\":\"\"},{\"EFCALL_ID\":32,\"EFUNC_CODE\":\"EXPRESS_ID\",\"FTYPE_CODE\":\"MOBILE_AD_ID\",\"FELEM_CODE\":\"\"},{\"EFCALL_ID\":33,\"EFUNC_CODE\":\"FEAT_BUILDER\",\"FTYPE_CODE\":\"\",\"FELEM_CODE\":\"COUNTRY_CODE\"}]}"
     ]
    }
   ],
   "source": [
    "StringBuffer response = new StringBuffer();\n",
    "\n",
    "int return_code = g2config.listFeatureExpressionFunctionCallsV2(config_handle, response);\n",
    "\n",
    "if(return_code!=0)\n",
    "    System.out.print(g2config.getLastException());\n",
    "else\n",
    "    System.out.print(response);"
   ]
  },
  {
   "cell_type": "markdown",
   "metadata": {},
   "source": [
    "# Get Feature Expression Function Calls\n",
    "Call G2Config's `getFeatureExpressionFunctionCallV2()` method and print results."
   ]
  },
  {
   "cell_type": "code",
   "execution_count": 36,
   "metadata": {},
   "outputs": [
    {
     "name": "stdout",
     "output_type": "stream",
     "text": [
      "{\"EFCALL_ID\":1,\"EFUNC_CODE\":\"PHONE_HASHER\",\"FTYPE_CODE\":\"PHONE\",\"FELEM_CODE\":\"\",\"EXEC_ORDER\":1,\"EFEAT_FTYPE_CODE\":\"\",\"IS_VIRTUAL\":\"No\",\"BOM_ELEMENTS\":[{\"EXEC_ORDER\":1,\"FTYPE_CODE\":\"PHONE\",\"FELEM_CODE\":\"PHONE_LAST_10\",\"FTYPE_LINK\":\"\",\"FELEM_REQ\":\"Yes\"}]}"
     ]
    }
   ],
   "source": [
    "String featureExpress = \"{\\\"EFCALL_ID\\\":1}\";\n",
    "StringBuffer response = new StringBuffer();\n",
    "\n",
    "int return_code = g2config.getFeatureExpressionFunctionCallV2(config_handle, featureExpress, response);\n",
    "\n",
    "if(return_code!=0)\n",
    "    System.out.print(g2config.getLastException());\n",
    "else\n",
    "    System.out.print(response);"
   ]
  },
  {
   "cell_type": "code",
   "execution_count": null,
   "metadata": {},
   "outputs": [],
   "source": []
  },
  {
   "cell_type": "code",
   "execution_count": null,
   "metadata": {},
   "outputs": [],
   "source": []
  },
  {
   "cell_type": "code",
   "execution_count": null,
   "metadata": {},
   "outputs": [],
   "source": []
  },
  {
   "cell_type": "code",
   "execution_count": null,
   "metadata": {},
   "outputs": [],
   "source": []
  },
  {
   "cell_type": "code",
   "execution_count": null,
   "metadata": {},
   "outputs": [],
   "source": []
  },
  {
   "cell_type": "code",
   "execution_count": null,
   "metadata": {},
   "outputs": [],
   "source": []
  },
  {
   "cell_type": "code",
   "execution_count": null,
   "metadata": {},
   "outputs": [],
   "source": []
  },
  {
   "cell_type": "code",
   "execution_count": null,
   "metadata": {},
   "outputs": [],
   "source": []
  },
  {
   "cell_type": "code",
   "execution_count": null,
   "metadata": {},
   "outputs": [],
   "source": []
  },
  {
   "cell_type": "code",
   "execution_count": null,
   "metadata": {},
   "outputs": [],
   "source": []
  },
  {
   "cell_type": "code",
   "execution_count": null,
   "metadata": {},
   "outputs": [],
   "source": []
  },
  {
   "cell_type": "code",
   "execution_count": null,
   "metadata": {},
   "outputs": [],
   "source": []
  },
  {
   "cell_type": "code",
   "execution_count": null,
   "metadata": {},
   "outputs": [],
   "source": []
  },
  {
   "cell_type": "code",
   "execution_count": null,
   "metadata": {},
   "outputs": [],
   "source": []
  },
  {
   "cell_type": "code",
   "execution_count": null,
   "metadata": {},
   "outputs": [],
   "source": []
  },
  {
   "cell_type": "code",
   "execution_count": null,
   "metadata": {},
   "outputs": [],
   "source": []
  },
  {
   "cell_type": "code",
   "execution_count": null,
   "metadata": {},
   "outputs": [],
   "source": []
  },
  {
   "cell_type": "code",
   "execution_count": null,
   "metadata": {},
   "outputs": [],
   "source": []
  },
  {
   "cell_type": "code",
   "execution_count": null,
   "metadata": {},
   "outputs": [],
   "source": []
  },
  {
   "cell_type": "code",
   "execution_count": null,
   "metadata": {},
   "outputs": [],
   "source": []
  },
  {
   "cell_type": "code",
   "execution_count": null,
   "metadata": {},
   "outputs": [],
   "source": []
  },
  {
   "cell_type": "code",
   "execution_count": null,
   "metadata": {},
   "outputs": [],
   "source": []
  },
  {
   "cell_type": "code",
   "execution_count": null,
   "metadata": {},
   "outputs": [],
   "source": []
  },
  {
   "cell_type": "code",
   "execution_count": null,
   "metadata": {},
   "outputs": [],
   "source": []
  },
  {
   "cell_type": "code",
   "execution_count": null,
   "metadata": {},
   "outputs": [],
   "source": []
  },
  {
   "cell_type": "code",
   "execution_count": null,
   "metadata": {},
   "outputs": [],
   "source": []
  },
  {
   "cell_type": "code",
   "execution_count": null,
   "metadata": {},
   "outputs": [],
   "source": []
  },
  {
   "cell_type": "code",
   "execution_count": null,
   "metadata": {},
   "outputs": [],
   "source": []
  },
  {
   "cell_type": "code",
   "execution_count": null,
   "metadata": {},
   "outputs": [],
   "source": []
  },
  {
   "cell_type": "code",
   "execution_count": null,
   "metadata": {},
   "outputs": [],
   "source": []
  },
  {
   "cell_type": "code",
   "execution_count": null,
   "metadata": {},
   "outputs": [],
   "source": []
  },
  {
   "cell_type": "code",
   "execution_count": null,
   "metadata": {},
   "outputs": [],
   "source": []
  },
  {
   "cell_type": "code",
   "execution_count": null,
   "metadata": {},
   "outputs": [],
   "source": []
  },
  {
   "cell_type": "code",
   "execution_count": null,
   "metadata": {},
   "outputs": [],
   "source": []
  },
  {
   "cell_type": "code",
   "execution_count": null,
   "metadata": {},
   "outputs": [],
   "source": []
  },
  {
   "cell_type": "code",
   "execution_count": null,
   "metadata": {},
   "outputs": [],
   "source": []
  },
  {
   "cell_type": "code",
   "execution_count": null,
   "metadata": {},
   "outputs": [],
   "source": []
  },
  {
   "cell_type": "code",
   "execution_count": null,
   "metadata": {},
   "outputs": [],
   "source": []
  },
  {
   "cell_type": "code",
   "execution_count": null,
   "metadata": {},
   "outputs": [],
   "source": []
  },
  {
   "cell_type": "code",
   "execution_count": null,
   "metadata": {},
   "outputs": [],
   "source": []
  },
  {
   "cell_type": "code",
   "execution_count": null,
   "metadata": {},
   "outputs": [],
   "source": []
  },
  {
   "cell_type": "code",
   "execution_count": null,
   "metadata": {},
   "outputs": [],
   "source": []
  },
  {
   "cell_type": "code",
   "execution_count": null,
   "metadata": {},
   "outputs": [],
   "source": []
  },
  {
   "cell_type": "code",
   "execution_count": null,
   "metadata": {},
   "outputs": [],
   "source": []
  },
  {
   "cell_type": "code",
   "execution_count": null,
   "metadata": {},
   "outputs": [],
   "source": []
  },
  {
   "cell_type": "code",
   "execution_count": null,
   "metadata": {},
   "outputs": [],
   "source": []
  },
  {
   "cell_type": "code",
   "execution_count": null,
   "metadata": {},
   "outputs": [],
   "source": []
  },
  {
   "cell_type": "code",
   "execution_count": null,
   "metadata": {},
   "outputs": [],
   "source": []
  },
  {
   "cell_type": "code",
   "execution_count": null,
   "metadata": {},
   "outputs": [],
   "source": []
  },
  {
   "cell_type": "code",
   "execution_count": null,
   "metadata": {},
   "outputs": [],
   "source": []
  },
  {
   "cell_type": "code",
   "execution_count": null,
   "metadata": {},
   "outputs": [],
   "source": []
  },
  {
   "cell_type": "code",
   "execution_count": null,
   "metadata": {},
   "outputs": [],
   "source": []
  },
  {
   "cell_type": "code",
   "execution_count": null,
   "metadata": {},
   "outputs": [],
   "source": []
  },
  {
   "cell_type": "code",
   "execution_count": null,
   "metadata": {},
   "outputs": [],
   "source": []
  },
  {
   "cell_type": "code",
   "execution_count": null,
   "metadata": {},
   "outputs": [],
   "source": []
  },
  {
   "cell_type": "code",
   "execution_count": null,
   "metadata": {},
   "outputs": [],
   "source": []
  },
  {
   "cell_type": "code",
   "execution_count": null,
   "metadata": {},
   "outputs": [],
   "source": []
  },
  {
   "cell_type": "code",
   "execution_count": null,
   "metadata": {},
   "outputs": [],
   "source": []
  },
  {
   "cell_type": "code",
   "execution_count": null,
   "metadata": {},
   "outputs": [],
   "source": []
  },
  {
   "cell_type": "code",
   "execution_count": null,
   "metadata": {},
   "outputs": [],
   "source": []
  },
  {
   "cell_type": "code",
   "execution_count": null,
   "metadata": {},
   "outputs": [],
   "source": []
  },
  {
   "cell_type": "code",
   "execution_count": null,
   "metadata": {},
   "outputs": [],
   "source": []
  },
  {
   "cell_type": "code",
   "execution_count": null,
   "metadata": {},
   "outputs": [],
   "source": []
  },
  {
   "cell_type": "code",
   "execution_count": null,
   "metadata": {},
   "outputs": [],
   "source": []
  },
  {
   "cell_type": "code",
   "execution_count": null,
   "metadata": {},
   "outputs": [],
   "source": []
  },
  {
   "cell_type": "code",
   "execution_count": null,
   "metadata": {},
   "outputs": [],
   "source": []
  },
  {
   "cell_type": "code",
   "execution_count": null,
   "metadata": {},
   "outputs": [],
   "source": []
  },
  {
   "cell_type": "code",
   "execution_count": null,
   "metadata": {},
   "outputs": [],
   "source": []
  },
  {
   "cell_type": "code",
   "execution_count": null,
   "metadata": {},
   "outputs": [],
   "source": []
  },
  {
   "cell_type": "code",
   "execution_count": null,
   "metadata": {},
   "outputs": [],
   "source": []
  },
  {
   "cell_type": "code",
   "execution_count": null,
   "metadata": {},
   "outputs": [],
   "source": []
  },
  {
   "cell_type": "code",
   "execution_count": null,
   "metadata": {},
   "outputs": [],
   "source": []
  },
  {
   "cell_type": "code",
   "execution_count": null,
   "metadata": {},
   "outputs": [],
   "source": []
  },
  {
   "cell_type": "code",
   "execution_count": null,
   "metadata": {},
   "outputs": [],
   "source": []
  },
  {
   "cell_type": "code",
   "execution_count": null,
   "metadata": {},
   "outputs": [],
   "source": []
  }
 ],
 "metadata": {
  "kernelspec": {
   "display_name": "Java",
   "language": "java",
   "name": "java"
  },
  "language_info": {
   "codemirror_mode": "java",
   "file_extension": ".jshell",
   "mimetype": "text/x-java-source",
   "name": "Java",
   "pygments_lexer": "java",
   "version": "11.0.6+10-post-Ubuntu-1ubuntu118.04.1"
  }
 },
 "nbformat": 4,
 "nbformat_minor": 4
}
