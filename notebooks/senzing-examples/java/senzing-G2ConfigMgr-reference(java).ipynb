{
 "cells": [
  {
   "cell_type": "markdown",
   "metadata": {},
   "source": [
    "# G2ConfigMgr"
   ]
  },
  {
   "cell_type": "code",
   "execution_count": null,
   "metadata": {},
   "outputs": [],
   "source": [
    "import com.senzing.g2.engine.G2ConfigMgr;\n",
    "import com.senzing.g2.engine.G2ConfigMgrJNI;\n",
    "import com.senzing.g2.engine.G2Config;\n",
    "import com.senzing.g2.engine.G2ConfigJNI;\n",
    "import com.senzing.g2.engine.Result;"
   ]
  },
  {
   "cell_type": "markdown",
   "metadata": {},
   "source": [
    "## Initialization\n",
    "To start using G2ConfigMgr, you must first create and initialize an instance of the config manager. This should be done once per process.\n",
    "\n",
    "Create a new instance of the config manager and assign it to a variable. Then, call the appropriate initialization method (such as initV2) to initialize the config manager.\n",
    "\n",
    "During the call, the initialization methods accept the following parameters:\n",
    "\n",
    "- **moduleName:** A short name given to this instance of the G2 engine (i.e. your G2Module object)\n",
    "- **iniParams:** A JSON document containing system parameters (see the section called \"Initialization Parameters\")\n",
    "- **verboseLogging:** A boolean which enables diagnostic logging - this will print a massive amount of information to stdout (default = False)\n",
    "Calling these functions will return \"0\" upon success - useful for error handling."
   ]
  },
  {
   "cell_type": "code",
   "execution_count": null,
   "metadata": {},
   "outputs": [],
   "source": [
    "String G2_MODULE_NAME = \"EngineSample\";\n",
    "String iniParams = \"{\\\"PIPELINE\\\": {\\\"CONFIGPATH\\\" : \\\"/etc/opt/senzing\\\", \\\"SUPPORTPATH\\\": \\\"/opt/senzing/data/1.0.0\\\", \\\"RESOURCEPATH\\\": \\\"/opt/senzing/g2/resources\\\"}, \\\"SQL\\\": {\\\"CONNECTION\\\": \\\"sqlite3://na:na@/opt/senzing/g2/sqldb/G2C.db\\\"}}\";\n",
    "boolean USE_VERBOSE_LOGGING = true;\n",
    "\n",
    "G2ConfigMgr configMgr = new G2ConfigMgrJNI();\n",
    "int ret = configMgr.initV2(G2_MODULE_NAME, iniParams, USE_VERBOSE_LOGGING);\n",
    "System.out.print(ret);\n",
    "configMgr.getLastException();"
   ]
  },
  {
   "cell_type": "markdown",
   "metadata": {},
   "source": [
    "# G2Config"
   ]
  },
  {
   "cell_type": "code",
   "execution_count": null,
   "metadata": {},
   "outputs": [],
   "source": [
    "String moduleName = \"G2JNI\";\n",
    "String iniParams = \"{\\\"PIPELINE\\\": {\\\"CONFIGPATH\\\" : \\\"/etc/opt/senzing\\\", \\\"SUPPORTPATH\\\": \\\"/opt/senzing/data/1.0.0\\\", \\\"RESOURCEPATH\\\": \\\"/opt/senzing/g2/resources\\\"}, \\\"SQL\\\": {\\\"CONNECTION\\\": \\\"sqlite3://na:na@/opt/senzing/g2/sqldb/G2C.db\\\"}}\";\n",
    "boolean verboseLogging = true;\n",
    "\n",
    "/** init */\n",
    "G2Config config = new G2ConfigJNI();\n",
    "int initResult = config.initV2(moduleName, iniParams, verboseLogging);\n",
    "System.out.print(ret);"
   ]
  },
  {
   "cell_type": "markdown",
   "metadata": {},
   "source": [
    "# Managing Configurations\n",
    "Configuration JSON documents may be added to the datastore, so that they can be shared across remote systems.\n",
    "\n",
    "### Adding a Config\n",
    "Use `addConfig()` to add a configuration JSON document to the data repository.\n",
    "\n",
    "The `addConfig()` function accepts the following parameters as input:\n",
    "\n",
    "- **configStr:** The configuration JSON document.\n",
    "- **configComments:** A free-form string of comments describing the configuration document.\n",
    "- **configID:** The returned configID for the new config document registered in the data store.\n",
    "The function returns \"0\" upon success."
   ]
  },
  {
   "cell_type": "code",
   "execution_count": null,
   "metadata": {},
   "outputs": [],
   "source": [
    "StringBuffer response = new StringBuffer();\n",
    "long config_handle = config.create();\n",
    "int ret = config.save(config_handle, response);\n",
    "StringBuffer configStr=response;\n",
    "if(ret!=0)\n",
    "    config.getLastException();\n",
    "String configComments = \"Document with additional entity types from 12 Jan 2019.\";\n",
    "Result<Long> configID = new Result<Long>();\n",
    "\n",
    "/** add the config */\n",
    "int ret = configMgr.addConfig(configStr.toString(), configComments, configID);\n",
    "System.out.println(\"CONFIG ID: \" + configID.getValue());"
   ]
  },
  {
   "cell_type": "markdown",
   "metadata": {},
   "source": [
    "### Listing the known configs\n",
    "Use `getConfigList()` to retrieve a list of the configuration JSON documents contained in the data repository.\n",
    "\n",
    "The `getConfigList()` function has no input arguments, and various arguments used to return response documents."
   ]
  },
  {
   "cell_type": "code",
   "execution_count": null,
   "metadata": {},
   "outputs": [],
   "source": [
    "StringBuffer response = new StringBuffer();\n",
    "\n",
    "/** get the config */\n",
    "int ret = configMgr.getConfigList(response);\n",
    "System.out.println(response.toString());"
   ]
  },
  {
   "cell_type": "markdown",
   "metadata": {},
   "source": [
    "### Getting a Config\n",
    "Use `getConfig()` to retrieve a specific configuration JSON document from the data repository.\n",
    "\n",
    "The `getConfig()` function accepts the following parameters as input:\n",
    "\n",
    "- **configID:** The configID for the config document that you wish to retrieve.\n",
    "They also have various arguments used to return response documents."
   ]
  },
  {
   "cell_type": "code",
   "execution_count": null,
   "metadata": {
    "scrolled": true
   },
   "outputs": [],
   "source": [
    "long configid = configID.getValue();\n",
    "StringBuffer response = new StringBuffer();\n",
    "\n",
    "/** get the config */\n",
    "int ret = configMgr.getConfig(configid,response);\n",
    "System.out.println(response.toString());"
   ]
  },
  {
   "cell_type": "markdown",
   "metadata": {},
   "source": [
    "# Default Configurations\n",
    "\n",
    "Multiple configuration JSON documents may be added to the datastore. Each of them may be referenced to start the engine and other API's with different configurations.\n",
    "\n",
    "In order to specify that one of the configuration documents should be the global shared config, the config ID for that configuration document must be set as the default config ID.\n",
    "\n",
    "### Setting the default configuration\n",
    "Use `setDefaultConfigID()` to set the default configuration JSON document in the data repository.\n",
    "\n",
    "The `setDefaultConfigID()` function accepts the following parameters as input:\n",
    "\n",
    "- **configID:** The configuration ID for a configuration JSON document previously added to the database.\n",
    "\n",
    "The function returns \"0\" upon success."
   ]
  },
  {
   "cell_type": "code",
   "execution_count": null,
   "metadata": {},
   "outputs": [],
   "source": [
    "int ret = configMgr.setDefaultConfigID(configID.getValue());\n",
    "System.out.print(ret);"
   ]
  },
  {
   "cell_type": "markdown",
   "metadata": {},
   "source": [
    "### Getting the default configuration\n",
    "Use `getDefaultConfigID()` to retrieve a specific configuration JSON document from the data repository.\n",
    "\n",
    "The `getDefaultConfigID()` function accepts the following parameters as input:\n",
    "\n",
    "- **configID:** Returns the configID for the current default configuration, or 0 if none is set."
   ]
  },
  {
   "cell_type": "code",
   "execution_count": null,
   "metadata": {},
   "outputs": [],
   "source": [
    "Result<Long> configID = new Result<Long>();\n",
    "\n",
    "/** Get the default config ID */\n",
    "int ret = configMgr.getDefaultConfigID(configID);\n",
    "System.out.println(configID.getValue());\n",
    "if(ret!=0)\n",
    "    config.getLastException();"
   ]
  },
  {
   "cell_type": "code",
   "execution_count": null,
   "metadata": {},
   "outputs": [],
   "source": []
  }
 ],
 "metadata": {
  "finalized": {
   "timestamp": 1577464248295,
   "trusted": true
  },
  "kernelspec": {
   "display_name": "Java",
   "language": "java",
   "name": "java"
  },
  "language_info": {
   "codemirror_mode": "java",
   "file_extension": ".jshell",
   "mimetype": "text/x-java-source",
   "name": "Java",
   "pygments_lexer": "java",
   "version": "13.0.1+9"
  }
 },
 "nbformat": 4,
 "nbformat_minor": 2
}
